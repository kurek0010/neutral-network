{
  "nbformat": 4,
  "nbformat_minor": 0,
  "metadata": {
    "colab": {
      "name": "Untitled0.ipynb",
      "provenance": [],
      "include_colab_link": true
    },
    "kernelspec": {
      "name": "python3",
      "display_name": "Python 3"
    }
  },
  "cells": [
    {
      "cell_type": "markdown",
      "metadata": {
        "id": "view-in-github",
        "colab_type": "text"
      },
      "source": [
        "<a href=\"https://colab.research.google.com/github/kurek0010/neutral-network/blob/main/03_keras/01_intro.ipynb\" target=\"_parent\"><img src=\"https://colab.research.google.com/assets/colab-badge.svg\" alt=\"Open In Colab\"/></a>"
      ]
    },
    {
      "cell_type": "markdown",
      "metadata": {
        "id": "BdI2tQJuUWXG"
      },
      "source": [
        "* @author: krakowiakpawel9@gmail.com  \n",
        "* @site: e-smartdata.org"
      ]
    },
    {
      "cell_type": "markdown",
      "metadata": {
        "id": "tC7wD4aySZKb"
      },
      "source": [
        "### Model sekwencjny (Sequential Model):\n",
        "1. [Wprowadzenie - pierwszy model](#a0)\n",
        "2. [Funkcje aktywacji](#a1)\n",
        "3. [Kompilacja modelu](#a2)\n",
        "4. [Trenowanie modelu](#a3)\n",
        "5. [Przykład - klasyfikacja binarna](#a4)\n",
        "6. [Przykład - klasyfikacja wieloklasowa](#a5)\n",
        "7. [Przykład - regresja](#a6)\n",
        "\n",
        "\n",
        "\n",
        "Konfiguracja środowiska\n"
      ]
    },
    {
      "cell_type": "code",
      "metadata": {
        "id": "LRMG5fQ2EZYz",
        "outputId": "20153325-370a-4967-ae6c-94cd5a06002d",
        "colab": {
          "base_uri": "https://localhost:8080/"
        }
      },
      "source": [
        "# Przygotowanie środowiska do pracy z Tensorflow 2.0.\n",
        "# Jeśli otrzymasz błąd podczas instalacji Tensorflow uruchom tę komórkę raz jeszcze.\n",
        "\n",
        "##!pip uninstall -y tensorflow\n",
        "##!pip install -q tensorflow==2.0.0"
      ],
      "execution_count": null,
      "outputs": [
        {
          "output_type": "stream",
          "name": "stdout",
          "text": [
            "Found existing installation: tensorflow 2.0.0\n",
            "Uninstalling tensorflow-2.0.0:\n",
            "  Successfully uninstalled tensorflow-2.0.0\n"
          ]
        }
      ]
    },
    {
      "cell_type": "code",
      "metadata": {
        "id": "3SPURJyPQOpj",
        "colab": {
          "base_uri": "https://localhost:8080/",
          "height": 35
        },
        "outputId": "a9afc4a9-cc23-48cc-c72a-f75c45d9b548"
      },
      "source": [
        "import tensorflow as tf\n",
        "import numpy as np\n",
        "import pandas as pd\n",
        "import plotly.express as px\n",
        "tf.__version__"
      ],
      "execution_count": 1,
      "outputs": [
        {
          "output_type": "execute_result",
          "data": {
            "text/plain": [
              "'2.15.0'"
            ],
            "application/vnd.google.colaboratory.intrinsic+json": {
              "type": "string"
            }
          },
          "metadata": {},
          "execution_count": 1
        }
      ]
    },
    {
      "cell_type": "markdown",
      "metadata": {
        "id": "x0HF8UIRTBmC"
      },
      "source": [
        "### <a name='a0'></a>Wprowadzenie - pierwszy model\n",
        "Model sekwencyjny to nic innego jak liniowy stos warstw."
      ]
    },
    {
      "cell_type": "code",
      "metadata": {
        "id": "y5qY8AQsTeGX",
        "colab": {
          "base_uri": "https://localhost:8080/"
        },
        "outputId": "461748be-01d8-43e9-bb1c-64b039ced60c"
      },
      "source": [
        "# utworzenie instancji klasy Sequential\n",
        "from tensorflow.keras.models import Sequential\n",
        "\n",
        "model = Sequential()\n",
        "print(model)"
      ],
      "execution_count": 2,
      "outputs": [
        {
          "output_type": "stream",
          "name": "stdout",
          "text": [
            "<keras.src.engine.sequential.Sequential object at 0x7e892de85360>\n"
          ]
        }
      ]
    },
    {
      "cell_type": "markdown",
      "metadata": {
        "id": "yqtUKjKaTyxQ"
      },
      "source": [
        "Podstawowym elementem składowym modelu są warstwy. Aby dodać najbardziej standardową warstwę - warstwę gęsto połączoną należy użyć warstwy **Dense**. Aby dodać warstwę do modelu należy użyć metody *.add()*"
      ]
    },
    {
      "cell_type": "code",
      "metadata": {
        "id": "CiMQRZUMTv8f"
      },
      "source": [
        "from tensorflow.keras.layers import Dense\n",
        "\n",
        "model.add(Dense(units=4, input_shape=(10,)))"
      ],
      "execution_count": 3,
      "outputs": []
    },
    {
      "cell_type": "markdown",
      "metadata": {
        "id": "s4q14zW-XOU4"
      },
      "source": [
        "Wyświetlenie podsumowania modelu: metoda *.summary()*"
      ]
    },
    {
      "cell_type": "code",
      "metadata": {
        "id": "HAReYZ98UXtC",
        "colab": {
          "base_uri": "https://localhost:8080/"
        },
        "outputId": "151bc0fd-7bf4-4524-bab2-bbf1f939b292"
      },
      "source": [
        "model.summary()"
      ],
      "execution_count": 4,
      "outputs": [
        {
          "output_type": "stream",
          "name": "stdout",
          "text": [
            "Model: \"sequential\"\n",
            "_________________________________________________________________\n",
            " Layer (type)                Output Shape              Param #   \n",
            "=================================================================\n",
            " dense (Dense)               (None, 4)                 44        \n",
            "                                                                 \n",
            "=================================================================\n",
            "Total params: 44 (176.00 Byte)\n",
            "Trainable params: 44 (176.00 Byte)\n",
            "Non-trainable params: 0 (0.00 Byte)\n",
            "_________________________________________________________________\n"
          ]
        }
      ]
    },
    {
      "cell_type": "markdown",
      "metadata": {
        "id": "izZi_Eu2Xjcl"
      },
      "source": [
        "Dodanie kolejnej warstwy"
      ]
    },
    {
      "cell_type": "code",
      "metadata": {
        "id": "HD17lS82Uk7Y",
        "colab": {
          "base_uri": "https://localhost:8080/"
        },
        "outputId": "2398b760-52f1-4832-b263-a035ffdf028a"
      },
      "source": [
        "model.add(Dense(units=2))\n",
        "\n",
        "model.summary()"
      ],
      "execution_count": 5,
      "outputs": [
        {
          "output_type": "stream",
          "name": "stdout",
          "text": [
            "Model: \"sequential\"\n",
            "_________________________________________________________________\n",
            " Layer (type)                Output Shape              Param #   \n",
            "=================================================================\n",
            " dense (Dense)               (None, 4)                 44        \n",
            "                                                                 \n",
            " dense_1 (Dense)             (None, 2)                 10        \n",
            "                                                                 \n",
            "=================================================================\n",
            "Total params: 54 (216.00 Byte)\n",
            "Trainable params: 54 (216.00 Byte)\n",
            "Non-trainable params: 0 (0.00 Byte)\n",
            "_________________________________________________________________\n"
          ]
        }
      ]
    },
    {
      "cell_type": "markdown",
      "metadata": {
        "id": "yh_gui1wZCH2"
      },
      "source": [
        "### <a name='a1'></a>Funkcje aktywacji\n",
        "Istotnym elemenem sieci neuronowych jest dobór odpowiednich funkcji aktywacji. Funkcje aktywacji jak sama nazwa wskazuje są odpowiedzialne za aktywowanie odpowiednich neuronów podczas procesu uczenia.\n",
        "\n",
        "Jeżeli nie określimy podczas dodawania warstwy funkcji aktywacji, domyślnie stosowana jest liniowa funkcja aktywacji, tzn. $a(x)=x$\n",
        "\n",
        "Warstwa z liniową funkcją aktywacji może uczyć się tylko liniowych przekształceń danych wejściowych. Dlatego stosuje się różne funkcje aktywacji aby rozwiazywać problemy nieliniowe.\n",
        "\n",
        "[Keras: Funkcje aktywacji](https://keras.io/activations/)"
      ]
    },
    {
      "cell_type": "code",
      "metadata": {
        "id": "obfM5ho7ZmMy",
        "colab": {
          "base_uri": "https://localhost:8080/",
          "height": 206
        },
        "outputId": "c6e8d4e2-e861-48d3-ef67-805e2fbefd70"
      },
      "source": [
        "from tensorflow.keras.activations import linear\n",
        "\n",
        "random_data = sorted(np.random.randn(200))\n",
        "data = pd.DataFrame({'data': random_data, 'linear': linear(random_data)})\n",
        "data.head()"
      ],
      "execution_count": 6,
      "outputs": [
        {
          "output_type": "execute_result",
          "data": {
            "text/plain": [
              "       data    linear\n",
              "0 -2.450118 -2.450118\n",
              "1 -2.061522 -2.061522\n",
              "2 -2.046942 -2.046942\n",
              "3 -2.022047 -2.022047\n",
              "4 -1.972046 -1.972046"
            ],
            "text/html": [
              "\n",
              "  <div id=\"df-50657e6b-c501-48e9-990e-873be48332c4\" class=\"colab-df-container\">\n",
              "    <div>\n",
              "<style scoped>\n",
              "    .dataframe tbody tr th:only-of-type {\n",
              "        vertical-align: middle;\n",
              "    }\n",
              "\n",
              "    .dataframe tbody tr th {\n",
              "        vertical-align: top;\n",
              "    }\n",
              "\n",
              "    .dataframe thead th {\n",
              "        text-align: right;\n",
              "    }\n",
              "</style>\n",
              "<table border=\"1\" class=\"dataframe\">\n",
              "  <thead>\n",
              "    <tr style=\"text-align: right;\">\n",
              "      <th></th>\n",
              "      <th>data</th>\n",
              "      <th>linear</th>\n",
              "    </tr>\n",
              "  </thead>\n",
              "  <tbody>\n",
              "    <tr>\n",
              "      <th>0</th>\n",
              "      <td>-2.450118</td>\n",
              "      <td>-2.450118</td>\n",
              "    </tr>\n",
              "    <tr>\n",
              "      <th>1</th>\n",
              "      <td>-2.061522</td>\n",
              "      <td>-2.061522</td>\n",
              "    </tr>\n",
              "    <tr>\n",
              "      <th>2</th>\n",
              "      <td>-2.046942</td>\n",
              "      <td>-2.046942</td>\n",
              "    </tr>\n",
              "    <tr>\n",
              "      <th>3</th>\n",
              "      <td>-2.022047</td>\n",
              "      <td>-2.022047</td>\n",
              "    </tr>\n",
              "    <tr>\n",
              "      <th>4</th>\n",
              "      <td>-1.972046</td>\n",
              "      <td>-1.972046</td>\n",
              "    </tr>\n",
              "  </tbody>\n",
              "</table>\n",
              "</div>\n",
              "    <div class=\"colab-df-buttons\">\n",
              "\n",
              "  <div class=\"colab-df-container\">\n",
              "    <button class=\"colab-df-convert\" onclick=\"convertToInteractive('df-50657e6b-c501-48e9-990e-873be48332c4')\"\n",
              "            title=\"Convert this dataframe to an interactive table.\"\n",
              "            style=\"display:none;\">\n",
              "\n",
              "  <svg xmlns=\"http://www.w3.org/2000/svg\" height=\"24px\" viewBox=\"0 -960 960 960\">\n",
              "    <path d=\"M120-120v-720h720v720H120Zm60-500h600v-160H180v160Zm220 220h160v-160H400v160Zm0 220h160v-160H400v160ZM180-400h160v-160H180v160Zm440 0h160v-160H620v160ZM180-180h160v-160H180v160Zm440 0h160v-160H620v160Z\"/>\n",
              "  </svg>\n",
              "    </button>\n",
              "\n",
              "  <style>\n",
              "    .colab-df-container {\n",
              "      display:flex;\n",
              "      gap: 12px;\n",
              "    }\n",
              "\n",
              "    .colab-df-convert {\n",
              "      background-color: #E8F0FE;\n",
              "      border: none;\n",
              "      border-radius: 50%;\n",
              "      cursor: pointer;\n",
              "      display: none;\n",
              "      fill: #1967D2;\n",
              "      height: 32px;\n",
              "      padding: 0 0 0 0;\n",
              "      width: 32px;\n",
              "    }\n",
              "\n",
              "    .colab-df-convert:hover {\n",
              "      background-color: #E2EBFA;\n",
              "      box-shadow: 0px 1px 2px rgba(60, 64, 67, 0.3), 0px 1px 3px 1px rgba(60, 64, 67, 0.15);\n",
              "      fill: #174EA6;\n",
              "    }\n",
              "\n",
              "    .colab-df-buttons div {\n",
              "      margin-bottom: 4px;\n",
              "    }\n",
              "\n",
              "    [theme=dark] .colab-df-convert {\n",
              "      background-color: #3B4455;\n",
              "      fill: #D2E3FC;\n",
              "    }\n",
              "\n",
              "    [theme=dark] .colab-df-convert:hover {\n",
              "      background-color: #434B5C;\n",
              "      box-shadow: 0px 1px 3px 1px rgba(0, 0, 0, 0.15);\n",
              "      filter: drop-shadow(0px 1px 2px rgba(0, 0, 0, 0.3));\n",
              "      fill: #FFFFFF;\n",
              "    }\n",
              "  </style>\n",
              "\n",
              "    <script>\n",
              "      const buttonEl =\n",
              "        document.querySelector('#df-50657e6b-c501-48e9-990e-873be48332c4 button.colab-df-convert');\n",
              "      buttonEl.style.display =\n",
              "        google.colab.kernel.accessAllowed ? 'block' : 'none';\n",
              "\n",
              "      async function convertToInteractive(key) {\n",
              "        const element = document.querySelector('#df-50657e6b-c501-48e9-990e-873be48332c4');\n",
              "        const dataTable =\n",
              "          await google.colab.kernel.invokeFunction('convertToInteractive',\n",
              "                                                    [key], {});\n",
              "        if (!dataTable) return;\n",
              "\n",
              "        const docLinkHtml = 'Like what you see? Visit the ' +\n",
              "          '<a target=\"_blank\" href=https://colab.research.google.com/notebooks/data_table.ipynb>data table notebook</a>'\n",
              "          + ' to learn more about interactive tables.';\n",
              "        element.innerHTML = '';\n",
              "        dataTable['output_type'] = 'display_data';\n",
              "        await google.colab.output.renderOutput(dataTable, element);\n",
              "        const docLink = document.createElement('div');\n",
              "        docLink.innerHTML = docLinkHtml;\n",
              "        element.appendChild(docLink);\n",
              "      }\n",
              "    </script>\n",
              "  </div>\n",
              "\n",
              "\n",
              "<div id=\"df-779b2e51-593c-4acc-be93-459b3371d424\">\n",
              "  <button class=\"colab-df-quickchart\" onclick=\"quickchart('df-779b2e51-593c-4acc-be93-459b3371d424')\"\n",
              "            title=\"Suggest charts\"\n",
              "            style=\"display:none;\">\n",
              "\n",
              "<svg xmlns=\"http://www.w3.org/2000/svg\" height=\"24px\"viewBox=\"0 0 24 24\"\n",
              "     width=\"24px\">\n",
              "    <g>\n",
              "        <path d=\"M19 3H5c-1.1 0-2 .9-2 2v14c0 1.1.9 2 2 2h14c1.1 0 2-.9 2-2V5c0-1.1-.9-2-2-2zM9 17H7v-7h2v7zm4 0h-2V7h2v10zm4 0h-2v-4h2v4z\"/>\n",
              "    </g>\n",
              "</svg>\n",
              "  </button>\n",
              "\n",
              "<style>\n",
              "  .colab-df-quickchart {\n",
              "      --bg-color: #E8F0FE;\n",
              "      --fill-color: #1967D2;\n",
              "      --hover-bg-color: #E2EBFA;\n",
              "      --hover-fill-color: #174EA6;\n",
              "      --disabled-fill-color: #AAA;\n",
              "      --disabled-bg-color: #DDD;\n",
              "  }\n",
              "\n",
              "  [theme=dark] .colab-df-quickchart {\n",
              "      --bg-color: #3B4455;\n",
              "      --fill-color: #D2E3FC;\n",
              "      --hover-bg-color: #434B5C;\n",
              "      --hover-fill-color: #FFFFFF;\n",
              "      --disabled-bg-color: #3B4455;\n",
              "      --disabled-fill-color: #666;\n",
              "  }\n",
              "\n",
              "  .colab-df-quickchart {\n",
              "    background-color: var(--bg-color);\n",
              "    border: none;\n",
              "    border-radius: 50%;\n",
              "    cursor: pointer;\n",
              "    display: none;\n",
              "    fill: var(--fill-color);\n",
              "    height: 32px;\n",
              "    padding: 0;\n",
              "    width: 32px;\n",
              "  }\n",
              "\n",
              "  .colab-df-quickchart:hover {\n",
              "    background-color: var(--hover-bg-color);\n",
              "    box-shadow: 0 1px 2px rgba(60, 64, 67, 0.3), 0 1px 3px 1px rgba(60, 64, 67, 0.15);\n",
              "    fill: var(--button-hover-fill-color);\n",
              "  }\n",
              "\n",
              "  .colab-df-quickchart-complete:disabled,\n",
              "  .colab-df-quickchart-complete:disabled:hover {\n",
              "    background-color: var(--disabled-bg-color);\n",
              "    fill: var(--disabled-fill-color);\n",
              "    box-shadow: none;\n",
              "  }\n",
              "\n",
              "  .colab-df-spinner {\n",
              "    border: 2px solid var(--fill-color);\n",
              "    border-color: transparent;\n",
              "    border-bottom-color: var(--fill-color);\n",
              "    animation:\n",
              "      spin 1s steps(1) infinite;\n",
              "  }\n",
              "\n",
              "  @keyframes spin {\n",
              "    0% {\n",
              "      border-color: transparent;\n",
              "      border-bottom-color: var(--fill-color);\n",
              "      border-left-color: var(--fill-color);\n",
              "    }\n",
              "    20% {\n",
              "      border-color: transparent;\n",
              "      border-left-color: var(--fill-color);\n",
              "      border-top-color: var(--fill-color);\n",
              "    }\n",
              "    30% {\n",
              "      border-color: transparent;\n",
              "      border-left-color: var(--fill-color);\n",
              "      border-top-color: var(--fill-color);\n",
              "      border-right-color: var(--fill-color);\n",
              "    }\n",
              "    40% {\n",
              "      border-color: transparent;\n",
              "      border-right-color: var(--fill-color);\n",
              "      border-top-color: var(--fill-color);\n",
              "    }\n",
              "    60% {\n",
              "      border-color: transparent;\n",
              "      border-right-color: var(--fill-color);\n",
              "    }\n",
              "    80% {\n",
              "      border-color: transparent;\n",
              "      border-right-color: var(--fill-color);\n",
              "      border-bottom-color: var(--fill-color);\n",
              "    }\n",
              "    90% {\n",
              "      border-color: transparent;\n",
              "      border-bottom-color: var(--fill-color);\n",
              "    }\n",
              "  }\n",
              "</style>\n",
              "\n",
              "  <script>\n",
              "    async function quickchart(key) {\n",
              "      const quickchartButtonEl =\n",
              "        document.querySelector('#' + key + ' button');\n",
              "      quickchartButtonEl.disabled = true;  // To prevent multiple clicks.\n",
              "      quickchartButtonEl.classList.add('colab-df-spinner');\n",
              "      try {\n",
              "        const charts = await google.colab.kernel.invokeFunction(\n",
              "            'suggestCharts', [key], {});\n",
              "      } catch (error) {\n",
              "        console.error('Error during call to suggestCharts:', error);\n",
              "      }\n",
              "      quickchartButtonEl.classList.remove('colab-df-spinner');\n",
              "      quickchartButtonEl.classList.add('colab-df-quickchart-complete');\n",
              "    }\n",
              "    (() => {\n",
              "      let quickchartButtonEl =\n",
              "        document.querySelector('#df-779b2e51-593c-4acc-be93-459b3371d424 button');\n",
              "      quickchartButtonEl.style.display =\n",
              "        google.colab.kernel.accessAllowed ? 'block' : 'none';\n",
              "    })();\n",
              "  </script>\n",
              "</div>\n",
              "    </div>\n",
              "  </div>\n"
            ],
            "application/vnd.google.colaboratory.intrinsic+json": {
              "type": "dataframe",
              "variable_name": "data",
              "summary": "{\n  \"name\": \"data\",\n  \"rows\": 200,\n  \"fields\": [\n    {\n      \"column\": \"data\",\n      \"properties\": {\n        \"dtype\": \"number\",\n        \"std\": 1.017560686907229,\n        \"min\": -2.4501183999408163,\n        \"max\": 2.453970661219094,\n        \"num_unique_values\": 200,\n        \"samples\": [\n          -0.04138031332011294,\n          -1.6422356482992393,\n          -1.217689992205175\n        ],\n        \"semantic_type\": \"\",\n        \"description\": \"\"\n      }\n    },\n    {\n      \"column\": \"linear\",\n      \"properties\": {\n        \"dtype\": \"number\",\n        \"std\": 1.017560686907229,\n        \"min\": -2.4501183999408163,\n        \"max\": 2.453970661219094,\n        \"num_unique_values\": 200,\n        \"samples\": [\n          -0.04138031332011294,\n          -1.6422356482992393,\n          -1.217689992205175\n        ],\n        \"semantic_type\": \"\",\n        \"description\": \"\"\n      }\n    }\n  ]\n}"
            }
          },
          "metadata": {},
          "execution_count": 6
        }
      ]
    },
    {
      "cell_type": "code",
      "metadata": {
        "id": "SsbhlfGgesjV",
        "colab": {
          "base_uri": "https://localhost:8080/",
          "height": 542
        },
        "outputId": "4c0ea4c2-b203-4492-fc8c-0602497e8b03"
      },
      "source": [
        "px.line(data, x='data', y='linear', width=800, range_y=[-2, 2])"
      ],
      "execution_count": 7,
      "outputs": [
        {
          "output_type": "display_data",
          "data": {
            "text/html": [
              "<html>\n",
              "<head><meta charset=\"utf-8\" /></head>\n",
              "<body>\n",
              "    <div>            <script src=\"https://cdnjs.cloudflare.com/ajax/libs/mathjax/2.7.5/MathJax.js?config=TeX-AMS-MML_SVG\"></script><script type=\"text/javascript\">if (window.MathJax && window.MathJax.Hub && window.MathJax.Hub.Config) {window.MathJax.Hub.Config({SVG: {font: \"STIX-Web\"}});}</script>                <script type=\"text/javascript\">window.PlotlyConfig = {MathJaxConfig: 'local'};</script>\n",
              "        <script charset=\"utf-8\" src=\"https://cdn.plot.ly/plotly-2.24.1.min.js\"></script>                <div id=\"cd3117a9-017c-4e4f-b04f-8d1710547140\" class=\"plotly-graph-div\" style=\"height:525px; width:800px;\"></div>            <script type=\"text/javascript\">                                    window.PLOTLYENV=window.PLOTLYENV || {};                                    if (document.getElementById(\"cd3117a9-017c-4e4f-b04f-8d1710547140\")) {                    Plotly.newPlot(                        \"cd3117a9-017c-4e4f-b04f-8d1710547140\",                        [{\"hovertemplate\":\"data=%{x}\\u003cbr\\u003elinear=%{y}\\u003cextra\\u003e\\u003c\\u002fextra\\u003e\",\"legendgroup\":\"\",\"line\":{\"color\":\"#636efa\",\"dash\":\"solid\"},\"marker\":{\"symbol\":\"circle\"},\"mode\":\"lines\",\"name\":\"\",\"orientation\":\"v\",\"showlegend\":false,\"x\":[-2.4501183999408163,-2.0615223051014206,-2.0469415525677683,-2.0220467250418053,-1.9720460976793264,-1.9569169575073677,-1.9558617548217552,-1.8952090292945476,-1.858253494765793,-1.8439202561788075,-1.7923749972850862,-1.7635239558022897,-1.7273507079825037,-1.7183893336933174,-1.7117025521937468,-1.6422356482992393,-1.6188501807185212,-1.5886488077642915,-1.561347429659641,-1.5414535504250768,-1.5050469787025873,-1.5005851638117897,-1.4916385762410906,-1.4681922524359663,-1.4430833758815147,-1.4299136827472856,-1.4071642138444513,-1.3362118939230112,-1.3056559145279156,-1.2702125568096458,-1.217689992205175,-1.1748852851250875,-1.1578845173743966,-1.1324423341333019,-1.11280893656239,-1.0879597805304686,-1.0505415483711438,-1.0231820803496596,-1.0100426936431413,-0.9934444609722372,-0.9847043176466684,-0.9719961712057639,-0.9601951181949069,-0.9225439636004926,-0.8532681834687528,-0.8468574520660671,-0.8308313871452794,-0.820313720232503,-0.8031717973188822,-0.7974444342619774,-0.7010432651685365,-0.6961005776202039,-0.6885907599240463,-0.6669946525779185,-0.646325768642086,-0.6361408588983981,-0.6084741828815118,-0.6049797759264767,-0.5921723715348247,-0.5885578809171359,-0.5792725675486279,-0.5742555571385999,-0.5641210901878694,-0.5613153800149563,-0.5529972992504903,-0.5441480243417042,-0.5439928887718007,-0.5259019077245529,-0.5220742246017847,-0.5060722806438337,-0.4838263317413603,-0.450492655620644,-0.4473098395642803,-0.43259936383897385,-0.424971045693652,-0.3825365549433045,-0.3673426091864137,-0.35445997904731846,-0.3528582592099146,-0.3301851814475208,-0.3205290798595268,-0.3198106602071296,-0.2905650758113998,-0.28502879159738814,-0.231729422663015,-0.22468457698413402,-0.2205365636700521,-0.21951517072127946,-0.2078045084601896,-0.154140688486142,-0.1472932237187985,-0.1096010503782766,-0.1037189407652913,-0.06897669483998492,-0.06461760849085413,-0.04138031332011294,-0.021270745035885937,-0.009623559384955216,0.03820059063278862,0.0406070535237623,0.05832232907529926,0.06250376824632185,0.10284432957128302,0.1292240916896738,0.13171579311608655,0.1387672204002597,0.14817590767944713,0.15864262607520366,0.16512835604630405,0.16559129485478571,0.16897758728538714,0.18278098620043143,0.19191761556025552,0.22952206061996014,0.23049725181358438,0.26814481380101,0.28064650851998624,0.2899636716775976,0.29105285042469575,0.3217505142236713,0.3409349938151154,0.3419740921706542,0.3461938759958076,0.34830851487116676,0.3606234063187742,0.3657892358137291,0.38469479109204024,0.3847544155030206,0.3895874422959413,0.3899945185664725,0.39379277899234866,0.3948432279551597,0.3992383447912305,0.4032638634813341,0.40682428110121865,0.43222324827674546,0.43935534813194405,0.45544688380690945,0.4647643125401091,0.4935578526197315,0.5166598952293405,0.520276138132954,0.5580549800376525,0.5758960576022334,0.578583759193031,0.6219323250201603,0.6261484629338617,0.6311350997344702,0.6370484064904971,0.6451044577323045,0.6639780116818866,0.6645461831800962,0.6800779091617021,0.6901596018170454,0.6975891989893805,0.7076051596805981,0.7519861845504259,0.7682829634855936,0.7781924884746938,0.7865483162189361,0.8071020205911219,0.813997148867758,0.8169231580795546,0.8327891146762578,0.8377964062594518,0.8405515144566692,0.8683561603021986,0.8969315143287497,0.9118488544479985,0.9587285581939327,1.0079533033776686,1.0431745326697253,1.0794916794988576,1.0820067237497697,1.129348454951696,1.1357012315714765,1.1470998598696616,1.14732663849003,1.1586979343570878,1.1607717247758882,1.2752710443883888,1.2950313390400037,1.3382749318148603,1.356097930404764,1.3608558708950425,1.3873638557676804,1.4055908435520417,1.453337310627837,1.5079605872133997,1.5242963003697316,1.5488743529793587,1.616481282377694,1.629315404732797,1.6788165515811597,1.7211709221986515,1.9088660192077267,1.9616163614213242,2.1028505026767266,2.4069776167806234,2.453970661219094],\"xaxis\":\"x\",\"y\":[-2.4501183999408163,-2.0615223051014206,-2.0469415525677683,-2.0220467250418053,-1.9720460976793264,-1.9569169575073677,-1.9558617548217552,-1.8952090292945476,-1.858253494765793,-1.8439202561788075,-1.7923749972850862,-1.7635239558022897,-1.7273507079825037,-1.7183893336933174,-1.7117025521937468,-1.6422356482992393,-1.6188501807185212,-1.5886488077642915,-1.561347429659641,-1.5414535504250768,-1.5050469787025873,-1.5005851638117897,-1.4916385762410906,-1.4681922524359663,-1.4430833758815147,-1.4299136827472856,-1.4071642138444513,-1.3362118939230112,-1.3056559145279156,-1.2702125568096458,-1.217689992205175,-1.1748852851250875,-1.1578845173743966,-1.1324423341333019,-1.11280893656239,-1.0879597805304686,-1.0505415483711438,-1.0231820803496596,-1.0100426936431413,-0.9934444609722372,-0.9847043176466684,-0.9719961712057639,-0.9601951181949069,-0.9225439636004926,-0.8532681834687528,-0.8468574520660671,-0.8308313871452794,-0.820313720232503,-0.8031717973188822,-0.7974444342619774,-0.7010432651685365,-0.6961005776202039,-0.6885907599240463,-0.6669946525779185,-0.646325768642086,-0.6361408588983981,-0.6084741828815118,-0.6049797759264767,-0.5921723715348247,-0.5885578809171359,-0.5792725675486279,-0.5742555571385999,-0.5641210901878694,-0.5613153800149563,-0.5529972992504903,-0.5441480243417042,-0.5439928887718007,-0.5259019077245529,-0.5220742246017847,-0.5060722806438337,-0.4838263317413603,-0.450492655620644,-0.4473098395642803,-0.43259936383897385,-0.424971045693652,-0.3825365549433045,-0.3673426091864137,-0.35445997904731846,-0.3528582592099146,-0.3301851814475208,-0.3205290798595268,-0.3198106602071296,-0.2905650758113998,-0.28502879159738814,-0.231729422663015,-0.22468457698413402,-0.2205365636700521,-0.21951517072127946,-0.2078045084601896,-0.154140688486142,-0.1472932237187985,-0.1096010503782766,-0.1037189407652913,-0.06897669483998492,-0.06461760849085413,-0.04138031332011294,-0.021270745035885937,-0.009623559384955216,0.03820059063278862,0.0406070535237623,0.05832232907529926,0.06250376824632185,0.10284432957128302,0.1292240916896738,0.13171579311608655,0.1387672204002597,0.14817590767944713,0.15864262607520366,0.16512835604630405,0.16559129485478571,0.16897758728538714,0.18278098620043143,0.19191761556025552,0.22952206061996014,0.23049725181358438,0.26814481380101,0.28064650851998624,0.2899636716775976,0.29105285042469575,0.3217505142236713,0.3409349938151154,0.3419740921706542,0.3461938759958076,0.34830851487116676,0.3606234063187742,0.3657892358137291,0.38469479109204024,0.3847544155030206,0.3895874422959413,0.3899945185664725,0.39379277899234866,0.3948432279551597,0.3992383447912305,0.4032638634813341,0.40682428110121865,0.43222324827674546,0.43935534813194405,0.45544688380690945,0.4647643125401091,0.4935578526197315,0.5166598952293405,0.520276138132954,0.5580549800376525,0.5758960576022334,0.578583759193031,0.6219323250201603,0.6261484629338617,0.6311350997344702,0.6370484064904971,0.6451044577323045,0.6639780116818866,0.6645461831800962,0.6800779091617021,0.6901596018170454,0.6975891989893805,0.7076051596805981,0.7519861845504259,0.7682829634855936,0.7781924884746938,0.7865483162189361,0.8071020205911219,0.813997148867758,0.8169231580795546,0.8327891146762578,0.8377964062594518,0.8405515144566692,0.8683561603021986,0.8969315143287497,0.9118488544479985,0.9587285581939327,1.0079533033776686,1.0431745326697253,1.0794916794988576,1.0820067237497697,1.129348454951696,1.1357012315714765,1.1470998598696616,1.14732663849003,1.1586979343570878,1.1607717247758882,1.2752710443883888,1.2950313390400037,1.3382749318148603,1.356097930404764,1.3608558708950425,1.3873638557676804,1.4055908435520417,1.453337310627837,1.5079605872133997,1.5242963003697316,1.5488743529793587,1.616481282377694,1.629315404732797,1.6788165515811597,1.7211709221986515,1.9088660192077267,1.9616163614213242,2.1028505026767266,2.4069776167806234,2.453970661219094],\"yaxis\":\"y\",\"type\":\"scatter\"}],                        {\"template\":{\"data\":{\"histogram2dcontour\":[{\"type\":\"histogram2dcontour\",\"colorbar\":{\"outlinewidth\":0,\"ticks\":\"\"},\"colorscale\":[[0.0,\"#0d0887\"],[0.1111111111111111,\"#46039f\"],[0.2222222222222222,\"#7201a8\"],[0.3333333333333333,\"#9c179e\"],[0.4444444444444444,\"#bd3786\"],[0.5555555555555556,\"#d8576b\"],[0.6666666666666666,\"#ed7953\"],[0.7777777777777778,\"#fb9f3a\"],[0.8888888888888888,\"#fdca26\"],[1.0,\"#f0f921\"]]}],\"choropleth\":[{\"type\":\"choropleth\",\"colorbar\":{\"outlinewidth\":0,\"ticks\":\"\"}}],\"histogram2d\":[{\"type\":\"histogram2d\",\"colorbar\":{\"outlinewidth\":0,\"ticks\":\"\"},\"colorscale\":[[0.0,\"#0d0887\"],[0.1111111111111111,\"#46039f\"],[0.2222222222222222,\"#7201a8\"],[0.3333333333333333,\"#9c179e\"],[0.4444444444444444,\"#bd3786\"],[0.5555555555555556,\"#d8576b\"],[0.6666666666666666,\"#ed7953\"],[0.7777777777777778,\"#fb9f3a\"],[0.8888888888888888,\"#fdca26\"],[1.0,\"#f0f921\"]]}],\"heatmap\":[{\"type\":\"heatmap\",\"colorbar\":{\"outlinewidth\":0,\"ticks\":\"\"},\"colorscale\":[[0.0,\"#0d0887\"],[0.1111111111111111,\"#46039f\"],[0.2222222222222222,\"#7201a8\"],[0.3333333333333333,\"#9c179e\"],[0.4444444444444444,\"#bd3786\"],[0.5555555555555556,\"#d8576b\"],[0.6666666666666666,\"#ed7953\"],[0.7777777777777778,\"#fb9f3a\"],[0.8888888888888888,\"#fdca26\"],[1.0,\"#f0f921\"]]}],\"heatmapgl\":[{\"type\":\"heatmapgl\",\"colorbar\":{\"outlinewidth\":0,\"ticks\":\"\"},\"colorscale\":[[0.0,\"#0d0887\"],[0.1111111111111111,\"#46039f\"],[0.2222222222222222,\"#7201a8\"],[0.3333333333333333,\"#9c179e\"],[0.4444444444444444,\"#bd3786\"],[0.5555555555555556,\"#d8576b\"],[0.6666666666666666,\"#ed7953\"],[0.7777777777777778,\"#fb9f3a\"],[0.8888888888888888,\"#fdca26\"],[1.0,\"#f0f921\"]]}],\"contourcarpet\":[{\"type\":\"contourcarpet\",\"colorbar\":{\"outlinewidth\":0,\"ticks\":\"\"}}],\"contour\":[{\"type\":\"contour\",\"colorbar\":{\"outlinewidth\":0,\"ticks\":\"\"},\"colorscale\":[[0.0,\"#0d0887\"],[0.1111111111111111,\"#46039f\"],[0.2222222222222222,\"#7201a8\"],[0.3333333333333333,\"#9c179e\"],[0.4444444444444444,\"#bd3786\"],[0.5555555555555556,\"#d8576b\"],[0.6666666666666666,\"#ed7953\"],[0.7777777777777778,\"#fb9f3a\"],[0.8888888888888888,\"#fdca26\"],[1.0,\"#f0f921\"]]}],\"surface\":[{\"type\":\"surface\",\"colorbar\":{\"outlinewidth\":0,\"ticks\":\"\"},\"colorscale\":[[0.0,\"#0d0887\"],[0.1111111111111111,\"#46039f\"],[0.2222222222222222,\"#7201a8\"],[0.3333333333333333,\"#9c179e\"],[0.4444444444444444,\"#bd3786\"],[0.5555555555555556,\"#d8576b\"],[0.6666666666666666,\"#ed7953\"],[0.7777777777777778,\"#fb9f3a\"],[0.8888888888888888,\"#fdca26\"],[1.0,\"#f0f921\"]]}],\"mesh3d\":[{\"type\":\"mesh3d\",\"colorbar\":{\"outlinewidth\":0,\"ticks\":\"\"}}],\"scatter\":[{\"fillpattern\":{\"fillmode\":\"overlay\",\"size\":10,\"solidity\":0.2},\"type\":\"scatter\"}],\"parcoords\":[{\"type\":\"parcoords\",\"line\":{\"colorbar\":{\"outlinewidth\":0,\"ticks\":\"\"}}}],\"scatterpolargl\":[{\"type\":\"scatterpolargl\",\"marker\":{\"colorbar\":{\"outlinewidth\":0,\"ticks\":\"\"}}}],\"bar\":[{\"error_x\":{\"color\":\"#2a3f5f\"},\"error_y\":{\"color\":\"#2a3f5f\"},\"marker\":{\"line\":{\"color\":\"#E5ECF6\",\"width\":0.5},\"pattern\":{\"fillmode\":\"overlay\",\"size\":10,\"solidity\":0.2}},\"type\":\"bar\"}],\"scattergeo\":[{\"type\":\"scattergeo\",\"marker\":{\"colorbar\":{\"outlinewidth\":0,\"ticks\":\"\"}}}],\"scatterpolar\":[{\"type\":\"scatterpolar\",\"marker\":{\"colorbar\":{\"outlinewidth\":0,\"ticks\":\"\"}}}],\"histogram\":[{\"marker\":{\"pattern\":{\"fillmode\":\"overlay\",\"size\":10,\"solidity\":0.2}},\"type\":\"histogram\"}],\"scattergl\":[{\"type\":\"scattergl\",\"marker\":{\"colorbar\":{\"outlinewidth\":0,\"ticks\":\"\"}}}],\"scatter3d\":[{\"type\":\"scatter3d\",\"line\":{\"colorbar\":{\"outlinewidth\":0,\"ticks\":\"\"}},\"marker\":{\"colorbar\":{\"outlinewidth\":0,\"ticks\":\"\"}}}],\"scattermapbox\":[{\"type\":\"scattermapbox\",\"marker\":{\"colorbar\":{\"outlinewidth\":0,\"ticks\":\"\"}}}],\"scatterternary\":[{\"type\":\"scatterternary\",\"marker\":{\"colorbar\":{\"outlinewidth\":0,\"ticks\":\"\"}}}],\"scattercarpet\":[{\"type\":\"scattercarpet\",\"marker\":{\"colorbar\":{\"outlinewidth\":0,\"ticks\":\"\"}}}],\"carpet\":[{\"aaxis\":{\"endlinecolor\":\"#2a3f5f\",\"gridcolor\":\"white\",\"linecolor\":\"white\",\"minorgridcolor\":\"white\",\"startlinecolor\":\"#2a3f5f\"},\"baxis\":{\"endlinecolor\":\"#2a3f5f\",\"gridcolor\":\"white\",\"linecolor\":\"white\",\"minorgridcolor\":\"white\",\"startlinecolor\":\"#2a3f5f\"},\"type\":\"carpet\"}],\"table\":[{\"cells\":{\"fill\":{\"color\":\"#EBF0F8\"},\"line\":{\"color\":\"white\"}},\"header\":{\"fill\":{\"color\":\"#C8D4E3\"},\"line\":{\"color\":\"white\"}},\"type\":\"table\"}],\"barpolar\":[{\"marker\":{\"line\":{\"color\":\"#E5ECF6\",\"width\":0.5},\"pattern\":{\"fillmode\":\"overlay\",\"size\":10,\"solidity\":0.2}},\"type\":\"barpolar\"}],\"pie\":[{\"automargin\":true,\"type\":\"pie\"}]},\"layout\":{\"autotypenumbers\":\"strict\",\"colorway\":[\"#636efa\",\"#EF553B\",\"#00cc96\",\"#ab63fa\",\"#FFA15A\",\"#19d3f3\",\"#FF6692\",\"#B6E880\",\"#FF97FF\",\"#FECB52\"],\"font\":{\"color\":\"#2a3f5f\"},\"hovermode\":\"closest\",\"hoverlabel\":{\"align\":\"left\"},\"paper_bgcolor\":\"white\",\"plot_bgcolor\":\"#E5ECF6\",\"polar\":{\"bgcolor\":\"#E5ECF6\",\"angularaxis\":{\"gridcolor\":\"white\",\"linecolor\":\"white\",\"ticks\":\"\"},\"radialaxis\":{\"gridcolor\":\"white\",\"linecolor\":\"white\",\"ticks\":\"\"}},\"ternary\":{\"bgcolor\":\"#E5ECF6\",\"aaxis\":{\"gridcolor\":\"white\",\"linecolor\":\"white\",\"ticks\":\"\"},\"baxis\":{\"gridcolor\":\"white\",\"linecolor\":\"white\",\"ticks\":\"\"},\"caxis\":{\"gridcolor\":\"white\",\"linecolor\":\"white\",\"ticks\":\"\"}},\"coloraxis\":{\"colorbar\":{\"outlinewidth\":0,\"ticks\":\"\"}},\"colorscale\":{\"sequential\":[[0.0,\"#0d0887\"],[0.1111111111111111,\"#46039f\"],[0.2222222222222222,\"#7201a8\"],[0.3333333333333333,\"#9c179e\"],[0.4444444444444444,\"#bd3786\"],[0.5555555555555556,\"#d8576b\"],[0.6666666666666666,\"#ed7953\"],[0.7777777777777778,\"#fb9f3a\"],[0.8888888888888888,\"#fdca26\"],[1.0,\"#f0f921\"]],\"sequentialminus\":[[0.0,\"#0d0887\"],[0.1111111111111111,\"#46039f\"],[0.2222222222222222,\"#7201a8\"],[0.3333333333333333,\"#9c179e\"],[0.4444444444444444,\"#bd3786\"],[0.5555555555555556,\"#d8576b\"],[0.6666666666666666,\"#ed7953\"],[0.7777777777777778,\"#fb9f3a\"],[0.8888888888888888,\"#fdca26\"],[1.0,\"#f0f921\"]],\"diverging\":[[0,\"#8e0152\"],[0.1,\"#c51b7d\"],[0.2,\"#de77ae\"],[0.3,\"#f1b6da\"],[0.4,\"#fde0ef\"],[0.5,\"#f7f7f7\"],[0.6,\"#e6f5d0\"],[0.7,\"#b8e186\"],[0.8,\"#7fbc41\"],[0.9,\"#4d9221\"],[1,\"#276419\"]]},\"xaxis\":{\"gridcolor\":\"white\",\"linecolor\":\"white\",\"ticks\":\"\",\"title\":{\"standoff\":15},\"zerolinecolor\":\"white\",\"automargin\":true,\"zerolinewidth\":2},\"yaxis\":{\"gridcolor\":\"white\",\"linecolor\":\"white\",\"ticks\":\"\",\"title\":{\"standoff\":15},\"zerolinecolor\":\"white\",\"automargin\":true,\"zerolinewidth\":2},\"scene\":{\"xaxis\":{\"backgroundcolor\":\"#E5ECF6\",\"gridcolor\":\"white\",\"linecolor\":\"white\",\"showbackground\":true,\"ticks\":\"\",\"zerolinecolor\":\"white\",\"gridwidth\":2},\"yaxis\":{\"backgroundcolor\":\"#E5ECF6\",\"gridcolor\":\"white\",\"linecolor\":\"white\",\"showbackground\":true,\"ticks\":\"\",\"zerolinecolor\":\"white\",\"gridwidth\":2},\"zaxis\":{\"backgroundcolor\":\"#E5ECF6\",\"gridcolor\":\"white\",\"linecolor\":\"white\",\"showbackground\":true,\"ticks\":\"\",\"zerolinecolor\":\"white\",\"gridwidth\":2}},\"shapedefaults\":{\"line\":{\"color\":\"#2a3f5f\"}},\"annotationdefaults\":{\"arrowcolor\":\"#2a3f5f\",\"arrowhead\":0,\"arrowwidth\":1},\"geo\":{\"bgcolor\":\"white\",\"landcolor\":\"#E5ECF6\",\"subunitcolor\":\"white\",\"showland\":true,\"showlakes\":true,\"lakecolor\":\"white\"},\"title\":{\"x\":0.05},\"mapbox\":{\"style\":\"light\"}}},\"xaxis\":{\"anchor\":\"y\",\"domain\":[0.0,1.0],\"title\":{\"text\":\"data\"}},\"yaxis\":{\"anchor\":\"x\",\"domain\":[0.0,1.0],\"title\":{\"text\":\"linear\"},\"range\":[-2,2]},\"legend\":{\"tracegroupgap\":0},\"margin\":{\"t\":60},\"width\":800},                        {\"responsive\": true}                    ).then(function(){\n",
              "                            \n",
              "var gd = document.getElementById('cd3117a9-017c-4e4f-b04f-8d1710547140');\n",
              "var x = new MutationObserver(function (mutations, observer) {{\n",
              "        var display = window.getComputedStyle(gd).display;\n",
              "        if (!display || display === 'none') {{\n",
              "            console.log([gd, 'removed!']);\n",
              "            Plotly.purge(gd);\n",
              "            observer.disconnect();\n",
              "        }}\n",
              "}});\n",
              "\n",
              "// Listen for the removal of the full notebook cells\n",
              "var notebookContainer = gd.closest('#notebook-container');\n",
              "if (notebookContainer) {{\n",
              "    x.observe(notebookContainer, {childList: true});\n",
              "}}\n",
              "\n",
              "// Listen for the clearing of the current output cell\n",
              "var outputEl = gd.closest('.output');\n",
              "if (outputEl) {{\n",
              "    x.observe(outputEl, {childList: true});\n",
              "}}\n",
              "\n",
              "                        })                };                            </script>        </div>\n",
              "</body>\n",
              "</html>"
            ]
          },
          "metadata": {}
        }
      ]
    },
    {
      "cell_type": "code",
      "metadata": {
        "id": "xGsRlPQde7Qc",
        "colab": {
          "base_uri": "https://localhost:8080/",
          "height": 206
        },
        "outputId": "279b0dc1-4f32-45f3-c552-aea5ac928c16"
      },
      "source": [
        "from tensorflow.keras.activations import sigmoid\n",
        "\n",
        "data = pd.DataFrame({'data': random_data, 'sigmoid': sigmoid(random_data)})\n",
        "data.head()"
      ],
      "execution_count": 8,
      "outputs": [
        {
          "output_type": "execute_result",
          "data": {
            "text/plain": [
              "       data   sigmoid\n",
              "0 -2.450118  0.079430\n",
              "1 -2.061522  0.112893\n",
              "2 -2.046942  0.114362\n",
              "3 -2.022047  0.116908\n",
              "4 -1.972046  0.122169"
            ],
            "text/html": [
              "\n",
              "  <div id=\"df-0292a2b4-85a1-4eb0-a9c3-983f33f5bb9a\" class=\"colab-df-container\">\n",
              "    <div>\n",
              "<style scoped>\n",
              "    .dataframe tbody tr th:only-of-type {\n",
              "        vertical-align: middle;\n",
              "    }\n",
              "\n",
              "    .dataframe tbody tr th {\n",
              "        vertical-align: top;\n",
              "    }\n",
              "\n",
              "    .dataframe thead th {\n",
              "        text-align: right;\n",
              "    }\n",
              "</style>\n",
              "<table border=\"1\" class=\"dataframe\">\n",
              "  <thead>\n",
              "    <tr style=\"text-align: right;\">\n",
              "      <th></th>\n",
              "      <th>data</th>\n",
              "      <th>sigmoid</th>\n",
              "    </tr>\n",
              "  </thead>\n",
              "  <tbody>\n",
              "    <tr>\n",
              "      <th>0</th>\n",
              "      <td>-2.450118</td>\n",
              "      <td>0.079430</td>\n",
              "    </tr>\n",
              "    <tr>\n",
              "      <th>1</th>\n",
              "      <td>-2.061522</td>\n",
              "      <td>0.112893</td>\n",
              "    </tr>\n",
              "    <tr>\n",
              "      <th>2</th>\n",
              "      <td>-2.046942</td>\n",
              "      <td>0.114362</td>\n",
              "    </tr>\n",
              "    <tr>\n",
              "      <th>3</th>\n",
              "      <td>-2.022047</td>\n",
              "      <td>0.116908</td>\n",
              "    </tr>\n",
              "    <tr>\n",
              "      <th>4</th>\n",
              "      <td>-1.972046</td>\n",
              "      <td>0.122169</td>\n",
              "    </tr>\n",
              "  </tbody>\n",
              "</table>\n",
              "</div>\n",
              "    <div class=\"colab-df-buttons\">\n",
              "\n",
              "  <div class=\"colab-df-container\">\n",
              "    <button class=\"colab-df-convert\" onclick=\"convertToInteractive('df-0292a2b4-85a1-4eb0-a9c3-983f33f5bb9a')\"\n",
              "            title=\"Convert this dataframe to an interactive table.\"\n",
              "            style=\"display:none;\">\n",
              "\n",
              "  <svg xmlns=\"http://www.w3.org/2000/svg\" height=\"24px\" viewBox=\"0 -960 960 960\">\n",
              "    <path d=\"M120-120v-720h720v720H120Zm60-500h600v-160H180v160Zm220 220h160v-160H400v160Zm0 220h160v-160H400v160ZM180-400h160v-160H180v160Zm440 0h160v-160H620v160ZM180-180h160v-160H180v160Zm440 0h160v-160H620v160Z\"/>\n",
              "  </svg>\n",
              "    </button>\n",
              "\n",
              "  <style>\n",
              "    .colab-df-container {\n",
              "      display:flex;\n",
              "      gap: 12px;\n",
              "    }\n",
              "\n",
              "    .colab-df-convert {\n",
              "      background-color: #E8F0FE;\n",
              "      border: none;\n",
              "      border-radius: 50%;\n",
              "      cursor: pointer;\n",
              "      display: none;\n",
              "      fill: #1967D2;\n",
              "      height: 32px;\n",
              "      padding: 0 0 0 0;\n",
              "      width: 32px;\n",
              "    }\n",
              "\n",
              "    .colab-df-convert:hover {\n",
              "      background-color: #E2EBFA;\n",
              "      box-shadow: 0px 1px 2px rgba(60, 64, 67, 0.3), 0px 1px 3px 1px rgba(60, 64, 67, 0.15);\n",
              "      fill: #174EA6;\n",
              "    }\n",
              "\n",
              "    .colab-df-buttons div {\n",
              "      margin-bottom: 4px;\n",
              "    }\n",
              "\n",
              "    [theme=dark] .colab-df-convert {\n",
              "      background-color: #3B4455;\n",
              "      fill: #D2E3FC;\n",
              "    }\n",
              "\n",
              "    [theme=dark] .colab-df-convert:hover {\n",
              "      background-color: #434B5C;\n",
              "      box-shadow: 0px 1px 3px 1px rgba(0, 0, 0, 0.15);\n",
              "      filter: drop-shadow(0px 1px 2px rgba(0, 0, 0, 0.3));\n",
              "      fill: #FFFFFF;\n",
              "    }\n",
              "  </style>\n",
              "\n",
              "    <script>\n",
              "      const buttonEl =\n",
              "        document.querySelector('#df-0292a2b4-85a1-4eb0-a9c3-983f33f5bb9a button.colab-df-convert');\n",
              "      buttonEl.style.display =\n",
              "        google.colab.kernel.accessAllowed ? 'block' : 'none';\n",
              "\n",
              "      async function convertToInteractive(key) {\n",
              "        const element = document.querySelector('#df-0292a2b4-85a1-4eb0-a9c3-983f33f5bb9a');\n",
              "        const dataTable =\n",
              "          await google.colab.kernel.invokeFunction('convertToInteractive',\n",
              "                                                    [key], {});\n",
              "        if (!dataTable) return;\n",
              "\n",
              "        const docLinkHtml = 'Like what you see? Visit the ' +\n",
              "          '<a target=\"_blank\" href=https://colab.research.google.com/notebooks/data_table.ipynb>data table notebook</a>'\n",
              "          + ' to learn more about interactive tables.';\n",
              "        element.innerHTML = '';\n",
              "        dataTable['output_type'] = 'display_data';\n",
              "        await google.colab.output.renderOutput(dataTable, element);\n",
              "        const docLink = document.createElement('div');\n",
              "        docLink.innerHTML = docLinkHtml;\n",
              "        element.appendChild(docLink);\n",
              "      }\n",
              "    </script>\n",
              "  </div>\n",
              "\n",
              "\n",
              "<div id=\"df-73ab6f8d-08a4-4c69-a8c2-3c86e60e52a7\">\n",
              "  <button class=\"colab-df-quickchart\" onclick=\"quickchart('df-73ab6f8d-08a4-4c69-a8c2-3c86e60e52a7')\"\n",
              "            title=\"Suggest charts\"\n",
              "            style=\"display:none;\">\n",
              "\n",
              "<svg xmlns=\"http://www.w3.org/2000/svg\" height=\"24px\"viewBox=\"0 0 24 24\"\n",
              "     width=\"24px\">\n",
              "    <g>\n",
              "        <path d=\"M19 3H5c-1.1 0-2 .9-2 2v14c0 1.1.9 2 2 2h14c1.1 0 2-.9 2-2V5c0-1.1-.9-2-2-2zM9 17H7v-7h2v7zm4 0h-2V7h2v10zm4 0h-2v-4h2v4z\"/>\n",
              "    </g>\n",
              "</svg>\n",
              "  </button>\n",
              "\n",
              "<style>\n",
              "  .colab-df-quickchart {\n",
              "      --bg-color: #E8F0FE;\n",
              "      --fill-color: #1967D2;\n",
              "      --hover-bg-color: #E2EBFA;\n",
              "      --hover-fill-color: #174EA6;\n",
              "      --disabled-fill-color: #AAA;\n",
              "      --disabled-bg-color: #DDD;\n",
              "  }\n",
              "\n",
              "  [theme=dark] .colab-df-quickchart {\n",
              "      --bg-color: #3B4455;\n",
              "      --fill-color: #D2E3FC;\n",
              "      --hover-bg-color: #434B5C;\n",
              "      --hover-fill-color: #FFFFFF;\n",
              "      --disabled-bg-color: #3B4455;\n",
              "      --disabled-fill-color: #666;\n",
              "  }\n",
              "\n",
              "  .colab-df-quickchart {\n",
              "    background-color: var(--bg-color);\n",
              "    border: none;\n",
              "    border-radius: 50%;\n",
              "    cursor: pointer;\n",
              "    display: none;\n",
              "    fill: var(--fill-color);\n",
              "    height: 32px;\n",
              "    padding: 0;\n",
              "    width: 32px;\n",
              "  }\n",
              "\n",
              "  .colab-df-quickchart:hover {\n",
              "    background-color: var(--hover-bg-color);\n",
              "    box-shadow: 0 1px 2px rgba(60, 64, 67, 0.3), 0 1px 3px 1px rgba(60, 64, 67, 0.15);\n",
              "    fill: var(--button-hover-fill-color);\n",
              "  }\n",
              "\n",
              "  .colab-df-quickchart-complete:disabled,\n",
              "  .colab-df-quickchart-complete:disabled:hover {\n",
              "    background-color: var(--disabled-bg-color);\n",
              "    fill: var(--disabled-fill-color);\n",
              "    box-shadow: none;\n",
              "  }\n",
              "\n",
              "  .colab-df-spinner {\n",
              "    border: 2px solid var(--fill-color);\n",
              "    border-color: transparent;\n",
              "    border-bottom-color: var(--fill-color);\n",
              "    animation:\n",
              "      spin 1s steps(1) infinite;\n",
              "  }\n",
              "\n",
              "  @keyframes spin {\n",
              "    0% {\n",
              "      border-color: transparent;\n",
              "      border-bottom-color: var(--fill-color);\n",
              "      border-left-color: var(--fill-color);\n",
              "    }\n",
              "    20% {\n",
              "      border-color: transparent;\n",
              "      border-left-color: var(--fill-color);\n",
              "      border-top-color: var(--fill-color);\n",
              "    }\n",
              "    30% {\n",
              "      border-color: transparent;\n",
              "      border-left-color: var(--fill-color);\n",
              "      border-top-color: var(--fill-color);\n",
              "      border-right-color: var(--fill-color);\n",
              "    }\n",
              "    40% {\n",
              "      border-color: transparent;\n",
              "      border-right-color: var(--fill-color);\n",
              "      border-top-color: var(--fill-color);\n",
              "    }\n",
              "    60% {\n",
              "      border-color: transparent;\n",
              "      border-right-color: var(--fill-color);\n",
              "    }\n",
              "    80% {\n",
              "      border-color: transparent;\n",
              "      border-right-color: var(--fill-color);\n",
              "      border-bottom-color: var(--fill-color);\n",
              "    }\n",
              "    90% {\n",
              "      border-color: transparent;\n",
              "      border-bottom-color: var(--fill-color);\n",
              "    }\n",
              "  }\n",
              "</style>\n",
              "\n",
              "  <script>\n",
              "    async function quickchart(key) {\n",
              "      const quickchartButtonEl =\n",
              "        document.querySelector('#' + key + ' button');\n",
              "      quickchartButtonEl.disabled = true;  // To prevent multiple clicks.\n",
              "      quickchartButtonEl.classList.add('colab-df-spinner');\n",
              "      try {\n",
              "        const charts = await google.colab.kernel.invokeFunction(\n",
              "            'suggestCharts', [key], {});\n",
              "      } catch (error) {\n",
              "        console.error('Error during call to suggestCharts:', error);\n",
              "      }\n",
              "      quickchartButtonEl.classList.remove('colab-df-spinner');\n",
              "      quickchartButtonEl.classList.add('colab-df-quickchart-complete');\n",
              "    }\n",
              "    (() => {\n",
              "      let quickchartButtonEl =\n",
              "        document.querySelector('#df-73ab6f8d-08a4-4c69-a8c2-3c86e60e52a7 button');\n",
              "      quickchartButtonEl.style.display =\n",
              "        google.colab.kernel.accessAllowed ? 'block' : 'none';\n",
              "    })();\n",
              "  </script>\n",
              "</div>\n",
              "    </div>\n",
              "  </div>\n"
            ],
            "application/vnd.google.colaboratory.intrinsic+json": {
              "type": "dataframe",
              "variable_name": "data",
              "summary": "{\n  \"name\": \"data\",\n  \"rows\": 200,\n  \"fields\": [\n    {\n      \"column\": \"data\",\n      \"properties\": {\n        \"dtype\": \"number\",\n        \"std\": 1.017560686907229,\n        \"min\": -2.4501183999408163,\n        \"max\": 2.453970661219094,\n        \"num_unique_values\": 200,\n        \"samples\": [\n          -0.04138031332011294,\n          -1.6422356482992393,\n          -1.217689992205175\n        ],\n        \"semantic_type\": \"\",\n        \"description\": \"\"\n      }\n    },\n    {\n      \"column\": \"sigmoid\",\n      \"properties\": {\n        \"dtype\": \"number\",\n        \"std\": 0.2147995213257336,\n        \"min\": 0.07942989125640847,\n        \"max\": 0.9208513331346766,\n        \"num_unique_values\": 200,\n        \"samples\": [\n          0.4896563975998606,\n          0.16216108705485402,\n          0.2283432245007675\n        ],\n        \"semantic_type\": \"\",\n        \"description\": \"\"\n      }\n    }\n  ]\n}"
            }
          },
          "metadata": {},
          "execution_count": 8
        }
      ]
    },
    {
      "cell_type": "code",
      "metadata": {
        "id": "DbWCwhXifvXx",
        "colab": {
          "base_uri": "https://localhost:8080/",
          "height": 542
        },
        "outputId": "2b746338-0b78-4dc0-f5dd-1c5827f4e2e0"
      },
      "source": [
        "px.line(data, x='data', y='sigmoid', width=800, range_y=[-0.5, 1.5])"
      ],
      "execution_count": 9,
      "outputs": [
        {
          "output_type": "display_data",
          "data": {
            "text/html": [
              "<html>\n",
              "<head><meta charset=\"utf-8\" /></head>\n",
              "<body>\n",
              "    <div>            <script src=\"https://cdnjs.cloudflare.com/ajax/libs/mathjax/2.7.5/MathJax.js?config=TeX-AMS-MML_SVG\"></script><script type=\"text/javascript\">if (window.MathJax && window.MathJax.Hub && window.MathJax.Hub.Config) {window.MathJax.Hub.Config({SVG: {font: \"STIX-Web\"}});}</script>                <script type=\"text/javascript\">window.PlotlyConfig = {MathJaxConfig: 'local'};</script>\n",
              "        <script charset=\"utf-8\" src=\"https://cdn.plot.ly/plotly-2.24.1.min.js\"></script>                <div id=\"d1eea663-f19c-4c91-8d84-7ca8515e6418\" class=\"plotly-graph-div\" style=\"height:525px; width:800px;\"></div>            <script type=\"text/javascript\">                                    window.PLOTLYENV=window.PLOTLYENV || {};                                    if (document.getElementById(\"d1eea663-f19c-4c91-8d84-7ca8515e6418\")) {                    Plotly.newPlot(                        \"d1eea663-f19c-4c91-8d84-7ca8515e6418\",                        [{\"hovertemplate\":\"data=%{x}\\u003cbr\\u003esigmoid=%{y}\\u003cextra\\u003e\\u003c\\u002fextra\\u003e\",\"legendgroup\":\"\",\"line\":{\"color\":\"#636efa\",\"dash\":\"solid\"},\"marker\":{\"symbol\":\"circle\"},\"mode\":\"lines\",\"name\":\"\",\"orientation\":\"v\",\"showlegend\":false,\"x\":[-2.4501183999408163,-2.0615223051014206,-2.0469415525677683,-2.0220467250418053,-1.9720460976793264,-1.9569169575073677,-1.9558617548217552,-1.8952090292945476,-1.858253494765793,-1.8439202561788075,-1.7923749972850862,-1.7635239558022897,-1.7273507079825037,-1.7183893336933174,-1.7117025521937468,-1.6422356482992393,-1.6188501807185212,-1.5886488077642915,-1.561347429659641,-1.5414535504250768,-1.5050469787025873,-1.5005851638117897,-1.4916385762410906,-1.4681922524359663,-1.4430833758815147,-1.4299136827472856,-1.4071642138444513,-1.3362118939230112,-1.3056559145279156,-1.2702125568096458,-1.217689992205175,-1.1748852851250875,-1.1578845173743966,-1.1324423341333019,-1.11280893656239,-1.0879597805304686,-1.0505415483711438,-1.0231820803496596,-1.0100426936431413,-0.9934444609722372,-0.9847043176466684,-0.9719961712057639,-0.9601951181949069,-0.9225439636004926,-0.8532681834687528,-0.8468574520660671,-0.8308313871452794,-0.820313720232503,-0.8031717973188822,-0.7974444342619774,-0.7010432651685365,-0.6961005776202039,-0.6885907599240463,-0.6669946525779185,-0.646325768642086,-0.6361408588983981,-0.6084741828815118,-0.6049797759264767,-0.5921723715348247,-0.5885578809171359,-0.5792725675486279,-0.5742555571385999,-0.5641210901878694,-0.5613153800149563,-0.5529972992504903,-0.5441480243417042,-0.5439928887718007,-0.5259019077245529,-0.5220742246017847,-0.5060722806438337,-0.4838263317413603,-0.450492655620644,-0.4473098395642803,-0.43259936383897385,-0.424971045693652,-0.3825365549433045,-0.3673426091864137,-0.35445997904731846,-0.3528582592099146,-0.3301851814475208,-0.3205290798595268,-0.3198106602071296,-0.2905650758113998,-0.28502879159738814,-0.231729422663015,-0.22468457698413402,-0.2205365636700521,-0.21951517072127946,-0.2078045084601896,-0.154140688486142,-0.1472932237187985,-0.1096010503782766,-0.1037189407652913,-0.06897669483998492,-0.06461760849085413,-0.04138031332011294,-0.021270745035885937,-0.009623559384955216,0.03820059063278862,0.0406070535237623,0.05832232907529926,0.06250376824632185,0.10284432957128302,0.1292240916896738,0.13171579311608655,0.1387672204002597,0.14817590767944713,0.15864262607520366,0.16512835604630405,0.16559129485478571,0.16897758728538714,0.18278098620043143,0.19191761556025552,0.22952206061996014,0.23049725181358438,0.26814481380101,0.28064650851998624,0.2899636716775976,0.29105285042469575,0.3217505142236713,0.3409349938151154,0.3419740921706542,0.3461938759958076,0.34830851487116676,0.3606234063187742,0.3657892358137291,0.38469479109204024,0.3847544155030206,0.3895874422959413,0.3899945185664725,0.39379277899234866,0.3948432279551597,0.3992383447912305,0.4032638634813341,0.40682428110121865,0.43222324827674546,0.43935534813194405,0.45544688380690945,0.4647643125401091,0.4935578526197315,0.5166598952293405,0.520276138132954,0.5580549800376525,0.5758960576022334,0.578583759193031,0.6219323250201603,0.6261484629338617,0.6311350997344702,0.6370484064904971,0.6451044577323045,0.6639780116818866,0.6645461831800962,0.6800779091617021,0.6901596018170454,0.6975891989893805,0.7076051596805981,0.7519861845504259,0.7682829634855936,0.7781924884746938,0.7865483162189361,0.8071020205911219,0.813997148867758,0.8169231580795546,0.8327891146762578,0.8377964062594518,0.8405515144566692,0.8683561603021986,0.8969315143287497,0.9118488544479985,0.9587285581939327,1.0079533033776686,1.0431745326697253,1.0794916794988576,1.0820067237497697,1.129348454951696,1.1357012315714765,1.1470998598696616,1.14732663849003,1.1586979343570878,1.1607717247758882,1.2752710443883888,1.2950313390400037,1.3382749318148603,1.356097930404764,1.3608558708950425,1.3873638557676804,1.4055908435520417,1.453337310627837,1.5079605872133997,1.5242963003697316,1.5488743529793587,1.616481282377694,1.629315404732797,1.6788165515811597,1.7211709221986515,1.9088660192077267,1.9616163614213242,2.1028505026767266,2.4069776167806234,2.453970661219094],\"xaxis\":\"x\",\"y\":[0.07942989125640847,0.11289328380144255,0.11436178535394771,0.1169075209337929,0.1221692855309346,0.12380109099018433,0.12391559889331848,0.13065167926536864,0.13490675126014623,0.1365883101417741,0.14278178864225463,0.14634953835020242,0.15092676701839283,0.15207874399503354,0.1529430173048126,0.16216108705485402,0.1653635053712896,0.16957408514602584,0.17345338465004753,0.17632407066257336,0.1816739909849502,0.1823382649180268,0.18367591346249215,0.18721753820375198,0.1910683242116478,0.19311213381723152,0.19668171961006714,0.2081337014580642,0.21321467471613967,0.2192208680385404,0.2283432245007675,0.2359730814964041,0.2390518918607687,0.24371065847255075,0.24734758691168535,0.25200265967515945,0.25912112222664807,0.2644080334805535,0.26697149562956296,0.2702322692135218,0.27195934214052764,0.27448280179615603,0.27683913066309473,0.2844398278728901,0.2987477311625164,0.3000924938929597,0.3034693064391383,0.3056970698524391,0.30934744981660933,0.3105724443943012,0.3315809631134221,0.3326773462507085,0.33434663900713574,0.339170114645274,0.34381799396458856,0.3461194237296289,0.35240733594958734,0.3532052276440805,0.3561365667852391,0.35696581175597364,0.35909999303333323,0.3602554582425883,0.3625944562227811,0.36324316082576963,0.365169292642163,0.3672231747665973,0.36725922441028697,0.371473209111205,0.3723673386580676,0.37611472502920856,0.38134900070691125,0.38924363914942905,0.3900005658403936,0.39350579860781665,0.3953278366106403,0.40551525682488093,0.40918329659680075,0.41230130722180575,0.412689472698766,0.418195566341695,0.42054681244941383,0.4207218921026015,0.42786553278555167,0.42922133442673527,0.4423254999484211,0.4440639769271138,0.4450882379750216,0.4453405205321228,0.448235018320624,0.46154094459460443,0.4632431243215669,0.4726271330511056,0.4740934850132108,0.4827626600437698,0.4838512165030532,0.4896563975998606,0.49468251422849113,0.4975941287216246,0.5095489864619472,0.5101503686462912,0.5145764506938296,0.5156208568651574,0.5256884442542462,0.5322611417054982,0.5328814235635793,0.5346362423207988,0.5369763469676907,0.5395776854223197,0.5411885395747656,0.5413034867093066,0.542144164491211,0.5455684511911391,0.5478326780248441,0.5571299328881204,0.5573705344053965,0.5666374028926483,0.5697047169844452,0.5719872391334515,0.5722538685868936,0.5797508065397727,0.5844176262181685,0.5846699736852579,0.5856943004918873,0.5862073381723468,0.5891913347679302,0.5904411188675791,0.5950049285684682,0.5950192964236761,0.5961833804847114,0.5962813797525618,0.5971953992321428,0.5974480621187924,0.5985046505167485,0.5994715851859023,0.6003261571377251,0.6064044344393542,0.6081054123952184,0.6119334962050261,0.6141437931407391,0.6209442126142233,0.6263664069996583,0.6272123343768468,0.636002380861191,0.6401225435573382,0.6407414642797388,0.650657898064407,0.6516156257161988,0.6527467980411973,0.6540859444440636,0.655906416990473,0.6601534266426125,0.6602808848167535,0.6637560857001987,0.666002430030207,0.6676530499958164,0.6698717718607935,0.6796113247397592,0.6831493472699789,0.685290423139535,0.6870897070588828,0.6914916188937396,0.6929606178012272,0.6935828219191299,0.6969443502736727,0.6980009108217441,0.6985813586060385,0.7044035340654803,0.7103185199393074,0.7133783465197672,0.7228671690900208,0.7326194164363639,0.739462069701007,0.7463977763495115,0.7468735492993359,0.7557186387220786,0.7568895059283768,0.7589807959030862,0.7590222778409262,0.7610960422293193,0.7614729129753496,0.7816437284254646,0.784997577965091,0.792206111468114,0.7951247772275508,0.7958987639505837,0.8001710642416535,0.8030695723576577,0.8105115180375982,0.8187587692918932,0.8211702616417148,0.824751093970153,0.8343092837974485,0.8360758345043454,0.8427477594364655,0.8482795970428396,0.8708916974092205,0.876707773376575,0.8911799240141577,0.9173578364799957,0.9208513331346766],\"yaxis\":\"y\",\"type\":\"scatter\"}],                        {\"template\":{\"data\":{\"histogram2dcontour\":[{\"type\":\"histogram2dcontour\",\"colorbar\":{\"outlinewidth\":0,\"ticks\":\"\"},\"colorscale\":[[0.0,\"#0d0887\"],[0.1111111111111111,\"#46039f\"],[0.2222222222222222,\"#7201a8\"],[0.3333333333333333,\"#9c179e\"],[0.4444444444444444,\"#bd3786\"],[0.5555555555555556,\"#d8576b\"],[0.6666666666666666,\"#ed7953\"],[0.7777777777777778,\"#fb9f3a\"],[0.8888888888888888,\"#fdca26\"],[1.0,\"#f0f921\"]]}],\"choropleth\":[{\"type\":\"choropleth\",\"colorbar\":{\"outlinewidth\":0,\"ticks\":\"\"}}],\"histogram2d\":[{\"type\":\"histogram2d\",\"colorbar\":{\"outlinewidth\":0,\"ticks\":\"\"},\"colorscale\":[[0.0,\"#0d0887\"],[0.1111111111111111,\"#46039f\"],[0.2222222222222222,\"#7201a8\"],[0.3333333333333333,\"#9c179e\"],[0.4444444444444444,\"#bd3786\"],[0.5555555555555556,\"#d8576b\"],[0.6666666666666666,\"#ed7953\"],[0.7777777777777778,\"#fb9f3a\"],[0.8888888888888888,\"#fdca26\"],[1.0,\"#f0f921\"]]}],\"heatmap\":[{\"type\":\"heatmap\",\"colorbar\":{\"outlinewidth\":0,\"ticks\":\"\"},\"colorscale\":[[0.0,\"#0d0887\"],[0.1111111111111111,\"#46039f\"],[0.2222222222222222,\"#7201a8\"],[0.3333333333333333,\"#9c179e\"],[0.4444444444444444,\"#bd3786\"],[0.5555555555555556,\"#d8576b\"],[0.6666666666666666,\"#ed7953\"],[0.7777777777777778,\"#fb9f3a\"],[0.8888888888888888,\"#fdca26\"],[1.0,\"#f0f921\"]]}],\"heatmapgl\":[{\"type\":\"heatmapgl\",\"colorbar\":{\"outlinewidth\":0,\"ticks\":\"\"},\"colorscale\":[[0.0,\"#0d0887\"],[0.1111111111111111,\"#46039f\"],[0.2222222222222222,\"#7201a8\"],[0.3333333333333333,\"#9c179e\"],[0.4444444444444444,\"#bd3786\"],[0.5555555555555556,\"#d8576b\"],[0.6666666666666666,\"#ed7953\"],[0.7777777777777778,\"#fb9f3a\"],[0.8888888888888888,\"#fdca26\"],[1.0,\"#f0f921\"]]}],\"contourcarpet\":[{\"type\":\"contourcarpet\",\"colorbar\":{\"outlinewidth\":0,\"ticks\":\"\"}}],\"contour\":[{\"type\":\"contour\",\"colorbar\":{\"outlinewidth\":0,\"ticks\":\"\"},\"colorscale\":[[0.0,\"#0d0887\"],[0.1111111111111111,\"#46039f\"],[0.2222222222222222,\"#7201a8\"],[0.3333333333333333,\"#9c179e\"],[0.4444444444444444,\"#bd3786\"],[0.5555555555555556,\"#d8576b\"],[0.6666666666666666,\"#ed7953\"],[0.7777777777777778,\"#fb9f3a\"],[0.8888888888888888,\"#fdca26\"],[1.0,\"#f0f921\"]]}],\"surface\":[{\"type\":\"surface\",\"colorbar\":{\"outlinewidth\":0,\"ticks\":\"\"},\"colorscale\":[[0.0,\"#0d0887\"],[0.1111111111111111,\"#46039f\"],[0.2222222222222222,\"#7201a8\"],[0.3333333333333333,\"#9c179e\"],[0.4444444444444444,\"#bd3786\"],[0.5555555555555556,\"#d8576b\"],[0.6666666666666666,\"#ed7953\"],[0.7777777777777778,\"#fb9f3a\"],[0.8888888888888888,\"#fdca26\"],[1.0,\"#f0f921\"]]}],\"mesh3d\":[{\"type\":\"mesh3d\",\"colorbar\":{\"outlinewidth\":0,\"ticks\":\"\"}}],\"scatter\":[{\"fillpattern\":{\"fillmode\":\"overlay\",\"size\":10,\"solidity\":0.2},\"type\":\"scatter\"}],\"parcoords\":[{\"type\":\"parcoords\",\"line\":{\"colorbar\":{\"outlinewidth\":0,\"ticks\":\"\"}}}],\"scatterpolargl\":[{\"type\":\"scatterpolargl\",\"marker\":{\"colorbar\":{\"outlinewidth\":0,\"ticks\":\"\"}}}],\"bar\":[{\"error_x\":{\"color\":\"#2a3f5f\"},\"error_y\":{\"color\":\"#2a3f5f\"},\"marker\":{\"line\":{\"color\":\"#E5ECF6\",\"width\":0.5},\"pattern\":{\"fillmode\":\"overlay\",\"size\":10,\"solidity\":0.2}},\"type\":\"bar\"}],\"scattergeo\":[{\"type\":\"scattergeo\",\"marker\":{\"colorbar\":{\"outlinewidth\":0,\"ticks\":\"\"}}}],\"scatterpolar\":[{\"type\":\"scatterpolar\",\"marker\":{\"colorbar\":{\"outlinewidth\":0,\"ticks\":\"\"}}}],\"histogram\":[{\"marker\":{\"pattern\":{\"fillmode\":\"overlay\",\"size\":10,\"solidity\":0.2}},\"type\":\"histogram\"}],\"scattergl\":[{\"type\":\"scattergl\",\"marker\":{\"colorbar\":{\"outlinewidth\":0,\"ticks\":\"\"}}}],\"scatter3d\":[{\"type\":\"scatter3d\",\"line\":{\"colorbar\":{\"outlinewidth\":0,\"ticks\":\"\"}},\"marker\":{\"colorbar\":{\"outlinewidth\":0,\"ticks\":\"\"}}}],\"scattermapbox\":[{\"type\":\"scattermapbox\",\"marker\":{\"colorbar\":{\"outlinewidth\":0,\"ticks\":\"\"}}}],\"scatterternary\":[{\"type\":\"scatterternary\",\"marker\":{\"colorbar\":{\"outlinewidth\":0,\"ticks\":\"\"}}}],\"scattercarpet\":[{\"type\":\"scattercarpet\",\"marker\":{\"colorbar\":{\"outlinewidth\":0,\"ticks\":\"\"}}}],\"carpet\":[{\"aaxis\":{\"endlinecolor\":\"#2a3f5f\",\"gridcolor\":\"white\",\"linecolor\":\"white\",\"minorgridcolor\":\"white\",\"startlinecolor\":\"#2a3f5f\"},\"baxis\":{\"endlinecolor\":\"#2a3f5f\",\"gridcolor\":\"white\",\"linecolor\":\"white\",\"minorgridcolor\":\"white\",\"startlinecolor\":\"#2a3f5f\"},\"type\":\"carpet\"}],\"table\":[{\"cells\":{\"fill\":{\"color\":\"#EBF0F8\"},\"line\":{\"color\":\"white\"}},\"header\":{\"fill\":{\"color\":\"#C8D4E3\"},\"line\":{\"color\":\"white\"}},\"type\":\"table\"}],\"barpolar\":[{\"marker\":{\"line\":{\"color\":\"#E5ECF6\",\"width\":0.5},\"pattern\":{\"fillmode\":\"overlay\",\"size\":10,\"solidity\":0.2}},\"type\":\"barpolar\"}],\"pie\":[{\"automargin\":true,\"type\":\"pie\"}]},\"layout\":{\"autotypenumbers\":\"strict\",\"colorway\":[\"#636efa\",\"#EF553B\",\"#00cc96\",\"#ab63fa\",\"#FFA15A\",\"#19d3f3\",\"#FF6692\",\"#B6E880\",\"#FF97FF\",\"#FECB52\"],\"font\":{\"color\":\"#2a3f5f\"},\"hovermode\":\"closest\",\"hoverlabel\":{\"align\":\"left\"},\"paper_bgcolor\":\"white\",\"plot_bgcolor\":\"#E5ECF6\",\"polar\":{\"bgcolor\":\"#E5ECF6\",\"angularaxis\":{\"gridcolor\":\"white\",\"linecolor\":\"white\",\"ticks\":\"\"},\"radialaxis\":{\"gridcolor\":\"white\",\"linecolor\":\"white\",\"ticks\":\"\"}},\"ternary\":{\"bgcolor\":\"#E5ECF6\",\"aaxis\":{\"gridcolor\":\"white\",\"linecolor\":\"white\",\"ticks\":\"\"},\"baxis\":{\"gridcolor\":\"white\",\"linecolor\":\"white\",\"ticks\":\"\"},\"caxis\":{\"gridcolor\":\"white\",\"linecolor\":\"white\",\"ticks\":\"\"}},\"coloraxis\":{\"colorbar\":{\"outlinewidth\":0,\"ticks\":\"\"}},\"colorscale\":{\"sequential\":[[0.0,\"#0d0887\"],[0.1111111111111111,\"#46039f\"],[0.2222222222222222,\"#7201a8\"],[0.3333333333333333,\"#9c179e\"],[0.4444444444444444,\"#bd3786\"],[0.5555555555555556,\"#d8576b\"],[0.6666666666666666,\"#ed7953\"],[0.7777777777777778,\"#fb9f3a\"],[0.8888888888888888,\"#fdca26\"],[1.0,\"#f0f921\"]],\"sequentialminus\":[[0.0,\"#0d0887\"],[0.1111111111111111,\"#46039f\"],[0.2222222222222222,\"#7201a8\"],[0.3333333333333333,\"#9c179e\"],[0.4444444444444444,\"#bd3786\"],[0.5555555555555556,\"#d8576b\"],[0.6666666666666666,\"#ed7953\"],[0.7777777777777778,\"#fb9f3a\"],[0.8888888888888888,\"#fdca26\"],[1.0,\"#f0f921\"]],\"diverging\":[[0,\"#8e0152\"],[0.1,\"#c51b7d\"],[0.2,\"#de77ae\"],[0.3,\"#f1b6da\"],[0.4,\"#fde0ef\"],[0.5,\"#f7f7f7\"],[0.6,\"#e6f5d0\"],[0.7,\"#b8e186\"],[0.8,\"#7fbc41\"],[0.9,\"#4d9221\"],[1,\"#276419\"]]},\"xaxis\":{\"gridcolor\":\"white\",\"linecolor\":\"white\",\"ticks\":\"\",\"title\":{\"standoff\":15},\"zerolinecolor\":\"white\",\"automargin\":true,\"zerolinewidth\":2},\"yaxis\":{\"gridcolor\":\"white\",\"linecolor\":\"white\",\"ticks\":\"\",\"title\":{\"standoff\":15},\"zerolinecolor\":\"white\",\"automargin\":true,\"zerolinewidth\":2},\"scene\":{\"xaxis\":{\"backgroundcolor\":\"#E5ECF6\",\"gridcolor\":\"white\",\"linecolor\":\"white\",\"showbackground\":true,\"ticks\":\"\",\"zerolinecolor\":\"white\",\"gridwidth\":2},\"yaxis\":{\"backgroundcolor\":\"#E5ECF6\",\"gridcolor\":\"white\",\"linecolor\":\"white\",\"showbackground\":true,\"ticks\":\"\",\"zerolinecolor\":\"white\",\"gridwidth\":2},\"zaxis\":{\"backgroundcolor\":\"#E5ECF6\",\"gridcolor\":\"white\",\"linecolor\":\"white\",\"showbackground\":true,\"ticks\":\"\",\"zerolinecolor\":\"white\",\"gridwidth\":2}},\"shapedefaults\":{\"line\":{\"color\":\"#2a3f5f\"}},\"annotationdefaults\":{\"arrowcolor\":\"#2a3f5f\",\"arrowhead\":0,\"arrowwidth\":1},\"geo\":{\"bgcolor\":\"white\",\"landcolor\":\"#E5ECF6\",\"subunitcolor\":\"white\",\"showland\":true,\"showlakes\":true,\"lakecolor\":\"white\"},\"title\":{\"x\":0.05},\"mapbox\":{\"style\":\"light\"}}},\"xaxis\":{\"anchor\":\"y\",\"domain\":[0.0,1.0],\"title\":{\"text\":\"data\"}},\"yaxis\":{\"anchor\":\"x\",\"domain\":[0.0,1.0],\"title\":{\"text\":\"sigmoid\"},\"range\":[-0.5,1.5]},\"legend\":{\"tracegroupgap\":0},\"margin\":{\"t\":60},\"width\":800},                        {\"responsive\": true}                    ).then(function(){\n",
              "                            \n",
              "var gd = document.getElementById('d1eea663-f19c-4c91-8d84-7ca8515e6418');\n",
              "var x = new MutationObserver(function (mutations, observer) {{\n",
              "        var display = window.getComputedStyle(gd).display;\n",
              "        if (!display || display === 'none') {{\n",
              "            console.log([gd, 'removed!']);\n",
              "            Plotly.purge(gd);\n",
              "            observer.disconnect();\n",
              "        }}\n",
              "}});\n",
              "\n",
              "// Listen for the removal of the full notebook cells\n",
              "var notebookContainer = gd.closest('#notebook-container');\n",
              "if (notebookContainer) {{\n",
              "    x.observe(notebookContainer, {childList: true});\n",
              "}}\n",
              "\n",
              "// Listen for the clearing of the current output cell\n",
              "var outputEl = gd.closest('.output');\n",
              "if (outputEl) {{\n",
              "    x.observe(outputEl, {childList: true});\n",
              "}}\n",
              "\n",
              "                        })                };                            </script>        </div>\n",
              "</body>\n",
              "</html>"
            ]
          },
          "metadata": {}
        }
      ]
    },
    {
      "cell_type": "code",
      "metadata": {
        "id": "bX8_Bg2OfyLi",
        "colab": {
          "base_uri": "https://localhost:8080/",
          "height": 206
        },
        "outputId": "58b90c3d-03b8-425e-8d7b-aa47c3a1d9c3"
      },
      "source": [
        "from tensorflow.keras.activations import relu\n",
        "\n",
        "data = pd.DataFrame({'data': random_data, 'relu': relu(random_data)})\n",
        "data.head()"
      ],
      "execution_count": 10,
      "outputs": [
        {
          "output_type": "execute_result",
          "data": {
            "text/plain": [
              "       data  relu\n",
              "0 -2.450118   0.0\n",
              "1 -2.061522   0.0\n",
              "2 -2.046942   0.0\n",
              "3 -2.022047   0.0\n",
              "4 -1.972046   0.0"
            ],
            "text/html": [
              "\n",
              "  <div id=\"df-e978d357-a141-41fd-8f15-f796e611e739\" class=\"colab-df-container\">\n",
              "    <div>\n",
              "<style scoped>\n",
              "    .dataframe tbody tr th:only-of-type {\n",
              "        vertical-align: middle;\n",
              "    }\n",
              "\n",
              "    .dataframe tbody tr th {\n",
              "        vertical-align: top;\n",
              "    }\n",
              "\n",
              "    .dataframe thead th {\n",
              "        text-align: right;\n",
              "    }\n",
              "</style>\n",
              "<table border=\"1\" class=\"dataframe\">\n",
              "  <thead>\n",
              "    <tr style=\"text-align: right;\">\n",
              "      <th></th>\n",
              "      <th>data</th>\n",
              "      <th>relu</th>\n",
              "    </tr>\n",
              "  </thead>\n",
              "  <tbody>\n",
              "    <tr>\n",
              "      <th>0</th>\n",
              "      <td>-2.450118</td>\n",
              "      <td>0.0</td>\n",
              "    </tr>\n",
              "    <tr>\n",
              "      <th>1</th>\n",
              "      <td>-2.061522</td>\n",
              "      <td>0.0</td>\n",
              "    </tr>\n",
              "    <tr>\n",
              "      <th>2</th>\n",
              "      <td>-2.046942</td>\n",
              "      <td>0.0</td>\n",
              "    </tr>\n",
              "    <tr>\n",
              "      <th>3</th>\n",
              "      <td>-2.022047</td>\n",
              "      <td>0.0</td>\n",
              "    </tr>\n",
              "    <tr>\n",
              "      <th>4</th>\n",
              "      <td>-1.972046</td>\n",
              "      <td>0.0</td>\n",
              "    </tr>\n",
              "  </tbody>\n",
              "</table>\n",
              "</div>\n",
              "    <div class=\"colab-df-buttons\">\n",
              "\n",
              "  <div class=\"colab-df-container\">\n",
              "    <button class=\"colab-df-convert\" onclick=\"convertToInteractive('df-e978d357-a141-41fd-8f15-f796e611e739')\"\n",
              "            title=\"Convert this dataframe to an interactive table.\"\n",
              "            style=\"display:none;\">\n",
              "\n",
              "  <svg xmlns=\"http://www.w3.org/2000/svg\" height=\"24px\" viewBox=\"0 -960 960 960\">\n",
              "    <path d=\"M120-120v-720h720v720H120Zm60-500h600v-160H180v160Zm220 220h160v-160H400v160Zm0 220h160v-160H400v160ZM180-400h160v-160H180v160Zm440 0h160v-160H620v160ZM180-180h160v-160H180v160Zm440 0h160v-160H620v160Z\"/>\n",
              "  </svg>\n",
              "    </button>\n",
              "\n",
              "  <style>\n",
              "    .colab-df-container {\n",
              "      display:flex;\n",
              "      gap: 12px;\n",
              "    }\n",
              "\n",
              "    .colab-df-convert {\n",
              "      background-color: #E8F0FE;\n",
              "      border: none;\n",
              "      border-radius: 50%;\n",
              "      cursor: pointer;\n",
              "      display: none;\n",
              "      fill: #1967D2;\n",
              "      height: 32px;\n",
              "      padding: 0 0 0 0;\n",
              "      width: 32px;\n",
              "    }\n",
              "\n",
              "    .colab-df-convert:hover {\n",
              "      background-color: #E2EBFA;\n",
              "      box-shadow: 0px 1px 2px rgba(60, 64, 67, 0.3), 0px 1px 3px 1px rgba(60, 64, 67, 0.15);\n",
              "      fill: #174EA6;\n",
              "    }\n",
              "\n",
              "    .colab-df-buttons div {\n",
              "      margin-bottom: 4px;\n",
              "    }\n",
              "\n",
              "    [theme=dark] .colab-df-convert {\n",
              "      background-color: #3B4455;\n",
              "      fill: #D2E3FC;\n",
              "    }\n",
              "\n",
              "    [theme=dark] .colab-df-convert:hover {\n",
              "      background-color: #434B5C;\n",
              "      box-shadow: 0px 1px 3px 1px rgba(0, 0, 0, 0.15);\n",
              "      filter: drop-shadow(0px 1px 2px rgba(0, 0, 0, 0.3));\n",
              "      fill: #FFFFFF;\n",
              "    }\n",
              "  </style>\n",
              "\n",
              "    <script>\n",
              "      const buttonEl =\n",
              "        document.querySelector('#df-e978d357-a141-41fd-8f15-f796e611e739 button.colab-df-convert');\n",
              "      buttonEl.style.display =\n",
              "        google.colab.kernel.accessAllowed ? 'block' : 'none';\n",
              "\n",
              "      async function convertToInteractive(key) {\n",
              "        const element = document.querySelector('#df-e978d357-a141-41fd-8f15-f796e611e739');\n",
              "        const dataTable =\n",
              "          await google.colab.kernel.invokeFunction('convertToInteractive',\n",
              "                                                    [key], {});\n",
              "        if (!dataTable) return;\n",
              "\n",
              "        const docLinkHtml = 'Like what you see? Visit the ' +\n",
              "          '<a target=\"_blank\" href=https://colab.research.google.com/notebooks/data_table.ipynb>data table notebook</a>'\n",
              "          + ' to learn more about interactive tables.';\n",
              "        element.innerHTML = '';\n",
              "        dataTable['output_type'] = 'display_data';\n",
              "        await google.colab.output.renderOutput(dataTable, element);\n",
              "        const docLink = document.createElement('div');\n",
              "        docLink.innerHTML = docLinkHtml;\n",
              "        element.appendChild(docLink);\n",
              "      }\n",
              "    </script>\n",
              "  </div>\n",
              "\n",
              "\n",
              "<div id=\"df-11982ccb-f51f-46f8-900d-02c926cf52c7\">\n",
              "  <button class=\"colab-df-quickchart\" onclick=\"quickchart('df-11982ccb-f51f-46f8-900d-02c926cf52c7')\"\n",
              "            title=\"Suggest charts\"\n",
              "            style=\"display:none;\">\n",
              "\n",
              "<svg xmlns=\"http://www.w3.org/2000/svg\" height=\"24px\"viewBox=\"0 0 24 24\"\n",
              "     width=\"24px\">\n",
              "    <g>\n",
              "        <path d=\"M19 3H5c-1.1 0-2 .9-2 2v14c0 1.1.9 2 2 2h14c1.1 0 2-.9 2-2V5c0-1.1-.9-2-2-2zM9 17H7v-7h2v7zm4 0h-2V7h2v10zm4 0h-2v-4h2v4z\"/>\n",
              "    </g>\n",
              "</svg>\n",
              "  </button>\n",
              "\n",
              "<style>\n",
              "  .colab-df-quickchart {\n",
              "      --bg-color: #E8F0FE;\n",
              "      --fill-color: #1967D2;\n",
              "      --hover-bg-color: #E2EBFA;\n",
              "      --hover-fill-color: #174EA6;\n",
              "      --disabled-fill-color: #AAA;\n",
              "      --disabled-bg-color: #DDD;\n",
              "  }\n",
              "\n",
              "  [theme=dark] .colab-df-quickchart {\n",
              "      --bg-color: #3B4455;\n",
              "      --fill-color: #D2E3FC;\n",
              "      --hover-bg-color: #434B5C;\n",
              "      --hover-fill-color: #FFFFFF;\n",
              "      --disabled-bg-color: #3B4455;\n",
              "      --disabled-fill-color: #666;\n",
              "  }\n",
              "\n",
              "  .colab-df-quickchart {\n",
              "    background-color: var(--bg-color);\n",
              "    border: none;\n",
              "    border-radius: 50%;\n",
              "    cursor: pointer;\n",
              "    display: none;\n",
              "    fill: var(--fill-color);\n",
              "    height: 32px;\n",
              "    padding: 0;\n",
              "    width: 32px;\n",
              "  }\n",
              "\n",
              "  .colab-df-quickchart:hover {\n",
              "    background-color: var(--hover-bg-color);\n",
              "    box-shadow: 0 1px 2px rgba(60, 64, 67, 0.3), 0 1px 3px 1px rgba(60, 64, 67, 0.15);\n",
              "    fill: var(--button-hover-fill-color);\n",
              "  }\n",
              "\n",
              "  .colab-df-quickchart-complete:disabled,\n",
              "  .colab-df-quickchart-complete:disabled:hover {\n",
              "    background-color: var(--disabled-bg-color);\n",
              "    fill: var(--disabled-fill-color);\n",
              "    box-shadow: none;\n",
              "  }\n",
              "\n",
              "  .colab-df-spinner {\n",
              "    border: 2px solid var(--fill-color);\n",
              "    border-color: transparent;\n",
              "    border-bottom-color: var(--fill-color);\n",
              "    animation:\n",
              "      spin 1s steps(1) infinite;\n",
              "  }\n",
              "\n",
              "  @keyframes spin {\n",
              "    0% {\n",
              "      border-color: transparent;\n",
              "      border-bottom-color: var(--fill-color);\n",
              "      border-left-color: var(--fill-color);\n",
              "    }\n",
              "    20% {\n",
              "      border-color: transparent;\n",
              "      border-left-color: var(--fill-color);\n",
              "      border-top-color: var(--fill-color);\n",
              "    }\n",
              "    30% {\n",
              "      border-color: transparent;\n",
              "      border-left-color: var(--fill-color);\n",
              "      border-top-color: var(--fill-color);\n",
              "      border-right-color: var(--fill-color);\n",
              "    }\n",
              "    40% {\n",
              "      border-color: transparent;\n",
              "      border-right-color: var(--fill-color);\n",
              "      border-top-color: var(--fill-color);\n",
              "    }\n",
              "    60% {\n",
              "      border-color: transparent;\n",
              "      border-right-color: var(--fill-color);\n",
              "    }\n",
              "    80% {\n",
              "      border-color: transparent;\n",
              "      border-right-color: var(--fill-color);\n",
              "      border-bottom-color: var(--fill-color);\n",
              "    }\n",
              "    90% {\n",
              "      border-color: transparent;\n",
              "      border-bottom-color: var(--fill-color);\n",
              "    }\n",
              "  }\n",
              "</style>\n",
              "\n",
              "  <script>\n",
              "    async function quickchart(key) {\n",
              "      const quickchartButtonEl =\n",
              "        document.querySelector('#' + key + ' button');\n",
              "      quickchartButtonEl.disabled = true;  // To prevent multiple clicks.\n",
              "      quickchartButtonEl.classList.add('colab-df-spinner');\n",
              "      try {\n",
              "        const charts = await google.colab.kernel.invokeFunction(\n",
              "            'suggestCharts', [key], {});\n",
              "      } catch (error) {\n",
              "        console.error('Error during call to suggestCharts:', error);\n",
              "      }\n",
              "      quickchartButtonEl.classList.remove('colab-df-spinner');\n",
              "      quickchartButtonEl.classList.add('colab-df-quickchart-complete');\n",
              "    }\n",
              "    (() => {\n",
              "      let quickchartButtonEl =\n",
              "        document.querySelector('#df-11982ccb-f51f-46f8-900d-02c926cf52c7 button');\n",
              "      quickchartButtonEl.style.display =\n",
              "        google.colab.kernel.accessAllowed ? 'block' : 'none';\n",
              "    })();\n",
              "  </script>\n",
              "</div>\n",
              "    </div>\n",
              "  </div>\n"
            ],
            "application/vnd.google.colaboratory.intrinsic+json": {
              "type": "dataframe",
              "variable_name": "data",
              "summary": "{\n  \"name\": \"data\",\n  \"rows\": 200,\n  \"fields\": [\n    {\n      \"column\": \"data\",\n      \"properties\": {\n        \"dtype\": \"number\",\n        \"std\": 1.017560686907229,\n        \"min\": -2.4501183999408163,\n        \"max\": 2.453970661219094,\n        \"num_unique_values\": 200,\n        \"samples\": [\n          -0.04138031332011294,\n          -1.6422356482992393,\n          -1.217689992205175\n        ],\n        \"semantic_type\": \"\",\n        \"description\": \"\"\n      }\n    },\n    {\n      \"column\": \"relu\",\n      \"properties\": {\n        \"dtype\": \"number\",\n        \"std\": 0.5444906422852922,\n        \"min\": 0.0,\n        \"max\": 2.453970661219094,\n        \"num_unique_values\": 103,\n        \"samples\": [\n          0.3847544155030206,\n          0.8377964062594518,\n          0.7865483162189361\n        ],\n        \"semantic_type\": \"\",\n        \"description\": \"\"\n      }\n    }\n  ]\n}"
            }
          },
          "metadata": {},
          "execution_count": 10
        }
      ]
    },
    {
      "cell_type": "code",
      "metadata": {
        "id": "vXV-1MECgWyz",
        "colab": {
          "base_uri": "https://localhost:8080/",
          "height": 617
        },
        "outputId": "49423d78-b042-4181-a4cd-57819a595eb3"
      },
      "source": [
        "px.line(data, x='data', y='relu', width=800, range_y=[-0.5, 1.5])"
      ],
      "execution_count": null,
      "outputs": [
        {
          "output_type": "display_data",
          "data": {
            "text/html": [
              "<html>\n",
              "<head><meta charset=\"utf-8\" /></head>\n",
              "<body>\n",
              "    <div>\n",
              "            <script src=\"https://cdnjs.cloudflare.com/ajax/libs/mathjax/2.7.5/MathJax.js?config=TeX-AMS-MML_SVG\"></script><script type=\"text/javascript\">if (window.MathJax) {MathJax.Hub.Config({SVG: {font: \"STIX-Web\"}});}</script>\n",
              "                <script type=\"text/javascript\">window.PlotlyConfig = {MathJaxConfig: 'local'};</script>\n",
              "        <script src=\"https://cdn.plot.ly/plotly-latest.min.js\"></script>    \n",
              "            <div id=\"9d7037d1-ac89-4ebf-9483-d660eb3424af\" class=\"plotly-graph-div\" style=\"height:600px; width:800px;\"></div>\n",
              "            <script type=\"text/javascript\">\n",
              "                \n",
              "                    window.PLOTLYENV=window.PLOTLYENV || {};\n",
              "                    \n",
              "                if (document.getElementById(\"9d7037d1-ac89-4ebf-9483-d660eb3424af\")) {\n",
              "                    Plotly.newPlot(\n",
              "                        '9d7037d1-ac89-4ebf-9483-d660eb3424af',\n",
              "                        [{\"hoverlabel\": {\"namelength\": 0}, \"hovertemplate\": \"data=%{x}<br>relu=%{y}\", \"legendgroup\": \"\", \"line\": {\"color\": \"#636efa\", \"dash\": \"solid\"}, \"mode\": \"lines\", \"name\": \"\", \"showlegend\": false, \"type\": \"scatter\", \"x\": [-3.0435191199059957, -1.9952818302198947, -1.9918326792258547, -1.8359472549464364, -1.792002826837538, -1.7877132674996852, -1.740230714760508, -1.6950982287851586, -1.6372981924936003, -1.630978293846893, -1.6141641497775638, -1.5871725732684445, -1.5799793960278334, -1.5224252294698066, -1.3796807660995987, -1.359595479720338, -1.3546084777523673, -1.3442993088777415, -1.295077883421713, -1.2563577800903734, -1.246906743170718, -1.212064966444653, -1.211241463163301, -1.1762679619769099, -1.1498398329411155, -1.1353885303379863, -1.135034190001952, -1.1279966159083925, -1.1216302341246789, -1.1141401260698869, -1.0952647162199414, -1.080894989123976, -1.0737746243144035, -1.0441010846109684, -1.0232620922703308, -1.0220667098349845, -1.0211006202176935, -1.013571742698013, -0.994818576244338, -0.9621910007057747, -0.9615817668902563, -0.9422323338294261, -0.9418321987694693, -0.9362007553168036, -0.911394907744734, -0.908632484487046, -0.8135345104586816, -0.7952921554718282, -0.7875071948555138, -0.7664783751390059, -0.7397119591782629, -0.7364120811974398, -0.7321890842637545, -0.7021169277475598, -0.6886988602491702, -0.6832724517221502, -0.65747170887838, -0.6455127644908102, -0.6335341990260613, -0.6189237447372379, -0.5822413783330772, -0.5778725903317659, -0.5682347241756613, -0.5493316022214874, -0.5035246395668741, -0.4891812761373528, -0.4848225510775056, -0.4790663849200235, -0.4679263553368912, -0.4370085222512733, -0.4308058419837109, -0.42943434500368866, -0.4265078572816096, -0.3795920063728857, -0.37606932160487133, -0.36878345858480427, -0.3501975465130895, -0.35010835873307145, -0.34277674701169863, -0.3113534349186931, -0.3067601350054569, -0.28783032776957096, -0.2765569032048219, -0.26903955382300365, -0.26272813581990057, -0.24237281446683465, -0.2321722888091089, -0.2295479011211164, -0.22500537497342685, -0.21764833751798304, -0.21029685480462373, -0.20373199145956952, -0.16548978129927283, -0.16313772424422124, -0.158246838343909, -0.15276625185145135, -0.1337386169861309, -0.1226156714031317, -0.10556298303016894, -0.0974501395574197, -0.08645248038571077, -0.059379984975747986, -0.049801687083584824, -0.042176871287953735, -0.026599948834462657, -0.007165787526632427, 0.0007672758617200109, 0.006578959672962298, 0.01094340742927777, 0.03183844690571418, 0.03326817137732086, 0.05071382532667992, 0.05998749776498214, 0.0671261446175394, 0.08522356928137241, 0.09461324768059227, 0.09861845749512747, 0.11128400988426819, 0.11370164903992123, 0.13347338042698476, 0.13376629459384645, 0.13876039248700994, 0.16047709578159264, 0.17340278586566485, 0.1736246538737538, 0.21009264957262144, 0.22149983395659148, 0.22874293934264736, 0.2340939640690656, 0.23633939049230981, 0.2637853450739976, 0.2959951510282409, 0.33366059672071324, 0.3740932709481722, 0.3970962938034953, 0.40617396546701706, 0.4094741298434088, 0.4119867031743685, 0.41883745647559467, 0.4547172430504842, 0.45583124281116877, 0.4963020922139201, 0.49946628520168956, 0.504082078630525, 0.516773321840809, 0.5420979126375498, 0.5486293599832807, 0.5504121570610538, 0.5722943780045, 0.6229171919343567, 0.6283165469666677, 0.6643690300109765, 0.6776450475987279, 0.6865530866279809, 0.7024151693768523, 0.718088210815446, 0.769106485642448, 0.7698301270210247, 0.7786231241013963, 0.8160912766862329, 0.8402039888304252, 0.8444778631106494, 0.8580665414866595, 0.8700203813584376, 0.8898619871926522, 0.9334705119995926, 0.9377480848618199, 0.9540375116599205, 0.9769099255786828, 0.9769514833695591, 0.9820072731987705, 1.0135970936222638, 1.0278055944687319, 1.0504507323085799, 1.0600379805549256, 1.06012678551962, 1.0689525522050176, 1.0926665115224163, 1.1356611535917829, 1.2333911727837128, 1.2337037309866545, 1.2599195445327716, 1.2622002081382504, 1.2906099738518968, 1.2960984233770954, 1.3076342138139525, 1.3303100921339845, 1.3518695103364418, 1.433619064857817, 1.4648340093593217, 1.4681138871119197, 1.510985157032359, 1.610957502572995, 1.6425475999138108, 1.9271145168077553, 1.9739083323865236, 1.9949491064719165, 2.182830033995147, 2.25042709608857, 2.74685163113009], \"xaxis\": \"x\", \"y\": [0.0, 0.0, 0.0, 0.0, 0.0, 0.0, 0.0, 0.0, 0.0, 0.0, 0.0, 0.0, 0.0, 0.0, 0.0, 0.0, 0.0, 0.0, 0.0, 0.0, 0.0, 0.0, 0.0, 0.0, 0.0, 0.0, 0.0, 0.0, 0.0, 0.0, 0.0, 0.0, 0.0, 0.0, 0.0, 0.0, 0.0, 0.0, 0.0, 0.0, 0.0, 0.0, 0.0, 0.0, 0.0, 0.0, 0.0, 0.0, 0.0, 0.0, 0.0, 0.0, 0.0, 0.0, 0.0, 0.0, 0.0, 0.0, 0.0, 0.0, 0.0, 0.0, 0.0, 0.0, 0.0, 0.0, 0.0, 0.0, 0.0, 0.0, 0.0, 0.0, 0.0, 0.0, 0.0, 0.0, 0.0, 0.0, 0.0, 0.0, 0.0, 0.0, 0.0, 0.0, 0.0, 0.0, 0.0, 0.0, 0.0, 0.0, 0.0, 0.0, 0.0, 0.0, 0.0, 0.0, 0.0, 0.0, 0.0, 0.0, 0.0, 0.0, 0.0, 0.0, 0.0, 0.0, 0.0007672758617200109, 0.006578959672962298, 0.01094340742927777, 0.03183844690571418, 0.03326817137732086, 0.05071382532667992, 0.05998749776498214, 0.0671261446175394, 0.08522356928137241, 0.09461324768059227, 0.09861845749512747, 0.11128400988426819, 0.11370164903992123, 0.13347338042698476, 0.13376629459384645, 0.13876039248700994, 0.16047709578159264, 0.17340278586566485, 0.1736246538737538, 0.21009264957262144, 0.22149983395659148, 0.22874293934264736, 0.2340939640690656, 0.23633939049230981, 0.2637853450739976, 0.2959951510282409, 0.33366059672071324, 0.3740932709481722, 0.3970962938034953, 0.40617396546701706, 0.4094741298434088, 0.4119867031743685, 0.41883745647559467, 0.4547172430504842, 0.45583124281116877, 0.4963020922139201, 0.49946628520168956, 0.504082078630525, 0.516773321840809, 0.5420979126375498, 0.5486293599832807, 0.5504121570610538, 0.5722943780045, 0.6229171919343567, 0.6283165469666677, 0.6643690300109765, 0.6776450475987279, 0.6865530866279809, 0.7024151693768523, 0.718088210815446, 0.769106485642448, 0.7698301270210247, 0.7786231241013963, 0.8160912766862329, 0.8402039888304252, 0.8444778631106494, 0.8580665414866595, 0.8700203813584376, 0.8898619871926522, 0.9334705119995926, 0.9377480848618199, 0.9540375116599205, 0.9769099255786828, 0.9769514833695591, 0.9820072731987705, 1.0135970936222638, 1.0278055944687319, 1.0504507323085799, 1.0600379805549256, 1.06012678551962, 1.0689525522050176, 1.0926665115224163, 1.1356611535917829, 1.2333911727837128, 1.2337037309866545, 1.2599195445327716, 1.2622002081382504, 1.2906099738518968, 1.2960984233770954, 1.3076342138139525, 1.3303100921339845, 1.3518695103364418, 1.433619064857817, 1.4648340093593217, 1.4681138871119197, 1.510985157032359, 1.610957502572995, 1.6425475999138108, 1.9271145168077553, 1.9739083323865236, 1.9949491064719165, 2.182830033995147, 2.25042709608857, 2.74685163113009], \"yaxis\": \"y\"}],\n",
              "                        {\"height\": 600, \"legend\": {\"tracegroupgap\": 0}, \"margin\": {\"t\": 60}, \"template\": {\"data\": {\"bar\": [{\"error_x\": {\"color\": \"#2a3f5f\"}, \"error_y\": {\"color\": \"#2a3f5f\"}, \"marker\": {\"line\": {\"color\": \"#E5ECF6\", \"width\": 0.5}}, \"type\": \"bar\"}], \"barpolar\": [{\"marker\": {\"line\": {\"color\": \"#E5ECF6\", \"width\": 0.5}}, \"type\": \"barpolar\"}], \"carpet\": [{\"aaxis\": {\"endlinecolor\": \"#2a3f5f\", \"gridcolor\": \"white\", \"linecolor\": \"white\", \"minorgridcolor\": \"white\", \"startlinecolor\": \"#2a3f5f\"}, \"baxis\": {\"endlinecolor\": \"#2a3f5f\", \"gridcolor\": \"white\", \"linecolor\": \"white\", \"minorgridcolor\": \"white\", \"startlinecolor\": \"#2a3f5f\"}, \"type\": \"carpet\"}], \"choropleth\": [{\"colorbar\": {\"outlinewidth\": 0, \"ticks\": \"\"}, \"type\": \"choropleth\"}], \"contour\": [{\"colorbar\": {\"outlinewidth\": 0, \"ticks\": \"\"}, \"colorscale\": [[0.0, \"#0d0887\"], [0.1111111111111111, \"#46039f\"], [0.2222222222222222, \"#7201a8\"], [0.3333333333333333, \"#9c179e\"], [0.4444444444444444, \"#bd3786\"], [0.5555555555555556, \"#d8576b\"], [0.6666666666666666, \"#ed7953\"], [0.7777777777777778, \"#fb9f3a\"], [0.8888888888888888, \"#fdca26\"], [1.0, \"#f0f921\"]], \"type\": \"contour\"}], \"contourcarpet\": [{\"colorbar\": {\"outlinewidth\": 0, \"ticks\": \"\"}, \"type\": \"contourcarpet\"}], \"heatmap\": [{\"colorbar\": {\"outlinewidth\": 0, \"ticks\": \"\"}, \"colorscale\": [[0.0, \"#0d0887\"], [0.1111111111111111, \"#46039f\"], [0.2222222222222222, \"#7201a8\"], [0.3333333333333333, \"#9c179e\"], [0.4444444444444444, \"#bd3786\"], [0.5555555555555556, \"#d8576b\"], [0.6666666666666666, \"#ed7953\"], [0.7777777777777778, \"#fb9f3a\"], [0.8888888888888888, \"#fdca26\"], [1.0, \"#f0f921\"]], \"type\": \"heatmap\"}], \"heatmapgl\": [{\"colorbar\": {\"outlinewidth\": 0, \"ticks\": \"\"}, \"colorscale\": [[0.0, \"#0d0887\"], [0.1111111111111111, \"#46039f\"], [0.2222222222222222, \"#7201a8\"], [0.3333333333333333, \"#9c179e\"], [0.4444444444444444, \"#bd3786\"], [0.5555555555555556, \"#d8576b\"], [0.6666666666666666, \"#ed7953\"], [0.7777777777777778, \"#fb9f3a\"], [0.8888888888888888, \"#fdca26\"], [1.0, \"#f0f921\"]], \"type\": \"heatmapgl\"}], \"histogram\": [{\"marker\": {\"colorbar\": {\"outlinewidth\": 0, \"ticks\": \"\"}}, \"type\": \"histogram\"}], \"histogram2d\": [{\"colorbar\": {\"outlinewidth\": 0, \"ticks\": \"\"}, \"colorscale\": [[0.0, \"#0d0887\"], [0.1111111111111111, \"#46039f\"], [0.2222222222222222, \"#7201a8\"], [0.3333333333333333, \"#9c179e\"], [0.4444444444444444, \"#bd3786\"], [0.5555555555555556, \"#d8576b\"], [0.6666666666666666, \"#ed7953\"], [0.7777777777777778, \"#fb9f3a\"], [0.8888888888888888, \"#fdca26\"], [1.0, \"#f0f921\"]], \"type\": \"histogram2d\"}], \"histogram2dcontour\": [{\"colorbar\": {\"outlinewidth\": 0, \"ticks\": \"\"}, \"colorscale\": [[0.0, \"#0d0887\"], [0.1111111111111111, \"#46039f\"], [0.2222222222222222, \"#7201a8\"], [0.3333333333333333, \"#9c179e\"], [0.4444444444444444, \"#bd3786\"], [0.5555555555555556, \"#d8576b\"], [0.6666666666666666, \"#ed7953\"], [0.7777777777777778, \"#fb9f3a\"], [0.8888888888888888, \"#fdca26\"], [1.0, \"#f0f921\"]], \"type\": \"histogram2dcontour\"}], \"mesh3d\": [{\"colorbar\": {\"outlinewidth\": 0, \"ticks\": \"\"}, \"type\": \"mesh3d\"}], \"parcoords\": [{\"line\": {\"colorbar\": {\"outlinewidth\": 0, \"ticks\": \"\"}}, \"type\": \"parcoords\"}], \"scatter\": [{\"marker\": {\"colorbar\": {\"outlinewidth\": 0, \"ticks\": \"\"}}, \"type\": \"scatter\"}], \"scatter3d\": [{\"line\": {\"colorbar\": {\"outlinewidth\": 0, \"ticks\": \"\"}}, \"marker\": {\"colorbar\": {\"outlinewidth\": 0, \"ticks\": \"\"}}, \"type\": \"scatter3d\"}], \"scattercarpet\": [{\"marker\": {\"colorbar\": {\"outlinewidth\": 0, \"ticks\": \"\"}}, \"type\": \"scattercarpet\"}], \"scattergeo\": [{\"marker\": {\"colorbar\": {\"outlinewidth\": 0, \"ticks\": \"\"}}, \"type\": \"scattergeo\"}], \"scattergl\": [{\"marker\": {\"colorbar\": {\"outlinewidth\": 0, \"ticks\": \"\"}}, \"type\": \"scattergl\"}], \"scattermapbox\": [{\"marker\": {\"colorbar\": {\"outlinewidth\": 0, \"ticks\": \"\"}}, \"type\": \"scattermapbox\"}], \"scatterpolar\": [{\"marker\": {\"colorbar\": {\"outlinewidth\": 0, \"ticks\": \"\"}}, \"type\": \"scatterpolar\"}], \"scatterpolargl\": [{\"marker\": {\"colorbar\": {\"outlinewidth\": 0, \"ticks\": \"\"}}, \"type\": \"scatterpolargl\"}], \"scatterternary\": [{\"marker\": {\"colorbar\": {\"outlinewidth\": 0, \"ticks\": \"\"}}, \"type\": \"scatterternary\"}], \"surface\": [{\"colorbar\": {\"outlinewidth\": 0, \"ticks\": \"\"}, \"colorscale\": [[0.0, \"#0d0887\"], [0.1111111111111111, \"#46039f\"], [0.2222222222222222, \"#7201a8\"], [0.3333333333333333, \"#9c179e\"], [0.4444444444444444, \"#bd3786\"], [0.5555555555555556, \"#d8576b\"], [0.6666666666666666, \"#ed7953\"], [0.7777777777777778, \"#fb9f3a\"], [0.8888888888888888, \"#fdca26\"], [1.0, \"#f0f921\"]], \"type\": \"surface\"}], \"table\": [{\"cells\": {\"fill\": {\"color\": \"#EBF0F8\"}, \"line\": {\"color\": \"white\"}}, \"header\": {\"fill\": {\"color\": \"#C8D4E3\"}, \"line\": {\"color\": \"white\"}}, \"type\": \"table\"}]}, \"layout\": {\"annotationdefaults\": {\"arrowcolor\": \"#2a3f5f\", \"arrowhead\": 0, \"arrowwidth\": 1}, \"colorscale\": {\"diverging\": [[0, \"#8e0152\"], [0.1, \"#c51b7d\"], [0.2, \"#de77ae\"], [0.3, \"#f1b6da\"], [0.4, \"#fde0ef\"], [0.5, \"#f7f7f7\"], [0.6, \"#e6f5d0\"], [0.7, \"#b8e186\"], [0.8, \"#7fbc41\"], [0.9, \"#4d9221\"], [1, \"#276419\"]], \"sequential\": [[0.0, \"#0d0887\"], [0.1111111111111111, \"#46039f\"], [0.2222222222222222, \"#7201a8\"], [0.3333333333333333, \"#9c179e\"], [0.4444444444444444, \"#bd3786\"], [0.5555555555555556, \"#d8576b\"], [0.6666666666666666, \"#ed7953\"], [0.7777777777777778, \"#fb9f3a\"], [0.8888888888888888, \"#fdca26\"], [1.0, \"#f0f921\"]], \"sequentialminus\": [[0.0, \"#0d0887\"], [0.1111111111111111, \"#46039f\"], [0.2222222222222222, \"#7201a8\"], [0.3333333333333333, \"#9c179e\"], [0.4444444444444444, \"#bd3786\"], [0.5555555555555556, \"#d8576b\"], [0.6666666666666666, \"#ed7953\"], [0.7777777777777778, \"#fb9f3a\"], [0.8888888888888888, \"#fdca26\"], [1.0, \"#f0f921\"]]}, \"colorway\": [\"#636efa\", \"#EF553B\", \"#00cc96\", \"#ab63fa\", \"#FFA15A\", \"#19d3f3\", \"#FF6692\", \"#B6E880\", \"#FF97FF\", \"#FECB52\"], \"font\": {\"color\": \"#2a3f5f\"}, \"geo\": {\"bgcolor\": \"white\", \"lakecolor\": \"white\", \"landcolor\": \"#E5ECF6\", \"showlakes\": true, \"showland\": true, \"subunitcolor\": \"white\"}, \"hoverlabel\": {\"align\": \"left\"}, \"hovermode\": \"closest\", \"mapbox\": {\"style\": \"light\"}, \"paper_bgcolor\": \"white\", \"plot_bgcolor\": \"#E5ECF6\", \"polar\": {\"angularaxis\": {\"gridcolor\": \"white\", \"linecolor\": \"white\", \"ticks\": \"\"}, \"bgcolor\": \"#E5ECF6\", \"radialaxis\": {\"gridcolor\": \"white\", \"linecolor\": \"white\", \"ticks\": \"\"}}, \"scene\": {\"xaxis\": {\"backgroundcolor\": \"#E5ECF6\", \"gridcolor\": \"white\", \"gridwidth\": 2, \"linecolor\": \"white\", \"showbackground\": true, \"ticks\": \"\", \"zerolinecolor\": \"white\"}, \"yaxis\": {\"backgroundcolor\": \"#E5ECF6\", \"gridcolor\": \"white\", \"gridwidth\": 2, \"linecolor\": \"white\", \"showbackground\": true, \"ticks\": \"\", \"zerolinecolor\": \"white\"}, \"zaxis\": {\"backgroundcolor\": \"#E5ECF6\", \"gridcolor\": \"white\", \"gridwidth\": 2, \"linecolor\": \"white\", \"showbackground\": true, \"ticks\": \"\", \"zerolinecolor\": \"white\"}}, \"shapedefaults\": {\"line\": {\"color\": \"#2a3f5f\"}}, \"ternary\": {\"aaxis\": {\"gridcolor\": \"white\", \"linecolor\": \"white\", \"ticks\": \"\"}, \"baxis\": {\"gridcolor\": \"white\", \"linecolor\": \"white\", \"ticks\": \"\"}, \"bgcolor\": \"#E5ECF6\", \"caxis\": {\"gridcolor\": \"white\", \"linecolor\": \"white\", \"ticks\": \"\"}}, \"title\": {\"x\": 0.05}, \"xaxis\": {\"automargin\": true, \"gridcolor\": \"white\", \"linecolor\": \"white\", \"ticks\": \"\", \"zerolinecolor\": \"white\", \"zerolinewidth\": 2}, \"yaxis\": {\"automargin\": true, \"gridcolor\": \"white\", \"linecolor\": \"white\", \"ticks\": \"\", \"zerolinecolor\": \"white\", \"zerolinewidth\": 2}}}, \"width\": 800, \"xaxis\": {\"anchor\": \"y\", \"domain\": [0.0, 0.98], \"title\": {\"text\": \"data\"}}, \"yaxis\": {\"anchor\": \"x\", \"domain\": [0.0, 1.0], \"range\": [-0.5, 1.5], \"title\": {\"text\": \"relu\"}}},\n",
              "                        {\"responsive\": true}\n",
              "                    ).then(function(){\n",
              "                            \n",
              "var gd = document.getElementById('9d7037d1-ac89-4ebf-9483-d660eb3424af');\n",
              "var x = new MutationObserver(function (mutations, observer) {{\n",
              "        var display = window.getComputedStyle(gd).display;\n",
              "        if (!display || display === 'none') {{\n",
              "            console.log([gd, 'removed!']);\n",
              "            Plotly.purge(gd);\n",
              "            observer.disconnect();\n",
              "        }}\n",
              "}});\n",
              "\n",
              "// Listen for the removal of the full notebook cells\n",
              "var notebookContainer = gd.closest('#notebook-container');\n",
              "if (notebookContainer) {{\n",
              "    x.observe(notebookContainer, {childList: true});\n",
              "}}\n",
              "\n",
              "// Listen for the clearing of the current output cell\n",
              "var outputEl = gd.closest('.output');\n",
              "if (outputEl) {{\n",
              "    x.observe(outputEl, {childList: true});\n",
              "}}\n",
              "\n",
              "                        })\n",
              "                };\n",
              "                \n",
              "            </script>\n",
              "        </div>\n",
              "</body>\n",
              "</html>"
            ]
          },
          "metadata": {
            "tags": []
          }
        }
      ]
    },
    {
      "cell_type": "code",
      "metadata": {
        "id": "5AF9VX1OgZNg",
        "colab": {
          "base_uri": "https://localhost:8080/",
          "height": 206
        },
        "outputId": "94498be3-8e73-471e-a661-bc77f4103b4f"
      },
      "source": [
        "from tensorflow.keras.activations import tanh\n",
        "\n",
        "data = pd.DataFrame({'data': random_data, 'tanh': tanh(random_data)})\n",
        "data.head()"
      ],
      "execution_count": 11,
      "outputs": [
        {
          "output_type": "execute_result",
          "data": {
            "text/plain": [
              "       data      tanh\n",
              "0 -2.450118 -0.985220\n",
              "1 -2.061522 -0.968126\n",
              "2 -2.046942 -0.967198\n",
              "3 -2.022047 -0.965553\n",
              "4 -1.972046 -0.961998"
            ],
            "text/html": [
              "\n",
              "  <div id=\"df-ebb82339-434c-499e-bbe9-6f5e406abf59\" class=\"colab-df-container\">\n",
              "    <div>\n",
              "<style scoped>\n",
              "    .dataframe tbody tr th:only-of-type {\n",
              "        vertical-align: middle;\n",
              "    }\n",
              "\n",
              "    .dataframe tbody tr th {\n",
              "        vertical-align: top;\n",
              "    }\n",
              "\n",
              "    .dataframe thead th {\n",
              "        text-align: right;\n",
              "    }\n",
              "</style>\n",
              "<table border=\"1\" class=\"dataframe\">\n",
              "  <thead>\n",
              "    <tr style=\"text-align: right;\">\n",
              "      <th></th>\n",
              "      <th>data</th>\n",
              "      <th>tanh</th>\n",
              "    </tr>\n",
              "  </thead>\n",
              "  <tbody>\n",
              "    <tr>\n",
              "      <th>0</th>\n",
              "      <td>-2.450118</td>\n",
              "      <td>-0.985220</td>\n",
              "    </tr>\n",
              "    <tr>\n",
              "      <th>1</th>\n",
              "      <td>-2.061522</td>\n",
              "      <td>-0.968126</td>\n",
              "    </tr>\n",
              "    <tr>\n",
              "      <th>2</th>\n",
              "      <td>-2.046942</td>\n",
              "      <td>-0.967198</td>\n",
              "    </tr>\n",
              "    <tr>\n",
              "      <th>3</th>\n",
              "      <td>-2.022047</td>\n",
              "      <td>-0.965553</td>\n",
              "    </tr>\n",
              "    <tr>\n",
              "      <th>4</th>\n",
              "      <td>-1.972046</td>\n",
              "      <td>-0.961998</td>\n",
              "    </tr>\n",
              "  </tbody>\n",
              "</table>\n",
              "</div>\n",
              "    <div class=\"colab-df-buttons\">\n",
              "\n",
              "  <div class=\"colab-df-container\">\n",
              "    <button class=\"colab-df-convert\" onclick=\"convertToInteractive('df-ebb82339-434c-499e-bbe9-6f5e406abf59')\"\n",
              "            title=\"Convert this dataframe to an interactive table.\"\n",
              "            style=\"display:none;\">\n",
              "\n",
              "  <svg xmlns=\"http://www.w3.org/2000/svg\" height=\"24px\" viewBox=\"0 -960 960 960\">\n",
              "    <path d=\"M120-120v-720h720v720H120Zm60-500h600v-160H180v160Zm220 220h160v-160H400v160Zm0 220h160v-160H400v160ZM180-400h160v-160H180v160Zm440 0h160v-160H620v160ZM180-180h160v-160H180v160Zm440 0h160v-160H620v160Z\"/>\n",
              "  </svg>\n",
              "    </button>\n",
              "\n",
              "  <style>\n",
              "    .colab-df-container {\n",
              "      display:flex;\n",
              "      gap: 12px;\n",
              "    }\n",
              "\n",
              "    .colab-df-convert {\n",
              "      background-color: #E8F0FE;\n",
              "      border: none;\n",
              "      border-radius: 50%;\n",
              "      cursor: pointer;\n",
              "      display: none;\n",
              "      fill: #1967D2;\n",
              "      height: 32px;\n",
              "      padding: 0 0 0 0;\n",
              "      width: 32px;\n",
              "    }\n",
              "\n",
              "    .colab-df-convert:hover {\n",
              "      background-color: #E2EBFA;\n",
              "      box-shadow: 0px 1px 2px rgba(60, 64, 67, 0.3), 0px 1px 3px 1px rgba(60, 64, 67, 0.15);\n",
              "      fill: #174EA6;\n",
              "    }\n",
              "\n",
              "    .colab-df-buttons div {\n",
              "      margin-bottom: 4px;\n",
              "    }\n",
              "\n",
              "    [theme=dark] .colab-df-convert {\n",
              "      background-color: #3B4455;\n",
              "      fill: #D2E3FC;\n",
              "    }\n",
              "\n",
              "    [theme=dark] .colab-df-convert:hover {\n",
              "      background-color: #434B5C;\n",
              "      box-shadow: 0px 1px 3px 1px rgba(0, 0, 0, 0.15);\n",
              "      filter: drop-shadow(0px 1px 2px rgba(0, 0, 0, 0.3));\n",
              "      fill: #FFFFFF;\n",
              "    }\n",
              "  </style>\n",
              "\n",
              "    <script>\n",
              "      const buttonEl =\n",
              "        document.querySelector('#df-ebb82339-434c-499e-bbe9-6f5e406abf59 button.colab-df-convert');\n",
              "      buttonEl.style.display =\n",
              "        google.colab.kernel.accessAllowed ? 'block' : 'none';\n",
              "\n",
              "      async function convertToInteractive(key) {\n",
              "        const element = document.querySelector('#df-ebb82339-434c-499e-bbe9-6f5e406abf59');\n",
              "        const dataTable =\n",
              "          await google.colab.kernel.invokeFunction('convertToInteractive',\n",
              "                                                    [key], {});\n",
              "        if (!dataTable) return;\n",
              "\n",
              "        const docLinkHtml = 'Like what you see? Visit the ' +\n",
              "          '<a target=\"_blank\" href=https://colab.research.google.com/notebooks/data_table.ipynb>data table notebook</a>'\n",
              "          + ' to learn more about interactive tables.';\n",
              "        element.innerHTML = '';\n",
              "        dataTable['output_type'] = 'display_data';\n",
              "        await google.colab.output.renderOutput(dataTable, element);\n",
              "        const docLink = document.createElement('div');\n",
              "        docLink.innerHTML = docLinkHtml;\n",
              "        element.appendChild(docLink);\n",
              "      }\n",
              "    </script>\n",
              "  </div>\n",
              "\n",
              "\n",
              "<div id=\"df-c64b0ef8-4ad6-4d1a-a053-72a7c5dab37f\">\n",
              "  <button class=\"colab-df-quickchart\" onclick=\"quickchart('df-c64b0ef8-4ad6-4d1a-a053-72a7c5dab37f')\"\n",
              "            title=\"Suggest charts\"\n",
              "            style=\"display:none;\">\n",
              "\n",
              "<svg xmlns=\"http://www.w3.org/2000/svg\" height=\"24px\"viewBox=\"0 0 24 24\"\n",
              "     width=\"24px\">\n",
              "    <g>\n",
              "        <path d=\"M19 3H5c-1.1 0-2 .9-2 2v14c0 1.1.9 2 2 2h14c1.1 0 2-.9 2-2V5c0-1.1-.9-2-2-2zM9 17H7v-7h2v7zm4 0h-2V7h2v10zm4 0h-2v-4h2v4z\"/>\n",
              "    </g>\n",
              "</svg>\n",
              "  </button>\n",
              "\n",
              "<style>\n",
              "  .colab-df-quickchart {\n",
              "      --bg-color: #E8F0FE;\n",
              "      --fill-color: #1967D2;\n",
              "      --hover-bg-color: #E2EBFA;\n",
              "      --hover-fill-color: #174EA6;\n",
              "      --disabled-fill-color: #AAA;\n",
              "      --disabled-bg-color: #DDD;\n",
              "  }\n",
              "\n",
              "  [theme=dark] .colab-df-quickchart {\n",
              "      --bg-color: #3B4455;\n",
              "      --fill-color: #D2E3FC;\n",
              "      --hover-bg-color: #434B5C;\n",
              "      --hover-fill-color: #FFFFFF;\n",
              "      --disabled-bg-color: #3B4455;\n",
              "      --disabled-fill-color: #666;\n",
              "  }\n",
              "\n",
              "  .colab-df-quickchart {\n",
              "    background-color: var(--bg-color);\n",
              "    border: none;\n",
              "    border-radius: 50%;\n",
              "    cursor: pointer;\n",
              "    display: none;\n",
              "    fill: var(--fill-color);\n",
              "    height: 32px;\n",
              "    padding: 0;\n",
              "    width: 32px;\n",
              "  }\n",
              "\n",
              "  .colab-df-quickchart:hover {\n",
              "    background-color: var(--hover-bg-color);\n",
              "    box-shadow: 0 1px 2px rgba(60, 64, 67, 0.3), 0 1px 3px 1px rgba(60, 64, 67, 0.15);\n",
              "    fill: var(--button-hover-fill-color);\n",
              "  }\n",
              "\n",
              "  .colab-df-quickchart-complete:disabled,\n",
              "  .colab-df-quickchart-complete:disabled:hover {\n",
              "    background-color: var(--disabled-bg-color);\n",
              "    fill: var(--disabled-fill-color);\n",
              "    box-shadow: none;\n",
              "  }\n",
              "\n",
              "  .colab-df-spinner {\n",
              "    border: 2px solid var(--fill-color);\n",
              "    border-color: transparent;\n",
              "    border-bottom-color: var(--fill-color);\n",
              "    animation:\n",
              "      spin 1s steps(1) infinite;\n",
              "  }\n",
              "\n",
              "  @keyframes spin {\n",
              "    0% {\n",
              "      border-color: transparent;\n",
              "      border-bottom-color: var(--fill-color);\n",
              "      border-left-color: var(--fill-color);\n",
              "    }\n",
              "    20% {\n",
              "      border-color: transparent;\n",
              "      border-left-color: var(--fill-color);\n",
              "      border-top-color: var(--fill-color);\n",
              "    }\n",
              "    30% {\n",
              "      border-color: transparent;\n",
              "      border-left-color: var(--fill-color);\n",
              "      border-top-color: var(--fill-color);\n",
              "      border-right-color: var(--fill-color);\n",
              "    }\n",
              "    40% {\n",
              "      border-color: transparent;\n",
              "      border-right-color: var(--fill-color);\n",
              "      border-top-color: var(--fill-color);\n",
              "    }\n",
              "    60% {\n",
              "      border-color: transparent;\n",
              "      border-right-color: var(--fill-color);\n",
              "    }\n",
              "    80% {\n",
              "      border-color: transparent;\n",
              "      border-right-color: var(--fill-color);\n",
              "      border-bottom-color: var(--fill-color);\n",
              "    }\n",
              "    90% {\n",
              "      border-color: transparent;\n",
              "      border-bottom-color: var(--fill-color);\n",
              "    }\n",
              "  }\n",
              "</style>\n",
              "\n",
              "  <script>\n",
              "    async function quickchart(key) {\n",
              "      const quickchartButtonEl =\n",
              "        document.querySelector('#' + key + ' button');\n",
              "      quickchartButtonEl.disabled = true;  // To prevent multiple clicks.\n",
              "      quickchartButtonEl.classList.add('colab-df-spinner');\n",
              "      try {\n",
              "        const charts = await google.colab.kernel.invokeFunction(\n",
              "            'suggestCharts', [key], {});\n",
              "      } catch (error) {\n",
              "        console.error('Error during call to suggestCharts:', error);\n",
              "      }\n",
              "      quickchartButtonEl.classList.remove('colab-df-spinner');\n",
              "      quickchartButtonEl.classList.add('colab-df-quickchart-complete');\n",
              "    }\n",
              "    (() => {\n",
              "      let quickchartButtonEl =\n",
              "        document.querySelector('#df-c64b0ef8-4ad6-4d1a-a053-72a7c5dab37f button');\n",
              "      quickchartButtonEl.style.display =\n",
              "        google.colab.kernel.accessAllowed ? 'block' : 'none';\n",
              "    })();\n",
              "  </script>\n",
              "</div>\n",
              "    </div>\n",
              "  </div>\n"
            ],
            "application/vnd.google.colaboratory.intrinsic+json": {
              "type": "dataframe",
              "variable_name": "data",
              "summary": "{\n  \"name\": \"data\",\n  \"rows\": 200,\n  \"fields\": [\n    {\n      \"column\": \"data\",\n      \"properties\": {\n        \"dtype\": \"number\",\n        \"std\": 1.017560686907229,\n        \"min\": -2.4501183999408163,\n        \"max\": 2.453970661219094,\n        \"num_unique_values\": 200,\n        \"samples\": [\n          -0.04138031332011294,\n          -1.6422356482992393,\n          -1.217689992205175\n        ],\n        \"semantic_type\": \"\",\n        \"description\": \"\"\n      }\n    },\n    {\n      \"column\": \"tanh\",\n      \"properties\": {\n        \"dtype\": \"number\",\n        \"std\": 0.6466990131499037,\n        \"min\": -0.9852203916633009,\n        \"max\": 0.9853329921009916,\n        \"num_unique_values\": 200,\n        \"samples\": [\n          -0.04135671056440612,\n          -0.9277844516804026,\n          -0.8389714445400555\n        ],\n        \"semantic_type\": \"\",\n        \"description\": \"\"\n      }\n    }\n  ]\n}"
            }
          },
          "metadata": {},
          "execution_count": 11
        }
      ]
    },
    {
      "cell_type": "code",
      "metadata": {
        "id": "60dxCfJpghZR",
        "colab": {
          "base_uri": "https://localhost:8080/",
          "height": 542
        },
        "outputId": "7d765430-4081-4a1d-bff6-2903f97a2501"
      },
      "source": [
        "px.line(data, x='data', y='tanh', width=800, range_y=[-1.5, 1.5])"
      ],
      "execution_count": 12,
      "outputs": [
        {
          "output_type": "display_data",
          "data": {
            "text/html": [
              "<html>\n",
              "<head><meta charset=\"utf-8\" /></head>\n",
              "<body>\n",
              "    <div>            <script src=\"https://cdnjs.cloudflare.com/ajax/libs/mathjax/2.7.5/MathJax.js?config=TeX-AMS-MML_SVG\"></script><script type=\"text/javascript\">if (window.MathJax && window.MathJax.Hub && window.MathJax.Hub.Config) {window.MathJax.Hub.Config({SVG: {font: \"STIX-Web\"}});}</script>                <script type=\"text/javascript\">window.PlotlyConfig = {MathJaxConfig: 'local'};</script>\n",
              "        <script charset=\"utf-8\" src=\"https://cdn.plot.ly/plotly-2.24.1.min.js\"></script>                <div id=\"93ba65a0-7f47-4f77-a5b0-c002ab0375ea\" class=\"plotly-graph-div\" style=\"height:525px; width:800px;\"></div>            <script type=\"text/javascript\">                                    window.PLOTLYENV=window.PLOTLYENV || {};                                    if (document.getElementById(\"93ba65a0-7f47-4f77-a5b0-c002ab0375ea\")) {                    Plotly.newPlot(                        \"93ba65a0-7f47-4f77-a5b0-c002ab0375ea\",                        [{\"hovertemplate\":\"data=%{x}\\u003cbr\\u003etanh=%{y}\\u003cextra\\u003e\\u003c\\u002fextra\\u003e\",\"legendgroup\":\"\",\"line\":{\"color\":\"#636efa\",\"dash\":\"solid\"},\"marker\":{\"symbol\":\"circle\"},\"mode\":\"lines\",\"name\":\"\",\"orientation\":\"v\",\"showlegend\":false,\"x\":[-2.4501183999408163,-2.0615223051014206,-2.0469415525677683,-2.0220467250418053,-1.9720460976793264,-1.9569169575073677,-1.9558617548217552,-1.8952090292945476,-1.858253494765793,-1.8439202561788075,-1.7923749972850862,-1.7635239558022897,-1.7273507079825037,-1.7183893336933174,-1.7117025521937468,-1.6422356482992393,-1.6188501807185212,-1.5886488077642915,-1.561347429659641,-1.5414535504250768,-1.5050469787025873,-1.5005851638117897,-1.4916385762410906,-1.4681922524359663,-1.4430833758815147,-1.4299136827472856,-1.4071642138444513,-1.3362118939230112,-1.3056559145279156,-1.2702125568096458,-1.217689992205175,-1.1748852851250875,-1.1578845173743966,-1.1324423341333019,-1.11280893656239,-1.0879597805304686,-1.0505415483711438,-1.0231820803496596,-1.0100426936431413,-0.9934444609722372,-0.9847043176466684,-0.9719961712057639,-0.9601951181949069,-0.9225439636004926,-0.8532681834687528,-0.8468574520660671,-0.8308313871452794,-0.820313720232503,-0.8031717973188822,-0.7974444342619774,-0.7010432651685365,-0.6961005776202039,-0.6885907599240463,-0.6669946525779185,-0.646325768642086,-0.6361408588983981,-0.6084741828815118,-0.6049797759264767,-0.5921723715348247,-0.5885578809171359,-0.5792725675486279,-0.5742555571385999,-0.5641210901878694,-0.5613153800149563,-0.5529972992504903,-0.5441480243417042,-0.5439928887718007,-0.5259019077245529,-0.5220742246017847,-0.5060722806438337,-0.4838263317413603,-0.450492655620644,-0.4473098395642803,-0.43259936383897385,-0.424971045693652,-0.3825365549433045,-0.3673426091864137,-0.35445997904731846,-0.3528582592099146,-0.3301851814475208,-0.3205290798595268,-0.3198106602071296,-0.2905650758113998,-0.28502879159738814,-0.231729422663015,-0.22468457698413402,-0.2205365636700521,-0.21951517072127946,-0.2078045084601896,-0.154140688486142,-0.1472932237187985,-0.1096010503782766,-0.1037189407652913,-0.06897669483998492,-0.06461760849085413,-0.04138031332011294,-0.021270745035885937,-0.009623559384955216,0.03820059063278862,0.0406070535237623,0.05832232907529926,0.06250376824632185,0.10284432957128302,0.1292240916896738,0.13171579311608655,0.1387672204002597,0.14817590767944713,0.15864262607520366,0.16512835604630405,0.16559129485478571,0.16897758728538714,0.18278098620043143,0.19191761556025552,0.22952206061996014,0.23049725181358438,0.26814481380101,0.28064650851998624,0.2899636716775976,0.29105285042469575,0.3217505142236713,0.3409349938151154,0.3419740921706542,0.3461938759958076,0.34830851487116676,0.3606234063187742,0.3657892358137291,0.38469479109204024,0.3847544155030206,0.3895874422959413,0.3899945185664725,0.39379277899234866,0.3948432279551597,0.3992383447912305,0.4032638634813341,0.40682428110121865,0.43222324827674546,0.43935534813194405,0.45544688380690945,0.4647643125401091,0.4935578526197315,0.5166598952293405,0.520276138132954,0.5580549800376525,0.5758960576022334,0.578583759193031,0.6219323250201603,0.6261484629338617,0.6311350997344702,0.6370484064904971,0.6451044577323045,0.6639780116818866,0.6645461831800962,0.6800779091617021,0.6901596018170454,0.6975891989893805,0.7076051596805981,0.7519861845504259,0.7682829634855936,0.7781924884746938,0.7865483162189361,0.8071020205911219,0.813997148867758,0.8169231580795546,0.8327891146762578,0.8377964062594518,0.8405515144566692,0.8683561603021986,0.8969315143287497,0.9118488544479985,0.9587285581939327,1.0079533033776686,1.0431745326697253,1.0794916794988576,1.0820067237497697,1.129348454951696,1.1357012315714765,1.1470998598696616,1.14732663849003,1.1586979343570878,1.1607717247758882,1.2752710443883888,1.2950313390400037,1.3382749318148603,1.356097930404764,1.3608558708950425,1.3873638557676804,1.4055908435520417,1.453337310627837,1.5079605872133997,1.5242963003697316,1.5488743529793587,1.616481282377694,1.629315404732797,1.6788165515811597,1.7211709221986515,1.9088660192077267,1.9616163614213242,2.1028505026767266,2.4069776167806234,2.453970661219094],\"xaxis\":\"x\",\"y\":[-0.9852203916633009,-0.9681259416807011,-0.9671982297205541,-0.9655525413259052,-0.9619984609457063,-0.9608538767807361,-0.960772797428732,-0.9558254189665486,-0.9525171925293062,-0.9511700437696736,-0.9460106533602436,-0.9428952874867363,-0.938742076067566,-0.9376687933799169,-0.9368560989361459,-0.9277844516804026,-0.924457237184676,-0.9199419024949123,-0.9156384781268123,-0.9123642950631428,-0.906056121116296,-0.9052539406402775,-0.9036258019263992,-0.8992320456328228,-0.8943167165980273,-0.8916489086230445,-0.8868904240930274,-0.8707593815821348,-0.8631721021157118,-0.8538552518815106,-0.8389714445400555,-0.8258319790680314,-0.8203492607621804,-0.8118534913939874,-0.8050530645113998,-0.7961322826545524,-0.7820168110214548,-0.7711594430921559,-0.7657796761261764,-0.758827223049106,-0.7550951611976376,-0.7495801779988129,-0.7443638875737739,-0.7270986742916488,-0.6927729904678666,-0.6894241628235233,-0.6809221689253909,-0.6752405905347955,-0.6658062471615286,-0.6626056425421578,-0.6050295613169597,-0.6018868251063572,-0.5970759170173694,-0.5829994940489932,-0.5691913024522305,-0.5622661803182835,-0.5430521453363889,-0.5405835842695469,-0.5314562013590345,-0.5288576276554193,-0.5221365156123623,-0.5184777216477928,-0.5110287076787301,-0.508952738597725,-0.5027632538389094,-0.4961214413681704,-0.4960044813210588,-0.48224226158487105,-0.4792993173366603,-0.46687926709543554,-0.4493027533520626,-0.4223038845885353,-0.41968518276968475,-0.4074913439080466,-0.4011099893596375,-0.364908292166714,-0.35166513653818365,-0.34032493224584703,-0.3389079541066567,-0.3186871608607451,-0.3099852397422802,-0.3093357091057246,-0.2826548254570512,-0.27755292412870175,-0.22766877790995088,-0.2209784683767927,-0.21702941156461994,-0.21605591256774762,-0.20486410042161207,-0.15293141882205633,-0.146237197176529,-0.10916429200036151,-0.10334861129101539,-0.06886751054381103,-0.06452782289703454,-0.04135671056440612,-0.02126753767180985,-0.00962326230739479,0.03818201962165176,0.040584748801142434,0.05825629123929166,0.06242250031148718,0.10248326376473178,0.12850956543014216,0.1309593276320668,0.1378833117885244,0.14710089294890666,0.1573250103938489,0.16364367507426122,0.16409418256626582,0.16738745007585767,0.18077232161578444,0.18959556001152844,0.2255747812919303,0.2265001470205132,0.26189773840820335,0.2735033333134164,0.28210137574090643,0.2831035680226076,0.3110888870224612,0.32831186278848656,0.3292386416020857,0.3329957668151341,0.334874595654491,0.345763029202199,0.3503031233880996,0.36677766662939376,0.36682926888685863,0.3710045108747602,0.3713555023691919,0.3746253361951079,0.37552800524430496,0.37929707199244644,0.3827381816227583,0.38577289070547355,0.4071776339666924,0.41310994891328784,0.42636604085525126,0.43395928791263266,0.4570356876816814,0.47511800011951116,0.47791310820946736,0.5065328825403008,0.5196762037151842,0.521635314517412,0.5524719921532009,0.5553944335449797,0.5588333248269312,0.5628864961511254,0.568365096376415,0.5810046721884393,0.5813809238178556,0.5915700422180306,0.5980845217181704,0.6028353164297875,0.6091728945886795,0.6363323874159597,0.6459299148205903,0.651668017133472,0.6564492194450532,0.6679884888251924,0.6717893847670173,0.6733917289216609,0.6819707870870462,0.6846401290489414,0.6861010701699606,0.7005379748976305,0.7148004847749309,0.7220184629872695,0.7437092013925561,0.7649141594137777,0.7791385660549927,0.7930105179339153,0.7939420772490916,0.8107961544066271,0.8129614942610915,0.816791043336723,0.8168665131622335,0.8206150927067156,0.8212912221277109,0.8552198484094689,0.8604385715058649,0.8712572838198518,0.8754849392554226,0.8765914252201029,0.8825895609002984,0.8865541579967249,0.8963508054079494,0.9065764634528236,0.9094434523372898,0.9135995716169236,0.9241120943489091,0.9259640263981962,0.9327078084762931,0.9380038711285958,0.9569900769183989,0.9612129780704048,0.9706174432558876,0.9838992752824784,0.9853329921009916],\"yaxis\":\"y\",\"type\":\"scatter\"}],                        {\"template\":{\"data\":{\"histogram2dcontour\":[{\"type\":\"histogram2dcontour\",\"colorbar\":{\"outlinewidth\":0,\"ticks\":\"\"},\"colorscale\":[[0.0,\"#0d0887\"],[0.1111111111111111,\"#46039f\"],[0.2222222222222222,\"#7201a8\"],[0.3333333333333333,\"#9c179e\"],[0.4444444444444444,\"#bd3786\"],[0.5555555555555556,\"#d8576b\"],[0.6666666666666666,\"#ed7953\"],[0.7777777777777778,\"#fb9f3a\"],[0.8888888888888888,\"#fdca26\"],[1.0,\"#f0f921\"]]}],\"choropleth\":[{\"type\":\"choropleth\",\"colorbar\":{\"outlinewidth\":0,\"ticks\":\"\"}}],\"histogram2d\":[{\"type\":\"histogram2d\",\"colorbar\":{\"outlinewidth\":0,\"ticks\":\"\"},\"colorscale\":[[0.0,\"#0d0887\"],[0.1111111111111111,\"#46039f\"],[0.2222222222222222,\"#7201a8\"],[0.3333333333333333,\"#9c179e\"],[0.4444444444444444,\"#bd3786\"],[0.5555555555555556,\"#d8576b\"],[0.6666666666666666,\"#ed7953\"],[0.7777777777777778,\"#fb9f3a\"],[0.8888888888888888,\"#fdca26\"],[1.0,\"#f0f921\"]]}],\"heatmap\":[{\"type\":\"heatmap\",\"colorbar\":{\"outlinewidth\":0,\"ticks\":\"\"},\"colorscale\":[[0.0,\"#0d0887\"],[0.1111111111111111,\"#46039f\"],[0.2222222222222222,\"#7201a8\"],[0.3333333333333333,\"#9c179e\"],[0.4444444444444444,\"#bd3786\"],[0.5555555555555556,\"#d8576b\"],[0.6666666666666666,\"#ed7953\"],[0.7777777777777778,\"#fb9f3a\"],[0.8888888888888888,\"#fdca26\"],[1.0,\"#f0f921\"]]}],\"heatmapgl\":[{\"type\":\"heatmapgl\",\"colorbar\":{\"outlinewidth\":0,\"ticks\":\"\"},\"colorscale\":[[0.0,\"#0d0887\"],[0.1111111111111111,\"#46039f\"],[0.2222222222222222,\"#7201a8\"],[0.3333333333333333,\"#9c179e\"],[0.4444444444444444,\"#bd3786\"],[0.5555555555555556,\"#d8576b\"],[0.6666666666666666,\"#ed7953\"],[0.7777777777777778,\"#fb9f3a\"],[0.8888888888888888,\"#fdca26\"],[1.0,\"#f0f921\"]]}],\"contourcarpet\":[{\"type\":\"contourcarpet\",\"colorbar\":{\"outlinewidth\":0,\"ticks\":\"\"}}],\"contour\":[{\"type\":\"contour\",\"colorbar\":{\"outlinewidth\":0,\"ticks\":\"\"},\"colorscale\":[[0.0,\"#0d0887\"],[0.1111111111111111,\"#46039f\"],[0.2222222222222222,\"#7201a8\"],[0.3333333333333333,\"#9c179e\"],[0.4444444444444444,\"#bd3786\"],[0.5555555555555556,\"#d8576b\"],[0.6666666666666666,\"#ed7953\"],[0.7777777777777778,\"#fb9f3a\"],[0.8888888888888888,\"#fdca26\"],[1.0,\"#f0f921\"]]}],\"surface\":[{\"type\":\"surface\",\"colorbar\":{\"outlinewidth\":0,\"ticks\":\"\"},\"colorscale\":[[0.0,\"#0d0887\"],[0.1111111111111111,\"#46039f\"],[0.2222222222222222,\"#7201a8\"],[0.3333333333333333,\"#9c179e\"],[0.4444444444444444,\"#bd3786\"],[0.5555555555555556,\"#d8576b\"],[0.6666666666666666,\"#ed7953\"],[0.7777777777777778,\"#fb9f3a\"],[0.8888888888888888,\"#fdca26\"],[1.0,\"#f0f921\"]]}],\"mesh3d\":[{\"type\":\"mesh3d\",\"colorbar\":{\"outlinewidth\":0,\"ticks\":\"\"}}],\"scatter\":[{\"fillpattern\":{\"fillmode\":\"overlay\",\"size\":10,\"solidity\":0.2},\"type\":\"scatter\"}],\"parcoords\":[{\"type\":\"parcoords\",\"line\":{\"colorbar\":{\"outlinewidth\":0,\"ticks\":\"\"}}}],\"scatterpolargl\":[{\"type\":\"scatterpolargl\",\"marker\":{\"colorbar\":{\"outlinewidth\":0,\"ticks\":\"\"}}}],\"bar\":[{\"error_x\":{\"color\":\"#2a3f5f\"},\"error_y\":{\"color\":\"#2a3f5f\"},\"marker\":{\"line\":{\"color\":\"#E5ECF6\",\"width\":0.5},\"pattern\":{\"fillmode\":\"overlay\",\"size\":10,\"solidity\":0.2}},\"type\":\"bar\"}],\"scattergeo\":[{\"type\":\"scattergeo\",\"marker\":{\"colorbar\":{\"outlinewidth\":0,\"ticks\":\"\"}}}],\"scatterpolar\":[{\"type\":\"scatterpolar\",\"marker\":{\"colorbar\":{\"outlinewidth\":0,\"ticks\":\"\"}}}],\"histogram\":[{\"marker\":{\"pattern\":{\"fillmode\":\"overlay\",\"size\":10,\"solidity\":0.2}},\"type\":\"histogram\"}],\"scattergl\":[{\"type\":\"scattergl\",\"marker\":{\"colorbar\":{\"outlinewidth\":0,\"ticks\":\"\"}}}],\"scatter3d\":[{\"type\":\"scatter3d\",\"line\":{\"colorbar\":{\"outlinewidth\":0,\"ticks\":\"\"}},\"marker\":{\"colorbar\":{\"outlinewidth\":0,\"ticks\":\"\"}}}],\"scattermapbox\":[{\"type\":\"scattermapbox\",\"marker\":{\"colorbar\":{\"outlinewidth\":0,\"ticks\":\"\"}}}],\"scatterternary\":[{\"type\":\"scatterternary\",\"marker\":{\"colorbar\":{\"outlinewidth\":0,\"ticks\":\"\"}}}],\"scattercarpet\":[{\"type\":\"scattercarpet\",\"marker\":{\"colorbar\":{\"outlinewidth\":0,\"ticks\":\"\"}}}],\"carpet\":[{\"aaxis\":{\"endlinecolor\":\"#2a3f5f\",\"gridcolor\":\"white\",\"linecolor\":\"white\",\"minorgridcolor\":\"white\",\"startlinecolor\":\"#2a3f5f\"},\"baxis\":{\"endlinecolor\":\"#2a3f5f\",\"gridcolor\":\"white\",\"linecolor\":\"white\",\"minorgridcolor\":\"white\",\"startlinecolor\":\"#2a3f5f\"},\"type\":\"carpet\"}],\"table\":[{\"cells\":{\"fill\":{\"color\":\"#EBF0F8\"},\"line\":{\"color\":\"white\"}},\"header\":{\"fill\":{\"color\":\"#C8D4E3\"},\"line\":{\"color\":\"white\"}},\"type\":\"table\"}],\"barpolar\":[{\"marker\":{\"line\":{\"color\":\"#E5ECF6\",\"width\":0.5},\"pattern\":{\"fillmode\":\"overlay\",\"size\":10,\"solidity\":0.2}},\"type\":\"barpolar\"}],\"pie\":[{\"automargin\":true,\"type\":\"pie\"}]},\"layout\":{\"autotypenumbers\":\"strict\",\"colorway\":[\"#636efa\",\"#EF553B\",\"#00cc96\",\"#ab63fa\",\"#FFA15A\",\"#19d3f3\",\"#FF6692\",\"#B6E880\",\"#FF97FF\",\"#FECB52\"],\"font\":{\"color\":\"#2a3f5f\"},\"hovermode\":\"closest\",\"hoverlabel\":{\"align\":\"left\"},\"paper_bgcolor\":\"white\",\"plot_bgcolor\":\"#E5ECF6\",\"polar\":{\"bgcolor\":\"#E5ECF6\",\"angularaxis\":{\"gridcolor\":\"white\",\"linecolor\":\"white\",\"ticks\":\"\"},\"radialaxis\":{\"gridcolor\":\"white\",\"linecolor\":\"white\",\"ticks\":\"\"}},\"ternary\":{\"bgcolor\":\"#E5ECF6\",\"aaxis\":{\"gridcolor\":\"white\",\"linecolor\":\"white\",\"ticks\":\"\"},\"baxis\":{\"gridcolor\":\"white\",\"linecolor\":\"white\",\"ticks\":\"\"},\"caxis\":{\"gridcolor\":\"white\",\"linecolor\":\"white\",\"ticks\":\"\"}},\"coloraxis\":{\"colorbar\":{\"outlinewidth\":0,\"ticks\":\"\"}},\"colorscale\":{\"sequential\":[[0.0,\"#0d0887\"],[0.1111111111111111,\"#46039f\"],[0.2222222222222222,\"#7201a8\"],[0.3333333333333333,\"#9c179e\"],[0.4444444444444444,\"#bd3786\"],[0.5555555555555556,\"#d8576b\"],[0.6666666666666666,\"#ed7953\"],[0.7777777777777778,\"#fb9f3a\"],[0.8888888888888888,\"#fdca26\"],[1.0,\"#f0f921\"]],\"sequentialminus\":[[0.0,\"#0d0887\"],[0.1111111111111111,\"#46039f\"],[0.2222222222222222,\"#7201a8\"],[0.3333333333333333,\"#9c179e\"],[0.4444444444444444,\"#bd3786\"],[0.5555555555555556,\"#d8576b\"],[0.6666666666666666,\"#ed7953\"],[0.7777777777777778,\"#fb9f3a\"],[0.8888888888888888,\"#fdca26\"],[1.0,\"#f0f921\"]],\"diverging\":[[0,\"#8e0152\"],[0.1,\"#c51b7d\"],[0.2,\"#de77ae\"],[0.3,\"#f1b6da\"],[0.4,\"#fde0ef\"],[0.5,\"#f7f7f7\"],[0.6,\"#e6f5d0\"],[0.7,\"#b8e186\"],[0.8,\"#7fbc41\"],[0.9,\"#4d9221\"],[1,\"#276419\"]]},\"xaxis\":{\"gridcolor\":\"white\",\"linecolor\":\"white\",\"ticks\":\"\",\"title\":{\"standoff\":15},\"zerolinecolor\":\"white\",\"automargin\":true,\"zerolinewidth\":2},\"yaxis\":{\"gridcolor\":\"white\",\"linecolor\":\"white\",\"ticks\":\"\",\"title\":{\"standoff\":15},\"zerolinecolor\":\"white\",\"automargin\":true,\"zerolinewidth\":2},\"scene\":{\"xaxis\":{\"backgroundcolor\":\"#E5ECF6\",\"gridcolor\":\"white\",\"linecolor\":\"white\",\"showbackground\":true,\"ticks\":\"\",\"zerolinecolor\":\"white\",\"gridwidth\":2},\"yaxis\":{\"backgroundcolor\":\"#E5ECF6\",\"gridcolor\":\"white\",\"linecolor\":\"white\",\"showbackground\":true,\"ticks\":\"\",\"zerolinecolor\":\"white\",\"gridwidth\":2},\"zaxis\":{\"backgroundcolor\":\"#E5ECF6\",\"gridcolor\":\"white\",\"linecolor\":\"white\",\"showbackground\":true,\"ticks\":\"\",\"zerolinecolor\":\"white\",\"gridwidth\":2}},\"shapedefaults\":{\"line\":{\"color\":\"#2a3f5f\"}},\"annotationdefaults\":{\"arrowcolor\":\"#2a3f5f\",\"arrowhead\":0,\"arrowwidth\":1},\"geo\":{\"bgcolor\":\"white\",\"landcolor\":\"#E5ECF6\",\"subunitcolor\":\"white\",\"showland\":true,\"showlakes\":true,\"lakecolor\":\"white\"},\"title\":{\"x\":0.05},\"mapbox\":{\"style\":\"light\"}}},\"xaxis\":{\"anchor\":\"y\",\"domain\":[0.0,1.0],\"title\":{\"text\":\"data\"}},\"yaxis\":{\"anchor\":\"x\",\"domain\":[0.0,1.0],\"title\":{\"text\":\"tanh\"},\"range\":[-1.5,1.5]},\"legend\":{\"tracegroupgap\":0},\"margin\":{\"t\":60},\"width\":800},                        {\"responsive\": true}                    ).then(function(){\n",
              "                            \n",
              "var gd = document.getElementById('93ba65a0-7f47-4f77-a5b0-c002ab0375ea');\n",
              "var x = new MutationObserver(function (mutations, observer) {{\n",
              "        var display = window.getComputedStyle(gd).display;\n",
              "        if (!display || display === 'none') {{\n",
              "            console.log([gd, 'removed!']);\n",
              "            Plotly.purge(gd);\n",
              "            observer.disconnect();\n",
              "        }}\n",
              "}});\n",
              "\n",
              "// Listen for the removal of the full notebook cells\n",
              "var notebookContainer = gd.closest('#notebook-container');\n",
              "if (notebookContainer) {{\n",
              "    x.observe(notebookContainer, {childList: true});\n",
              "}}\n",
              "\n",
              "// Listen for the clearing of the current output cell\n",
              "var outputEl = gd.closest('.output');\n",
              "if (outputEl) {{\n",
              "    x.observe(outputEl, {childList: true});\n",
              "}}\n",
              "\n",
              "                        })                };                            </script>        </div>\n",
              "</body>\n",
              "</html>"
            ]
          },
          "metadata": {}
        }
      ]
    },
    {
      "cell_type": "code",
      "metadata": {
        "id": "hUCtW1HMgjkV",
        "colab": {
          "base_uri": "https://localhost:8080/"
        },
        "outputId": "ba7b0589-4475-482a-b26a-2d9b8850fc18"
      },
      "source": [
        "model = Sequential()\n",
        "model.add(Dense(units=8, activation='relu', input_shape=(10,)))\n",
        "model.add(Dense(units=1, activation='sigmoid'))\n",
        "model.summary()"
      ],
      "execution_count": 13,
      "outputs": [
        {
          "output_type": "stream",
          "name": "stdout",
          "text": [
            "Model: \"sequential_1\"\n",
            "_________________________________________________________________\n",
            " Layer (type)                Output Shape              Param #   \n",
            "=================================================================\n",
            " dense_2 (Dense)             (None, 8)                 88        \n",
            "                                                                 \n",
            " dense_3 (Dense)             (None, 1)                 9         \n",
            "                                                                 \n",
            "=================================================================\n",
            "Total params: 97 (388.00 Byte)\n",
            "Trainable params: 97 (388.00 Byte)\n",
            "Non-trainable params: 0 (0.00 Byte)\n",
            "_________________________________________________________________\n"
          ]
        }
      ]
    },
    {
      "cell_type": "markdown",
      "metadata": {
        "id": "NNWU1zbwimbx"
      },
      "source": [
        "### <a name='a2'></a>Kompilacja modelu\n",
        "Przed rozpoczęciem trenowania sieci należy odpowiednio skonfigurować proces uczenia. W tym kroku określamy:\n",
        "* rodzaj optymalizatora ([Keras - Optymalizatory](https://keras.io/optimizers/))\n",
        "* funkcję straty ([Keras - Funkcje Straty](https://keras.io/losses/))\n",
        "* metryki, które będziemy obserwować podczas trenowania sieci ([Keras - Metryki](https://keras.io/metrics/))"
      ]
    },
    {
      "cell_type": "code",
      "metadata": {
        "id": "oBRtQd7diI0e"
      },
      "source": [
        "# klasyfikacja binarna\n",
        "model.compile(optimizer='rmsprop',\n",
        "              loss='binary_crossentropy',\n",
        "              metrics=['accuracy'])\n",
        "\n",
        "# klasyfikacja wieloklasowa\n",
        "model.compile(optimizer='rmsprop',\n",
        "              loss='categorical_crossentropy',\n",
        "              metrics=['accuracy'])\n",
        "\n",
        "# regresja\n",
        "model.compile(optimizer='rmsprop',\n",
        "              loss='mse')"
      ],
      "execution_count": 14,
      "outputs": []
    },
    {
      "cell_type": "markdown",
      "metadata": {
        "id": "TqsJw4K-knNP"
      },
      "source": [
        "### <a name='a3'></a>Trenowanie modelu\n",
        "Za dane wejściowe do modelu należy przekazać Numpy arrays:\n",
        "* **epochs** - krotność przejścia danych przez sieć w procesie uczenia\n",
        "* **batch_size** - rozmiar wsadu po którym następuje aktualizacja wag\n",
        "* **validation_split** - część danych treningowych, które zostaną wykorzystane jako zbiór walidacyjny\n",
        "* **validation_data** - (x_val, y_val) - dane wykorzystane do walidacji modelu"
      ]
    },
    {
      "cell_type": "code",
      "metadata": {
        "id": "HBn1AzzGkS2h"
      },
      "source": [
        "# model.fit(data, labels, epochs=10, batch_size=32)\n",
        "# model.fit(data, labels, epochs=10, batch_size=32, validation_split=0.2)\n",
        "# model.fit(data, labels, epochs=10, batch_size=32, validation_data=(x_val, y_val))"
      ],
      "execution_count": 15,
      "outputs": []
    },
    {
      "cell_type": "markdown",
      "metadata": {
        "id": "8fmOZzNywvx6"
      },
      "source": [
        "### <a name='a4'></a> Przykład - klasyfikacja binarna"
      ]
    },
    {
      "cell_type": "code",
      "metadata": {
        "id": "gELP58XdwKSj",
        "colab": {
          "base_uri": "https://localhost:8080/"
        },
        "outputId": "9de392cd-7ad6-4381-ce04-4cb8f95bf3c2"
      },
      "source": [
        "data = np.random.randn(1000, 150)\n",
        "labels = np.random.randint(2, size=(1000, 1))\n",
        "\n",
        "print(data.shape)\n",
        "print(labels.shape)"
      ],
      "execution_count": 16,
      "outputs": [
        {
          "output_type": "stream",
          "name": "stdout",
          "text": [
            "(1000, 150)\n",
            "(1000, 1)\n"
          ]
        }
      ]
    },
    {
      "cell_type": "code",
      "metadata": {
        "id": "B_ItRZ5EwcdR",
        "colab": {
          "base_uri": "https://localhost:8080/"
        },
        "outputId": "06225939-e939-4557-e2b0-359a9897e364"
      },
      "source": [
        "data[:3]"
      ],
      "execution_count": 17,
      "outputs": [
        {
          "output_type": "execute_result",
          "data": {
            "text/plain": [
              "array([[ 5.09876039e-01, -4.73441484e-01, -4.44413828e-01,\n",
              "         1.01773000e+00,  3.98917977e-01,  5.00209603e-01,\n",
              "         1.22219641e+00, -6.91195969e-01, -1.40018311e+00,\n",
              "        -7.35545068e-01,  3.57010875e-01, -5.67306352e-02,\n",
              "        -1.07789363e-01, -5.95897930e-02,  1.33613320e+00,\n",
              "         5.93441902e-01,  4.45444737e-01, -1.18475447e+00,\n",
              "        -6.53556827e-01, -1.75944730e+00,  3.21855452e-02,\n",
              "        -2.52236874e-01, -1.17334716e+00, -4.36134682e-01,\n",
              "        -1.37229051e+00, -9.68536165e-01,  1.57360311e+00,\n",
              "        -9.17809748e-01,  1.76081276e+00,  7.04006066e-01,\n",
              "         6.91361316e-02, -2.11766869e+00,  8.77060102e-01,\n",
              "         4.07383777e-01,  2.53204939e-01,  2.01532647e+00,\n",
              "        -1.66856473e+00,  3.59522524e-01,  2.13297495e+00,\n",
              "        -7.95906693e-01,  1.97337372e+00,  9.65857273e-02,\n",
              "         2.27605413e+00, -2.52172290e-01,  1.44428403e+00,\n",
              "         6.49295140e-01, -2.08994545e-01, -1.10000703e-01,\n",
              "        -9.50442235e-01,  1.13587367e+00,  1.03151411e+00,\n",
              "        -5.82445229e-01,  4.90317300e-01,  3.35899806e-01,\n",
              "        -2.05903223e+00, -7.73861552e-01, -1.14527000e+00,\n",
              "         6.12493294e-03,  9.55544187e-01, -8.32019996e-01,\n",
              "        -2.50857549e-01,  3.61848833e-01, -8.86904713e-01,\n",
              "         3.65444392e-01, -1.07983159e+00,  1.96685963e-01,\n",
              "         3.92854340e-02, -3.85030382e-01, -9.56413515e-01,\n",
              "        -1.37974232e+00,  3.30318008e-02,  4.58398668e-01,\n",
              "        -5.31310010e-01, -1.48326308e+00,  7.33333736e-01,\n",
              "         1.38462621e-01,  3.76696558e-01, -2.34441343e+00,\n",
              "        -5.97035556e-01,  6.53549101e-01,  8.21725558e-01,\n",
              "        -1.48351310e-01, -1.08918935e-01,  2.27338057e+00,\n",
              "        -3.74135055e-01,  2.10999980e+00, -7.00721276e-01,\n",
              "         1.37089245e-01,  8.12353193e-01,  1.85032729e+00,\n",
              "         4.58447664e-01,  4.30761998e-01,  2.71199259e-01,\n",
              "        -9.04596579e-02, -6.91783469e-01, -1.87543353e-01,\n",
              "        -7.71516561e-01, -1.87035467e+00, -3.34671100e-01,\n",
              "         1.68970363e+00, -1.87681073e-01, -1.02986399e+00,\n",
              "         1.27646803e+00,  1.28986770e+00, -1.01794456e+00,\n",
              "         7.59376304e-01,  2.84407384e-02, -2.14469542e+00,\n",
              "         9.04019943e-02, -1.95617834e-01, -1.14260811e+00,\n",
              "        -4.87600235e-01, -4.23436334e-01, -2.35226625e-01,\n",
              "        -4.53400119e-01, -3.03076854e+00, -2.80139704e-01,\n",
              "        -7.97721873e-01, -2.03212625e-01, -5.58046292e-01,\n",
              "         5.39679611e-01,  8.27578037e-01,  1.26399559e-01,\n",
              "        -2.05945185e-01,  2.37675951e-01, -1.48942277e+00,\n",
              "        -3.61852596e-01,  3.04460954e-01, -2.74792335e+00,\n",
              "        -5.64586624e-01,  2.28933729e-01, -1.12454956e+00,\n",
              "         1.77084712e+00,  2.06843548e-01,  1.56219774e+00,\n",
              "         9.15207753e-01,  3.28310618e-01, -3.60738032e-01,\n",
              "         9.78379419e-01,  4.11341717e-01,  1.37080116e+00,\n",
              "         1.94538769e+00, -4.73854392e-01,  4.79696885e-03,\n",
              "        -9.10498073e-01,  1.95602597e+00, -2.26535246e-03,\n",
              "         7.54948044e-02,  1.01849087e+00, -1.12796864e+00],\n",
              "       [-6.68600234e-01, -9.47620523e-01, -1.95838024e-01,\n",
              "         4.68559843e-01, -7.82269651e-01,  2.72765338e-01,\n",
              "        -1.22342401e+00, -1.24582990e+00,  5.93507352e-01,\n",
              "        -1.36390742e+00, -1.12245144e+00,  9.02824070e-01,\n",
              "        -2.48615756e-01,  5.01717924e-02, -6.16149360e-01,\n",
              "        -6.89430927e-01, -1.15252236e+00, -1.34960526e+00,\n",
              "         5.27752403e-01,  9.48160679e-01,  6.08830449e-01,\n",
              "         5.99417798e-01, -2.86611162e-01, -1.70413156e-01,\n",
              "        -6.43368534e-01, -1.78099290e-01,  4.73816624e-01,\n",
              "        -2.14771998e-01,  4.88165245e-01,  9.25257472e-01,\n",
              "        -1.46160786e+00,  8.37411198e-01, -1.09307095e-01,\n",
              "         6.79740730e-02, -2.37602498e-02, -4.26841158e-01,\n",
              "        -1.51832887e+00,  1.47832341e+00, -1.82494613e+00,\n",
              "        -4.39843910e-01, -3.03372709e-02,  1.96909307e+00,\n",
              "        -5.99891346e-01,  6.34506368e-01,  7.71388963e-01,\n",
              "        -9.26468189e-01,  3.79046981e-01,  1.46185994e+00,\n",
              "         9.03394420e-01,  1.69678097e+00, -5.70900531e-02,\n",
              "         6.92814645e-02, -5.54422836e-01,  1.40527960e+00,\n",
              "        -1.16358255e+00, -1.86847115e+00,  2.27530019e-01,\n",
              "        -1.69212392e-01, -1.21691101e-01, -4.79652900e-01,\n",
              "         1.19311019e+00,  1.59934975e-01, -1.13389084e+00,\n",
              "         2.11983237e-01,  3.97324414e-01, -2.55220195e-01,\n",
              "        -9.56095065e-02,  8.11667095e-02,  6.76777607e-01,\n",
              "         4.55072261e-01, -8.78923998e-02,  8.61729345e-01,\n",
              "         3.94638714e-01,  1.44939583e-01,  1.52411945e+00,\n",
              "        -4.69210108e-01,  1.71887842e+00, -3.24294268e-01,\n",
              "        -4.08890003e-01, -1.78676068e+00,  3.36338401e-01,\n",
              "         1.65159446e+00,  4.80428936e-01,  6.52938594e-01,\n",
              "        -7.69376653e-01,  4.60941002e-01,  4.30254628e-01,\n",
              "        -1.61473691e+00,  1.45171338e+00, -1.57398127e+00,\n",
              "         1.72927980e-01,  1.36314152e-01, -1.30414636e+00,\n",
              "        -4.02557041e-01,  8.37649315e-01, -8.30270191e-01,\n",
              "        -1.62783454e-01,  1.14606218e+00, -1.52574268e+00,\n",
              "        -9.06425045e-02, -1.66338438e+00, -2.87304501e-02,\n",
              "         4.32662741e-01,  7.59312977e-01, -6.24473507e-01,\n",
              "        -1.14729837e+00,  4.86358420e-01, -1.01410839e+00,\n",
              "         3.23699371e+00, -1.90015696e-01,  2.56930526e-01,\n",
              "         1.39996848e+00, -1.63112967e+00, -4.65557197e-02,\n",
              "        -5.56591856e-01, -1.11500558e+00,  6.70285298e-01,\n",
              "         4.74054985e-01, -4.39671396e-01, -1.11395619e+00,\n",
              "        -1.96358187e-01,  1.43211490e+00,  3.71281593e-01,\n",
              "         9.70929403e-01,  1.81526259e-02,  1.23116500e+00,\n",
              "         1.44398458e-01,  5.75954728e-02,  1.40795458e+00,\n",
              "        -1.47109412e+00, -1.29711353e+00, -3.01567854e-01,\n",
              "        -2.09833987e-01,  4.54356871e-01, -9.42307387e-01,\n",
              "        -6.47113692e-01, -2.48382873e+00,  2.68342293e-01,\n",
              "        -9.11402428e-01, -1.14337043e-01,  2.42474007e-02,\n",
              "        -1.37618826e+00, -2.16406306e+00, -7.06008867e-01,\n",
              "        -3.59167214e-01, -1.29847350e+00,  4.80669082e-01,\n",
              "        -6.24661693e-01, -2.79737064e-01,  1.35270525e+00],\n",
              "       [-7.05704918e-01,  2.69222988e-01, -1.07914679e+00,\n",
              "         1.53898271e+00,  1.95139796e+00, -4.04768353e-01,\n",
              "         1.11256615e+00,  2.50998241e+00,  1.51502305e+00,\n",
              "        -1.80034937e-01, -1.38156651e+00, -9.11579679e-01,\n",
              "        -8.52987871e-01, -1.17597221e+00,  2.80369961e-01,\n",
              "        -1.89483976e-01,  1.63579788e+00,  5.69632591e-02,\n",
              "         2.02547247e+00,  8.83875556e-01, -1.92571261e+00,\n",
              "        -2.25248908e-01, -6.62812483e-01, -1.57909479e-01,\n",
              "        -5.05573319e-01, -1.60439535e+00, -2.23009673e+00,\n",
              "         1.96971604e-02,  5.69416747e-01,  1.19486930e+00,\n",
              "        -1.27892189e+00, -7.06581523e-01,  5.03246607e-01,\n",
              "         4.58572723e-01,  7.48925918e-01,  1.03370370e+00,\n",
              "         1.96381575e-01, -2.64420203e-01,  6.63623765e-01,\n",
              "         8.21269670e-01,  1.94509627e+00,  1.31582251e+00,\n",
              "        -1.40167112e+00, -1.29124436e+00, -2.01401301e-01,\n",
              "         1.87127611e+00,  1.91209542e+00,  1.75287401e+00,\n",
              "        -9.27905218e-01,  5.60770424e-01, -1.39644184e+00,\n",
              "         1.09693593e+00, -7.61728477e-01, -6.83844784e-01,\n",
              "        -6.69783323e-01, -1.32170612e-01, -1.93505015e-01,\n",
              "         4.67849655e-01,  4.01109121e-01,  1.23541278e+00,\n",
              "         1.41358438e+00,  1.62263755e+00,  1.07500004e+00,\n",
              "         1.13048744e+00, -4.17829058e-02, -2.95834514e-01,\n",
              "        -7.95081436e-01, -6.49016759e-01,  1.96874891e-01,\n",
              "        -1.48711923e+00, -2.61394305e-01, -1.45148358e+00,\n",
              "        -5.89729385e-01, -9.80031690e-01,  9.57592908e-01,\n",
              "         4.28218218e-01, -9.75115943e-01,  1.11788744e+00,\n",
              "         3.82718105e-01,  5.29238164e-01,  2.89212837e+00,\n",
              "        -2.22968534e+00, -7.84889843e-01, -1.64812110e+00,\n",
              "        -8.67431731e-01, -4.02264025e-01,  7.16414786e-01,\n",
              "         2.80634113e-01,  2.72687080e-01, -1.57628328e+00,\n",
              "         8.82262293e-01, -1.34369721e+00,  6.47222359e-01,\n",
              "         5.84353523e-01,  6.06718597e-01,  5.01502205e-01,\n",
              "        -3.53875187e-01,  5.89724226e-01, -9.08697543e-01,\n",
              "         2.36823106e-01,  6.93314377e-01, -5.35505225e-01,\n",
              "        -1.14700591e+00, -5.05140790e-01, -1.71555829e-01,\n",
              "         8.80720124e-01,  2.52844993e-01,  2.21056834e+00,\n",
              "         1.33576512e+00, -6.00372917e-01,  4.35582442e-01,\n",
              "         1.16914905e+00, -1.19370203e+00, -7.32076396e-01,\n",
              "         9.45975270e-01, -1.75838626e+00,  8.34111252e-01,\n",
              "        -8.43962430e-02, -2.07852115e+00,  5.52749113e-01,\n",
              "         1.07300514e+00, -3.37083795e-01,  6.70397639e-01,\n",
              "         3.95907749e-01,  2.02513225e+00,  3.08330534e-01,\n",
              "         2.48139155e-01, -6.86697233e-01, -7.69710233e-02,\n",
              "        -6.66744901e-01, -5.48847982e-01, -8.75616552e-01,\n",
              "        -7.19334470e-01, -5.65213067e-01,  1.04678480e+00,\n",
              "        -1.05880937e+00,  4.42313775e-01,  7.97071339e-01,\n",
              "        -2.93471931e-01, -1.73431412e+00,  4.47098956e-01,\n",
              "        -5.84704091e-01,  2.10980517e+00, -1.60682349e-01,\n",
              "        -4.77469622e-01, -1.31957125e-01,  3.08231521e-01,\n",
              "         1.58215911e+00, -6.68496073e-01,  2.47412227e-01]])"
            ]
          },
          "metadata": {},
          "execution_count": 17
        }
      ]
    },
    {
      "cell_type": "code",
      "metadata": {
        "id": "2AKkBXaZwmNq",
        "colab": {
          "base_uri": "https://localhost:8080/"
        },
        "outputId": "7156072a-7a3d-486a-b3ce-d82dd45d391a"
      },
      "source": [
        "labels[:10]"
      ],
      "execution_count": 18,
      "outputs": [
        {
          "output_type": "execute_result",
          "data": {
            "text/plain": [
              "array([[1],\n",
              "       [0],\n",
              "       [1],\n",
              "       [0],\n",
              "       [1],\n",
              "       [1],\n",
              "       [0],\n",
              "       [1],\n",
              "       [1],\n",
              "       [1]])"
            ]
          },
          "metadata": {},
          "execution_count": 18
        }
      ]
    },
    {
      "cell_type": "code",
      "metadata": {
        "id": "3YmwwLjZwpvE",
        "colab": {
          "base_uri": "https://localhost:8080/"
        },
        "outputId": "c1a4990e-10fc-4093-c3a6-594a2ca177e6"
      },
      "source": [
        "model = Sequential()\n",
        "model.add(Dense(units=32, activation='relu', input_shape=(150,)))\n",
        "model.add(Dense(1, activation='sigmoid'))\n",
        "\n",
        "model.compile(optimizer='rmsprop',\n",
        "              loss='binary_crossentropy',\n",
        "              metrics=['accuracy'])\n",
        "\n",
        "model.fit(data, labels, epochs=20)"
      ],
      "execution_count": 19,
      "outputs": [
        {
          "output_type": "stream",
          "name": "stdout",
          "text": [
            "Epoch 1/20\n",
            "32/32 [==============================] - 1s 2ms/step - loss: 0.8085 - accuracy: 0.5200\n",
            "Epoch 2/20\n",
            "32/32 [==============================] - 0s 2ms/step - loss: 0.7093 - accuracy: 0.5880\n",
            "Epoch 3/20\n",
            "32/32 [==============================] - 0s 2ms/step - loss: 0.6533 - accuracy: 0.6350\n",
            "Epoch 4/20\n",
            "32/32 [==============================] - 0s 2ms/step - loss: 0.6093 - accuracy: 0.6730\n",
            "Epoch 5/20\n",
            "32/32 [==============================] - 0s 2ms/step - loss: 0.5726 - accuracy: 0.7070\n",
            "Epoch 6/20\n",
            "32/32 [==============================] - 0s 2ms/step - loss: 0.5419 - accuracy: 0.7440\n",
            "Epoch 7/20\n",
            "32/32 [==============================] - 0s 2ms/step - loss: 0.5140 - accuracy: 0.7680\n",
            "Epoch 8/20\n",
            "32/32 [==============================] - 0s 2ms/step - loss: 0.4886 - accuracy: 0.7930\n",
            "Epoch 9/20\n",
            "32/32 [==============================] - 0s 2ms/step - loss: 0.4636 - accuracy: 0.8090\n",
            "Epoch 10/20\n",
            "32/32 [==============================] - 0s 2ms/step - loss: 0.4392 - accuracy: 0.8320\n",
            "Epoch 11/20\n",
            "32/32 [==============================] - 0s 2ms/step - loss: 0.4173 - accuracy: 0.8500\n",
            "Epoch 12/20\n",
            "32/32 [==============================] - 0s 2ms/step - loss: 0.3951 - accuracy: 0.8690\n",
            "Epoch 13/20\n",
            "32/32 [==============================] - 0s 2ms/step - loss: 0.3725 - accuracy: 0.8980\n",
            "Epoch 14/20\n",
            "32/32 [==============================] - 0s 2ms/step - loss: 0.3514 - accuracy: 0.9120\n",
            "Epoch 15/20\n",
            "32/32 [==============================] - 0s 2ms/step - loss: 0.3303 - accuracy: 0.9200\n",
            "Epoch 16/20\n",
            "32/32 [==============================] - 0s 2ms/step - loss: 0.3098 - accuracy: 0.9410\n",
            "Epoch 17/20\n",
            "32/32 [==============================] - 0s 2ms/step - loss: 0.2902 - accuracy: 0.9550\n",
            "Epoch 18/20\n",
            "32/32 [==============================] - 0s 2ms/step - loss: 0.2699 - accuracy: 0.9630\n",
            "Epoch 19/20\n",
            "32/32 [==============================] - 0s 2ms/step - loss: 0.2518 - accuracy: 0.9690\n",
            "Epoch 20/20\n",
            "32/32 [==============================] - 0s 2ms/step - loss: 0.2321 - accuracy: 0.9780\n"
          ]
        },
        {
          "output_type": "execute_result",
          "data": {
            "text/plain": [
              "<keras.src.callbacks.History at 0x7e889a3a7f10>"
            ]
          },
          "metadata": {},
          "execution_count": 19
        }
      ]
    },
    {
      "cell_type": "code",
      "metadata": {
        "id": "5X_mtwLfy2d9",
        "colab": {
          "base_uri": "https://localhost:8080/"
        },
        "outputId": "6573de94-7cca-4f6e-f654-f62aa5e6d08a"
      },
      "source": [
        "model = Sequential()\n",
        "model.add(Dense(units=32, activation='relu', input_shape=(150,)))\n",
        "model.add(Dense(1, activation='sigmoid'))\n",
        "\n",
        "model.compile(optimizer='rmsprop',\n",
        "              loss='binary_crossentropy',\n",
        "              metrics=['accuracy'])\n",
        "\n",
        "model.fit(data, labels, epochs=20, batch_size=30)"
      ],
      "execution_count": 20,
      "outputs": [
        {
          "output_type": "stream",
          "name": "stdout",
          "text": [
            "Epoch 1/20\n",
            "34/34 [==============================] - 1s 2ms/step - loss: 0.8008 - accuracy: 0.5070\n",
            "Epoch 2/20\n",
            "34/34 [==============================] - 0s 2ms/step - loss: 0.6962 - accuracy: 0.5710\n",
            "Epoch 3/20\n",
            "34/34 [==============================] - 0s 2ms/step - loss: 0.6382 - accuracy: 0.6340\n",
            "Epoch 4/20\n",
            "34/34 [==============================] - 0s 2ms/step - loss: 0.5930 - accuracy: 0.6710\n",
            "Epoch 5/20\n",
            "34/34 [==============================] - 0s 2ms/step - loss: 0.5551 - accuracy: 0.7390\n",
            "Epoch 6/20\n",
            "34/34 [==============================] - 0s 2ms/step - loss: 0.5230 - accuracy: 0.7630\n",
            "Epoch 7/20\n",
            "34/34 [==============================] - 0s 2ms/step - loss: 0.4946 - accuracy: 0.7920\n",
            "Epoch 8/20\n",
            "34/34 [==============================] - 0s 2ms/step - loss: 0.4668 - accuracy: 0.8240\n",
            "Epoch 9/20\n",
            "34/34 [==============================] - 0s 2ms/step - loss: 0.4421 - accuracy: 0.8390\n",
            "Epoch 10/20\n",
            "34/34 [==============================] - 0s 2ms/step - loss: 0.4183 - accuracy: 0.8610\n",
            "Epoch 11/20\n",
            "34/34 [==============================] - 0s 2ms/step - loss: 0.3950 - accuracy: 0.8780\n",
            "Epoch 12/20\n",
            "34/34 [==============================] - 0s 3ms/step - loss: 0.3713 - accuracy: 0.8930\n",
            "Epoch 13/20\n",
            "34/34 [==============================] - 0s 2ms/step - loss: 0.3506 - accuracy: 0.9110\n",
            "Epoch 14/20\n",
            "34/34 [==============================] - 0s 2ms/step - loss: 0.3282 - accuracy: 0.9250\n",
            "Epoch 15/20\n",
            "34/34 [==============================] - 0s 2ms/step - loss: 0.3072 - accuracy: 0.9390\n",
            "Epoch 16/20\n",
            "34/34 [==============================] - 0s 2ms/step - loss: 0.2867 - accuracy: 0.9490\n",
            "Epoch 17/20\n",
            "34/34 [==============================] - 0s 2ms/step - loss: 0.2660 - accuracy: 0.9620\n",
            "Epoch 18/20\n",
            "34/34 [==============================] - 0s 2ms/step - loss: 0.2473 - accuracy: 0.9740\n",
            "Epoch 19/20\n",
            "34/34 [==============================] - 0s 2ms/step - loss: 0.2276 - accuracy: 0.9760\n",
            "Epoch 20/20\n",
            "34/34 [==============================] - 0s 2ms/step - loss: 0.2094 - accuracy: 0.9850\n"
          ]
        },
        {
          "output_type": "execute_result",
          "data": {
            "text/plain": [
              "<keras.src.callbacks.History at 0x7e8892ae0520>"
            ]
          },
          "metadata": {},
          "execution_count": 20
        }
      ]
    },
    {
      "cell_type": "code",
      "metadata": {
        "id": "xj5leE1dxK0-",
        "colab": {
          "base_uri": "https://localhost:8080/"
        },
        "outputId": "e750c17b-050a-4f4d-e02e-015088e9e176"
      },
      "source": [
        "model = Sequential()\n",
        "model.add(Dense(units=32, activation='relu', input_shape=(150,)))\n",
        "model.add(Dense(1, activation='sigmoid'))\n",
        "\n",
        "model.compile(optimizer='rmsprop',\n",
        "              loss='binary_crossentropy',\n",
        "              metrics=['accuracy'])\n",
        "\n",
        "model.fit(data, labels, epochs=20, batch_size=32, validation_split=0.2)"
      ],
      "execution_count": 21,
      "outputs": [
        {
          "output_type": "stream",
          "name": "stdout",
          "text": [
            "Epoch 1/20\n",
            "25/25 [==============================] - 1s 12ms/step - loss: 0.7926 - accuracy: 0.4950 - val_loss: 0.7765 - val_accuracy: 0.4650\n",
            "Epoch 2/20\n",
            "25/25 [==============================] - 0s 4ms/step - loss: 0.7030 - accuracy: 0.5462 - val_loss: 0.7669 - val_accuracy: 0.4850\n",
            "Epoch 3/20\n",
            "25/25 [==============================] - 0s 4ms/step - loss: 0.6521 - accuracy: 0.6087 - val_loss: 0.7620 - val_accuracy: 0.5000\n",
            "Epoch 4/20\n",
            "25/25 [==============================] - 0s 3ms/step - loss: 0.6092 - accuracy: 0.6525 - val_loss: 0.7613 - val_accuracy: 0.5100\n",
            "Epoch 5/20\n",
            "25/25 [==============================] - 0s 4ms/step - loss: 0.5732 - accuracy: 0.7000 - val_loss: 0.7630 - val_accuracy: 0.5200\n",
            "Epoch 6/20\n",
            "25/25 [==============================] - 0s 4ms/step - loss: 0.5410 - accuracy: 0.7575 - val_loss: 0.7687 - val_accuracy: 0.5300\n",
            "Epoch 7/20\n",
            "25/25 [==============================] - 0s 4ms/step - loss: 0.5123 - accuracy: 0.7675 - val_loss: 0.7754 - val_accuracy: 0.5350\n",
            "Epoch 8/20\n",
            "25/25 [==============================] - 0s 5ms/step - loss: 0.4861 - accuracy: 0.8025 - val_loss: 0.7824 - val_accuracy: 0.5350\n",
            "Epoch 9/20\n",
            "25/25 [==============================] - 0s 4ms/step - loss: 0.4607 - accuracy: 0.8213 - val_loss: 0.7918 - val_accuracy: 0.5400\n",
            "Epoch 10/20\n",
            "25/25 [==============================] - 0s 4ms/step - loss: 0.4371 - accuracy: 0.8388 - val_loss: 0.8012 - val_accuracy: 0.5500\n",
            "Epoch 11/20\n",
            "25/25 [==============================] - 0s 4ms/step - loss: 0.4146 - accuracy: 0.8700 - val_loss: 0.8114 - val_accuracy: 0.5600\n",
            "Epoch 12/20\n",
            "25/25 [==============================] - 0s 4ms/step - loss: 0.3920 - accuracy: 0.8838 - val_loss: 0.8237 - val_accuracy: 0.5550\n",
            "Epoch 13/20\n",
            "25/25 [==============================] - 0s 4ms/step - loss: 0.3695 - accuracy: 0.8975 - val_loss: 0.8325 - val_accuracy: 0.5450\n",
            "Epoch 14/20\n",
            "25/25 [==============================] - 0s 4ms/step - loss: 0.3491 - accuracy: 0.9137 - val_loss: 0.8429 - val_accuracy: 0.5450\n",
            "Epoch 15/20\n",
            "25/25 [==============================] - 0s 4ms/step - loss: 0.3272 - accuracy: 0.9262 - val_loss: 0.8535 - val_accuracy: 0.5450\n",
            "Epoch 16/20\n",
            "25/25 [==============================] - 0s 3ms/step - loss: 0.3075 - accuracy: 0.9375 - val_loss: 0.8633 - val_accuracy: 0.5650\n",
            "Epoch 17/20\n",
            "25/25 [==============================] - 0s 4ms/step - loss: 0.2863 - accuracy: 0.9475 - val_loss: 0.8737 - val_accuracy: 0.5650\n",
            "Epoch 18/20\n",
            "25/25 [==============================] - 0s 4ms/step - loss: 0.2677 - accuracy: 0.9600 - val_loss: 0.8887 - val_accuracy: 0.5700\n",
            "Epoch 19/20\n",
            "25/25 [==============================] - 0s 4ms/step - loss: 0.2486 - accuracy: 0.9775 - val_loss: 0.9011 - val_accuracy: 0.5700\n",
            "Epoch 20/20\n",
            "25/25 [==============================] - 0s 4ms/step - loss: 0.2304 - accuracy: 0.9800 - val_loss: 0.9123 - val_accuracy: 0.5650\n"
          ]
        },
        {
          "output_type": "execute_result",
          "data": {
            "text/plain": [
              "<keras.src.callbacks.History at 0x7e889af44e20>"
            ]
          },
          "metadata": {},
          "execution_count": 21
        }
      ]
    },
    {
      "cell_type": "code",
      "metadata": {
        "id": "N8O4byzjzHJC",
        "colab": {
          "base_uri": "https://localhost:8080/"
        },
        "outputId": "8d81a949-b096-4f26-994d-577bec60dfb2"
      },
      "source": [
        "model = Sequential()\n",
        "model.add(Dense(units=32, activation='relu', input_shape=(150,)))\n",
        "model.add(Dense(1, activation='sigmoid'))\n",
        "\n",
        "model.compile(optimizer='rmsprop',\n",
        "              loss='binary_crossentropy',\n",
        "              metrics=['accuracy'])\n",
        "\n",
        "model.fit(data, labels, epochs=20, batch_size=32, validation_split=0.2, verbose=0)"
      ],
      "execution_count": 23,
      "outputs": [
        {
          "output_type": "execute_result",
          "data": {
            "text/plain": [
              "<keras.src.callbacks.History at 0x7e889ae53370>"
            ]
          },
          "metadata": {},
          "execution_count": 23
        }
      ]
    },
    {
      "cell_type": "code",
      "metadata": {
        "id": "suJlatlYzQOD"
      },
      "source": [
        "model = Sequential()\n",
        "model.add(Dense(units=32, activation='relu', input_shape=(150,)))\n",
        "model.add(Dense(1, activation='sigmoid'))\n",
        "\n",
        "model.compile(optimizer='rmsprop',\n",
        "              loss='binary_crossentropy',\n",
        "              metrics=['accuracy'])\n",
        "\n",
        "history = model.fit(data, labels, epochs=20, batch_size=32, validation_split=0.2, verbose=0)"
      ],
      "execution_count": 24,
      "outputs": []
    },
    {
      "cell_type": "code",
      "metadata": {
        "id": "InFcS0sgzkf6",
        "colab": {
          "base_uri": "https://localhost:8080/"
        },
        "outputId": "1362f0f8-ec77-4c69-b021-0b6ca53664d2"
      },
      "source": [
        "metrics = history.history\n",
        "metrics.keys()"
      ],
      "execution_count": 26,
      "outputs": [
        {
          "output_type": "execute_result",
          "data": {
            "text/plain": [
              "dict_keys(['loss', 'accuracy', 'val_loss', 'val_accuracy'])"
            ]
          },
          "metadata": {},
          "execution_count": 26
        }
      ]
    },
    {
      "cell_type": "code",
      "metadata": {
        "id": "d9bUtGmXzzoY",
        "colab": {
          "base_uri": "https://localhost:8080/"
        },
        "outputId": "a176b338-62de-4b6e-9a23-92eda807c50f"
      },
      "source": [
        "model = Sequential()\n",
        "model.add(Dense(units=32, activation='relu', input_shape=(150,)))\n",
        "model.add(Dense(1, activation='sigmoid'))\n",
        "\n",
        "model.compile(optimizer='rmsprop',\n",
        "              loss='binary_crossentropy',\n",
        "              metrics=['accuracy'])\n",
        "\n",
        "history = model.fit(data, labels, epochs=20, batch_size=32, validation_split=0.2, verbose=1)"
      ],
      "execution_count": 28,
      "outputs": [
        {
          "output_type": "stream",
          "name": "stdout",
          "text": [
            "Epoch 1/20\n",
            "25/25 [==============================] - 1s 10ms/step - loss: 0.8739 - accuracy: 0.5075 - val_loss: 0.7835 - val_accuracy: 0.5100\n",
            "Epoch 2/20\n",
            "25/25 [==============================] - 0s 4ms/step - loss: 0.7411 - accuracy: 0.5437 - val_loss: 0.7612 - val_accuracy: 0.5300\n",
            "Epoch 3/20\n",
            "25/25 [==============================] - 0s 5ms/step - loss: 0.6748 - accuracy: 0.5987 - val_loss: 0.7494 - val_accuracy: 0.5200\n",
            "Epoch 4/20\n",
            "25/25 [==============================] - 0s 3ms/step - loss: 0.6276 - accuracy: 0.6400 - val_loss: 0.7431 - val_accuracy: 0.5700\n",
            "Epoch 5/20\n",
            "25/25 [==============================] - 0s 4ms/step - loss: 0.5898 - accuracy: 0.6787 - val_loss: 0.7377 - val_accuracy: 0.5500\n",
            "Epoch 6/20\n",
            "25/25 [==============================] - 0s 4ms/step - loss: 0.5570 - accuracy: 0.7300 - val_loss: 0.7375 - val_accuracy: 0.5400\n",
            "Epoch 7/20\n",
            "25/25 [==============================] - 0s 4ms/step - loss: 0.5280 - accuracy: 0.7550 - val_loss: 0.7393 - val_accuracy: 0.5350\n",
            "Epoch 8/20\n",
            "25/25 [==============================] - 0s 4ms/step - loss: 0.5017 - accuracy: 0.7812 - val_loss: 0.7420 - val_accuracy: 0.5450\n",
            "Epoch 9/20\n",
            "25/25 [==============================] - 0s 5ms/step - loss: 0.4748 - accuracy: 0.8150 - val_loss: 0.7477 - val_accuracy: 0.5350\n",
            "Epoch 10/20\n",
            "25/25 [==============================] - 0s 3ms/step - loss: 0.4509 - accuracy: 0.8225 - val_loss: 0.7547 - val_accuracy: 0.5350\n",
            "Epoch 11/20\n",
            "25/25 [==============================] - 0s 5ms/step - loss: 0.4267 - accuracy: 0.8475 - val_loss: 0.7619 - val_accuracy: 0.5300\n",
            "Epoch 12/20\n",
            "25/25 [==============================] - 0s 4ms/step - loss: 0.4040 - accuracy: 0.8612 - val_loss: 0.7706 - val_accuracy: 0.5250\n",
            "Epoch 13/20\n",
            "25/25 [==============================] - 0s 4ms/step - loss: 0.3808 - accuracy: 0.8775 - val_loss: 0.7806 - val_accuracy: 0.5300\n",
            "Epoch 14/20\n",
            "25/25 [==============================] - 0s 4ms/step - loss: 0.3593 - accuracy: 0.8925 - val_loss: 0.7914 - val_accuracy: 0.5450\n",
            "Epoch 15/20\n",
            "25/25 [==============================] - 0s 3ms/step - loss: 0.3376 - accuracy: 0.9175 - val_loss: 0.8032 - val_accuracy: 0.5350\n",
            "Epoch 16/20\n",
            "25/25 [==============================] - 0s 4ms/step - loss: 0.3159 - accuracy: 0.9287 - val_loss: 0.8168 - val_accuracy: 0.5350\n",
            "Epoch 17/20\n",
            "25/25 [==============================] - 0s 4ms/step - loss: 0.2949 - accuracy: 0.9425 - val_loss: 0.8277 - val_accuracy: 0.5400\n",
            "Epoch 18/20\n",
            "25/25 [==============================] - 0s 4ms/step - loss: 0.2744 - accuracy: 0.9550 - val_loss: 0.8419 - val_accuracy: 0.5350\n",
            "Epoch 19/20\n",
            "25/25 [==============================] - 0s 4ms/step - loss: 0.2546 - accuracy: 0.9663 - val_loss: 0.8576 - val_accuracy: 0.5350\n",
            "Epoch 20/20\n",
            "25/25 [==============================] - 0s 4ms/step - loss: 0.2363 - accuracy: 0.9737 - val_loss: 0.8741 - val_accuracy: 0.5400\n"
          ]
        }
      ]
    },
    {
      "cell_type": "code",
      "metadata": {
        "id": "b1xtUueg0Tr9"
      },
      "source": [
        "test_data = np.random.randn(5, 150)\n",
        "test_labels = np.random.randint(2, size=(5, 1))"
      ],
      "execution_count": 29,
      "outputs": []
    },
    {
      "cell_type": "code",
      "metadata": {
        "id": "MIODWVx90nDf",
        "colab": {
          "base_uri": "https://localhost:8080/"
        },
        "outputId": "e8b99f30-d6de-4f4f-c46a-39a452cb4a65"
      },
      "source": [
        "model.predict(test_data)"
      ],
      "execution_count": 30,
      "outputs": [
        {
          "output_type": "stream",
          "name": "stdout",
          "text": [
            "1/1 [==============================] - 0s 87ms/step\n"
          ]
        },
        {
          "output_type": "execute_result",
          "data": {
            "text/plain": [
              "array([[0.97115356],\n",
              "       [0.6579365 ],\n",
              "       [0.6401503 ],\n",
              "       [0.24929969],\n",
              "       [0.23309685]], dtype=float32)"
            ]
          },
          "metadata": {},
          "execution_count": 30
        }
      ]
    },
    {
      "cell_type": "code",
      "source": [],
      "metadata": {
        "id": "5Q4tYjueMXYT"
      },
      "execution_count": null,
      "outputs": []
    },
    {
      "cell_type": "code",
      "metadata": {
        "id": "Pkv50Web0usG",
        "colab": {
          "base_uri": "https://localhost:8080/"
        },
        "outputId": "f4376a41-9ccf-42bc-ab36-26aadddae6f2"
      },
      "source": [
        "model.predict_proba(test_data)\n"
      ],
      "execution_count": 35,
      "outputs": [
        {
          "output_type": "stream",
          "name": "stdout",
          "text": [
            "1/1 [==============================] - 0s 21ms/step\n"
          ]
        },
        {
          "output_type": "execute_result",
          "data": {
            "text/plain": [
              "array([0, 0, 0, 0, 0])"
            ]
          },
          "metadata": {},
          "execution_count": 35
        }
      ]
    },
    {
      "cell_type": "code",
      "metadata": {
        "id": "c142k6Ev14k5",
        "colab": {
          "base_uri": "https://localhost:8080/",
          "height": 144
        },
        "outputId": "fc9c3deb-59a0-4749-edce-968307cf0372"
      },
      "source": [
        "model.predict_classes(test_data)"
      ],
      "execution_count": 32,
      "outputs": [
        {
          "output_type": "error",
          "ename": "AttributeError",
          "evalue": "'Sequential' object has no attribute 'predict_classes'",
          "traceback": [
            "\u001b[0;31m---------------------------------------------------------------------------\u001b[0m",
            "\u001b[0;31mAttributeError\u001b[0m                            Traceback (most recent call last)",
            "\u001b[0;32m<ipython-input-32-873120e67cf4>\u001b[0m in \u001b[0;36m<cell line: 1>\u001b[0;34m()\u001b[0m\n\u001b[0;32m----> 1\u001b[0;31m \u001b[0mmodel\u001b[0m\u001b[0;34m.\u001b[0m\u001b[0mpredict_classes\u001b[0m\u001b[0;34m(\u001b[0m\u001b[0mtest_data\u001b[0m\u001b[0;34m)\u001b[0m\u001b[0;34m\u001b[0m\u001b[0;34m\u001b[0m\u001b[0m\n\u001b[0m",
            "\u001b[0;31mAttributeError\u001b[0m: 'Sequential' object has no attribute 'predict_classes'"
          ]
        }
      ]
    },
    {
      "cell_type": "code",
      "metadata": {
        "id": "AOIhjKe418cH"
      },
      "source": [],
      "execution_count": null,
      "outputs": []
    },
    {
      "cell_type": "markdown",
      "metadata": {
        "id": "AZymszuI28k-"
      },
      "source": [
        "### <a name='a5'></a> Przykład - klasyfikacja wieloklasowa"
      ]
    },
    {
      "cell_type": "code",
      "metadata": {
        "id": "tWIc_gVG2-_L"
      },
      "source": [
        "data = np.random.random((1000, 150))\n",
        "labels = np.random.randint(10, size=(1000, 1))"
      ],
      "execution_count": 36,
      "outputs": []
    },
    {
      "cell_type": "code",
      "metadata": {
        "id": "fnKrv8Mk3HSs",
        "colab": {
          "base_uri": "https://localhost:8080/"
        },
        "outputId": "9425d10e-c285-4105-8b35-b7b5801bcff4"
      },
      "source": [
        "print(data.shape)\n",
        "print(labels.shape)"
      ],
      "execution_count": 37,
      "outputs": [
        {
          "output_type": "stream",
          "name": "stdout",
          "text": [
            "(1000, 150)\n",
            "(1000, 1)\n"
          ]
        }
      ]
    },
    {
      "cell_type": "code",
      "metadata": {
        "id": "GEY2kQdz3Fi2",
        "colab": {
          "base_uri": "https://localhost:8080/"
        },
        "outputId": "8144252c-bc8b-401c-aa0e-b86f20b3eac3"
      },
      "source": [
        "data[:3]"
      ],
      "execution_count": 38,
      "outputs": [
        {
          "output_type": "execute_result",
          "data": {
            "text/plain": [
              "array([[1.66615406e-01, 3.42957981e-01, 9.56388501e-02, 3.14342574e-01,\n",
              "        5.99003306e-01, 8.80528390e-01, 5.62339917e-01, 5.68208021e-01,\n",
              "        8.81744515e-01, 3.70712795e-01, 9.01802373e-01, 4.98481480e-01,\n",
              "        9.33042887e-01, 9.45387120e-01, 7.65983488e-01, 8.69979112e-01,\n",
              "        3.42346013e-01, 3.70822179e-01, 9.53507573e-01, 9.27235298e-01,\n",
              "        8.48992501e-02, 2.00716437e-01, 5.23994449e-01, 7.82445772e-01,\n",
              "        9.55034079e-01, 5.01239808e-01, 5.60486575e-01, 7.59838361e-01,\n",
              "        9.98367424e-01, 2.25178863e-01, 1.62464699e-01, 7.99779474e-01,\n",
              "        3.18931492e-01, 3.69588876e-02, 8.88666535e-01, 4.54179220e-01,\n",
              "        7.33929035e-01, 8.96923979e-01, 3.29385971e-01, 8.04646088e-01,\n",
              "        6.96269410e-01, 8.22657196e-01, 9.52623750e-01, 6.90974011e-01,\n",
              "        9.66530824e-02, 3.50261692e-01, 3.45068909e-01, 6.75940313e-01,\n",
              "        3.57181490e-01, 3.68024251e-01, 5.84120870e-01, 3.25850454e-01,\n",
              "        9.54322729e-01, 5.75807434e-01, 4.64705106e-02, 6.03748604e-01,\n",
              "        9.68252427e-01, 6.55515867e-01, 4.64176055e-01, 5.74994772e-01,\n",
              "        3.48689492e-01, 9.54506835e-01, 8.96296948e-01, 5.63563657e-01,\n",
              "        5.54946010e-01, 9.43003206e-01, 2.50324963e-01, 7.82311181e-01,\n",
              "        4.55344932e-01, 7.13571380e-01, 5.91409109e-01, 9.13469642e-01,\n",
              "        8.04892489e-02, 9.87466068e-01, 2.34896744e-01, 7.56613508e-01,\n",
              "        9.21963527e-01, 9.86635828e-01, 7.43648364e-01, 6.68075281e-01,\n",
              "        4.22855672e-01, 7.57149098e-01, 6.41797437e-01, 7.72542656e-01,\n",
              "        7.39363954e-01, 8.85672439e-01, 6.83203620e-01, 6.18839104e-01,\n",
              "        1.80323627e-01, 8.22131372e-01, 8.89755324e-01, 8.24528952e-01,\n",
              "        1.09698559e-01, 4.02331490e-01, 8.96494433e-01, 7.32102397e-01,\n",
              "        2.35098559e-01, 6.66800973e-01, 5.81445083e-02, 8.70675070e-01,\n",
              "        2.30558753e-01, 6.22957143e-01, 1.89355731e-02, 9.70211420e-02,\n",
              "        2.13835275e-01, 8.51918427e-01, 7.91701095e-01, 8.64967181e-01,\n",
              "        4.62569867e-01, 1.64970682e-01, 4.11740039e-01, 3.34448776e-01,\n",
              "        6.10180039e-01, 4.35198858e-01, 4.39576118e-01, 9.49779936e-01,\n",
              "        7.67294681e-01, 4.36417124e-02, 8.42262047e-01, 5.16091986e-01,\n",
              "        8.59239526e-01, 9.40794617e-01, 7.18298997e-01, 8.58574736e-01,\n",
              "        1.34547985e-01, 1.76218678e-04, 5.96776674e-01, 9.60400010e-01,\n",
              "        2.67354408e-01, 7.09803749e-02, 7.71955796e-01, 9.65473321e-01,\n",
              "        7.92042519e-01, 4.92187406e-01, 5.78325585e-02, 4.05300552e-01,\n",
              "        6.77020765e-01, 9.17909797e-01, 3.02094276e-01, 4.43069632e-01,\n",
              "        2.69055826e-01, 6.43120735e-01, 8.22494517e-01, 4.44806535e-01,\n",
              "        8.96388822e-01, 7.45371590e-01, 4.29734625e-01, 8.56350011e-01,\n",
              "        6.66091148e-01, 1.92139087e-02],\n",
              "       [7.51552807e-02, 3.47968925e-01, 9.64112261e-01, 6.91680641e-01,\n",
              "        6.27412232e-02, 9.64312815e-01, 3.63873719e-01, 9.25546402e-01,\n",
              "        8.40595444e-01, 7.86697743e-01, 6.91691579e-01, 9.73495544e-01,\n",
              "        5.57442312e-01, 8.01500615e-01, 9.04921713e-01, 1.87965926e-01,\n",
              "        7.46974760e-01, 6.41735502e-02, 4.45310511e-01, 1.24349362e-01,\n",
              "        9.09612259e-01, 1.06990225e-01, 7.50228453e-02, 3.73045669e-01,\n",
              "        4.22023555e-02, 3.91974959e-01, 7.93330737e-01, 7.83832298e-01,\n",
              "        2.10808886e-01, 6.62788249e-01, 8.84289411e-01, 1.76651308e-01,\n",
              "        8.30583286e-01, 7.51519601e-01, 4.57536367e-01, 5.98451844e-01,\n",
              "        4.05688665e-01, 9.67457747e-01, 8.47536701e-01, 9.77747563e-01,\n",
              "        7.23585471e-02, 8.81601738e-01, 2.35469896e-01, 4.36972216e-01,\n",
              "        7.31842297e-01, 2.69595411e-02, 3.80930844e-01, 9.15816183e-02,\n",
              "        9.11395771e-01, 6.23583702e-02, 3.88504079e-01, 7.68104728e-01,\n",
              "        5.14926024e-01, 5.41897762e-01, 6.97290913e-01, 4.15205688e-01,\n",
              "        1.37436244e-01, 2.58788008e-02, 1.47257970e-01, 9.09743380e-01,\n",
              "        5.51601517e-01, 5.82169721e-01, 6.88973291e-01, 9.86976377e-01,\n",
              "        5.68865250e-01, 7.11922607e-02, 7.45625539e-01, 3.41073098e-01,\n",
              "        3.89098963e-01, 9.55905831e-01, 6.95092142e-01, 4.92753033e-02,\n",
              "        8.52023973e-02, 2.75127451e-01, 6.16302419e-01, 1.43782511e-01,\n",
              "        4.19468787e-01, 5.22972728e-01, 7.55136502e-01, 5.44849602e-02,\n",
              "        5.58275818e-01, 3.70100943e-01, 6.62184824e-01, 5.02517408e-01,\n",
              "        9.09452172e-01, 6.86367055e-01, 5.77028297e-01, 4.80207724e-01,\n",
              "        2.18791156e-01, 5.05303581e-01, 2.23579983e-01, 6.98194571e-01,\n",
              "        3.10281847e-01, 7.09333313e-01, 5.47674254e-01, 1.18061847e-01,\n",
              "        8.13794699e-02, 1.97695474e-02, 9.19666398e-02, 8.93481914e-01,\n",
              "        4.00775331e-01, 6.03736362e-01, 9.49269887e-01, 4.49819970e-01,\n",
              "        6.83898002e-01, 3.56966608e-01, 5.63988332e-01, 3.96710068e-01,\n",
              "        8.41161901e-01, 9.83850831e-01, 2.49743434e-02, 2.04224471e-01,\n",
              "        7.00463530e-01, 4.34419975e-01, 5.13613111e-02, 1.00030911e-01,\n",
              "        8.86122364e-01, 1.91596432e-02, 1.47288703e-01, 4.45112086e-01,\n",
              "        1.87022020e-01, 9.28614080e-01, 3.96980185e-01, 2.12613797e-01,\n",
              "        6.06177408e-01, 6.56636928e-01, 5.01528760e-01, 7.49375058e-01,\n",
              "        1.96213265e-01, 2.68714431e-01, 3.06271268e-01, 6.64828250e-01,\n",
              "        3.75798023e-01, 8.26872777e-01, 8.07842993e-01, 4.72181521e-02,\n",
              "        2.99631877e-01, 3.42329257e-01, 2.38067438e-01, 8.41961691e-01,\n",
              "        9.28240723e-01, 6.82637002e-01, 4.07002496e-01, 9.97067855e-01,\n",
              "        4.58749905e-01, 2.21218284e-01, 8.96935183e-01, 8.17243517e-01,\n",
              "        6.51762678e-01, 6.35631424e-01],\n",
              "       [9.94025212e-01, 9.73177903e-01, 1.58462966e-01, 2.70165964e-01,\n",
              "        2.77144146e-02, 3.75327161e-01, 6.03898694e-01, 9.89730441e-01,\n",
              "        1.18496866e-01, 7.36012713e-01, 5.89835866e-01, 4.00677965e-01,\n",
              "        5.48049342e-01, 5.55589705e-01, 1.39025291e-01, 2.88258899e-01,\n",
              "        4.88777180e-01, 3.25153773e-01, 8.73131118e-01, 6.78009265e-01,\n",
              "        5.86176921e-01, 9.22130302e-01, 9.25005478e-01, 9.95460696e-01,\n",
              "        2.77869773e-01, 2.90891797e-01, 6.82795473e-01, 1.30624006e-01,\n",
              "        4.73421055e-02, 9.26008513e-01, 9.38663195e-01, 3.10167154e-01,\n",
              "        2.93624213e-01, 8.36745115e-01, 5.42860632e-01, 7.61837587e-01,\n",
              "        2.09246746e-01, 7.86249124e-01, 9.87409996e-01, 7.07063968e-01,\n",
              "        4.31784137e-01, 6.63549292e-01, 8.20278772e-01, 1.93190129e-01,\n",
              "        7.19450776e-01, 2.91819762e-01, 5.27592565e-01, 5.46240871e-01,\n",
              "        9.89410288e-01, 3.83060548e-01, 3.77552136e-01, 4.31628527e-01,\n",
              "        3.79876156e-01, 7.75072781e-01, 4.65407768e-01, 9.60988878e-01,\n",
              "        5.17956302e-01, 1.43199948e-01, 5.02991735e-01, 4.11876188e-01,\n",
              "        3.80077172e-01, 1.07539604e-02, 5.73518516e-01, 7.15856161e-01,\n",
              "        6.11468612e-01, 6.33390603e-01, 4.19203044e-01, 3.38985249e-01,\n",
              "        3.43499151e-01, 6.07428146e-01, 6.73864042e-01, 5.51691697e-01,\n",
              "        3.58576385e-01, 9.49209806e-01, 5.73422371e-01, 9.66804957e-01,\n",
              "        1.04137659e-02, 7.26015411e-01, 5.34866357e-01, 4.26172057e-01,\n",
              "        2.70485522e-01, 9.83644746e-01, 7.04347891e-01, 4.27257677e-01,\n",
              "        4.34089645e-02, 8.01751122e-01, 1.39745845e-01, 6.92718462e-01,\n",
              "        6.89274216e-01, 4.40457792e-01, 8.51343614e-01, 8.59199336e-01,\n",
              "        7.57413897e-01, 5.74437104e-02, 5.65932765e-01, 6.12075549e-01,\n",
              "        5.68208889e-01, 9.75103568e-01, 5.16640595e-01, 4.59835089e-01,\n",
              "        7.84666088e-02, 4.65794833e-01, 5.32687635e-01, 9.93839070e-01,\n",
              "        5.72645612e-01, 6.74067027e-01, 3.31228806e-01, 8.46339982e-01,\n",
              "        5.44398143e-01, 8.82091121e-02, 5.11138667e-01, 5.79960583e-01,\n",
              "        2.60824100e-01, 2.43494906e-01, 3.32356145e-01, 8.45589806e-01,\n",
              "        3.32507833e-01, 6.42921908e-01, 9.25374426e-01, 7.29281929e-01,\n",
              "        5.88528783e-01, 4.10893005e-01, 9.16167733e-01, 7.09500029e-01,\n",
              "        9.74269659e-01, 9.78552922e-01, 4.30373411e-01, 2.47591491e-01,\n",
              "        9.95133648e-01, 5.24897774e-01, 1.08158228e-01, 3.23697515e-01,\n",
              "        7.13478290e-01, 4.57167401e-01, 4.64619372e-01, 4.91873727e-01,\n",
              "        1.54789755e-01, 7.65266911e-01, 5.70429412e-01, 6.24360191e-01,\n",
              "        3.19367335e-01, 7.96594590e-01, 6.65283074e-01, 1.73621344e-02,\n",
              "        2.56294009e-01, 2.63957383e-01, 8.90332993e-01, 5.08452514e-01,\n",
              "        8.97782527e-01, 4.01706896e-01]])"
            ]
          },
          "metadata": {},
          "execution_count": 38
        }
      ]
    },
    {
      "cell_type": "code",
      "metadata": {
        "id": "-UM9ArPU3GZm",
        "colab": {
          "base_uri": "https://localhost:8080/"
        },
        "outputId": "2eb08176-bd1e-415f-96e0-5e7d7c174c08"
      },
      "source": [
        "labels[:10]"
      ],
      "execution_count": 39,
      "outputs": [
        {
          "output_type": "execute_result",
          "data": {
            "text/plain": [
              "array([[2],\n",
              "       [7],\n",
              "       [8],\n",
              "       [7],\n",
              "       [0],\n",
              "       [0],\n",
              "       [8],\n",
              "       [2],\n",
              "       [1],\n",
              "       [4]])"
            ]
          },
          "metadata": {},
          "execution_count": 39
        }
      ]
    },
    {
      "cell_type": "code",
      "metadata": {
        "id": "llauNV3D3OFK",
        "colab": {
          "base_uri": "https://localhost:8080/"
        },
        "outputId": "e72be35f-a796-4200-b7f7-15a4908cf84d"
      },
      "source": [
        "from tensorflow.keras.utils import to_categorical\n",
        "labels = to_categorical(labels, num_classes=10)\n",
        "labels"
      ],
      "execution_count": 40,
      "outputs": [
        {
          "output_type": "execute_result",
          "data": {
            "text/plain": [
              "array([[0., 0., 1., ..., 0., 0., 0.],\n",
              "       [0., 0., 0., ..., 1., 0., 0.],\n",
              "       [0., 0., 0., ..., 0., 1., 0.],\n",
              "       ...,\n",
              "       [0., 0., 0., ..., 0., 0., 0.],\n",
              "       [0., 0., 1., ..., 0., 0., 0.],\n",
              "       [0., 0., 0., ..., 0., 1., 0.]], dtype=float32)"
            ]
          },
          "metadata": {},
          "execution_count": 40
        }
      ]
    },
    {
      "cell_type": "code",
      "metadata": {
        "id": "vORrZXRz7HUp",
        "colab": {
          "base_uri": "https://localhost:8080/"
        },
        "outputId": "cdeeabe0-d300-4000-bfca-4e39dde860c7"
      },
      "source": [
        "labels[1]"
      ],
      "execution_count": 41,
      "outputs": [
        {
          "output_type": "execute_result",
          "data": {
            "text/plain": [
              "array([0., 0., 0., 0., 0., 0., 0., 1., 0., 0.], dtype=float32)"
            ]
          },
          "metadata": {},
          "execution_count": 41
        }
      ]
    },
    {
      "cell_type": "code",
      "metadata": {
        "id": "k03Mdkup5yZ1",
        "colab": {
          "base_uri": "https://localhost:8080/"
        },
        "outputId": "792435ec-cc71-4075-dffd-9b6af8c02d1c"
      },
      "source": [
        "model = Sequential()\n",
        "model.add(Dense(units=32, activation='relu', input_shape=(150,)))\n",
        "model.add(Dense(units=10, activation='softmax'))\n",
        "\n",
        "model.compile(optimizer='rmsprop',\n",
        "              loss='categorical_crossentropy',\n",
        "              metrics=['accuracy'])\n",
        "\n",
        "model.fit(data, labels, batch_size=32, epochs=30, validation_split=0.2)"
      ],
      "execution_count": 42,
      "outputs": [
        {
          "output_type": "stream",
          "name": "stdout",
          "text": [
            "Epoch 1/30\n",
            "25/25 [==============================] - 1s 11ms/step - loss: 2.3653 - accuracy: 0.1000 - val_loss: 2.3915 - val_accuracy: 0.0900\n",
            "Epoch 2/30\n",
            "25/25 [==============================] - 0s 4ms/step - loss: 2.3240 - accuracy: 0.1187 - val_loss: 2.3791 - val_accuracy: 0.0800\n",
            "Epoch 3/30\n",
            "25/25 [==============================] - 0s 4ms/step - loss: 2.3012 - accuracy: 0.1325 - val_loss: 2.3866 - val_accuracy: 0.0650\n",
            "Epoch 4/30\n",
            "25/25 [==============================] - 0s 4ms/step - loss: 2.2876 - accuracy: 0.1312 - val_loss: 2.3649 - val_accuracy: 0.0700\n",
            "Epoch 5/30\n",
            "25/25 [==============================] - 0s 3ms/step - loss: 2.2751 - accuracy: 0.1587 - val_loss: 2.3764 - val_accuracy: 0.0850\n",
            "Epoch 6/30\n",
            "25/25 [==============================] - 0s 4ms/step - loss: 2.2617 - accuracy: 0.1550 - val_loss: 2.3902 - val_accuracy: 0.0650\n",
            "Epoch 7/30\n",
            "25/25 [==============================] - 0s 4ms/step - loss: 2.2512 - accuracy: 0.1450 - val_loss: 2.3627 - val_accuracy: 0.0850\n",
            "Epoch 8/30\n",
            "25/25 [==============================] - 0s 3ms/step - loss: 2.2363 - accuracy: 0.1750 - val_loss: 2.4047 - val_accuracy: 0.0950\n",
            "Epoch 9/30\n",
            "25/25 [==============================] - 0s 4ms/step - loss: 2.2235 - accuracy: 0.1863 - val_loss: 2.3636 - val_accuracy: 0.0850\n",
            "Epoch 10/30\n",
            "25/25 [==============================] - 0s 4ms/step - loss: 2.2181 - accuracy: 0.2025 - val_loss: 2.3753 - val_accuracy: 0.1000\n",
            "Epoch 11/30\n",
            "25/25 [==============================] - 0s 4ms/step - loss: 2.2008 - accuracy: 0.2087 - val_loss: 2.3960 - val_accuracy: 0.0900\n",
            "Epoch 12/30\n",
            "25/25 [==============================] - 0s 4ms/step - loss: 2.1837 - accuracy: 0.2175 - val_loss: 2.3995 - val_accuracy: 0.0950\n",
            "Epoch 13/30\n",
            "25/25 [==============================] - 0s 4ms/step - loss: 2.1743 - accuracy: 0.2138 - val_loss: 2.3890 - val_accuracy: 0.1250\n",
            "Epoch 14/30\n",
            "25/25 [==============================] - 0s 4ms/step - loss: 2.1615 - accuracy: 0.2313 - val_loss: 2.4083 - val_accuracy: 0.0700\n",
            "Epoch 15/30\n",
            "25/25 [==============================] - 0s 3ms/step - loss: 2.1517 - accuracy: 0.2250 - val_loss: 2.3952 - val_accuracy: 0.0800\n",
            "Epoch 16/30\n",
            "25/25 [==============================] - 0s 5ms/step - loss: 2.1368 - accuracy: 0.2488 - val_loss: 2.3922 - val_accuracy: 0.0950\n",
            "Epoch 17/30\n",
            "25/25 [==============================] - 0s 4ms/step - loss: 2.1237 - accuracy: 0.2625 - val_loss: 2.4143 - val_accuracy: 0.0950\n",
            "Epoch 18/30\n",
            "25/25 [==============================] - 0s 3ms/step - loss: 2.1093 - accuracy: 0.2625 - val_loss: 2.4032 - val_accuracy: 0.0900\n",
            "Epoch 19/30\n",
            "25/25 [==============================] - 0s 3ms/step - loss: 2.0963 - accuracy: 0.2750 - val_loss: 2.4023 - val_accuracy: 0.0900\n",
            "Epoch 20/30\n",
            "25/25 [==============================] - 0s 4ms/step - loss: 2.0847 - accuracy: 0.2912 - val_loss: 2.3991 - val_accuracy: 0.1000\n",
            "Epoch 21/30\n",
            "25/25 [==============================] - 0s 4ms/step - loss: 2.0665 - accuracy: 0.3050 - val_loss: 2.4176 - val_accuracy: 0.0950\n",
            "Epoch 22/30\n",
            "25/25 [==============================] - 0s 4ms/step - loss: 2.0571 - accuracy: 0.2950 - val_loss: 2.4064 - val_accuracy: 0.1200\n",
            "Epoch 23/30\n",
            "25/25 [==============================] - 0s 4ms/step - loss: 2.0370 - accuracy: 0.3050 - val_loss: 2.4172 - val_accuracy: 0.0950\n",
            "Epoch 24/30\n",
            "25/25 [==============================] - 0s 4ms/step - loss: 2.0262 - accuracy: 0.3137 - val_loss: 2.4075 - val_accuracy: 0.1100\n",
            "Epoch 25/30\n",
            "25/25 [==============================] - 0s 3ms/step - loss: 2.0069 - accuracy: 0.3237 - val_loss: 2.4447 - val_accuracy: 0.1100\n",
            "Epoch 26/30\n",
            "25/25 [==============================] - 0s 5ms/step - loss: 1.9916 - accuracy: 0.3300 - val_loss: 2.4299 - val_accuracy: 0.1150\n",
            "Epoch 27/30\n",
            "25/25 [==============================] - 0s 4ms/step - loss: 1.9819 - accuracy: 0.3413 - val_loss: 2.4394 - val_accuracy: 0.1100\n",
            "Epoch 28/30\n",
            "25/25 [==============================] - 0s 3ms/step - loss: 1.9612 - accuracy: 0.3537 - val_loss: 2.4507 - val_accuracy: 0.0950\n",
            "Epoch 29/30\n",
            "25/25 [==============================] - 0s 4ms/step - loss: 1.9534 - accuracy: 0.3713 - val_loss: 2.4613 - val_accuracy: 0.1200\n",
            "Epoch 30/30\n",
            "25/25 [==============================] - 0s 4ms/step - loss: 1.9340 - accuracy: 0.3575 - val_loss: 2.4698 - val_accuracy: 0.1000\n"
          ]
        },
        {
          "output_type": "execute_result",
          "data": {
            "text/plain": [
              "<keras.src.callbacks.History at 0x7e889a2967d0>"
            ]
          },
          "metadata": {},
          "execution_count": 42
        }
      ]
    },
    {
      "cell_type": "code",
      "metadata": {
        "id": "apTq9u_O63vu",
        "colab": {
          "base_uri": "https://localhost:8080/"
        },
        "outputId": "547b6fc0-703a-4e56-f81d-b039403982df"
      },
      "source": [
        "test_data = np.random.random((10, 150))\n",
        "\n",
        "model.predict(test_data)"
      ],
      "execution_count": 43,
      "outputs": [
        {
          "output_type": "stream",
          "name": "stdout",
          "text": [
            "1/1 [==============================] - 0s 59ms/step\n"
          ]
        },
        {
          "output_type": "execute_result",
          "data": {
            "text/plain": [
              "array([[0.07369861, 0.09249242, 0.18032084, 0.03059305, 0.06587502,\n",
              "        0.08483427, 0.09748222, 0.14116094, 0.14901581, 0.08452677],\n",
              "       [0.07990202, 0.11647557, 0.06471377, 0.07190457, 0.09419192,\n",
              "        0.08015964, 0.08018229, 0.11712866, 0.16833752, 0.12700407],\n",
              "       [0.07479502, 0.07221207, 0.15478079, 0.05738892, 0.08875635,\n",
              "        0.10462207, 0.16037598, 0.05191165, 0.18807608, 0.04708109],\n",
              "       [0.05319747, 0.14331974, 0.07122316, 0.08525889, 0.09124152,\n",
              "        0.07999104, 0.07774187, 0.05058277, 0.18624386, 0.16119967],\n",
              "       [0.04981272, 0.02678962, 0.07167672, 0.03423252, 0.17900136,\n",
              "        0.04873646, 0.24025975, 0.0949509 , 0.13110553, 0.12343442],\n",
              "       [0.10079993, 0.04206309, 0.04416388, 0.23134512, 0.1034952 ,\n",
              "        0.06383339, 0.04225197, 0.11201251, 0.1128263 , 0.14720865],\n",
              "       [0.02628751, 0.13555218, 0.02898932, 0.08784746, 0.08243381,\n",
              "        0.04149484, 0.02035956, 0.20060265, 0.291119  , 0.08531362],\n",
              "       [0.12937054, 0.10474302, 0.15198195, 0.06573406, 0.06403616,\n",
              "        0.11236782, 0.17109326, 0.08138874, 0.05807482, 0.06120959],\n",
              "       [0.07305703, 0.0388201 , 0.28932104, 0.06209859, 0.07463986,\n",
              "        0.08221793, 0.10515687, 0.06396708, 0.12418868, 0.0865329 ],\n",
              "       [0.06889617, 0.08842225, 0.11724295, 0.23433042, 0.0526971 ,\n",
              "        0.13029122, 0.04493315, 0.08263568, 0.14825264, 0.03229836]],\n",
              "      dtype=float32)"
            ]
          },
          "metadata": {},
          "execution_count": 43
        }
      ]
    },
    {
      "cell_type": "code",
      "source": [
        "predictions = model.predict(test_data)\n",
        "\n",
        "# Znalezienie indeksów największych prawdopodobieństw, które odpowiadają klasom\n",
        "predicted_classes = np.argmax(predictions, axis=1)\n",
        "\n",
        "predicted_classes"
      ],
      "metadata": {
        "id": "dliywHFKNYGe",
        "outputId": "f9f99634-f6c2-4132-9fc9-ef0ea3cb0e67",
        "colab": {
          "base_uri": "https://localhost:8080/"
        }
      },
      "execution_count": 46,
      "outputs": [
        {
          "output_type": "stream",
          "name": "stdout",
          "text": [
            "1/1 [==============================] - 0s 22ms/step\n"
          ]
        },
        {
          "output_type": "execute_result",
          "data": {
            "text/plain": [
              "array([2, 8, 8, 8, 6, 3, 8, 6, 2, 3])"
            ]
          },
          "metadata": {},
          "execution_count": 46
        }
      ]
    },
    {
      "cell_type": "code",
      "metadata": {
        "id": "Pd6vGftg8SHk",
        "colab": {
          "base_uri": "https://localhost:8080/",
          "height": 144
        },
        "outputId": "6aeeeb58-eac3-407b-9f9b-bd1b968d73df"
      },
      "source": [
        "model.predict_classes(test_data)"
      ],
      "execution_count": 44,
      "outputs": [
        {
          "output_type": "error",
          "ename": "AttributeError",
          "evalue": "'Sequential' object has no attribute 'predict_classes'",
          "traceback": [
            "\u001b[0;31m---------------------------------------------------------------------------\u001b[0m",
            "\u001b[0;31mAttributeError\u001b[0m                            Traceback (most recent call last)",
            "\u001b[0;32m<ipython-input-44-873120e67cf4>\u001b[0m in \u001b[0;36m<cell line: 1>\u001b[0;34m()\u001b[0m\n\u001b[0;32m----> 1\u001b[0;31m \u001b[0mmodel\u001b[0m\u001b[0;34m.\u001b[0m\u001b[0mpredict_classes\u001b[0m\u001b[0;34m(\u001b[0m\u001b[0mtest_data\u001b[0m\u001b[0;34m)\u001b[0m\u001b[0;34m\u001b[0m\u001b[0;34m\u001b[0m\u001b[0m\n\u001b[0m",
            "\u001b[0;31mAttributeError\u001b[0m: 'Sequential' object has no attribute 'predict_classes'"
          ]
        }
      ]
    },
    {
      "cell_type": "markdown",
      "metadata": {
        "id": "FZuyR0UW8fP2"
      },
      "source": [
        "### <a name='a6'></a> Przykład - regresja"
      ]
    },
    {
      "cell_type": "code",
      "metadata": {
        "id": "Uj04-RVU8WNh"
      },
      "source": [
        "data = np.random.random((1000, 150))\n",
        "labels = 50 * np.random.random(1000)"
      ],
      "execution_count": 47,
      "outputs": []
    },
    {
      "cell_type": "code",
      "metadata": {
        "id": "nzjtUUE38pj4",
        "colab": {
          "base_uri": "https://localhost:8080/"
        },
        "outputId": "f365afac-7958-430c-eae9-3c62bbca72c3"
      },
      "source": [
        "data[:3]"
      ],
      "execution_count": 51,
      "outputs": [
        {
          "output_type": "execute_result",
          "data": {
            "text/plain": [
              "array([[3.04510209e-01, 8.51026939e-01, 6.49757460e-01, 8.44554309e-01,\n",
              "        6.04334665e-01, 2.09615682e-01, 9.15372454e-01, 8.42940522e-01,\n",
              "        3.27617994e-01, 1.65437009e-01, 9.92930209e-01, 2.48390304e-01,\n",
              "        5.69328333e-01, 9.93862750e-01, 2.47287040e-01, 7.19710158e-01,\n",
              "        4.48788725e-01, 6.01764258e-01, 6.09636507e-01, 8.18205421e-01,\n",
              "        6.74416723e-01, 6.79383021e-01, 5.07329784e-01, 5.01815868e-01,\n",
              "        4.43599674e-01, 8.36272910e-02, 2.63451181e-01, 1.37900369e-01,\n",
              "        9.81954679e-02, 5.53203150e-04, 8.25878545e-01, 1.30309629e-01,\n",
              "        7.44254570e-01, 1.72983434e-01, 4.23950614e-01, 7.84301262e-01,\n",
              "        6.65285474e-01, 1.13916130e-01, 2.67698677e-01, 8.37625638e-01,\n",
              "        7.39409651e-01, 4.32974098e-02, 7.75985950e-01, 7.03996673e-01,\n",
              "        5.61410705e-01, 9.90173065e-01, 9.34849196e-01, 1.41919868e-01,\n",
              "        2.96477630e-01, 2.82044138e-01, 2.94888461e-01, 6.88853475e-01,\n",
              "        9.33428106e-01, 2.61598560e-01, 1.59871677e-01, 4.31587373e-01,\n",
              "        8.44439909e-01, 8.83048230e-01, 7.79747620e-02, 9.72167348e-01,\n",
              "        1.34318964e-01, 8.84674656e-01, 3.48522370e-01, 7.08187984e-02,\n",
              "        9.90175605e-01, 9.10396721e-02, 4.86009523e-01, 3.28681999e-01,\n",
              "        5.99039839e-01, 8.00669267e-01, 7.57632612e-01, 8.31218147e-01,\n",
              "        2.29219606e-01, 7.52590492e-01, 5.01197664e-01, 6.41493748e-01,\n",
              "        4.10092593e-01, 1.74228433e-01, 8.81690225e-01, 3.85671290e-01,\n",
              "        8.04668139e-01, 4.65660932e-01, 4.72498575e-01, 8.37110202e-01,\n",
              "        9.26136568e-01, 7.50004116e-01, 9.01135148e-01, 2.50524258e-01,\n",
              "        7.95643486e-01, 6.17544665e-02, 7.54467728e-01, 1.33242620e-01,\n",
              "        4.86822725e-01, 9.71700043e-01, 1.38811024e-01, 2.76553293e-01,\n",
              "        7.50743285e-01, 6.53723320e-02, 4.87137658e-02, 6.75972831e-02,\n",
              "        2.79711793e-01, 8.03179321e-01, 7.29478593e-01, 6.59952866e-01,\n",
              "        4.11685426e-01, 9.87793035e-01, 6.52791854e-01, 9.09059287e-01,\n",
              "        3.70164984e-01, 8.71851799e-01, 4.04279705e-02, 9.47590577e-01,\n",
              "        2.19300390e-01, 4.04828735e-01, 6.24281116e-01, 2.61884515e-01,\n",
              "        4.32196580e-01, 1.28158144e-01, 3.55937529e-01, 5.77145709e-01,\n",
              "        4.04779360e-01, 1.17493361e-01, 6.27528633e-01, 9.71227987e-01,\n",
              "        3.28582879e-02, 4.78552699e-02, 2.18753484e-01, 6.18941058e-01,\n",
              "        1.74075621e-01, 7.25395077e-01, 6.04067688e-01, 5.84838290e-01,\n",
              "        5.71173634e-01, 2.38719426e-01, 2.70343949e-01, 4.88383138e-01,\n",
              "        4.39791082e-01, 2.78908143e-01, 1.73868155e-01, 4.39959129e-01,\n",
              "        1.23880446e-01, 2.29334452e-01, 6.33452385e-01, 4.51874674e-03,\n",
              "        5.66076512e-01, 8.32864892e-01, 2.73639139e-01, 9.01614543e-01,\n",
              "        6.29196590e-01, 4.41812158e-01],\n",
              "       [3.44336915e-01, 9.57677389e-01, 8.99810030e-02, 3.61291703e-01,\n",
              "        7.68050148e-01, 6.00631217e-01, 4.02231439e-01, 1.49959291e-01,\n",
              "        9.69916803e-01, 3.48174945e-01, 8.39210138e-01, 5.36101793e-01,\n",
              "        9.53450263e-01, 8.35985533e-01, 6.47970317e-02, 3.97940804e-02,\n",
              "        1.56547749e-01, 6.35996386e-01, 4.99023384e-01, 5.11365414e-01,\n",
              "        6.37938226e-01, 5.86543799e-01, 3.53513017e-01, 2.27364324e-01,\n",
              "        1.09412414e-02, 3.27961218e-01, 3.94917934e-01, 8.93818596e-01,\n",
              "        4.34428418e-01, 1.11004354e-01, 2.34633816e-01, 5.56036584e-01,\n",
              "        7.72558471e-01, 7.68188391e-01, 8.22040660e-01, 1.27638952e-01,\n",
              "        9.93939310e-01, 8.95292484e-02, 9.13738216e-01, 4.87218127e-01,\n",
              "        9.67523665e-01, 4.75943559e-01, 9.00900272e-02, 3.17021582e-02,\n",
              "        8.33084590e-01, 5.69257961e-01, 6.22778159e-01, 9.40727488e-01,\n",
              "        4.08340556e-01, 3.13264483e-01, 6.02049008e-02, 1.90426558e-01,\n",
              "        7.66763440e-01, 6.83903403e-01, 5.36755024e-01, 4.98577736e-01,\n",
              "        5.16135072e-01, 4.87066800e-01, 1.71257967e-01, 9.32648567e-01,\n",
              "        9.93335214e-01, 2.72017010e-02, 3.48684318e-01, 2.01451933e-01,\n",
              "        7.85415768e-02, 2.94848432e-01, 8.58700923e-01, 7.28464246e-01,\n",
              "        5.18238116e-01, 4.00687333e-02, 6.79698050e-01, 2.14667839e-03,\n",
              "        7.18907855e-01, 7.15702351e-01, 8.37609560e-01, 1.02124264e-01,\n",
              "        9.36337892e-01, 6.09011279e-01, 2.19782008e-01, 5.86125208e-01,\n",
              "        2.99379906e-01, 1.56072736e-01, 1.20062075e-01, 7.51876575e-01,\n",
              "        9.08095473e-01, 1.71675077e-01, 5.30123695e-01, 1.96855809e-01,\n",
              "        1.06263494e-01, 1.25480518e-01, 9.41100186e-01, 9.50483674e-01,\n",
              "        9.40507017e-01, 1.83658463e-02, 4.95449534e-01, 1.04906020e-01,\n",
              "        2.65301507e-01, 1.95143170e-01, 4.36291522e-01, 6.64182743e-01,\n",
              "        3.32075043e-01, 6.68870400e-01, 5.56420773e-01, 9.39949571e-01,\n",
              "        5.71828355e-01, 5.61546555e-01, 4.92610557e-01, 3.56164898e-01,\n",
              "        2.85366260e-01, 8.18921223e-01, 1.37750189e-01, 1.52407904e-01,\n",
              "        9.12144702e-01, 3.91183516e-01, 9.77247807e-01, 6.55947590e-01,\n",
              "        3.46620237e-02, 6.71589097e-01, 7.65983555e-02, 6.86553247e-01,\n",
              "        4.46644435e-02, 8.29771755e-01, 3.68125313e-01, 4.57294794e-01,\n",
              "        5.00391458e-02, 1.29548616e-01, 6.61350309e-01, 2.88166816e-01,\n",
              "        5.07297522e-01, 6.98952392e-01, 8.90461288e-02, 6.52446741e-01,\n",
              "        2.33330577e-01, 2.16703741e-01, 9.49483803e-01, 5.83751283e-01,\n",
              "        3.02803419e-01, 8.09643488e-01, 5.52680894e-01, 3.01683973e-01,\n",
              "        7.82152748e-01, 2.10381702e-01, 8.08941654e-01, 4.26143996e-01,\n",
              "        2.52505209e-01, 7.41357769e-01, 1.64463204e-01, 4.59898204e-01,\n",
              "        2.71198443e-01, 5.49811017e-01],\n",
              "       [1.09242484e-01, 9.45797595e-01, 9.27091657e-01, 5.74745837e-01,\n",
              "        7.48373285e-01, 8.89860268e-01, 8.43019234e-02, 5.83833059e-01,\n",
              "        1.25830031e-01, 8.46900199e-01, 2.14184599e-01, 1.54575023e-01,\n",
              "        3.90018765e-01, 4.98206752e-01, 4.98333617e-01, 9.01320964e-01,\n",
              "        4.33540679e-01, 4.83076763e-01, 5.38666304e-01, 6.12675169e-01,\n",
              "        8.37212495e-02, 2.57538550e-01, 6.92077821e-01, 8.85242868e-01,\n",
              "        1.50672134e-01, 1.03146174e-01, 8.80468327e-01, 5.39154021e-01,\n",
              "        3.66784263e-01, 7.29209303e-01, 4.53871937e-02, 9.38751378e-01,\n",
              "        5.83210531e-01, 3.70845178e-01, 7.58152012e-01, 7.62354791e-01,\n",
              "        1.61794431e-01, 3.41418666e-01, 4.64537553e-01, 2.39976643e-01,\n",
              "        9.09318342e-01, 1.16778469e-01, 7.57048114e-01, 7.80669911e-01,\n",
              "        9.64451572e-01, 9.98589867e-01, 4.43453366e-01, 3.67052704e-01,\n",
              "        7.76158627e-01, 8.83864445e-01, 4.58694740e-01, 1.71380576e-01,\n",
              "        1.60002666e-01, 9.49058893e-02, 4.86139877e-01, 3.85366730e-01,\n",
              "        4.86552051e-01, 8.79274349e-01, 3.92344161e-01, 4.06988601e-01,\n",
              "        4.19255013e-01, 3.76610115e-01, 9.85840977e-01, 7.61784586e-01,\n",
              "        3.84965056e-01, 1.77987423e-01, 7.51462492e-01, 8.98328447e-01,\n",
              "        3.69770006e-01, 4.38246376e-01, 8.33665145e-02, 4.42491177e-01,\n",
              "        7.45845214e-01, 6.68288883e-01, 6.19484344e-01, 7.18930307e-01,\n",
              "        1.29876592e-01, 4.68373078e-01, 9.27562382e-01, 8.37001342e-01,\n",
              "        9.45930178e-01, 6.69931509e-01, 5.28412735e-01, 8.71474334e-01,\n",
              "        8.91657954e-01, 8.14361753e-01, 2.25392795e-01, 1.37852939e-01,\n",
              "        6.72424843e-01, 9.44464835e-01, 1.66113264e-01, 3.16128785e-01,\n",
              "        7.27596422e-01, 6.46229570e-01, 3.80403055e-02, 3.81305058e-01,\n",
              "        2.08548452e-01, 1.88667428e-01, 4.14105832e-01, 6.29948976e-01,\n",
              "        6.92437376e-01, 7.13670967e-01, 3.60367150e-02, 8.28024578e-01,\n",
              "        4.94710299e-01, 2.70833033e-01, 4.54800806e-01, 1.91521467e-02,\n",
              "        8.21985774e-01, 7.77751755e-01, 6.35695928e-01, 1.30742347e-01,\n",
              "        1.33816739e-01, 8.17082875e-01, 2.08200939e-01, 6.80106078e-01,\n",
              "        1.09937176e-02, 9.96070193e-01, 2.56524951e-01, 9.57720657e-02,\n",
              "        8.85883104e-02, 9.33380176e-01, 8.70472530e-01, 9.06032148e-01,\n",
              "        5.44337533e-01, 4.43182891e-01, 3.83401495e-01, 6.93185121e-01,\n",
              "        5.61505387e-01, 3.25089788e-01, 6.43843345e-01, 1.30519840e-01,\n",
              "        1.44993137e-01, 7.02987199e-01, 4.43051253e-01, 4.17135959e-02,\n",
              "        5.93955304e-01, 8.24830218e-02, 4.17136314e-01, 4.39210909e-01,\n",
              "        8.71933028e-01, 3.91458778e-01, 9.25939199e-01, 5.41451103e-01,\n",
              "        6.43388361e-02, 4.06540634e-01, 7.33357932e-01, 5.23061768e-01,\n",
              "        6.28851276e-01, 2.70516544e-01]])"
            ]
          },
          "metadata": {},
          "execution_count": 51
        }
      ]
    },
    {
      "cell_type": "code",
      "metadata": {
        "id": "G9T_X5kr8qht",
        "colab": {
          "base_uri": "https://localhost:8080/"
        },
        "outputId": "a9c07af5-b09d-404b-d1f0-f3b6a8c74c62"
      },
      "source": [
        "labels[:10]"
      ],
      "execution_count": 50,
      "outputs": [
        {
          "output_type": "execute_result",
          "data": {
            "text/plain": [
              "array([15.76496735, 16.4493407 ,  2.32671486, 30.18020031, 10.97452681,\n",
              "       39.80629216, 47.52505672,  9.52026182,  6.72048121, 28.84454747])"
            ]
          },
          "metadata": {},
          "execution_count": 50
        }
      ]
    },
    {
      "cell_type": "code",
      "metadata": {
        "id": "M3MEGPvy8rqz",
        "colab": {
          "base_uri": "https://localhost:8080/"
        },
        "outputId": "f26e5ebd-91ad-4808-fc5c-b0d33c6d2c80"
      },
      "source": [
        "model = Sequential()\n",
        "model.add(Dense(units=32, activation='relu', input_shape=(150,)))\n",
        "model.add(Dense(units=1))\n",
        "\n",
        "model.compile(optimizer='rmsprop',\n",
        "              loss='mse')\n",
        "\n",
        "model.fit(data, labels, epochs=30, batch_size=32, validation_split=0.2)"
      ],
      "execution_count": 52,
      "outputs": [
        {
          "output_type": "stream",
          "name": "stdout",
          "text": [
            "Epoch 1/30\n",
            "25/25 [==============================] - 1s 8ms/step - loss: 637.2654 - val_loss: 535.8581\n",
            "Epoch 2/30\n",
            "25/25 [==============================] - 0s 4ms/step - loss: 405.0469 - val_loss: 337.9968\n",
            "Epoch 3/30\n",
            "25/25 [==============================] - 0s 3ms/step - loss: 262.4178 - val_loss: 227.9881\n",
            "Epoch 4/30\n",
            "25/25 [==============================] - 0s 4ms/step - loss: 209.3440 - val_loss: 200.4864\n",
            "Epoch 5/30\n",
            "25/25 [==============================] - 0s 4ms/step - loss: 203.1005 - val_loss: 198.8155\n",
            "Epoch 6/30\n",
            "25/25 [==============================] - 0s 4ms/step - loss: 202.4567 - val_loss: 200.4423\n",
            "Epoch 7/30\n",
            "25/25 [==============================] - 0s 4ms/step - loss: 201.9531 - val_loss: 198.7902\n",
            "Epoch 8/30\n",
            "25/25 [==============================] - 0s 3ms/step - loss: 201.3864 - val_loss: 200.7749\n",
            "Epoch 9/30\n",
            "25/25 [==============================] - 0s 5ms/step - loss: 200.9088 - val_loss: 200.6030\n",
            "Epoch 10/30\n",
            "25/25 [==============================] - 0s 4ms/step - loss: 200.0170 - val_loss: 202.7512\n",
            "Epoch 11/30\n",
            "25/25 [==============================] - 0s 4ms/step - loss: 199.7843 - val_loss: 198.6257\n",
            "Epoch 12/30\n",
            "25/25 [==============================] - 0s 4ms/step - loss: 199.3283 - val_loss: 198.4644\n",
            "Epoch 13/30\n",
            "25/25 [==============================] - 0s 4ms/step - loss: 198.5492 - val_loss: 199.6653\n",
            "Epoch 14/30\n",
            "25/25 [==============================] - 0s 4ms/step - loss: 197.1200 - val_loss: 206.3682\n",
            "Epoch 15/30\n",
            "25/25 [==============================] - 0s 3ms/step - loss: 197.6824 - val_loss: 199.5239\n",
            "Epoch 16/30\n",
            "25/25 [==============================] - 0s 4ms/step - loss: 196.7316 - val_loss: 198.9652\n",
            "Epoch 17/30\n",
            "25/25 [==============================] - 0s 4ms/step - loss: 195.7809 - val_loss: 199.1740\n",
            "Epoch 18/30\n",
            "25/25 [==============================] - 0s 3ms/step - loss: 195.7409 - val_loss: 201.8193\n",
            "Epoch 19/30\n",
            "25/25 [==============================] - 0s 3ms/step - loss: 194.9139 - val_loss: 199.5587\n",
            "Epoch 20/30\n",
            "25/25 [==============================] - 0s 4ms/step - loss: 194.3407 - val_loss: 199.3444\n",
            "Epoch 21/30\n",
            "25/25 [==============================] - 0s 3ms/step - loss: 193.5690 - val_loss: 200.5343\n",
            "Epoch 22/30\n",
            "25/25 [==============================] - 0s 3ms/step - loss: 192.8942 - val_loss: 200.8885\n",
            "Epoch 23/30\n",
            "25/25 [==============================] - 0s 3ms/step - loss: 192.7614 - val_loss: 200.8732\n",
            "Epoch 24/30\n",
            "25/25 [==============================] - 0s 3ms/step - loss: 191.1989 - val_loss: 199.3010\n",
            "Epoch 25/30\n",
            "25/25 [==============================] - 0s 3ms/step - loss: 191.0357 - val_loss: 203.4561\n",
            "Epoch 26/30\n",
            "25/25 [==============================] - 0s 4ms/step - loss: 190.1201 - val_loss: 203.9111\n",
            "Epoch 27/30\n",
            "25/25 [==============================] - 0s 4ms/step - loss: 189.6307 - val_loss: 201.7852\n",
            "Epoch 28/30\n",
            "25/25 [==============================] - 0s 4ms/step - loss: 188.8139 - val_loss: 200.6611\n",
            "Epoch 29/30\n",
            "25/25 [==============================] - 0s 4ms/step - loss: 188.6530 - val_loss: 200.3914\n",
            "Epoch 30/30\n",
            "25/25 [==============================] - 0s 4ms/step - loss: 187.4135 - val_loss: 203.9650\n"
          ]
        },
        {
          "output_type": "execute_result",
          "data": {
            "text/plain": [
              "<keras.src.callbacks.History at 0x7e88933be440>"
            ]
          },
          "metadata": {},
          "execution_count": 52
        }
      ]
    },
    {
      "cell_type": "code",
      "metadata": {
        "id": "jLUGCiun-ePp",
        "colab": {
          "base_uri": "https://localhost:8080/"
        },
        "outputId": "d754c0b1-b968-4664-e5c3-f3e8c88e424e"
      },
      "source": [
        "model = Sequential()\n",
        "model.add(Dense(units=32, activation='relu', input_shape=(150,)))\n",
        "model.add(Dense(units=1))\n",
        "\n",
        "model.compile(optimizer='rmsprop',\n",
        "              loss='mae',\n",
        "              metrics=['mse'])\n",
        "\n",
        "model.fit(data, labels, epochs=30, batch_size=32, validation_split=0.2)"
      ],
      "execution_count": 53,
      "outputs": [
        {
          "output_type": "stream",
          "name": "stdout",
          "text": [
            "Epoch 1/30\n",
            "25/25 [==============================] - 1s 15ms/step - loss: 21.3177 - mse: 643.8987 - val_loss: 19.4888 - val_mse: 529.3600\n",
            "Epoch 2/30\n",
            "25/25 [==============================] - 0s 6ms/step - loss: 16.0944 - mse: 391.3336 - val_loss: 15.0880 - val_mse: 313.4435\n",
            "Epoch 3/30\n",
            "25/25 [==============================] - 0s 5ms/step - loss: 13.2284 - mse: 247.6106 - val_loss: 12.8862 - val_mse: 224.2166\n",
            "Epoch 4/30\n",
            "25/25 [==============================] - 0s 5ms/step - loss: 12.3509 - mse: 207.3120 - val_loss: 12.0772 - val_mse: 200.7880\n",
            "Epoch 5/30\n",
            "25/25 [==============================] - 0s 7ms/step - loss: 12.2800 - mse: 202.9640 - val_loss: 12.0872 - val_mse: 201.0865\n",
            "Epoch 6/30\n",
            "25/25 [==============================] - 0s 6ms/step - loss: 12.2620 - mse: 202.5933 - val_loss: 12.1068 - val_mse: 201.6442\n",
            "Epoch 7/30\n",
            "25/25 [==============================] - 0s 6ms/step - loss: 12.2385 - mse: 201.9897 - val_loss: 12.1580 - val_mse: 203.1640\n",
            "Epoch 8/30\n",
            "25/25 [==============================] - 0s 5ms/step - loss: 12.1954 - mse: 200.9802 - val_loss: 12.2592 - val_mse: 205.7494\n",
            "Epoch 9/30\n",
            "25/25 [==============================] - 0s 5ms/step - loss: 12.1763 - mse: 200.7939 - val_loss: 12.0739 - val_mse: 201.1548\n",
            "Epoch 10/30\n",
            "25/25 [==============================] - 0s 5ms/step - loss: 12.1646 - mse: 200.6101 - val_loss: 12.0919 - val_mse: 201.6594\n",
            "Epoch 11/30\n",
            "25/25 [==============================] - 0s 5ms/step - loss: 12.1228 - mse: 199.2574 - val_loss: 12.0990 - val_mse: 201.9167\n",
            "Epoch 12/30\n",
            "25/25 [==============================] - 0s 6ms/step - loss: 12.1022 - mse: 198.6686 - val_loss: 12.0829 - val_mse: 201.5989\n",
            "Epoch 13/30\n",
            "25/25 [==============================] - 0s 5ms/step - loss: 12.0701 - mse: 197.7872 - val_loss: 12.0338 - val_mse: 200.7219\n",
            "Epoch 14/30\n",
            "25/25 [==============================] - 0s 3ms/step - loss: 12.0408 - mse: 197.1898 - val_loss: 12.2460 - val_mse: 205.4419\n",
            "Epoch 15/30\n",
            "25/25 [==============================] - 0s 3ms/step - loss: 12.0400 - mse: 196.9663 - val_loss: 12.1444 - val_mse: 203.2676\n",
            "Epoch 16/30\n",
            "25/25 [==============================] - 0s 4ms/step - loss: 11.9869 - mse: 196.0474 - val_loss: 12.1340 - val_mse: 203.1227\n",
            "Epoch 17/30\n",
            "25/25 [==============================] - 0s 4ms/step - loss: 11.9589 - mse: 195.6989 - val_loss: 12.0438 - val_mse: 201.3662\n",
            "Epoch 18/30\n",
            "25/25 [==============================] - 0s 4ms/step - loss: 11.9365 - mse: 194.9654 - val_loss: 12.0474 - val_mse: 201.5463\n",
            "Epoch 19/30\n",
            "25/25 [==============================] - 0s 3ms/step - loss: 11.8983 - mse: 193.9412 - val_loss: 12.0327 - val_mse: 201.6812\n",
            "Epoch 20/30\n",
            "25/25 [==============================] - 0s 3ms/step - loss: 11.8804 - mse: 193.6069 - val_loss: 12.1428 - val_mse: 203.6409\n",
            "Epoch 21/30\n",
            "25/25 [==============================] - 0s 4ms/step - loss: 11.8410 - mse: 192.4992 - val_loss: 12.0553 - val_mse: 202.2129\n",
            "Epoch 22/30\n",
            "25/25 [==============================] - 0s 4ms/step - loss: 11.8553 - mse: 192.6472 - val_loss: 12.1073 - val_mse: 203.1965\n",
            "Epoch 23/30\n",
            "25/25 [==============================] - 0s 3ms/step - loss: 11.7897 - mse: 191.1111 - val_loss: 12.1400 - val_mse: 204.0004\n",
            "Epoch 24/30\n",
            "25/25 [==============================] - 0s 3ms/step - loss: 11.7515 - mse: 190.6063 - val_loss: 12.0679 - val_mse: 203.1860\n",
            "Epoch 25/30\n",
            "25/25 [==============================] - 0s 3ms/step - loss: 11.7331 - mse: 190.9267 - val_loss: 12.1488 - val_mse: 204.4241\n",
            "Epoch 26/30\n",
            "25/25 [==============================] - 0s 3ms/step - loss: 11.7013 - mse: 189.6749 - val_loss: 12.1164 - val_mse: 204.1507\n",
            "Epoch 27/30\n",
            "25/25 [==============================] - 0s 3ms/step - loss: 11.6696 - mse: 188.7608 - val_loss: 12.1354 - val_mse: 204.6176\n",
            "Epoch 28/30\n",
            "25/25 [==============================] - 0s 4ms/step - loss: 11.6607 - mse: 189.2322 - val_loss: 12.1141 - val_mse: 204.5825\n",
            "Epoch 29/30\n",
            "25/25 [==============================] - 0s 4ms/step - loss: 11.6099 - mse: 187.2026 - val_loss: 12.2006 - val_mse: 206.0439\n",
            "Epoch 30/30\n",
            "25/25 [==============================] - 0s 4ms/step - loss: 11.5885 - mse: 187.6386 - val_loss: 12.3848 - val_mse: 210.0928\n"
          ]
        },
        {
          "output_type": "execute_result",
          "data": {
            "text/plain": [
              "<keras.src.callbacks.History at 0x7e88932ba380>"
            ]
          },
          "metadata": {},
          "execution_count": 53
        }
      ]
    },
    {
      "cell_type": "code",
      "metadata": {
        "id": "0T9od2mo9KAF",
        "colab": {
          "base_uri": "https://localhost:8080/"
        },
        "outputId": "b7e7b3de-e8a9-4a9e-e9d4-69d3f21da83b"
      },
      "source": [
        "test_data = np.random.random((10, 150))\n",
        "\n",
        "model.predict(test_data)"
      ],
      "execution_count": 54,
      "outputs": [
        {
          "output_type": "stream",
          "name": "stdout",
          "text": [
            "1/1 [==============================] - 0s 54ms/step\n"
          ]
        },
        {
          "output_type": "execute_result",
          "data": {
            "text/plain": [
              "array([[21.160915],\n",
              "       [24.61333 ],\n",
              "       [26.216751],\n",
              "       [23.621943],\n",
              "       [22.059143],\n",
              "       [26.530437],\n",
              "       [22.137417],\n",
              "       [26.532566],\n",
              "       [18.796711],\n",
              "       [27.66217 ]], dtype=float32)"
            ]
          },
          "metadata": {},
          "execution_count": 54
        }
      ]
    }
  ]
}