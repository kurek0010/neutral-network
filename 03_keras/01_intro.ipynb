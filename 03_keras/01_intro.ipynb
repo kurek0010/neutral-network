{
  "nbformat": 4,
  "nbformat_minor": 0,
  "metadata": {
    "colab": {
      "name": "Untitled0.ipynb",
      "provenance": [],
      "include_colab_link": true
    },
    "kernelspec": {
      "name": "python3",
      "display_name": "Python 3"
    }
  },
  "cells": [
    {
      "cell_type": "markdown",
      "metadata": {
        "id": "view-in-github",
        "colab_type": "text"
      },
      "source": [
        "<a href=\"https://colab.research.google.com/github/kurek0010/neutral-network/blob/main/03_keras/01_intro.ipynb\" target=\"_parent\"><img src=\"https://colab.research.google.com/assets/colab-badge.svg\" alt=\"Open In Colab\"/></a>"
      ]
    },
    {
      "cell_type": "markdown",
      "metadata": {
        "id": "BdI2tQJuUWXG"
      },
      "source": [
        "* @author: krakowiakpawel9@gmail.com  \n",
        "* @site: e-smartdata.org"
      ]
    },
    {
      "cell_type": "markdown",
      "metadata": {
        "id": "tC7wD4aySZKb"
      },
      "source": [
        "### Model sekwencjny (Sequential Model):\n",
        "1. [Wprowadzenie - pierwszy model](#a0)\n",
        "2. [Funkcje aktywacji](#a1)\n",
        "3. [Kompilacja modelu](#a2)\n",
        "4. [Trenowanie modelu](#a3)\n",
        "5. [Przykład - klasyfikacja binarna](#a4)\n",
        "6. [Przykład - klasyfikacja wieloklasowa](#a5)\n",
        "7. [Przykład - regresja](#a6)\n",
        "\n",
        "\n",
        "\n",
        "Konfiguracja środowiska\n"
      ]
    },
    {
      "cell_type": "code",
      "metadata": {
        "id": "LRMG5fQ2EZYz",
        "outputId": "20153325-370a-4967-ae6c-94cd5a06002d",
        "colab": {
          "base_uri": "https://localhost:8080/"
        }
      },
      "source": [
        "# Przygotowanie środowiska do pracy z Tensorflow 2.0.\n",
        "# Jeśli otrzymasz błąd podczas instalacji Tensorflow uruchom tę komórkę raz jeszcze.\n",
        "\n",
        "!pip uninstall -y tensorflow\n",
        "!pip install -q tensorflow==2.0.0"
      ],
      "execution_count": null,
      "outputs": [
        {
          "output_type": "stream",
          "name": "stdout",
          "text": [
            "Found existing installation: tensorflow 2.0.0\n",
            "Uninstalling tensorflow-2.0.0:\n",
            "  Successfully uninstalled tensorflow-2.0.0\n"
          ]
        }
      ]
    },
    {
      "cell_type": "code",
      "metadata": {
        "id": "3SPURJyPQOpj",
        "colab": {
          "base_uri": "https://localhost:8080/",
          "height": 35
        },
        "outputId": "cb0f4873-a0f2-4185-8197-747727ded8e6"
      },
      "source": [
        "import tensorflow as tf\n",
        "import numpy as np\n",
        "import pandas as pd\n",
        "import plotly.express as px\n",
        "tf.__version__"
      ],
      "execution_count": null,
      "outputs": [
        {
          "output_type": "execute_result",
          "data": {
            "application/vnd.google.colaboratory.intrinsic+json": {
              "type": "string"
            },
            "text/plain": [
              "'2.0.0'"
            ]
          },
          "metadata": {},
          "execution_count": 3
        }
      ]
    },
    {
      "cell_type": "markdown",
      "metadata": {
        "id": "x0HF8UIRTBmC"
      },
      "source": [
        "### <a name='a0'></a>Wprowadzenie - pierwszy model\n",
        "Model sekwencyjny to nic innego jak liniowy stos warstw."
      ]
    },
    {
      "cell_type": "code",
      "metadata": {
        "id": "y5qY8AQsTeGX",
        "colab": {
          "base_uri": "https://localhost:8080/",
          "height": 34
        },
        "outputId": "c74595ad-b228-49a5-e7a3-2649b155c556"
      },
      "source": [
        "# utworzenie instancji klasy Sequential\n",
        "from tensorflow.keras.models import Sequential\n",
        "\n",
        "model = Sequential()\n",
        "print(model)"
      ],
      "execution_count": null,
      "outputs": [
        {
          "output_type": "stream",
          "text": [
            "<tensorflow.python.keras.engine.sequential.Sequential object at 0x7fdf7dcb9b38>\n"
          ],
          "name": "stdout"
        }
      ]
    },
    {
      "cell_type": "markdown",
      "metadata": {
        "id": "yqtUKjKaTyxQ"
      },
      "source": [
        "Podstawowym elementem składowym modelu są warstwy. Aby dodać najbardziej standardową warstwę - warstwę gęsto połączoną należy użyć warstwy **Dense**. Aby dodać warstwę do modelu należy użyć metody *.add()*"
      ]
    },
    {
      "cell_type": "code",
      "metadata": {
        "id": "CiMQRZUMTv8f"
      },
      "source": [
        "from tensorflow.keras.layers import Dense\n",
        "\n",
        "model.add(Dense(units=4, input_shape=(10,)))"
      ],
      "execution_count": null,
      "outputs": []
    },
    {
      "cell_type": "markdown",
      "metadata": {
        "id": "s4q14zW-XOU4"
      },
      "source": [
        "Wyświetlenie podsumowania modelu: metoda *.summary()*"
      ]
    },
    {
      "cell_type": "code",
      "metadata": {
        "id": "HAReYZ98UXtC",
        "colab": {
          "base_uri": "https://localhost:8080/",
          "height": 188
        },
        "outputId": "63355aac-e10b-40dd-e437-0db93a4d5e62"
      },
      "source": [
        "model.summary()"
      ],
      "execution_count": null,
      "outputs": [
        {
          "output_type": "stream",
          "text": [
            "Model: \"sequential\"\n",
            "_________________________________________________________________\n",
            "Layer (type)                 Output Shape              Param #   \n",
            "=================================================================\n",
            "dense (Dense)                (None, 4)                 44        \n",
            "=================================================================\n",
            "Total params: 44\n",
            "Trainable params: 44\n",
            "Non-trainable params: 0\n",
            "_________________________________________________________________\n"
          ],
          "name": "stdout"
        }
      ]
    },
    {
      "cell_type": "markdown",
      "metadata": {
        "id": "izZi_Eu2Xjcl"
      },
      "source": [
        "Dodanie kolejnej warstwy"
      ]
    },
    {
      "cell_type": "code",
      "metadata": {
        "id": "HD17lS82Uk7Y",
        "colab": {
          "base_uri": "https://localhost:8080/",
          "height": 223
        },
        "outputId": "38005ea3-e878-47d5-8329-bc13734c63a8"
      },
      "source": [
        "model.add(Dense(units=2))\n",
        "\n",
        "model.summary()"
      ],
      "execution_count": null,
      "outputs": [
        {
          "output_type": "stream",
          "text": [
            "Model: \"sequential\"\n",
            "_________________________________________________________________\n",
            "Layer (type)                 Output Shape              Param #   \n",
            "=================================================================\n",
            "dense (Dense)                (None, 4)                 44        \n",
            "_________________________________________________________________\n",
            "dense_1 (Dense)              (None, 2)                 10        \n",
            "=================================================================\n",
            "Total params: 54\n",
            "Trainable params: 54\n",
            "Non-trainable params: 0\n",
            "_________________________________________________________________\n"
          ],
          "name": "stdout"
        }
      ]
    },
    {
      "cell_type": "markdown",
      "metadata": {
        "id": "yh_gui1wZCH2"
      },
      "source": [
        "### <a name='a1'></a>Funkcje aktywacji\n",
        "Istotnym elemenem sieci neuronowych jest dobór odpowiednich funkcji aktywacji. Funkcje aktywacji jak sama nazwa wskazuje są odpowiedzialne za aktywowanie odpowiednich neuronów podczas procesu uczenia.\n",
        "\n",
        "Jeżeli nie określimy podczas dodawania warstwy funkcji aktywacji, domyślnie stosowana jest liniowa funkcja aktywacji, tzn. $a(x)=x$\n",
        "\n",
        "Warstwa z liniową funkcją aktywacji może uczyć się tylko liniowych przekształceń danych wejściowych. Dlatego stosuje się różne funkcje aktywacji aby rozwiazywać problemy nieliniowe.\n",
        "\n",
        "[Keras: Funkcje aktywacji](https://keras.io/activations/)"
      ]
    },
    {
      "cell_type": "code",
      "metadata": {
        "id": "obfM5ho7ZmMy",
        "colab": {
          "base_uri": "https://localhost:8080/",
          "height": 203
        },
        "outputId": "a080dd58-4d05-4ee4-d06a-be60e60a90e6"
      },
      "source": [
        "from tensorflow.keras.activations import linear\n",
        "\n",
        "random_data = sorted(np.random.randn(200))\n",
        "data = pd.DataFrame({'data': random_data, 'linear': linear(random_data)})\n",
        "data.head()"
      ],
      "execution_count": null,
      "outputs": [
        {
          "output_type": "execute_result",
          "data": {
            "text/html": [
              "<div>\n",
              "<style scoped>\n",
              "    .dataframe tbody tr th:only-of-type {\n",
              "        vertical-align: middle;\n",
              "    }\n",
              "\n",
              "    .dataframe tbody tr th {\n",
              "        vertical-align: top;\n",
              "    }\n",
              "\n",
              "    .dataframe thead th {\n",
              "        text-align: right;\n",
              "    }\n",
              "</style>\n",
              "<table border=\"1\" class=\"dataframe\">\n",
              "  <thead>\n",
              "    <tr style=\"text-align: right;\">\n",
              "      <th></th>\n",
              "      <th>data</th>\n",
              "      <th>linear</th>\n",
              "    </tr>\n",
              "  </thead>\n",
              "  <tbody>\n",
              "    <tr>\n",
              "      <th>0</th>\n",
              "      <td>-3.043519</td>\n",
              "      <td>-3.043519</td>\n",
              "    </tr>\n",
              "    <tr>\n",
              "      <th>1</th>\n",
              "      <td>-1.995282</td>\n",
              "      <td>-1.995282</td>\n",
              "    </tr>\n",
              "    <tr>\n",
              "      <th>2</th>\n",
              "      <td>-1.991833</td>\n",
              "      <td>-1.991833</td>\n",
              "    </tr>\n",
              "    <tr>\n",
              "      <th>3</th>\n",
              "      <td>-1.835947</td>\n",
              "      <td>-1.835947</td>\n",
              "    </tr>\n",
              "    <tr>\n",
              "      <th>4</th>\n",
              "      <td>-1.792003</td>\n",
              "      <td>-1.792003</td>\n",
              "    </tr>\n",
              "  </tbody>\n",
              "</table>\n",
              "</div>"
            ],
            "text/plain": [
              "       data    linear\n",
              "0 -3.043519 -3.043519\n",
              "1 -1.995282 -1.995282\n",
              "2 -1.991833 -1.991833\n",
              "3 -1.835947 -1.835947\n",
              "4 -1.792003 -1.792003"
            ]
          },
          "metadata": {
            "tags": []
          },
          "execution_count": 6
        }
      ]
    },
    {
      "cell_type": "code",
      "metadata": {
        "id": "SsbhlfGgesjV",
        "colab": {
          "base_uri": "https://localhost:8080/",
          "height": 617
        },
        "outputId": "1d1ac5e9-9d61-46b1-937a-d1093018c23d"
      },
      "source": [
        "px.line(data, x='data', y='linear', width=800, range_y=[-2, 2])"
      ],
      "execution_count": null,
      "outputs": [
        {
          "output_type": "display_data",
          "data": {
            "text/html": [
              "<html>\n",
              "<head><meta charset=\"utf-8\" /></head>\n",
              "<body>\n",
              "    <div>\n",
              "            <script src=\"https://cdnjs.cloudflare.com/ajax/libs/mathjax/2.7.5/MathJax.js?config=TeX-AMS-MML_SVG\"></script><script type=\"text/javascript\">if (window.MathJax) {MathJax.Hub.Config({SVG: {font: \"STIX-Web\"}});}</script>\n",
              "                <script type=\"text/javascript\">window.PlotlyConfig = {MathJaxConfig: 'local'};</script>\n",
              "        <script src=\"https://cdn.plot.ly/plotly-latest.min.js\"></script>    \n",
              "            <div id=\"630ca445-4406-47d4-b8c7-ffbe23e93b2e\" class=\"plotly-graph-div\" style=\"height:600px; width:800px;\"></div>\n",
              "            <script type=\"text/javascript\">\n",
              "                \n",
              "                    window.PLOTLYENV=window.PLOTLYENV || {};\n",
              "                    \n",
              "                if (document.getElementById(\"630ca445-4406-47d4-b8c7-ffbe23e93b2e\")) {\n",
              "                    Plotly.newPlot(\n",
              "                        '630ca445-4406-47d4-b8c7-ffbe23e93b2e',\n",
              "                        [{\"hoverlabel\": {\"namelength\": 0}, \"hovertemplate\": \"data=%{x}<br>linear=%{y}\", \"legendgroup\": \"\", \"line\": {\"color\": \"#636efa\", \"dash\": \"solid\"}, \"mode\": \"lines\", \"name\": \"\", \"showlegend\": false, \"type\": \"scatter\", \"x\": [-3.0435191199059957, -1.9952818302198947, -1.9918326792258547, -1.8359472549464364, -1.792002826837538, -1.7877132674996852, -1.740230714760508, -1.6950982287851586, -1.6372981924936003, -1.630978293846893, -1.6141641497775638, -1.5871725732684445, -1.5799793960278334, -1.5224252294698066, -1.3796807660995987, -1.359595479720338, -1.3546084777523673, -1.3442993088777415, -1.295077883421713, -1.2563577800903734, -1.246906743170718, -1.212064966444653, -1.211241463163301, -1.1762679619769099, -1.1498398329411155, -1.1353885303379863, -1.135034190001952, -1.1279966159083925, -1.1216302341246789, -1.1141401260698869, -1.0952647162199414, -1.080894989123976, -1.0737746243144035, -1.0441010846109684, -1.0232620922703308, -1.0220667098349845, -1.0211006202176935, -1.013571742698013, -0.994818576244338, -0.9621910007057747, -0.9615817668902563, -0.9422323338294261, -0.9418321987694693, -0.9362007553168036, -0.911394907744734, -0.908632484487046, -0.8135345104586816, -0.7952921554718282, -0.7875071948555138, -0.7664783751390059, -0.7397119591782629, -0.7364120811974398, -0.7321890842637545, -0.7021169277475598, -0.6886988602491702, -0.6832724517221502, -0.65747170887838, -0.6455127644908102, -0.6335341990260613, -0.6189237447372379, -0.5822413783330772, -0.5778725903317659, -0.5682347241756613, -0.5493316022214874, -0.5035246395668741, -0.4891812761373528, -0.4848225510775056, -0.4790663849200235, -0.4679263553368912, -0.4370085222512733, -0.4308058419837109, -0.42943434500368866, -0.4265078572816096, -0.3795920063728857, -0.37606932160487133, -0.36878345858480427, -0.3501975465130895, -0.35010835873307145, -0.34277674701169863, -0.3113534349186931, -0.3067601350054569, -0.28783032776957096, -0.2765569032048219, -0.26903955382300365, -0.26272813581990057, -0.24237281446683465, -0.2321722888091089, -0.2295479011211164, -0.22500537497342685, -0.21764833751798304, -0.21029685480462373, -0.20373199145956952, -0.16548978129927283, -0.16313772424422124, -0.158246838343909, -0.15276625185145135, -0.1337386169861309, -0.1226156714031317, -0.10556298303016894, -0.0974501395574197, -0.08645248038571077, -0.059379984975747986, -0.049801687083584824, -0.042176871287953735, -0.026599948834462657, -0.007165787526632427, 0.0007672758617200109, 0.006578959672962298, 0.01094340742927777, 0.03183844690571418, 0.03326817137732086, 0.05071382532667992, 0.05998749776498214, 0.0671261446175394, 0.08522356928137241, 0.09461324768059227, 0.09861845749512747, 0.11128400988426819, 0.11370164903992123, 0.13347338042698476, 0.13376629459384645, 0.13876039248700994, 0.16047709578159264, 0.17340278586566485, 0.1736246538737538, 0.21009264957262144, 0.22149983395659148, 0.22874293934264736, 0.2340939640690656, 0.23633939049230981, 0.2637853450739976, 0.2959951510282409, 0.33366059672071324, 0.3740932709481722, 0.3970962938034953, 0.40617396546701706, 0.4094741298434088, 0.4119867031743685, 0.41883745647559467, 0.4547172430504842, 0.45583124281116877, 0.4963020922139201, 0.49946628520168956, 0.504082078630525, 0.516773321840809, 0.5420979126375498, 0.5486293599832807, 0.5504121570610538, 0.5722943780045, 0.6229171919343567, 0.6283165469666677, 0.6643690300109765, 0.6776450475987279, 0.6865530866279809, 0.7024151693768523, 0.718088210815446, 0.769106485642448, 0.7698301270210247, 0.7786231241013963, 0.8160912766862329, 0.8402039888304252, 0.8444778631106494, 0.8580665414866595, 0.8700203813584376, 0.8898619871926522, 0.9334705119995926, 0.9377480848618199, 0.9540375116599205, 0.9769099255786828, 0.9769514833695591, 0.9820072731987705, 1.0135970936222638, 1.0278055944687319, 1.0504507323085799, 1.0600379805549256, 1.06012678551962, 1.0689525522050176, 1.0926665115224163, 1.1356611535917829, 1.2333911727837128, 1.2337037309866545, 1.2599195445327716, 1.2622002081382504, 1.2906099738518968, 1.2960984233770954, 1.3076342138139525, 1.3303100921339845, 1.3518695103364418, 1.433619064857817, 1.4648340093593217, 1.4681138871119197, 1.510985157032359, 1.610957502572995, 1.6425475999138108, 1.9271145168077553, 1.9739083323865236, 1.9949491064719165, 2.182830033995147, 2.25042709608857, 2.74685163113009], \"xaxis\": \"x\", \"y\": [-3.0435191199059957, -1.9952818302198947, -1.9918326792258547, -1.8359472549464364, -1.792002826837538, -1.7877132674996852, -1.740230714760508, -1.6950982287851586, -1.6372981924936003, -1.630978293846893, -1.6141641497775638, -1.5871725732684445, -1.5799793960278334, -1.5224252294698066, -1.3796807660995987, -1.359595479720338, -1.3546084777523673, -1.3442993088777415, -1.295077883421713, -1.2563577800903734, -1.246906743170718, -1.212064966444653, -1.211241463163301, -1.1762679619769099, -1.1498398329411155, -1.1353885303379863, -1.135034190001952, -1.1279966159083925, -1.1216302341246789, -1.1141401260698869, -1.0952647162199414, -1.080894989123976, -1.0737746243144035, -1.0441010846109684, -1.0232620922703308, -1.0220667098349845, -1.0211006202176935, -1.013571742698013, -0.994818576244338, -0.9621910007057747, -0.9615817668902563, -0.9422323338294261, -0.9418321987694693, -0.9362007553168036, -0.911394907744734, -0.908632484487046, -0.8135345104586816, -0.7952921554718282, -0.7875071948555138, -0.7664783751390059, -0.7397119591782629, -0.7364120811974398, -0.7321890842637545, -0.7021169277475598, -0.6886988602491702, -0.6832724517221502, -0.65747170887838, -0.6455127644908102, -0.6335341990260613, -0.6189237447372379, -0.5822413783330772, -0.5778725903317659, -0.5682347241756613, -0.5493316022214874, -0.5035246395668741, -0.4891812761373528, -0.4848225510775056, -0.4790663849200235, -0.4679263553368912, -0.4370085222512733, -0.4308058419837109, -0.42943434500368866, -0.4265078572816096, -0.3795920063728857, -0.37606932160487133, -0.36878345858480427, -0.3501975465130895, -0.35010835873307145, -0.34277674701169863, -0.3113534349186931, -0.3067601350054569, -0.28783032776957096, -0.2765569032048219, -0.26903955382300365, -0.26272813581990057, -0.24237281446683465, -0.2321722888091089, -0.2295479011211164, -0.22500537497342685, -0.21764833751798304, -0.21029685480462373, -0.20373199145956952, -0.16548978129927283, -0.16313772424422124, -0.158246838343909, -0.15276625185145135, -0.1337386169861309, -0.1226156714031317, -0.10556298303016894, -0.0974501395574197, -0.08645248038571077, -0.059379984975747986, -0.049801687083584824, -0.042176871287953735, -0.026599948834462657, -0.007165787526632427, 0.0007672758617200109, 0.006578959672962298, 0.01094340742927777, 0.03183844690571418, 0.03326817137732086, 0.05071382532667992, 0.05998749776498214, 0.0671261446175394, 0.08522356928137241, 0.09461324768059227, 0.09861845749512747, 0.11128400988426819, 0.11370164903992123, 0.13347338042698476, 0.13376629459384645, 0.13876039248700994, 0.16047709578159264, 0.17340278586566485, 0.1736246538737538, 0.21009264957262144, 0.22149983395659148, 0.22874293934264736, 0.2340939640690656, 0.23633939049230981, 0.2637853450739976, 0.2959951510282409, 0.33366059672071324, 0.3740932709481722, 0.3970962938034953, 0.40617396546701706, 0.4094741298434088, 0.4119867031743685, 0.41883745647559467, 0.4547172430504842, 0.45583124281116877, 0.4963020922139201, 0.49946628520168956, 0.504082078630525, 0.516773321840809, 0.5420979126375498, 0.5486293599832807, 0.5504121570610538, 0.5722943780045, 0.6229171919343567, 0.6283165469666677, 0.6643690300109765, 0.6776450475987279, 0.6865530866279809, 0.7024151693768523, 0.718088210815446, 0.769106485642448, 0.7698301270210247, 0.7786231241013963, 0.8160912766862329, 0.8402039888304252, 0.8444778631106494, 0.8580665414866595, 0.8700203813584376, 0.8898619871926522, 0.9334705119995926, 0.9377480848618199, 0.9540375116599205, 0.9769099255786828, 0.9769514833695591, 0.9820072731987705, 1.0135970936222638, 1.0278055944687319, 1.0504507323085799, 1.0600379805549256, 1.06012678551962, 1.0689525522050176, 1.0926665115224163, 1.1356611535917829, 1.2333911727837128, 1.2337037309866545, 1.2599195445327716, 1.2622002081382504, 1.2906099738518968, 1.2960984233770954, 1.3076342138139525, 1.3303100921339845, 1.3518695103364418, 1.433619064857817, 1.4648340093593217, 1.4681138871119197, 1.510985157032359, 1.610957502572995, 1.6425475999138108, 1.9271145168077553, 1.9739083323865236, 1.9949491064719165, 2.182830033995147, 2.25042709608857, 2.74685163113009], \"yaxis\": \"y\"}],\n",
              "                        {\"height\": 600, \"legend\": {\"tracegroupgap\": 0}, \"margin\": {\"t\": 60}, \"template\": {\"data\": {\"bar\": [{\"error_x\": {\"color\": \"#2a3f5f\"}, \"error_y\": {\"color\": \"#2a3f5f\"}, \"marker\": {\"line\": {\"color\": \"#E5ECF6\", \"width\": 0.5}}, \"type\": \"bar\"}], \"barpolar\": [{\"marker\": {\"line\": {\"color\": \"#E5ECF6\", \"width\": 0.5}}, \"type\": \"barpolar\"}], \"carpet\": [{\"aaxis\": {\"endlinecolor\": \"#2a3f5f\", \"gridcolor\": \"white\", \"linecolor\": \"white\", \"minorgridcolor\": \"white\", \"startlinecolor\": \"#2a3f5f\"}, \"baxis\": {\"endlinecolor\": \"#2a3f5f\", \"gridcolor\": \"white\", \"linecolor\": \"white\", \"minorgridcolor\": \"white\", \"startlinecolor\": \"#2a3f5f\"}, \"type\": \"carpet\"}], \"choropleth\": [{\"colorbar\": {\"outlinewidth\": 0, \"ticks\": \"\"}, \"type\": \"choropleth\"}], \"contour\": [{\"colorbar\": {\"outlinewidth\": 0, \"ticks\": \"\"}, \"colorscale\": [[0.0, \"#0d0887\"], [0.1111111111111111, \"#46039f\"], [0.2222222222222222, \"#7201a8\"], [0.3333333333333333, \"#9c179e\"], [0.4444444444444444, \"#bd3786\"], [0.5555555555555556, \"#d8576b\"], [0.6666666666666666, \"#ed7953\"], [0.7777777777777778, \"#fb9f3a\"], [0.8888888888888888, \"#fdca26\"], [1.0, \"#f0f921\"]], \"type\": \"contour\"}], \"contourcarpet\": [{\"colorbar\": {\"outlinewidth\": 0, \"ticks\": \"\"}, \"type\": \"contourcarpet\"}], \"heatmap\": [{\"colorbar\": {\"outlinewidth\": 0, \"ticks\": \"\"}, \"colorscale\": [[0.0, \"#0d0887\"], [0.1111111111111111, \"#46039f\"], [0.2222222222222222, \"#7201a8\"], [0.3333333333333333, \"#9c179e\"], [0.4444444444444444, \"#bd3786\"], [0.5555555555555556, \"#d8576b\"], [0.6666666666666666, \"#ed7953\"], [0.7777777777777778, \"#fb9f3a\"], [0.8888888888888888, \"#fdca26\"], [1.0, \"#f0f921\"]], \"type\": \"heatmap\"}], \"heatmapgl\": [{\"colorbar\": {\"outlinewidth\": 0, \"ticks\": \"\"}, \"colorscale\": [[0.0, \"#0d0887\"], [0.1111111111111111, \"#46039f\"], [0.2222222222222222, \"#7201a8\"], [0.3333333333333333, \"#9c179e\"], [0.4444444444444444, \"#bd3786\"], [0.5555555555555556, \"#d8576b\"], [0.6666666666666666, \"#ed7953\"], [0.7777777777777778, \"#fb9f3a\"], [0.8888888888888888, \"#fdca26\"], [1.0, \"#f0f921\"]], \"type\": \"heatmapgl\"}], \"histogram\": [{\"marker\": {\"colorbar\": {\"outlinewidth\": 0, \"ticks\": \"\"}}, \"type\": \"histogram\"}], \"histogram2d\": [{\"colorbar\": {\"outlinewidth\": 0, \"ticks\": \"\"}, \"colorscale\": [[0.0, \"#0d0887\"], [0.1111111111111111, \"#46039f\"], [0.2222222222222222, \"#7201a8\"], [0.3333333333333333, \"#9c179e\"], [0.4444444444444444, \"#bd3786\"], [0.5555555555555556, \"#d8576b\"], [0.6666666666666666, \"#ed7953\"], [0.7777777777777778, \"#fb9f3a\"], [0.8888888888888888, \"#fdca26\"], [1.0, \"#f0f921\"]], \"type\": \"histogram2d\"}], \"histogram2dcontour\": [{\"colorbar\": {\"outlinewidth\": 0, \"ticks\": \"\"}, \"colorscale\": [[0.0, \"#0d0887\"], [0.1111111111111111, \"#46039f\"], [0.2222222222222222, \"#7201a8\"], [0.3333333333333333, \"#9c179e\"], [0.4444444444444444, \"#bd3786\"], [0.5555555555555556, \"#d8576b\"], [0.6666666666666666, \"#ed7953\"], [0.7777777777777778, \"#fb9f3a\"], [0.8888888888888888, \"#fdca26\"], [1.0, \"#f0f921\"]], \"type\": \"histogram2dcontour\"}], \"mesh3d\": [{\"colorbar\": {\"outlinewidth\": 0, \"ticks\": \"\"}, \"type\": \"mesh3d\"}], \"parcoords\": [{\"line\": {\"colorbar\": {\"outlinewidth\": 0, \"ticks\": \"\"}}, \"type\": \"parcoords\"}], \"scatter\": [{\"marker\": {\"colorbar\": {\"outlinewidth\": 0, \"ticks\": \"\"}}, \"type\": \"scatter\"}], \"scatter3d\": [{\"line\": {\"colorbar\": {\"outlinewidth\": 0, \"ticks\": \"\"}}, \"marker\": {\"colorbar\": {\"outlinewidth\": 0, \"ticks\": \"\"}}, \"type\": \"scatter3d\"}], \"scattercarpet\": [{\"marker\": {\"colorbar\": {\"outlinewidth\": 0, \"ticks\": \"\"}}, \"type\": \"scattercarpet\"}], \"scattergeo\": [{\"marker\": {\"colorbar\": {\"outlinewidth\": 0, \"ticks\": \"\"}}, \"type\": \"scattergeo\"}], \"scattergl\": [{\"marker\": {\"colorbar\": {\"outlinewidth\": 0, \"ticks\": \"\"}}, \"type\": \"scattergl\"}], \"scattermapbox\": [{\"marker\": {\"colorbar\": {\"outlinewidth\": 0, \"ticks\": \"\"}}, \"type\": \"scattermapbox\"}], \"scatterpolar\": [{\"marker\": {\"colorbar\": {\"outlinewidth\": 0, \"ticks\": \"\"}}, \"type\": \"scatterpolar\"}], \"scatterpolargl\": [{\"marker\": {\"colorbar\": {\"outlinewidth\": 0, \"ticks\": \"\"}}, \"type\": \"scatterpolargl\"}], \"scatterternary\": [{\"marker\": {\"colorbar\": {\"outlinewidth\": 0, \"ticks\": \"\"}}, \"type\": \"scatterternary\"}], \"surface\": [{\"colorbar\": {\"outlinewidth\": 0, \"ticks\": \"\"}, \"colorscale\": [[0.0, \"#0d0887\"], [0.1111111111111111, \"#46039f\"], [0.2222222222222222, \"#7201a8\"], [0.3333333333333333, \"#9c179e\"], [0.4444444444444444, \"#bd3786\"], [0.5555555555555556, \"#d8576b\"], [0.6666666666666666, \"#ed7953\"], [0.7777777777777778, \"#fb9f3a\"], [0.8888888888888888, \"#fdca26\"], [1.0, \"#f0f921\"]], \"type\": \"surface\"}], \"table\": [{\"cells\": {\"fill\": {\"color\": \"#EBF0F8\"}, \"line\": {\"color\": \"white\"}}, \"header\": {\"fill\": {\"color\": \"#C8D4E3\"}, \"line\": {\"color\": \"white\"}}, \"type\": \"table\"}]}, \"layout\": {\"annotationdefaults\": {\"arrowcolor\": \"#2a3f5f\", \"arrowhead\": 0, \"arrowwidth\": 1}, \"colorscale\": {\"diverging\": [[0, \"#8e0152\"], [0.1, \"#c51b7d\"], [0.2, \"#de77ae\"], [0.3, \"#f1b6da\"], [0.4, \"#fde0ef\"], [0.5, \"#f7f7f7\"], [0.6, \"#e6f5d0\"], [0.7, \"#b8e186\"], [0.8, \"#7fbc41\"], [0.9, \"#4d9221\"], [1, \"#276419\"]], \"sequential\": [[0.0, \"#0d0887\"], [0.1111111111111111, \"#46039f\"], [0.2222222222222222, \"#7201a8\"], [0.3333333333333333, \"#9c179e\"], [0.4444444444444444, \"#bd3786\"], [0.5555555555555556, \"#d8576b\"], [0.6666666666666666, \"#ed7953\"], [0.7777777777777778, \"#fb9f3a\"], [0.8888888888888888, \"#fdca26\"], [1.0, \"#f0f921\"]], \"sequentialminus\": [[0.0, \"#0d0887\"], [0.1111111111111111, \"#46039f\"], [0.2222222222222222, \"#7201a8\"], [0.3333333333333333, \"#9c179e\"], [0.4444444444444444, \"#bd3786\"], [0.5555555555555556, \"#d8576b\"], [0.6666666666666666, \"#ed7953\"], [0.7777777777777778, \"#fb9f3a\"], [0.8888888888888888, \"#fdca26\"], [1.0, \"#f0f921\"]]}, \"colorway\": [\"#636efa\", \"#EF553B\", \"#00cc96\", \"#ab63fa\", \"#FFA15A\", \"#19d3f3\", \"#FF6692\", \"#B6E880\", \"#FF97FF\", \"#FECB52\"], \"font\": {\"color\": \"#2a3f5f\"}, \"geo\": {\"bgcolor\": \"white\", \"lakecolor\": \"white\", \"landcolor\": \"#E5ECF6\", \"showlakes\": true, \"showland\": true, \"subunitcolor\": \"white\"}, \"hoverlabel\": {\"align\": \"left\"}, \"hovermode\": \"closest\", \"mapbox\": {\"style\": \"light\"}, \"paper_bgcolor\": \"white\", \"plot_bgcolor\": \"#E5ECF6\", \"polar\": {\"angularaxis\": {\"gridcolor\": \"white\", \"linecolor\": \"white\", \"ticks\": \"\"}, \"bgcolor\": \"#E5ECF6\", \"radialaxis\": {\"gridcolor\": \"white\", \"linecolor\": \"white\", \"ticks\": \"\"}}, \"scene\": {\"xaxis\": {\"backgroundcolor\": \"#E5ECF6\", \"gridcolor\": \"white\", \"gridwidth\": 2, \"linecolor\": \"white\", \"showbackground\": true, \"ticks\": \"\", \"zerolinecolor\": \"white\"}, \"yaxis\": {\"backgroundcolor\": \"#E5ECF6\", \"gridcolor\": \"white\", \"gridwidth\": 2, \"linecolor\": \"white\", \"showbackground\": true, \"ticks\": \"\", \"zerolinecolor\": \"white\"}, \"zaxis\": {\"backgroundcolor\": \"#E5ECF6\", \"gridcolor\": \"white\", \"gridwidth\": 2, \"linecolor\": \"white\", \"showbackground\": true, \"ticks\": \"\", \"zerolinecolor\": \"white\"}}, \"shapedefaults\": {\"line\": {\"color\": \"#2a3f5f\"}}, \"ternary\": {\"aaxis\": {\"gridcolor\": \"white\", \"linecolor\": \"white\", \"ticks\": \"\"}, \"baxis\": {\"gridcolor\": \"white\", \"linecolor\": \"white\", \"ticks\": \"\"}, \"bgcolor\": \"#E5ECF6\", \"caxis\": {\"gridcolor\": \"white\", \"linecolor\": \"white\", \"ticks\": \"\"}}, \"title\": {\"x\": 0.05}, \"xaxis\": {\"automargin\": true, \"gridcolor\": \"white\", \"linecolor\": \"white\", \"ticks\": \"\", \"zerolinecolor\": \"white\", \"zerolinewidth\": 2}, \"yaxis\": {\"automargin\": true, \"gridcolor\": \"white\", \"linecolor\": \"white\", \"ticks\": \"\", \"zerolinecolor\": \"white\", \"zerolinewidth\": 2}}}, \"width\": 800, \"xaxis\": {\"anchor\": \"y\", \"domain\": [0.0, 0.98], \"title\": {\"text\": \"data\"}}, \"yaxis\": {\"anchor\": \"x\", \"domain\": [0.0, 1.0], \"range\": [-2, 2], \"title\": {\"text\": \"linear\"}}},\n",
              "                        {\"responsive\": true}\n",
              "                    ).then(function(){\n",
              "                            \n",
              "var gd = document.getElementById('630ca445-4406-47d4-b8c7-ffbe23e93b2e');\n",
              "var x = new MutationObserver(function (mutations, observer) {{\n",
              "        var display = window.getComputedStyle(gd).display;\n",
              "        if (!display || display === 'none') {{\n",
              "            console.log([gd, 'removed!']);\n",
              "            Plotly.purge(gd);\n",
              "            observer.disconnect();\n",
              "        }}\n",
              "}});\n",
              "\n",
              "// Listen for the removal of the full notebook cells\n",
              "var notebookContainer = gd.closest('#notebook-container');\n",
              "if (notebookContainer) {{\n",
              "    x.observe(notebookContainer, {childList: true});\n",
              "}}\n",
              "\n",
              "// Listen for the clearing of the current output cell\n",
              "var outputEl = gd.closest('.output');\n",
              "if (outputEl) {{\n",
              "    x.observe(outputEl, {childList: true});\n",
              "}}\n",
              "\n",
              "                        })\n",
              "                };\n",
              "                \n",
              "            </script>\n",
              "        </div>\n",
              "</body>\n",
              "</html>"
            ]
          },
          "metadata": {
            "tags": []
          }
        }
      ]
    },
    {
      "cell_type": "code",
      "metadata": {
        "id": "xGsRlPQde7Qc",
        "colab": {
          "base_uri": "https://localhost:8080/",
          "height": 203
        },
        "outputId": "1a187292-d3d3-44d5-8f82-ae81067c8a4b"
      },
      "source": [
        "from tensorflow.keras.activations import sigmoid\n",
        "\n",
        "data = pd.DataFrame({'data': random_data, 'sigmoid': sigmoid(random_data)})\n",
        "data.head()"
      ],
      "execution_count": null,
      "outputs": [
        {
          "output_type": "execute_result",
          "data": {
            "text/html": [
              "<div>\n",
              "<style scoped>\n",
              "    .dataframe tbody tr th:only-of-type {\n",
              "        vertical-align: middle;\n",
              "    }\n",
              "\n",
              "    .dataframe tbody tr th {\n",
              "        vertical-align: top;\n",
              "    }\n",
              "\n",
              "    .dataframe thead th {\n",
              "        text-align: right;\n",
              "    }\n",
              "</style>\n",
              "<table border=\"1\" class=\"dataframe\">\n",
              "  <thead>\n",
              "    <tr style=\"text-align: right;\">\n",
              "      <th></th>\n",
              "      <th>data</th>\n",
              "      <th>sigmoid</th>\n",
              "    </tr>\n",
              "  </thead>\n",
              "  <tbody>\n",
              "    <tr>\n",
              "      <th>0</th>\n",
              "      <td>-3.043519</td>\n",
              "      <td>0.045498</td>\n",
              "    </tr>\n",
              "    <tr>\n",
              "      <th>1</th>\n",
              "      <td>-1.995282</td>\n",
              "      <td>0.119699</td>\n",
              "    </tr>\n",
              "    <tr>\n",
              "      <th>2</th>\n",
              "      <td>-1.991833</td>\n",
              "      <td>0.120063</td>\n",
              "    </tr>\n",
              "    <tr>\n",
              "      <th>3</th>\n",
              "      <td>-1.835947</td>\n",
              "      <td>0.137531</td>\n",
              "    </tr>\n",
              "    <tr>\n",
              "      <th>4</th>\n",
              "      <td>-1.792003</td>\n",
              "      <td>0.142827</td>\n",
              "    </tr>\n",
              "  </tbody>\n",
              "</table>\n",
              "</div>"
            ],
            "text/plain": [
              "       data   sigmoid\n",
              "0 -3.043519  0.045498\n",
              "1 -1.995282  0.119699\n",
              "2 -1.991833  0.120063\n",
              "3 -1.835947  0.137531\n",
              "4 -1.792003  0.142827"
            ]
          },
          "metadata": {
            "tags": []
          },
          "execution_count": 8
        }
      ]
    },
    {
      "cell_type": "code",
      "metadata": {
        "id": "DbWCwhXifvXx",
        "colab": {
          "base_uri": "https://localhost:8080/",
          "height": 617
        },
        "outputId": "4e86c7a5-af7e-45a2-80cf-4c6ce3236d93"
      },
      "source": [
        "px.line(data, x='data', y='sigmoid', width=800, range_y=[-0.5, 1.5])"
      ],
      "execution_count": null,
      "outputs": [
        {
          "output_type": "display_data",
          "data": {
            "text/html": [
              "<html>\n",
              "<head><meta charset=\"utf-8\" /></head>\n",
              "<body>\n",
              "    <div>\n",
              "            <script src=\"https://cdnjs.cloudflare.com/ajax/libs/mathjax/2.7.5/MathJax.js?config=TeX-AMS-MML_SVG\"></script><script type=\"text/javascript\">if (window.MathJax) {MathJax.Hub.Config({SVG: {font: \"STIX-Web\"}});}</script>\n",
              "                <script type=\"text/javascript\">window.PlotlyConfig = {MathJaxConfig: 'local'};</script>\n",
              "        <script src=\"https://cdn.plot.ly/plotly-latest.min.js\"></script>    \n",
              "            <div id=\"c6512de4-a6e8-458a-aa4f-f3676a52cca8\" class=\"plotly-graph-div\" style=\"height:600px; width:800px;\"></div>\n",
              "            <script type=\"text/javascript\">\n",
              "                \n",
              "                    window.PLOTLYENV=window.PLOTLYENV || {};\n",
              "                    \n",
              "                if (document.getElementById(\"c6512de4-a6e8-458a-aa4f-f3676a52cca8\")) {\n",
              "                    Plotly.newPlot(\n",
              "                        'c6512de4-a6e8-458a-aa4f-f3676a52cca8',\n",
              "                        [{\"hoverlabel\": {\"namelength\": 0}, \"hovertemplate\": \"data=%{x}<br>sigmoid=%{y}\", \"legendgroup\": \"\", \"line\": {\"color\": \"#636efa\", \"dash\": \"solid\"}, \"mode\": \"lines\", \"name\": \"\", \"showlegend\": false, \"type\": \"scatter\", \"x\": [-3.0435191199059957, -1.9952818302198947, -1.9918326792258547, -1.8359472549464364, -1.792002826837538, -1.7877132674996852, -1.740230714760508, -1.6950982287851586, -1.6372981924936003, -1.630978293846893, -1.6141641497775638, -1.5871725732684445, -1.5799793960278334, -1.5224252294698066, -1.3796807660995987, -1.359595479720338, -1.3546084777523673, -1.3442993088777415, -1.295077883421713, -1.2563577800903734, -1.246906743170718, -1.212064966444653, -1.211241463163301, -1.1762679619769099, -1.1498398329411155, -1.1353885303379863, -1.135034190001952, -1.1279966159083925, -1.1216302341246789, -1.1141401260698869, -1.0952647162199414, -1.080894989123976, -1.0737746243144035, -1.0441010846109684, -1.0232620922703308, -1.0220667098349845, -1.0211006202176935, -1.013571742698013, -0.994818576244338, -0.9621910007057747, -0.9615817668902563, -0.9422323338294261, -0.9418321987694693, -0.9362007553168036, -0.911394907744734, -0.908632484487046, -0.8135345104586816, -0.7952921554718282, -0.7875071948555138, -0.7664783751390059, -0.7397119591782629, -0.7364120811974398, -0.7321890842637545, -0.7021169277475598, -0.6886988602491702, -0.6832724517221502, -0.65747170887838, -0.6455127644908102, -0.6335341990260613, -0.6189237447372379, -0.5822413783330772, -0.5778725903317659, -0.5682347241756613, -0.5493316022214874, -0.5035246395668741, -0.4891812761373528, -0.4848225510775056, -0.4790663849200235, -0.4679263553368912, -0.4370085222512733, -0.4308058419837109, -0.42943434500368866, -0.4265078572816096, -0.3795920063728857, -0.37606932160487133, -0.36878345858480427, -0.3501975465130895, -0.35010835873307145, -0.34277674701169863, -0.3113534349186931, -0.3067601350054569, -0.28783032776957096, -0.2765569032048219, -0.26903955382300365, -0.26272813581990057, -0.24237281446683465, -0.2321722888091089, -0.2295479011211164, -0.22500537497342685, -0.21764833751798304, -0.21029685480462373, -0.20373199145956952, -0.16548978129927283, -0.16313772424422124, -0.158246838343909, -0.15276625185145135, -0.1337386169861309, -0.1226156714031317, -0.10556298303016894, -0.0974501395574197, -0.08645248038571077, -0.059379984975747986, -0.049801687083584824, -0.042176871287953735, -0.026599948834462657, -0.007165787526632427, 0.0007672758617200109, 0.006578959672962298, 0.01094340742927777, 0.03183844690571418, 0.03326817137732086, 0.05071382532667992, 0.05998749776498214, 0.0671261446175394, 0.08522356928137241, 0.09461324768059227, 0.09861845749512747, 0.11128400988426819, 0.11370164903992123, 0.13347338042698476, 0.13376629459384645, 0.13876039248700994, 0.16047709578159264, 0.17340278586566485, 0.1736246538737538, 0.21009264957262144, 0.22149983395659148, 0.22874293934264736, 0.2340939640690656, 0.23633939049230981, 0.2637853450739976, 0.2959951510282409, 0.33366059672071324, 0.3740932709481722, 0.3970962938034953, 0.40617396546701706, 0.4094741298434088, 0.4119867031743685, 0.41883745647559467, 0.4547172430504842, 0.45583124281116877, 0.4963020922139201, 0.49946628520168956, 0.504082078630525, 0.516773321840809, 0.5420979126375498, 0.5486293599832807, 0.5504121570610538, 0.5722943780045, 0.6229171919343567, 0.6283165469666677, 0.6643690300109765, 0.6776450475987279, 0.6865530866279809, 0.7024151693768523, 0.718088210815446, 0.769106485642448, 0.7698301270210247, 0.7786231241013963, 0.8160912766862329, 0.8402039888304252, 0.8444778631106494, 0.8580665414866595, 0.8700203813584376, 0.8898619871926522, 0.9334705119995926, 0.9377480848618199, 0.9540375116599205, 0.9769099255786828, 0.9769514833695591, 0.9820072731987705, 1.0135970936222638, 1.0278055944687319, 1.0504507323085799, 1.0600379805549256, 1.06012678551962, 1.0689525522050176, 1.0926665115224163, 1.1356611535917829, 1.2333911727837128, 1.2337037309866545, 1.2599195445327716, 1.2622002081382504, 1.2906099738518968, 1.2960984233770954, 1.3076342138139525, 1.3303100921339845, 1.3518695103364418, 1.433619064857817, 1.4648340093593217, 1.4681138871119197, 1.510985157032359, 1.610957502572995, 1.6425475999138108, 1.9271145168077553, 1.9739083323865236, 1.9949491064719165, 2.182830033995147, 2.25042709608857, 2.74685163113009], \"xaxis\": \"x\", \"y\": [0.04549809769768766, 0.11969919029121097, 0.12006310879166064, 0.13753130900067237, 0.1428273465560316, 0.1433533124538886, 0.14928363184006363, 0.15510654945447563, 0.1628330333253578, 0.16369638884528434, 0.16601127853998815, 0.1697820680038472, 0.17079840006706096, 0.1791046696243349, 0.2010602750074318, 0.20430605529430226, 0.2051179633015601, 0.2068039278378783, 0.21499456654683374, 0.22160151724019478, 0.22323605565038931, 0.229335882884595, 0.2294814620654207, 0.23572388999278404, 0.24051833943429587, 0.24316803815397434, 0.24323325594259113, 0.24453100781243237, 0.2457090170840251, 0.24709984703507845, 0.25062819497944094, 0.25333668564686723, 0.25468591798434687, 0.2603594623420145, 0.2643924717413503, 0.26462502605570504, 0.26481306850858316, 0.26628143698836726, 0.2699613699247128, 0.2764397345532006, 0.27656161058887097, 0.2804496421788252, 0.2805303955828506, 0.28166841073179477, 0.2867144808078311, 0.28727975471085965, 0.30713782480134877, 0.3110334720884433, 0.31270417348039825, 0.31724139631479464, 0.32306713356943967, 0.32378922053523834, 0.3247145318892282, 0.33134304492210626, 0.3343225807416082, 0.3355313170746126, 0.3413077855546957, 0.3440014368221413, 0.3467096013890343, 0.3500262684396226, 0.35841701577423307, 0.35942225736930633, 0.36164425273085016, 0.36601949628125, 0.3767127236347278, 0.3800864570331971, 0.3811139985053616, 0.3824726090586076, 0.38510716477472706, 0.39245400890773074, 0.39393392036985053, 0.39426141284443017, 0.3949605305813798, 0.4062253039353187, 0.4070752776169757, 0.40883501353697693, 0.4133345173876859, 0.41335614461882275, 0.41513513009636277, 0.42278441518046755, 0.4239057495092485, 0.4285351215312096, 0.4312980984541596, 0.4331428983475994, 0.4346931906374741, 0.4397016910222876, 0.442216259330816, 0.4428636913349863, 0.44398478257670265, 0.4458016982971971, 0.4476186900944048, 0.44924244578714323, 0.45872171860533867, 0.4593057816440433, 0.4605206430902695, 0.4618825388282413, 0.46661509118199634, 0.46938443028546617, 0.4736337341652068, 0.4756567267802949, 0.47840033127818654, 0.4851593641518254, 0.4875521508940422, 0.4894573449823006, 0.4933504048675468, 0.49820856078398, 0.5001918189560195, 0.5016447339858661, 0.502735824554263, 0.5079589394152002, 0.5083162758405771, 0.5126757397285642, 0.5149923788713862, 0.5167752376384722, 0.521293006187428, 0.5236356829872161, 0.5246346520446646, 0.5277923264054297, 0.5283948280008017, 0.5333188947140296, 0.5333917973654301, 0.5346345435333223, 0.5400333961338241, 0.5432423977970552, 0.5432974493985904, 0.5523308183563332, 0.5551496624440617, 0.5569376869402295, 0.5582576903120585, 0.5588113533746661, 0.5655665847405562, 0.5734632075398707, 0.5826497889288714, 0.5924476854840566, 0.5979898140118324, 0.6001701137003667, 0.600961778349266, 0.6015641571921198, 0.603205029970388, 0.6117602136189303, 0.6120247663529732, 0.621589916426814, 0.6223338980478673, 0.6234181541973891, 0.6263929520227105, 0.6323003105876985, 0.6338175336252442, 0.6342312093115693, 0.6392924221682483, 0.6508817272490817, 0.6521076464032154, 0.6602411464544254, 0.6632128939229557, 0.6651997055618823, 0.6687230286277951, 0.6721858892164277, 0.6833275769506676, 0.6834841456541065, 0.6853832898194264, 0.6934059972858574, 0.6985081766685387, 0.699407466776179, 0.7022565412297946, 0.704749938917135, 0.7088616907464399, 0.7177788463959899, 0.7186445567005607, 0.7219264288824855, 0.7264946479302696, 0.7265029053928413, 0.7275063216016728, 0.7337235159351667, 0.7364902434281811, 0.7408614427634579, 0.742697803369175, 0.7427147734346841, 0.7443976691908231, 0.748883510474908, 0.7568821311923102, 0.7744115576281374, 0.7744661563305647, 0.7790122575082514, 0.7794046288256018, 0.7842504156856639, 0.785177621825867, 0.7871170049671338, 0.7908919230358121, 0.7944351021971301, 0.8074645817570798, 0.8122709107278427, 0.8127705368773824, 0.8192071611781792, 0.8335442806275557, 0.8378812917437433, 0.8729296964223181, 0.8780302873980561, 0.8802657457403755, 0.8986970112264617, 0.9046873691651754, 0.9397352953153514], \"yaxis\": \"y\"}],\n",
              "                        {\"height\": 600, \"legend\": {\"tracegroupgap\": 0}, \"margin\": {\"t\": 60}, \"template\": {\"data\": {\"bar\": [{\"error_x\": {\"color\": \"#2a3f5f\"}, \"error_y\": {\"color\": \"#2a3f5f\"}, \"marker\": {\"line\": {\"color\": \"#E5ECF6\", \"width\": 0.5}}, \"type\": \"bar\"}], \"barpolar\": [{\"marker\": {\"line\": {\"color\": \"#E5ECF6\", \"width\": 0.5}}, \"type\": \"barpolar\"}], \"carpet\": [{\"aaxis\": {\"endlinecolor\": \"#2a3f5f\", \"gridcolor\": \"white\", \"linecolor\": \"white\", \"minorgridcolor\": \"white\", \"startlinecolor\": \"#2a3f5f\"}, \"baxis\": {\"endlinecolor\": \"#2a3f5f\", \"gridcolor\": \"white\", \"linecolor\": \"white\", \"minorgridcolor\": \"white\", \"startlinecolor\": \"#2a3f5f\"}, \"type\": \"carpet\"}], \"choropleth\": [{\"colorbar\": {\"outlinewidth\": 0, \"ticks\": \"\"}, \"type\": \"choropleth\"}], \"contour\": [{\"colorbar\": {\"outlinewidth\": 0, \"ticks\": \"\"}, \"colorscale\": [[0.0, \"#0d0887\"], [0.1111111111111111, \"#46039f\"], [0.2222222222222222, \"#7201a8\"], [0.3333333333333333, \"#9c179e\"], [0.4444444444444444, \"#bd3786\"], [0.5555555555555556, \"#d8576b\"], [0.6666666666666666, \"#ed7953\"], [0.7777777777777778, \"#fb9f3a\"], [0.8888888888888888, \"#fdca26\"], [1.0, \"#f0f921\"]], \"type\": \"contour\"}], \"contourcarpet\": [{\"colorbar\": {\"outlinewidth\": 0, \"ticks\": \"\"}, \"type\": \"contourcarpet\"}], \"heatmap\": [{\"colorbar\": {\"outlinewidth\": 0, \"ticks\": \"\"}, \"colorscale\": [[0.0, \"#0d0887\"], [0.1111111111111111, \"#46039f\"], [0.2222222222222222, \"#7201a8\"], [0.3333333333333333, \"#9c179e\"], [0.4444444444444444, \"#bd3786\"], [0.5555555555555556, \"#d8576b\"], [0.6666666666666666, \"#ed7953\"], [0.7777777777777778, \"#fb9f3a\"], [0.8888888888888888, \"#fdca26\"], [1.0, \"#f0f921\"]], \"type\": \"heatmap\"}], \"heatmapgl\": [{\"colorbar\": {\"outlinewidth\": 0, \"ticks\": \"\"}, \"colorscale\": [[0.0, \"#0d0887\"], [0.1111111111111111, \"#46039f\"], [0.2222222222222222, \"#7201a8\"], [0.3333333333333333, \"#9c179e\"], [0.4444444444444444, \"#bd3786\"], [0.5555555555555556, \"#d8576b\"], [0.6666666666666666, \"#ed7953\"], [0.7777777777777778, \"#fb9f3a\"], [0.8888888888888888, \"#fdca26\"], [1.0, \"#f0f921\"]], \"type\": \"heatmapgl\"}], \"histogram\": [{\"marker\": {\"colorbar\": {\"outlinewidth\": 0, \"ticks\": \"\"}}, \"type\": \"histogram\"}], \"histogram2d\": [{\"colorbar\": {\"outlinewidth\": 0, \"ticks\": \"\"}, \"colorscale\": [[0.0, \"#0d0887\"], [0.1111111111111111, \"#46039f\"], [0.2222222222222222, \"#7201a8\"], [0.3333333333333333, \"#9c179e\"], [0.4444444444444444, \"#bd3786\"], [0.5555555555555556, \"#d8576b\"], [0.6666666666666666, \"#ed7953\"], [0.7777777777777778, \"#fb9f3a\"], [0.8888888888888888, \"#fdca26\"], [1.0, \"#f0f921\"]], \"type\": \"histogram2d\"}], \"histogram2dcontour\": [{\"colorbar\": {\"outlinewidth\": 0, \"ticks\": \"\"}, \"colorscale\": [[0.0, \"#0d0887\"], [0.1111111111111111, \"#46039f\"], [0.2222222222222222, \"#7201a8\"], [0.3333333333333333, \"#9c179e\"], [0.4444444444444444, \"#bd3786\"], [0.5555555555555556, \"#d8576b\"], [0.6666666666666666, \"#ed7953\"], [0.7777777777777778, \"#fb9f3a\"], [0.8888888888888888, \"#fdca26\"], [1.0, \"#f0f921\"]], \"type\": \"histogram2dcontour\"}], \"mesh3d\": [{\"colorbar\": {\"outlinewidth\": 0, \"ticks\": \"\"}, \"type\": \"mesh3d\"}], \"parcoords\": [{\"line\": {\"colorbar\": {\"outlinewidth\": 0, \"ticks\": \"\"}}, \"type\": \"parcoords\"}], \"scatter\": [{\"marker\": {\"colorbar\": {\"outlinewidth\": 0, \"ticks\": \"\"}}, \"type\": \"scatter\"}], \"scatter3d\": [{\"line\": {\"colorbar\": {\"outlinewidth\": 0, \"ticks\": \"\"}}, \"marker\": {\"colorbar\": {\"outlinewidth\": 0, \"ticks\": \"\"}}, \"type\": \"scatter3d\"}], \"scattercarpet\": [{\"marker\": {\"colorbar\": {\"outlinewidth\": 0, \"ticks\": \"\"}}, \"type\": \"scattercarpet\"}], \"scattergeo\": [{\"marker\": {\"colorbar\": {\"outlinewidth\": 0, \"ticks\": \"\"}}, \"type\": \"scattergeo\"}], \"scattergl\": [{\"marker\": {\"colorbar\": {\"outlinewidth\": 0, \"ticks\": \"\"}}, \"type\": \"scattergl\"}], \"scattermapbox\": [{\"marker\": {\"colorbar\": {\"outlinewidth\": 0, \"ticks\": \"\"}}, \"type\": \"scattermapbox\"}], \"scatterpolar\": [{\"marker\": {\"colorbar\": {\"outlinewidth\": 0, \"ticks\": \"\"}}, \"type\": \"scatterpolar\"}], \"scatterpolargl\": [{\"marker\": {\"colorbar\": {\"outlinewidth\": 0, \"ticks\": \"\"}}, \"type\": \"scatterpolargl\"}], \"scatterternary\": [{\"marker\": {\"colorbar\": {\"outlinewidth\": 0, \"ticks\": \"\"}}, \"type\": \"scatterternary\"}], \"surface\": [{\"colorbar\": {\"outlinewidth\": 0, \"ticks\": \"\"}, \"colorscale\": [[0.0, \"#0d0887\"], [0.1111111111111111, \"#46039f\"], [0.2222222222222222, \"#7201a8\"], [0.3333333333333333, \"#9c179e\"], [0.4444444444444444, \"#bd3786\"], [0.5555555555555556, \"#d8576b\"], [0.6666666666666666, \"#ed7953\"], [0.7777777777777778, \"#fb9f3a\"], [0.8888888888888888, \"#fdca26\"], [1.0, \"#f0f921\"]], \"type\": \"surface\"}], \"table\": [{\"cells\": {\"fill\": {\"color\": \"#EBF0F8\"}, \"line\": {\"color\": \"white\"}}, \"header\": {\"fill\": {\"color\": \"#C8D4E3\"}, \"line\": {\"color\": \"white\"}}, \"type\": \"table\"}]}, \"layout\": {\"annotationdefaults\": {\"arrowcolor\": \"#2a3f5f\", \"arrowhead\": 0, \"arrowwidth\": 1}, \"colorscale\": {\"diverging\": [[0, \"#8e0152\"], [0.1, \"#c51b7d\"], [0.2, \"#de77ae\"], [0.3, \"#f1b6da\"], [0.4, \"#fde0ef\"], [0.5, \"#f7f7f7\"], [0.6, \"#e6f5d0\"], [0.7, \"#b8e186\"], [0.8, \"#7fbc41\"], [0.9, \"#4d9221\"], [1, \"#276419\"]], \"sequential\": [[0.0, \"#0d0887\"], [0.1111111111111111, \"#46039f\"], [0.2222222222222222, \"#7201a8\"], [0.3333333333333333, \"#9c179e\"], [0.4444444444444444, \"#bd3786\"], [0.5555555555555556, \"#d8576b\"], [0.6666666666666666, \"#ed7953\"], [0.7777777777777778, \"#fb9f3a\"], [0.8888888888888888, \"#fdca26\"], [1.0, \"#f0f921\"]], \"sequentialminus\": [[0.0, \"#0d0887\"], [0.1111111111111111, \"#46039f\"], [0.2222222222222222, \"#7201a8\"], [0.3333333333333333, \"#9c179e\"], [0.4444444444444444, \"#bd3786\"], [0.5555555555555556, \"#d8576b\"], [0.6666666666666666, \"#ed7953\"], [0.7777777777777778, \"#fb9f3a\"], [0.8888888888888888, \"#fdca26\"], [1.0, \"#f0f921\"]]}, \"colorway\": [\"#636efa\", \"#EF553B\", \"#00cc96\", \"#ab63fa\", \"#FFA15A\", \"#19d3f3\", \"#FF6692\", \"#B6E880\", \"#FF97FF\", \"#FECB52\"], \"font\": {\"color\": \"#2a3f5f\"}, \"geo\": {\"bgcolor\": \"white\", \"lakecolor\": \"white\", \"landcolor\": \"#E5ECF6\", \"showlakes\": true, \"showland\": true, \"subunitcolor\": \"white\"}, \"hoverlabel\": {\"align\": \"left\"}, \"hovermode\": \"closest\", \"mapbox\": {\"style\": \"light\"}, \"paper_bgcolor\": \"white\", \"plot_bgcolor\": \"#E5ECF6\", \"polar\": {\"angularaxis\": {\"gridcolor\": \"white\", \"linecolor\": \"white\", \"ticks\": \"\"}, \"bgcolor\": \"#E5ECF6\", \"radialaxis\": {\"gridcolor\": \"white\", \"linecolor\": \"white\", \"ticks\": \"\"}}, \"scene\": {\"xaxis\": {\"backgroundcolor\": \"#E5ECF6\", \"gridcolor\": \"white\", \"gridwidth\": 2, \"linecolor\": \"white\", \"showbackground\": true, \"ticks\": \"\", \"zerolinecolor\": \"white\"}, \"yaxis\": {\"backgroundcolor\": \"#E5ECF6\", \"gridcolor\": \"white\", \"gridwidth\": 2, \"linecolor\": \"white\", \"showbackground\": true, \"ticks\": \"\", \"zerolinecolor\": \"white\"}, \"zaxis\": {\"backgroundcolor\": \"#E5ECF6\", \"gridcolor\": \"white\", \"gridwidth\": 2, \"linecolor\": \"white\", \"showbackground\": true, \"ticks\": \"\", \"zerolinecolor\": \"white\"}}, \"shapedefaults\": {\"line\": {\"color\": \"#2a3f5f\"}}, \"ternary\": {\"aaxis\": {\"gridcolor\": \"white\", \"linecolor\": \"white\", \"ticks\": \"\"}, \"baxis\": {\"gridcolor\": \"white\", \"linecolor\": \"white\", \"ticks\": \"\"}, \"bgcolor\": \"#E5ECF6\", \"caxis\": {\"gridcolor\": \"white\", \"linecolor\": \"white\", \"ticks\": \"\"}}, \"title\": {\"x\": 0.05}, \"xaxis\": {\"automargin\": true, \"gridcolor\": \"white\", \"linecolor\": \"white\", \"ticks\": \"\", \"zerolinecolor\": \"white\", \"zerolinewidth\": 2}, \"yaxis\": {\"automargin\": true, \"gridcolor\": \"white\", \"linecolor\": \"white\", \"ticks\": \"\", \"zerolinecolor\": \"white\", \"zerolinewidth\": 2}}}, \"width\": 800, \"xaxis\": {\"anchor\": \"y\", \"domain\": [0.0, 0.98], \"title\": {\"text\": \"data\"}}, \"yaxis\": {\"anchor\": \"x\", \"domain\": [0.0, 1.0], \"range\": [-0.5, 1.5], \"title\": {\"text\": \"sigmoid\"}}},\n",
              "                        {\"responsive\": true}\n",
              "                    ).then(function(){\n",
              "                            \n",
              "var gd = document.getElementById('c6512de4-a6e8-458a-aa4f-f3676a52cca8');\n",
              "var x = new MutationObserver(function (mutations, observer) {{\n",
              "        var display = window.getComputedStyle(gd).display;\n",
              "        if (!display || display === 'none') {{\n",
              "            console.log([gd, 'removed!']);\n",
              "            Plotly.purge(gd);\n",
              "            observer.disconnect();\n",
              "        }}\n",
              "}});\n",
              "\n",
              "// Listen for the removal of the full notebook cells\n",
              "var notebookContainer = gd.closest('#notebook-container');\n",
              "if (notebookContainer) {{\n",
              "    x.observe(notebookContainer, {childList: true});\n",
              "}}\n",
              "\n",
              "// Listen for the clearing of the current output cell\n",
              "var outputEl = gd.closest('.output');\n",
              "if (outputEl) {{\n",
              "    x.observe(outputEl, {childList: true});\n",
              "}}\n",
              "\n",
              "                        })\n",
              "                };\n",
              "                \n",
              "            </script>\n",
              "        </div>\n",
              "</body>\n",
              "</html>"
            ]
          },
          "metadata": {
            "tags": []
          }
        }
      ]
    },
    {
      "cell_type": "code",
      "metadata": {
        "id": "bX8_Bg2OfyLi",
        "colab": {
          "base_uri": "https://localhost:8080/",
          "height": 203
        },
        "outputId": "d692de70-53da-45c1-b2ce-849b6cfae197"
      },
      "source": [
        "from tensorflow.keras.activations import relu\n",
        "\n",
        "data = pd.DataFrame({'data': random_data, 'relu': relu(random_data)})\n",
        "data.head()"
      ],
      "execution_count": null,
      "outputs": [
        {
          "output_type": "execute_result",
          "data": {
            "text/html": [
              "<div>\n",
              "<style scoped>\n",
              "    .dataframe tbody tr th:only-of-type {\n",
              "        vertical-align: middle;\n",
              "    }\n",
              "\n",
              "    .dataframe tbody tr th {\n",
              "        vertical-align: top;\n",
              "    }\n",
              "\n",
              "    .dataframe thead th {\n",
              "        text-align: right;\n",
              "    }\n",
              "</style>\n",
              "<table border=\"1\" class=\"dataframe\">\n",
              "  <thead>\n",
              "    <tr style=\"text-align: right;\">\n",
              "      <th></th>\n",
              "      <th>data</th>\n",
              "      <th>relu</th>\n",
              "    </tr>\n",
              "  </thead>\n",
              "  <tbody>\n",
              "    <tr>\n",
              "      <th>0</th>\n",
              "      <td>-3.043519</td>\n",
              "      <td>0.0</td>\n",
              "    </tr>\n",
              "    <tr>\n",
              "      <th>1</th>\n",
              "      <td>-1.995282</td>\n",
              "      <td>0.0</td>\n",
              "    </tr>\n",
              "    <tr>\n",
              "      <th>2</th>\n",
              "      <td>-1.991833</td>\n",
              "      <td>0.0</td>\n",
              "    </tr>\n",
              "    <tr>\n",
              "      <th>3</th>\n",
              "      <td>-1.835947</td>\n",
              "      <td>0.0</td>\n",
              "    </tr>\n",
              "    <tr>\n",
              "      <th>4</th>\n",
              "      <td>-1.792003</td>\n",
              "      <td>0.0</td>\n",
              "    </tr>\n",
              "  </tbody>\n",
              "</table>\n",
              "</div>"
            ],
            "text/plain": [
              "       data  relu\n",
              "0 -3.043519   0.0\n",
              "1 -1.995282   0.0\n",
              "2 -1.991833   0.0\n",
              "3 -1.835947   0.0\n",
              "4 -1.792003   0.0"
            ]
          },
          "metadata": {
            "tags": []
          },
          "execution_count": 10
        }
      ]
    },
    {
      "cell_type": "code",
      "metadata": {
        "id": "vXV-1MECgWyz",
        "colab": {
          "base_uri": "https://localhost:8080/",
          "height": 617
        },
        "outputId": "49423d78-b042-4181-a4cd-57819a595eb3"
      },
      "source": [
        "px.line(data, x='data', y='relu', width=800, range_y=[-0.5, 1.5])"
      ],
      "execution_count": null,
      "outputs": [
        {
          "output_type": "display_data",
          "data": {
            "text/html": [
              "<html>\n",
              "<head><meta charset=\"utf-8\" /></head>\n",
              "<body>\n",
              "    <div>\n",
              "            <script src=\"https://cdnjs.cloudflare.com/ajax/libs/mathjax/2.7.5/MathJax.js?config=TeX-AMS-MML_SVG\"></script><script type=\"text/javascript\">if (window.MathJax) {MathJax.Hub.Config({SVG: {font: \"STIX-Web\"}});}</script>\n",
              "                <script type=\"text/javascript\">window.PlotlyConfig = {MathJaxConfig: 'local'};</script>\n",
              "        <script src=\"https://cdn.plot.ly/plotly-latest.min.js\"></script>    \n",
              "            <div id=\"9d7037d1-ac89-4ebf-9483-d660eb3424af\" class=\"plotly-graph-div\" style=\"height:600px; width:800px;\"></div>\n",
              "            <script type=\"text/javascript\">\n",
              "                \n",
              "                    window.PLOTLYENV=window.PLOTLYENV || {};\n",
              "                    \n",
              "                if (document.getElementById(\"9d7037d1-ac89-4ebf-9483-d660eb3424af\")) {\n",
              "                    Plotly.newPlot(\n",
              "                        '9d7037d1-ac89-4ebf-9483-d660eb3424af',\n",
              "                        [{\"hoverlabel\": {\"namelength\": 0}, \"hovertemplate\": \"data=%{x}<br>relu=%{y}\", \"legendgroup\": \"\", \"line\": {\"color\": \"#636efa\", \"dash\": \"solid\"}, \"mode\": \"lines\", \"name\": \"\", \"showlegend\": false, \"type\": \"scatter\", \"x\": [-3.0435191199059957, -1.9952818302198947, -1.9918326792258547, -1.8359472549464364, -1.792002826837538, -1.7877132674996852, -1.740230714760508, -1.6950982287851586, -1.6372981924936003, -1.630978293846893, -1.6141641497775638, -1.5871725732684445, -1.5799793960278334, -1.5224252294698066, -1.3796807660995987, -1.359595479720338, -1.3546084777523673, -1.3442993088777415, -1.295077883421713, -1.2563577800903734, -1.246906743170718, -1.212064966444653, -1.211241463163301, -1.1762679619769099, -1.1498398329411155, -1.1353885303379863, -1.135034190001952, -1.1279966159083925, -1.1216302341246789, -1.1141401260698869, -1.0952647162199414, -1.080894989123976, -1.0737746243144035, -1.0441010846109684, -1.0232620922703308, -1.0220667098349845, -1.0211006202176935, -1.013571742698013, -0.994818576244338, -0.9621910007057747, -0.9615817668902563, -0.9422323338294261, -0.9418321987694693, -0.9362007553168036, -0.911394907744734, -0.908632484487046, -0.8135345104586816, -0.7952921554718282, -0.7875071948555138, -0.7664783751390059, -0.7397119591782629, -0.7364120811974398, -0.7321890842637545, -0.7021169277475598, -0.6886988602491702, -0.6832724517221502, -0.65747170887838, -0.6455127644908102, -0.6335341990260613, -0.6189237447372379, -0.5822413783330772, -0.5778725903317659, -0.5682347241756613, -0.5493316022214874, -0.5035246395668741, -0.4891812761373528, -0.4848225510775056, -0.4790663849200235, -0.4679263553368912, -0.4370085222512733, -0.4308058419837109, -0.42943434500368866, -0.4265078572816096, -0.3795920063728857, -0.37606932160487133, -0.36878345858480427, -0.3501975465130895, -0.35010835873307145, -0.34277674701169863, -0.3113534349186931, -0.3067601350054569, -0.28783032776957096, -0.2765569032048219, -0.26903955382300365, -0.26272813581990057, -0.24237281446683465, -0.2321722888091089, -0.2295479011211164, -0.22500537497342685, -0.21764833751798304, -0.21029685480462373, -0.20373199145956952, -0.16548978129927283, -0.16313772424422124, -0.158246838343909, -0.15276625185145135, -0.1337386169861309, -0.1226156714031317, -0.10556298303016894, -0.0974501395574197, -0.08645248038571077, -0.059379984975747986, -0.049801687083584824, -0.042176871287953735, -0.026599948834462657, -0.007165787526632427, 0.0007672758617200109, 0.006578959672962298, 0.01094340742927777, 0.03183844690571418, 0.03326817137732086, 0.05071382532667992, 0.05998749776498214, 0.0671261446175394, 0.08522356928137241, 0.09461324768059227, 0.09861845749512747, 0.11128400988426819, 0.11370164903992123, 0.13347338042698476, 0.13376629459384645, 0.13876039248700994, 0.16047709578159264, 0.17340278586566485, 0.1736246538737538, 0.21009264957262144, 0.22149983395659148, 0.22874293934264736, 0.2340939640690656, 0.23633939049230981, 0.2637853450739976, 0.2959951510282409, 0.33366059672071324, 0.3740932709481722, 0.3970962938034953, 0.40617396546701706, 0.4094741298434088, 0.4119867031743685, 0.41883745647559467, 0.4547172430504842, 0.45583124281116877, 0.4963020922139201, 0.49946628520168956, 0.504082078630525, 0.516773321840809, 0.5420979126375498, 0.5486293599832807, 0.5504121570610538, 0.5722943780045, 0.6229171919343567, 0.6283165469666677, 0.6643690300109765, 0.6776450475987279, 0.6865530866279809, 0.7024151693768523, 0.718088210815446, 0.769106485642448, 0.7698301270210247, 0.7786231241013963, 0.8160912766862329, 0.8402039888304252, 0.8444778631106494, 0.8580665414866595, 0.8700203813584376, 0.8898619871926522, 0.9334705119995926, 0.9377480848618199, 0.9540375116599205, 0.9769099255786828, 0.9769514833695591, 0.9820072731987705, 1.0135970936222638, 1.0278055944687319, 1.0504507323085799, 1.0600379805549256, 1.06012678551962, 1.0689525522050176, 1.0926665115224163, 1.1356611535917829, 1.2333911727837128, 1.2337037309866545, 1.2599195445327716, 1.2622002081382504, 1.2906099738518968, 1.2960984233770954, 1.3076342138139525, 1.3303100921339845, 1.3518695103364418, 1.433619064857817, 1.4648340093593217, 1.4681138871119197, 1.510985157032359, 1.610957502572995, 1.6425475999138108, 1.9271145168077553, 1.9739083323865236, 1.9949491064719165, 2.182830033995147, 2.25042709608857, 2.74685163113009], \"xaxis\": \"x\", \"y\": [0.0, 0.0, 0.0, 0.0, 0.0, 0.0, 0.0, 0.0, 0.0, 0.0, 0.0, 0.0, 0.0, 0.0, 0.0, 0.0, 0.0, 0.0, 0.0, 0.0, 0.0, 0.0, 0.0, 0.0, 0.0, 0.0, 0.0, 0.0, 0.0, 0.0, 0.0, 0.0, 0.0, 0.0, 0.0, 0.0, 0.0, 0.0, 0.0, 0.0, 0.0, 0.0, 0.0, 0.0, 0.0, 0.0, 0.0, 0.0, 0.0, 0.0, 0.0, 0.0, 0.0, 0.0, 0.0, 0.0, 0.0, 0.0, 0.0, 0.0, 0.0, 0.0, 0.0, 0.0, 0.0, 0.0, 0.0, 0.0, 0.0, 0.0, 0.0, 0.0, 0.0, 0.0, 0.0, 0.0, 0.0, 0.0, 0.0, 0.0, 0.0, 0.0, 0.0, 0.0, 0.0, 0.0, 0.0, 0.0, 0.0, 0.0, 0.0, 0.0, 0.0, 0.0, 0.0, 0.0, 0.0, 0.0, 0.0, 0.0, 0.0, 0.0, 0.0, 0.0, 0.0, 0.0, 0.0007672758617200109, 0.006578959672962298, 0.01094340742927777, 0.03183844690571418, 0.03326817137732086, 0.05071382532667992, 0.05998749776498214, 0.0671261446175394, 0.08522356928137241, 0.09461324768059227, 0.09861845749512747, 0.11128400988426819, 0.11370164903992123, 0.13347338042698476, 0.13376629459384645, 0.13876039248700994, 0.16047709578159264, 0.17340278586566485, 0.1736246538737538, 0.21009264957262144, 0.22149983395659148, 0.22874293934264736, 0.2340939640690656, 0.23633939049230981, 0.2637853450739976, 0.2959951510282409, 0.33366059672071324, 0.3740932709481722, 0.3970962938034953, 0.40617396546701706, 0.4094741298434088, 0.4119867031743685, 0.41883745647559467, 0.4547172430504842, 0.45583124281116877, 0.4963020922139201, 0.49946628520168956, 0.504082078630525, 0.516773321840809, 0.5420979126375498, 0.5486293599832807, 0.5504121570610538, 0.5722943780045, 0.6229171919343567, 0.6283165469666677, 0.6643690300109765, 0.6776450475987279, 0.6865530866279809, 0.7024151693768523, 0.718088210815446, 0.769106485642448, 0.7698301270210247, 0.7786231241013963, 0.8160912766862329, 0.8402039888304252, 0.8444778631106494, 0.8580665414866595, 0.8700203813584376, 0.8898619871926522, 0.9334705119995926, 0.9377480848618199, 0.9540375116599205, 0.9769099255786828, 0.9769514833695591, 0.9820072731987705, 1.0135970936222638, 1.0278055944687319, 1.0504507323085799, 1.0600379805549256, 1.06012678551962, 1.0689525522050176, 1.0926665115224163, 1.1356611535917829, 1.2333911727837128, 1.2337037309866545, 1.2599195445327716, 1.2622002081382504, 1.2906099738518968, 1.2960984233770954, 1.3076342138139525, 1.3303100921339845, 1.3518695103364418, 1.433619064857817, 1.4648340093593217, 1.4681138871119197, 1.510985157032359, 1.610957502572995, 1.6425475999138108, 1.9271145168077553, 1.9739083323865236, 1.9949491064719165, 2.182830033995147, 2.25042709608857, 2.74685163113009], \"yaxis\": \"y\"}],\n",
              "                        {\"height\": 600, \"legend\": {\"tracegroupgap\": 0}, \"margin\": {\"t\": 60}, \"template\": {\"data\": {\"bar\": [{\"error_x\": {\"color\": \"#2a3f5f\"}, \"error_y\": {\"color\": \"#2a3f5f\"}, \"marker\": {\"line\": {\"color\": \"#E5ECF6\", \"width\": 0.5}}, \"type\": \"bar\"}], \"barpolar\": [{\"marker\": {\"line\": {\"color\": \"#E5ECF6\", \"width\": 0.5}}, \"type\": \"barpolar\"}], \"carpet\": [{\"aaxis\": {\"endlinecolor\": \"#2a3f5f\", \"gridcolor\": \"white\", \"linecolor\": \"white\", \"minorgridcolor\": \"white\", \"startlinecolor\": \"#2a3f5f\"}, \"baxis\": {\"endlinecolor\": \"#2a3f5f\", \"gridcolor\": \"white\", \"linecolor\": \"white\", \"minorgridcolor\": \"white\", \"startlinecolor\": \"#2a3f5f\"}, \"type\": \"carpet\"}], \"choropleth\": [{\"colorbar\": {\"outlinewidth\": 0, \"ticks\": \"\"}, \"type\": \"choropleth\"}], \"contour\": [{\"colorbar\": {\"outlinewidth\": 0, \"ticks\": \"\"}, \"colorscale\": [[0.0, \"#0d0887\"], [0.1111111111111111, \"#46039f\"], [0.2222222222222222, \"#7201a8\"], [0.3333333333333333, \"#9c179e\"], [0.4444444444444444, \"#bd3786\"], [0.5555555555555556, \"#d8576b\"], [0.6666666666666666, \"#ed7953\"], [0.7777777777777778, \"#fb9f3a\"], [0.8888888888888888, \"#fdca26\"], [1.0, \"#f0f921\"]], \"type\": \"contour\"}], \"contourcarpet\": [{\"colorbar\": {\"outlinewidth\": 0, \"ticks\": \"\"}, \"type\": \"contourcarpet\"}], \"heatmap\": [{\"colorbar\": {\"outlinewidth\": 0, \"ticks\": \"\"}, \"colorscale\": [[0.0, \"#0d0887\"], [0.1111111111111111, \"#46039f\"], [0.2222222222222222, \"#7201a8\"], [0.3333333333333333, \"#9c179e\"], [0.4444444444444444, \"#bd3786\"], [0.5555555555555556, \"#d8576b\"], [0.6666666666666666, \"#ed7953\"], [0.7777777777777778, \"#fb9f3a\"], [0.8888888888888888, \"#fdca26\"], [1.0, \"#f0f921\"]], \"type\": \"heatmap\"}], \"heatmapgl\": [{\"colorbar\": {\"outlinewidth\": 0, \"ticks\": \"\"}, \"colorscale\": [[0.0, \"#0d0887\"], [0.1111111111111111, \"#46039f\"], [0.2222222222222222, \"#7201a8\"], [0.3333333333333333, \"#9c179e\"], [0.4444444444444444, \"#bd3786\"], [0.5555555555555556, \"#d8576b\"], [0.6666666666666666, \"#ed7953\"], [0.7777777777777778, \"#fb9f3a\"], [0.8888888888888888, \"#fdca26\"], [1.0, \"#f0f921\"]], \"type\": \"heatmapgl\"}], \"histogram\": [{\"marker\": {\"colorbar\": {\"outlinewidth\": 0, \"ticks\": \"\"}}, \"type\": \"histogram\"}], \"histogram2d\": [{\"colorbar\": {\"outlinewidth\": 0, \"ticks\": \"\"}, \"colorscale\": [[0.0, \"#0d0887\"], [0.1111111111111111, \"#46039f\"], [0.2222222222222222, \"#7201a8\"], [0.3333333333333333, \"#9c179e\"], [0.4444444444444444, \"#bd3786\"], [0.5555555555555556, \"#d8576b\"], [0.6666666666666666, \"#ed7953\"], [0.7777777777777778, \"#fb9f3a\"], [0.8888888888888888, \"#fdca26\"], [1.0, \"#f0f921\"]], \"type\": \"histogram2d\"}], \"histogram2dcontour\": [{\"colorbar\": {\"outlinewidth\": 0, \"ticks\": \"\"}, \"colorscale\": [[0.0, \"#0d0887\"], [0.1111111111111111, \"#46039f\"], [0.2222222222222222, \"#7201a8\"], [0.3333333333333333, \"#9c179e\"], [0.4444444444444444, \"#bd3786\"], [0.5555555555555556, \"#d8576b\"], [0.6666666666666666, \"#ed7953\"], [0.7777777777777778, \"#fb9f3a\"], [0.8888888888888888, \"#fdca26\"], [1.0, \"#f0f921\"]], \"type\": \"histogram2dcontour\"}], \"mesh3d\": [{\"colorbar\": {\"outlinewidth\": 0, \"ticks\": \"\"}, \"type\": \"mesh3d\"}], \"parcoords\": [{\"line\": {\"colorbar\": {\"outlinewidth\": 0, \"ticks\": \"\"}}, \"type\": \"parcoords\"}], \"scatter\": [{\"marker\": {\"colorbar\": {\"outlinewidth\": 0, \"ticks\": \"\"}}, \"type\": \"scatter\"}], \"scatter3d\": [{\"line\": {\"colorbar\": {\"outlinewidth\": 0, \"ticks\": \"\"}}, \"marker\": {\"colorbar\": {\"outlinewidth\": 0, \"ticks\": \"\"}}, \"type\": \"scatter3d\"}], \"scattercarpet\": [{\"marker\": {\"colorbar\": {\"outlinewidth\": 0, \"ticks\": \"\"}}, \"type\": \"scattercarpet\"}], \"scattergeo\": [{\"marker\": {\"colorbar\": {\"outlinewidth\": 0, \"ticks\": \"\"}}, \"type\": \"scattergeo\"}], \"scattergl\": [{\"marker\": {\"colorbar\": {\"outlinewidth\": 0, \"ticks\": \"\"}}, \"type\": \"scattergl\"}], \"scattermapbox\": [{\"marker\": {\"colorbar\": {\"outlinewidth\": 0, \"ticks\": \"\"}}, \"type\": \"scattermapbox\"}], \"scatterpolar\": [{\"marker\": {\"colorbar\": {\"outlinewidth\": 0, \"ticks\": \"\"}}, \"type\": \"scatterpolar\"}], \"scatterpolargl\": [{\"marker\": {\"colorbar\": {\"outlinewidth\": 0, \"ticks\": \"\"}}, \"type\": \"scatterpolargl\"}], \"scatterternary\": [{\"marker\": {\"colorbar\": {\"outlinewidth\": 0, \"ticks\": \"\"}}, \"type\": \"scatterternary\"}], \"surface\": [{\"colorbar\": {\"outlinewidth\": 0, \"ticks\": \"\"}, \"colorscale\": [[0.0, \"#0d0887\"], [0.1111111111111111, \"#46039f\"], [0.2222222222222222, \"#7201a8\"], [0.3333333333333333, \"#9c179e\"], [0.4444444444444444, \"#bd3786\"], [0.5555555555555556, \"#d8576b\"], [0.6666666666666666, \"#ed7953\"], [0.7777777777777778, \"#fb9f3a\"], [0.8888888888888888, \"#fdca26\"], [1.0, \"#f0f921\"]], \"type\": \"surface\"}], \"table\": [{\"cells\": {\"fill\": {\"color\": \"#EBF0F8\"}, \"line\": {\"color\": \"white\"}}, \"header\": {\"fill\": {\"color\": \"#C8D4E3\"}, \"line\": {\"color\": \"white\"}}, \"type\": \"table\"}]}, \"layout\": {\"annotationdefaults\": {\"arrowcolor\": \"#2a3f5f\", \"arrowhead\": 0, \"arrowwidth\": 1}, \"colorscale\": {\"diverging\": [[0, \"#8e0152\"], [0.1, \"#c51b7d\"], [0.2, \"#de77ae\"], [0.3, \"#f1b6da\"], [0.4, \"#fde0ef\"], [0.5, \"#f7f7f7\"], [0.6, \"#e6f5d0\"], [0.7, \"#b8e186\"], [0.8, \"#7fbc41\"], [0.9, \"#4d9221\"], [1, \"#276419\"]], \"sequential\": [[0.0, \"#0d0887\"], [0.1111111111111111, \"#46039f\"], [0.2222222222222222, \"#7201a8\"], [0.3333333333333333, \"#9c179e\"], [0.4444444444444444, \"#bd3786\"], [0.5555555555555556, \"#d8576b\"], [0.6666666666666666, \"#ed7953\"], [0.7777777777777778, \"#fb9f3a\"], [0.8888888888888888, \"#fdca26\"], [1.0, \"#f0f921\"]], \"sequentialminus\": [[0.0, \"#0d0887\"], [0.1111111111111111, \"#46039f\"], [0.2222222222222222, \"#7201a8\"], [0.3333333333333333, \"#9c179e\"], [0.4444444444444444, \"#bd3786\"], [0.5555555555555556, \"#d8576b\"], [0.6666666666666666, \"#ed7953\"], [0.7777777777777778, \"#fb9f3a\"], [0.8888888888888888, \"#fdca26\"], [1.0, \"#f0f921\"]]}, \"colorway\": [\"#636efa\", \"#EF553B\", \"#00cc96\", \"#ab63fa\", \"#FFA15A\", \"#19d3f3\", \"#FF6692\", \"#B6E880\", \"#FF97FF\", \"#FECB52\"], \"font\": {\"color\": \"#2a3f5f\"}, \"geo\": {\"bgcolor\": \"white\", \"lakecolor\": \"white\", \"landcolor\": \"#E5ECF6\", \"showlakes\": true, \"showland\": true, \"subunitcolor\": \"white\"}, \"hoverlabel\": {\"align\": \"left\"}, \"hovermode\": \"closest\", \"mapbox\": {\"style\": \"light\"}, \"paper_bgcolor\": \"white\", \"plot_bgcolor\": \"#E5ECF6\", \"polar\": {\"angularaxis\": {\"gridcolor\": \"white\", \"linecolor\": \"white\", \"ticks\": \"\"}, \"bgcolor\": \"#E5ECF6\", \"radialaxis\": {\"gridcolor\": \"white\", \"linecolor\": \"white\", \"ticks\": \"\"}}, \"scene\": {\"xaxis\": {\"backgroundcolor\": \"#E5ECF6\", \"gridcolor\": \"white\", \"gridwidth\": 2, \"linecolor\": \"white\", \"showbackground\": true, \"ticks\": \"\", \"zerolinecolor\": \"white\"}, \"yaxis\": {\"backgroundcolor\": \"#E5ECF6\", \"gridcolor\": \"white\", \"gridwidth\": 2, \"linecolor\": \"white\", \"showbackground\": true, \"ticks\": \"\", \"zerolinecolor\": \"white\"}, \"zaxis\": {\"backgroundcolor\": \"#E5ECF6\", \"gridcolor\": \"white\", \"gridwidth\": 2, \"linecolor\": \"white\", \"showbackground\": true, \"ticks\": \"\", \"zerolinecolor\": \"white\"}}, \"shapedefaults\": {\"line\": {\"color\": \"#2a3f5f\"}}, \"ternary\": {\"aaxis\": {\"gridcolor\": \"white\", \"linecolor\": \"white\", \"ticks\": \"\"}, \"baxis\": {\"gridcolor\": \"white\", \"linecolor\": \"white\", \"ticks\": \"\"}, \"bgcolor\": \"#E5ECF6\", \"caxis\": {\"gridcolor\": \"white\", \"linecolor\": \"white\", \"ticks\": \"\"}}, \"title\": {\"x\": 0.05}, \"xaxis\": {\"automargin\": true, \"gridcolor\": \"white\", \"linecolor\": \"white\", \"ticks\": \"\", \"zerolinecolor\": \"white\", \"zerolinewidth\": 2}, \"yaxis\": {\"automargin\": true, \"gridcolor\": \"white\", \"linecolor\": \"white\", \"ticks\": \"\", \"zerolinecolor\": \"white\", \"zerolinewidth\": 2}}}, \"width\": 800, \"xaxis\": {\"anchor\": \"y\", \"domain\": [0.0, 0.98], \"title\": {\"text\": \"data\"}}, \"yaxis\": {\"anchor\": \"x\", \"domain\": [0.0, 1.0], \"range\": [-0.5, 1.5], \"title\": {\"text\": \"relu\"}}},\n",
              "                        {\"responsive\": true}\n",
              "                    ).then(function(){\n",
              "                            \n",
              "var gd = document.getElementById('9d7037d1-ac89-4ebf-9483-d660eb3424af');\n",
              "var x = new MutationObserver(function (mutations, observer) {{\n",
              "        var display = window.getComputedStyle(gd).display;\n",
              "        if (!display || display === 'none') {{\n",
              "            console.log([gd, 'removed!']);\n",
              "            Plotly.purge(gd);\n",
              "            observer.disconnect();\n",
              "        }}\n",
              "}});\n",
              "\n",
              "// Listen for the removal of the full notebook cells\n",
              "var notebookContainer = gd.closest('#notebook-container');\n",
              "if (notebookContainer) {{\n",
              "    x.observe(notebookContainer, {childList: true});\n",
              "}}\n",
              "\n",
              "// Listen for the clearing of the current output cell\n",
              "var outputEl = gd.closest('.output');\n",
              "if (outputEl) {{\n",
              "    x.observe(outputEl, {childList: true});\n",
              "}}\n",
              "\n",
              "                        })\n",
              "                };\n",
              "                \n",
              "            </script>\n",
              "        </div>\n",
              "</body>\n",
              "</html>"
            ]
          },
          "metadata": {
            "tags": []
          }
        }
      ]
    },
    {
      "cell_type": "code",
      "metadata": {
        "id": "5AF9VX1OgZNg",
        "colab": {
          "base_uri": "https://localhost:8080/",
          "height": 203
        },
        "outputId": "4070d746-93e5-4bfa-ada9-04242bc4c15f"
      },
      "source": [
        "from tensorflow.keras.activations import tanh\n",
        "\n",
        "data = pd.DataFrame({'data': random_data, 'tanh': tanh(random_data)})\n",
        "data.head()"
      ],
      "execution_count": null,
      "outputs": [
        {
          "output_type": "execute_result",
          "data": {
            "text/html": [
              "<div>\n",
              "<style scoped>\n",
              "    .dataframe tbody tr th:only-of-type {\n",
              "        vertical-align: middle;\n",
              "    }\n",
              "\n",
              "    .dataframe tbody tr th {\n",
              "        vertical-align: top;\n",
              "    }\n",
              "\n",
              "    .dataframe thead th {\n",
              "        text-align: right;\n",
              "    }\n",
              "</style>\n",
              "<table border=\"1\" class=\"dataframe\">\n",
              "  <thead>\n",
              "    <tr style=\"text-align: right;\">\n",
              "      <th></th>\n",
              "      <th>data</th>\n",
              "      <th>tanh</th>\n",
              "    </tr>\n",
              "  </thead>\n",
              "  <tbody>\n",
              "    <tr>\n",
              "      <th>0</th>\n",
              "      <td>-3.043519</td>\n",
              "      <td>-0.995466</td>\n",
              "    </tr>\n",
              "    <tr>\n",
              "      <th>1</th>\n",
              "      <td>-1.995282</td>\n",
              "      <td>-0.963693</td>\n",
              "    </tr>\n",
              "    <tr>\n",
              "      <th>2</th>\n",
              "      <td>-1.991833</td>\n",
              "      <td>-0.963446</td>\n",
              "    </tr>\n",
              "    <tr>\n",
              "      <th>3</th>\n",
              "      <td>-1.835947</td>\n",
              "      <td>-0.950405</td>\n",
              "    </tr>\n",
              "    <tr>\n",
              "      <th>4</th>\n",
              "      <td>-1.792003</td>\n",
              "      <td>-0.945972</td>\n",
              "    </tr>\n",
              "  </tbody>\n",
              "</table>\n",
              "</div>"
            ],
            "text/plain": [
              "       data      tanh\n",
              "0 -3.043519 -0.995466\n",
              "1 -1.995282 -0.963693\n",
              "2 -1.991833 -0.963446\n",
              "3 -1.835947 -0.950405\n",
              "4 -1.792003 -0.945972"
            ]
          },
          "metadata": {
            "tags": []
          },
          "execution_count": 12
        }
      ]
    },
    {
      "cell_type": "code",
      "metadata": {
        "id": "60dxCfJpghZR",
        "colab": {
          "base_uri": "https://localhost:8080/",
          "height": 617
        },
        "outputId": "0e086c86-268b-4c70-b111-3df4469abd18"
      },
      "source": [
        "px.line(data, x='data', y='tanh', width=800, range_y=[-1.5, 1.5])"
      ],
      "execution_count": null,
      "outputs": [
        {
          "output_type": "display_data",
          "data": {
            "text/html": [
              "<html>\n",
              "<head><meta charset=\"utf-8\" /></head>\n",
              "<body>\n",
              "    <div>\n",
              "            <script src=\"https://cdnjs.cloudflare.com/ajax/libs/mathjax/2.7.5/MathJax.js?config=TeX-AMS-MML_SVG\"></script><script type=\"text/javascript\">if (window.MathJax) {MathJax.Hub.Config({SVG: {font: \"STIX-Web\"}});}</script>\n",
              "                <script type=\"text/javascript\">window.PlotlyConfig = {MathJaxConfig: 'local'};</script>\n",
              "        <script src=\"https://cdn.plot.ly/plotly-latest.min.js\"></script>    \n",
              "            <div id=\"a07a1a3d-f023-45fb-9190-73798f800f52\" class=\"plotly-graph-div\" style=\"height:600px; width:800px;\"></div>\n",
              "            <script type=\"text/javascript\">\n",
              "                \n",
              "                    window.PLOTLYENV=window.PLOTLYENV || {};\n",
              "                    \n",
              "                if (document.getElementById(\"a07a1a3d-f023-45fb-9190-73798f800f52\")) {\n",
              "                    Plotly.newPlot(\n",
              "                        'a07a1a3d-f023-45fb-9190-73798f800f52',\n",
              "                        [{\"hoverlabel\": {\"namelength\": 0}, \"hovertemplate\": \"data=%{x}<br>tanh=%{y}\", \"legendgroup\": \"\", \"line\": {\"color\": \"#636efa\", \"dash\": \"solid\"}, \"mode\": \"lines\", \"name\": \"\", \"showlegend\": false, \"type\": \"scatter\", \"x\": [-3.0435191199059957, -1.9952818302198947, -1.9918326792258547, -1.8359472549464364, -1.792002826837538, -1.7877132674996852, -1.740230714760508, -1.6950982287851586, -1.6372981924936003, -1.630978293846893, -1.6141641497775638, -1.5871725732684445, -1.5799793960278334, -1.5224252294698066, -1.3796807660995987, -1.359595479720338, -1.3546084777523673, -1.3442993088777415, -1.295077883421713, -1.2563577800903734, -1.246906743170718, -1.212064966444653, -1.211241463163301, -1.1762679619769099, -1.1498398329411155, -1.1353885303379863, -1.135034190001952, -1.1279966159083925, -1.1216302341246789, -1.1141401260698869, -1.0952647162199414, -1.080894989123976, -1.0737746243144035, -1.0441010846109684, -1.0232620922703308, -1.0220667098349845, -1.0211006202176935, -1.013571742698013, -0.994818576244338, -0.9621910007057747, -0.9615817668902563, -0.9422323338294261, -0.9418321987694693, -0.9362007553168036, -0.911394907744734, -0.908632484487046, -0.8135345104586816, -0.7952921554718282, -0.7875071948555138, -0.7664783751390059, -0.7397119591782629, -0.7364120811974398, -0.7321890842637545, -0.7021169277475598, -0.6886988602491702, -0.6832724517221502, -0.65747170887838, -0.6455127644908102, -0.6335341990260613, -0.6189237447372379, -0.5822413783330772, -0.5778725903317659, -0.5682347241756613, -0.5493316022214874, -0.5035246395668741, -0.4891812761373528, -0.4848225510775056, -0.4790663849200235, -0.4679263553368912, -0.4370085222512733, -0.4308058419837109, -0.42943434500368866, -0.4265078572816096, -0.3795920063728857, -0.37606932160487133, -0.36878345858480427, -0.3501975465130895, -0.35010835873307145, -0.34277674701169863, -0.3113534349186931, -0.3067601350054569, -0.28783032776957096, -0.2765569032048219, -0.26903955382300365, -0.26272813581990057, -0.24237281446683465, -0.2321722888091089, -0.2295479011211164, -0.22500537497342685, -0.21764833751798304, -0.21029685480462373, -0.20373199145956952, -0.16548978129927283, -0.16313772424422124, -0.158246838343909, -0.15276625185145135, -0.1337386169861309, -0.1226156714031317, -0.10556298303016894, -0.0974501395574197, -0.08645248038571077, -0.059379984975747986, -0.049801687083584824, -0.042176871287953735, -0.026599948834462657, -0.007165787526632427, 0.0007672758617200109, 0.006578959672962298, 0.01094340742927777, 0.03183844690571418, 0.03326817137732086, 0.05071382532667992, 0.05998749776498214, 0.0671261446175394, 0.08522356928137241, 0.09461324768059227, 0.09861845749512747, 0.11128400988426819, 0.11370164903992123, 0.13347338042698476, 0.13376629459384645, 0.13876039248700994, 0.16047709578159264, 0.17340278586566485, 0.1736246538737538, 0.21009264957262144, 0.22149983395659148, 0.22874293934264736, 0.2340939640690656, 0.23633939049230981, 0.2637853450739976, 0.2959951510282409, 0.33366059672071324, 0.3740932709481722, 0.3970962938034953, 0.40617396546701706, 0.4094741298434088, 0.4119867031743685, 0.41883745647559467, 0.4547172430504842, 0.45583124281116877, 0.4963020922139201, 0.49946628520168956, 0.504082078630525, 0.516773321840809, 0.5420979126375498, 0.5486293599832807, 0.5504121570610538, 0.5722943780045, 0.6229171919343567, 0.6283165469666677, 0.6643690300109765, 0.6776450475987279, 0.6865530866279809, 0.7024151693768523, 0.718088210815446, 0.769106485642448, 0.7698301270210247, 0.7786231241013963, 0.8160912766862329, 0.8402039888304252, 0.8444778631106494, 0.8580665414866595, 0.8700203813584376, 0.8898619871926522, 0.9334705119995926, 0.9377480848618199, 0.9540375116599205, 0.9769099255786828, 0.9769514833695591, 0.9820072731987705, 1.0135970936222638, 1.0278055944687319, 1.0504507323085799, 1.0600379805549256, 1.06012678551962, 1.0689525522050176, 1.0926665115224163, 1.1356611535917829, 1.2333911727837128, 1.2337037309866545, 1.2599195445327716, 1.2622002081382504, 1.2906099738518968, 1.2960984233770954, 1.3076342138139525, 1.3303100921339845, 1.3518695103364418, 1.433619064857817, 1.4648340093593217, 1.4681138871119197, 1.510985157032359, 1.610957502572995, 1.6425475999138108, 1.9271145168077553, 1.9739083323865236, 1.9949491064719165, 2.182830033995147, 2.25042709608857, 2.74685163113009], \"xaxis\": \"x\", \"y\": [-0.9954660448112657, -0.9636927168667067, -0.9634459858628872, -0.9504046232238096, -0.9459715379326573, -0.9455187081732405, -0.9402533914717159, -0.9347934831803622, -0.9270939211412101, -0.9262007740345588, -0.9237730285440684, -0.919714686667344, -0.918598675062243, -0.9091193694981832, -0.88087976353273, -0.8762992117158726, -0.8751366592576344, -0.8727010256360339, -0.8604506560595033, -0.8500568687397603, -0.847413965541264, -0.8372978425420277, -0.8370515009921098, -0.8262711706648267, -0.8177010111543431, -0.812855432312354, -0.8127351820372032, -0.8103324934576324, -0.8081352188465152, -0.8055209944591686, -0.7987916423806324, -0.7935307550134421, -0.7908790825197156, -0.779502385492499, -0.7711918709718941, -0.7707069798073971, -0.7703144448876875, -0.7672352856943369, -0.7594094894717318, -0.7452525748291823, -0.7449815873241448, -0.7362462124759367, -0.7360629200327391, -0.7334718155816569, -0.7218010923098687, -0.7204752425101677, -0.6715354566225529, -0.6613965912812364, -0.656994549323385, -0.6448770205174876, -0.6289711024190681, -0.6269725306670891, -0.6244027821755294, -0.6057097560312947, -0.5971454751245115, -0.5936427142925123, -0.5766783856403519, -0.5686414400301367, -0.5604809859862181, -0.5503782328580302, -0.5242926012462901, -0.5211174651025273, -0.5140616717919263, -0.5000190931725343, -0.46488458302375335, -0.4535663802471219, -0.4500975069399814, -0.4454955976568365, -0.43652232717257483, -0.41116174673843214, -0.40599454258943324, -0.4048484741724144, -0.40239874907907924, -0.36235309582791564, -0.35928904028883596, -0.35292715810732084, -0.3365507271132946, -0.3364716389376048, -0.32995410097244166, -0.3016678665060887, -0.2974868088871323, -0.28013662642830783, -0.2697154314048806, -0.2627309123711675, -0.2568454748652498, -0.23773571600244187, -0.22808864658155345, -0.22559930678252835, -0.22128357968473022, -0.21427550739116422, -0.20725062125484417, -0.2009592678442385, -0.16399540081104141, -0.1617057221669118, -0.15693899485158758, -0.15158884618126606, -0.1329469301317841, -0.1220048518700841, -0.1051726077761854, -0.09714282748243341, -0.08623773950491043, -0.05931029233652952, -0.049760555041335114, -0.04215187975396245, -0.026593676947080456, -0.007165664878311965, 0.0007672757111518139, 0.006578864756203562, 0.010942970596068392, 0.031827693195976635, 0.03325590339015153, 0.05067039317869609, 0.059915646185039514, 0.06702550434110766, 0.08501783907907186, 0.09433193949097692, 0.09829998846347175, 0.11082688892226891, 0.1132141888818824, 0.13268637241686862, 0.13297411844088164, 0.13787661367994225, 0.15911355665403001, 0.17168544929049706, 0.1719007693354105, 0.2070551789446907, 0.2179471179823284, 0.2248351749713939, 0.22990954741544373, 0.23203518326938882, 0.25783267201916626, 0.2876433659736046, 0.32180614067637353, 0.3575668548093345, 0.3774617015048781, 0.38521921668982195, 0.3880260784695092, 0.39015826486342, 0.3959505998921967, 0.4257688543580503, 0.4266804764600941, 0.45920398111416744, 0.4616973149573052, 0.4653214363991755, 0.47520581740211176, 0.494574365581766, 0.4994922399924302, 0.5008290507368667, 0.5170422872682034, 0.5531558804334542, 0.5568919383685036, 0.5812636370107369, 0.5899862967882517, 0.5957630780968093, 0.6058985433770148, 0.615723699996959, 0.6464095873066981, 0.6468306614580495, 0.6519157046856269, 0.6729368147574907, 0.685917093047977, 0.6881735566892896, 0.6952601644465736, 0.7013844860352866, 0.7113255579839485, 0.732207863037252, 0.7341859003779934, 0.7416054645025605, 0.7517251213921006, 0.7517431946989587, 0.7539335241966456, 0.7672457135946166, 0.7730267428935931, 0.7819815310430596, 0.78567839497835, 0.785712379107169, 0.7890662675208627, 0.7978493155791246, 0.8129479036315213, 0.8435601631693999, 0.8436502831448491, 0.8510419273909051, 0.8516695501130683, 0.8592862076431265, 0.8607153808539253, 0.8636755773143648, 0.8693251009764825, 0.8744938296184921, 0.8924058675992608, 0.8985873949510419, 0.8992170468847728, 0.9071137223507654, 0.9233013994720816, 0.9278278677728157, 0.9584995248372999, 0.9621370587772243, 0.9636689872708993, 0.9749063161913779, 0.9780446706835082, 0.9918085162714484], \"yaxis\": \"y\"}],\n",
              "                        {\"height\": 600, \"legend\": {\"tracegroupgap\": 0}, \"margin\": {\"t\": 60}, \"template\": {\"data\": {\"bar\": [{\"error_x\": {\"color\": \"#2a3f5f\"}, \"error_y\": {\"color\": \"#2a3f5f\"}, \"marker\": {\"line\": {\"color\": \"#E5ECF6\", \"width\": 0.5}}, \"type\": \"bar\"}], \"barpolar\": [{\"marker\": {\"line\": {\"color\": \"#E5ECF6\", \"width\": 0.5}}, \"type\": \"barpolar\"}], \"carpet\": [{\"aaxis\": {\"endlinecolor\": \"#2a3f5f\", \"gridcolor\": \"white\", \"linecolor\": \"white\", \"minorgridcolor\": \"white\", \"startlinecolor\": \"#2a3f5f\"}, \"baxis\": {\"endlinecolor\": \"#2a3f5f\", \"gridcolor\": \"white\", \"linecolor\": \"white\", \"minorgridcolor\": \"white\", \"startlinecolor\": \"#2a3f5f\"}, \"type\": \"carpet\"}], \"choropleth\": [{\"colorbar\": {\"outlinewidth\": 0, \"ticks\": \"\"}, \"type\": \"choropleth\"}], \"contour\": [{\"colorbar\": {\"outlinewidth\": 0, \"ticks\": \"\"}, \"colorscale\": [[0.0, \"#0d0887\"], [0.1111111111111111, \"#46039f\"], [0.2222222222222222, \"#7201a8\"], [0.3333333333333333, \"#9c179e\"], [0.4444444444444444, \"#bd3786\"], [0.5555555555555556, \"#d8576b\"], [0.6666666666666666, \"#ed7953\"], [0.7777777777777778, \"#fb9f3a\"], [0.8888888888888888, \"#fdca26\"], [1.0, \"#f0f921\"]], \"type\": \"contour\"}], \"contourcarpet\": [{\"colorbar\": {\"outlinewidth\": 0, \"ticks\": \"\"}, \"type\": \"contourcarpet\"}], \"heatmap\": [{\"colorbar\": {\"outlinewidth\": 0, \"ticks\": \"\"}, \"colorscale\": [[0.0, \"#0d0887\"], [0.1111111111111111, \"#46039f\"], [0.2222222222222222, \"#7201a8\"], [0.3333333333333333, \"#9c179e\"], [0.4444444444444444, \"#bd3786\"], [0.5555555555555556, \"#d8576b\"], [0.6666666666666666, \"#ed7953\"], [0.7777777777777778, \"#fb9f3a\"], [0.8888888888888888, \"#fdca26\"], [1.0, \"#f0f921\"]], \"type\": \"heatmap\"}], \"heatmapgl\": [{\"colorbar\": {\"outlinewidth\": 0, \"ticks\": \"\"}, \"colorscale\": [[0.0, \"#0d0887\"], [0.1111111111111111, \"#46039f\"], [0.2222222222222222, \"#7201a8\"], [0.3333333333333333, \"#9c179e\"], [0.4444444444444444, \"#bd3786\"], [0.5555555555555556, \"#d8576b\"], [0.6666666666666666, \"#ed7953\"], [0.7777777777777778, \"#fb9f3a\"], [0.8888888888888888, \"#fdca26\"], [1.0, \"#f0f921\"]], \"type\": \"heatmapgl\"}], \"histogram\": [{\"marker\": {\"colorbar\": {\"outlinewidth\": 0, \"ticks\": \"\"}}, \"type\": \"histogram\"}], \"histogram2d\": [{\"colorbar\": {\"outlinewidth\": 0, \"ticks\": \"\"}, \"colorscale\": [[0.0, \"#0d0887\"], [0.1111111111111111, \"#46039f\"], [0.2222222222222222, \"#7201a8\"], [0.3333333333333333, \"#9c179e\"], [0.4444444444444444, \"#bd3786\"], [0.5555555555555556, \"#d8576b\"], [0.6666666666666666, \"#ed7953\"], [0.7777777777777778, \"#fb9f3a\"], [0.8888888888888888, \"#fdca26\"], [1.0, \"#f0f921\"]], \"type\": \"histogram2d\"}], \"histogram2dcontour\": [{\"colorbar\": {\"outlinewidth\": 0, \"ticks\": \"\"}, \"colorscale\": [[0.0, \"#0d0887\"], [0.1111111111111111, \"#46039f\"], [0.2222222222222222, \"#7201a8\"], [0.3333333333333333, \"#9c179e\"], [0.4444444444444444, \"#bd3786\"], [0.5555555555555556, \"#d8576b\"], [0.6666666666666666, \"#ed7953\"], [0.7777777777777778, \"#fb9f3a\"], [0.8888888888888888, \"#fdca26\"], [1.0, \"#f0f921\"]], \"type\": \"histogram2dcontour\"}], \"mesh3d\": [{\"colorbar\": {\"outlinewidth\": 0, \"ticks\": \"\"}, \"type\": \"mesh3d\"}], \"parcoords\": [{\"line\": {\"colorbar\": {\"outlinewidth\": 0, \"ticks\": \"\"}}, \"type\": \"parcoords\"}], \"scatter\": [{\"marker\": {\"colorbar\": {\"outlinewidth\": 0, \"ticks\": \"\"}}, \"type\": \"scatter\"}], \"scatter3d\": [{\"line\": {\"colorbar\": {\"outlinewidth\": 0, \"ticks\": \"\"}}, \"marker\": {\"colorbar\": {\"outlinewidth\": 0, \"ticks\": \"\"}}, \"type\": \"scatter3d\"}], \"scattercarpet\": [{\"marker\": {\"colorbar\": {\"outlinewidth\": 0, \"ticks\": \"\"}}, \"type\": \"scattercarpet\"}], \"scattergeo\": [{\"marker\": {\"colorbar\": {\"outlinewidth\": 0, \"ticks\": \"\"}}, \"type\": \"scattergeo\"}], \"scattergl\": [{\"marker\": {\"colorbar\": {\"outlinewidth\": 0, \"ticks\": \"\"}}, \"type\": \"scattergl\"}], \"scattermapbox\": [{\"marker\": {\"colorbar\": {\"outlinewidth\": 0, \"ticks\": \"\"}}, \"type\": \"scattermapbox\"}], \"scatterpolar\": [{\"marker\": {\"colorbar\": {\"outlinewidth\": 0, \"ticks\": \"\"}}, \"type\": \"scatterpolar\"}], \"scatterpolargl\": [{\"marker\": {\"colorbar\": {\"outlinewidth\": 0, \"ticks\": \"\"}}, \"type\": \"scatterpolargl\"}], \"scatterternary\": [{\"marker\": {\"colorbar\": {\"outlinewidth\": 0, \"ticks\": \"\"}}, \"type\": \"scatterternary\"}], \"surface\": [{\"colorbar\": {\"outlinewidth\": 0, \"ticks\": \"\"}, \"colorscale\": [[0.0, \"#0d0887\"], [0.1111111111111111, \"#46039f\"], [0.2222222222222222, \"#7201a8\"], [0.3333333333333333, \"#9c179e\"], [0.4444444444444444, \"#bd3786\"], [0.5555555555555556, \"#d8576b\"], [0.6666666666666666, \"#ed7953\"], [0.7777777777777778, \"#fb9f3a\"], [0.8888888888888888, \"#fdca26\"], [1.0, \"#f0f921\"]], \"type\": \"surface\"}], \"table\": [{\"cells\": {\"fill\": {\"color\": \"#EBF0F8\"}, \"line\": {\"color\": \"white\"}}, \"header\": {\"fill\": {\"color\": \"#C8D4E3\"}, \"line\": {\"color\": \"white\"}}, \"type\": \"table\"}]}, \"layout\": {\"annotationdefaults\": {\"arrowcolor\": \"#2a3f5f\", \"arrowhead\": 0, \"arrowwidth\": 1}, \"colorscale\": {\"diverging\": [[0, \"#8e0152\"], [0.1, \"#c51b7d\"], [0.2, \"#de77ae\"], [0.3, \"#f1b6da\"], [0.4, \"#fde0ef\"], [0.5, \"#f7f7f7\"], [0.6, \"#e6f5d0\"], [0.7, \"#b8e186\"], [0.8, \"#7fbc41\"], [0.9, \"#4d9221\"], [1, \"#276419\"]], \"sequential\": [[0.0, \"#0d0887\"], [0.1111111111111111, \"#46039f\"], [0.2222222222222222, \"#7201a8\"], [0.3333333333333333, \"#9c179e\"], [0.4444444444444444, \"#bd3786\"], [0.5555555555555556, \"#d8576b\"], [0.6666666666666666, \"#ed7953\"], [0.7777777777777778, \"#fb9f3a\"], [0.8888888888888888, \"#fdca26\"], [1.0, \"#f0f921\"]], \"sequentialminus\": [[0.0, \"#0d0887\"], [0.1111111111111111, \"#46039f\"], [0.2222222222222222, \"#7201a8\"], [0.3333333333333333, \"#9c179e\"], [0.4444444444444444, \"#bd3786\"], [0.5555555555555556, \"#d8576b\"], [0.6666666666666666, \"#ed7953\"], [0.7777777777777778, \"#fb9f3a\"], [0.8888888888888888, \"#fdca26\"], [1.0, \"#f0f921\"]]}, \"colorway\": [\"#636efa\", \"#EF553B\", \"#00cc96\", \"#ab63fa\", \"#FFA15A\", \"#19d3f3\", \"#FF6692\", \"#B6E880\", \"#FF97FF\", \"#FECB52\"], \"font\": {\"color\": \"#2a3f5f\"}, \"geo\": {\"bgcolor\": \"white\", \"lakecolor\": \"white\", \"landcolor\": \"#E5ECF6\", \"showlakes\": true, \"showland\": true, \"subunitcolor\": \"white\"}, \"hoverlabel\": {\"align\": \"left\"}, \"hovermode\": \"closest\", \"mapbox\": {\"style\": \"light\"}, \"paper_bgcolor\": \"white\", \"plot_bgcolor\": \"#E5ECF6\", \"polar\": {\"angularaxis\": {\"gridcolor\": \"white\", \"linecolor\": \"white\", \"ticks\": \"\"}, \"bgcolor\": \"#E5ECF6\", \"radialaxis\": {\"gridcolor\": \"white\", \"linecolor\": \"white\", \"ticks\": \"\"}}, \"scene\": {\"xaxis\": {\"backgroundcolor\": \"#E5ECF6\", \"gridcolor\": \"white\", \"gridwidth\": 2, \"linecolor\": \"white\", \"showbackground\": true, \"ticks\": \"\", \"zerolinecolor\": \"white\"}, \"yaxis\": {\"backgroundcolor\": \"#E5ECF6\", \"gridcolor\": \"white\", \"gridwidth\": 2, \"linecolor\": \"white\", \"showbackground\": true, \"ticks\": \"\", \"zerolinecolor\": \"white\"}, \"zaxis\": {\"backgroundcolor\": \"#E5ECF6\", \"gridcolor\": \"white\", \"gridwidth\": 2, \"linecolor\": \"white\", \"showbackground\": true, \"ticks\": \"\", \"zerolinecolor\": \"white\"}}, \"shapedefaults\": {\"line\": {\"color\": \"#2a3f5f\"}}, \"ternary\": {\"aaxis\": {\"gridcolor\": \"white\", \"linecolor\": \"white\", \"ticks\": \"\"}, \"baxis\": {\"gridcolor\": \"white\", \"linecolor\": \"white\", \"ticks\": \"\"}, \"bgcolor\": \"#E5ECF6\", \"caxis\": {\"gridcolor\": \"white\", \"linecolor\": \"white\", \"ticks\": \"\"}}, \"title\": {\"x\": 0.05}, \"xaxis\": {\"automargin\": true, \"gridcolor\": \"white\", \"linecolor\": \"white\", \"ticks\": \"\", \"zerolinecolor\": \"white\", \"zerolinewidth\": 2}, \"yaxis\": {\"automargin\": true, \"gridcolor\": \"white\", \"linecolor\": \"white\", \"ticks\": \"\", \"zerolinecolor\": \"white\", \"zerolinewidth\": 2}}}, \"width\": 800, \"xaxis\": {\"anchor\": \"y\", \"domain\": [0.0, 0.98], \"title\": {\"text\": \"data\"}}, \"yaxis\": {\"anchor\": \"x\", \"domain\": [0.0, 1.0], \"range\": [-1.5, 1.5], \"title\": {\"text\": \"tanh\"}}},\n",
              "                        {\"responsive\": true}\n",
              "                    ).then(function(){\n",
              "                            \n",
              "var gd = document.getElementById('a07a1a3d-f023-45fb-9190-73798f800f52');\n",
              "var x = new MutationObserver(function (mutations, observer) {{\n",
              "        var display = window.getComputedStyle(gd).display;\n",
              "        if (!display || display === 'none') {{\n",
              "            console.log([gd, 'removed!']);\n",
              "            Plotly.purge(gd);\n",
              "            observer.disconnect();\n",
              "        }}\n",
              "}});\n",
              "\n",
              "// Listen for the removal of the full notebook cells\n",
              "var notebookContainer = gd.closest('#notebook-container');\n",
              "if (notebookContainer) {{\n",
              "    x.observe(notebookContainer, {childList: true});\n",
              "}}\n",
              "\n",
              "// Listen for the clearing of the current output cell\n",
              "var outputEl = gd.closest('.output');\n",
              "if (outputEl) {{\n",
              "    x.observe(outputEl, {childList: true});\n",
              "}}\n",
              "\n",
              "                        })\n",
              "                };\n",
              "                \n",
              "            </script>\n",
              "        </div>\n",
              "</body>\n",
              "</html>"
            ]
          },
          "metadata": {
            "tags": []
          }
        }
      ]
    },
    {
      "cell_type": "code",
      "metadata": {
        "id": "hUCtW1HMgjkV",
        "colab": {
          "base_uri": "https://localhost:8080/",
          "height": 223
        },
        "outputId": "faaec308-aee6-4560-bfa2-d72ac0199c0b"
      },
      "source": [
        "model = Sequential()\n",
        "model.add(Dense(units=8, activation='relu', input_shape=(10,)))\n",
        "model.add(Dense(units=1, activation='sigmoid'))\n",
        "model.summary()"
      ],
      "execution_count": null,
      "outputs": [
        {
          "output_type": "stream",
          "text": [
            "Model: \"sequential_1\"\n",
            "_________________________________________________________________\n",
            "Layer (type)                 Output Shape              Param #   \n",
            "=================================================================\n",
            "dense_2 (Dense)              (None, 8)                 88        \n",
            "_________________________________________________________________\n",
            "dense_3 (Dense)              (None, 1)                 9         \n",
            "=================================================================\n",
            "Total params: 97\n",
            "Trainable params: 97\n",
            "Non-trainable params: 0\n",
            "_________________________________________________________________\n"
          ],
          "name": "stdout"
        }
      ]
    },
    {
      "cell_type": "markdown",
      "metadata": {
        "id": "NNWU1zbwimbx"
      },
      "source": [
        "### <a name='a2'></a>Kompilacja modelu\n",
        "Przed rozpoczęciem trenowania sieci należy odpowiednio skonfigurować proces uczenia. W tym kroku określamy:\n",
        "* rodzaj optymalizatora ([Keras - Optymalizatory](https://keras.io/optimizers/))\n",
        "* funkcję straty ([Keras - Funkcje Straty](https://keras.io/losses/))\n",
        "* metryki, które będziemy obserwować podczas trenowania sieci ([Keras - Metryki](https://keras.io/metrics/))"
      ]
    },
    {
      "cell_type": "code",
      "metadata": {
        "id": "oBRtQd7diI0e"
      },
      "source": [
        "# klasyfikacja binarna\n",
        "model.compile(optimizer='rmsprop',\n",
        "              loss='binary_crossentropy',\n",
        "              metrics=['accuracy'])\n",
        "\n",
        "# klasyfikacja wieloklasowa\n",
        "model.compile(optimizer='rmsprop',\n",
        "              loss='categorical_crossentropy',\n",
        "              metrics=['accuracy'])\n",
        "\n",
        "# regresja\n",
        "model.compile(optimizer='rmsprop',\n",
        "              loss='mse')"
      ],
      "execution_count": null,
      "outputs": []
    },
    {
      "cell_type": "markdown",
      "metadata": {
        "id": "TqsJw4K-knNP"
      },
      "source": [
        "### <a name='a3'></a>Trenowanie modelu\n",
        "Za dane wejściowe do modelu należy przekazać Numpy arrays:\n",
        "* **epochs** - krotność przejścia danych przez sieć w procesie uczenia\n",
        "* **batch_size** - rozmiar wsadu po którym następuje aktualizacja wag\n",
        "* **validation_split** - część danych treningowych, które zostaną wykorzystane jako zbiór walidacyjny\n",
        "* **validation_data** - (x_val, y_val) - dane wykorzystane do walidacji modelu"
      ]
    },
    {
      "cell_type": "code",
      "metadata": {
        "id": "HBn1AzzGkS2h"
      },
      "source": [
        "# model.fit(data, labels, epochs=10, batch_size=32)\n",
        "# model.fit(data, labels, epochs=10, batch_size=32, validation_split=0.2)\n",
        "# model.fit(data, labels, epochs=10, batch_size=32, validation_data=(x_val, y_val))"
      ],
      "execution_count": null,
      "outputs": []
    },
    {
      "cell_type": "markdown",
      "metadata": {
        "id": "8fmOZzNywvx6"
      },
      "source": [
        "### <a name='a4'></a> Przykład - klasyfikacja binarna"
      ]
    },
    {
      "cell_type": "code",
      "metadata": {
        "id": "gELP58XdwKSj",
        "colab": {
          "base_uri": "https://localhost:8080/",
          "height": 51
        },
        "outputId": "f532d66c-4442-4023-84f4-b9416f38fbe5"
      },
      "source": [
        "data = np.random.randn(1000, 150)\n",
        "labels = np.random.randint(2, size=(1000, 1))\n",
        "\n",
        "print(data.shape)\n",
        "print(labels.shape)"
      ],
      "execution_count": null,
      "outputs": [
        {
          "output_type": "stream",
          "text": [
            "(1000, 150)\n",
            "(1000, 1)\n"
          ],
          "name": "stdout"
        }
      ]
    },
    {
      "cell_type": "code",
      "metadata": {
        "id": "B_ItRZ5EwcdR",
        "colab": {
          "base_uri": "https://localhost:8080/",
          "height": 1000
        },
        "outputId": "add8ad07-33e7-4e66-9364-0b37179c2619"
      },
      "source": [
        "data[:3]"
      ],
      "execution_count": null,
      "outputs": [
        {
          "output_type": "execute_result",
          "data": {
            "text/plain": [
              "array([[ 1.13213781e-01,  1.13334623e+00, -1.47733450e+00,\n",
              "        -1.64283435e+00, -3.37696542e-01, -4.96299921e-01,\n",
              "         1.28196024e+00, -3.11399917e-01, -2.05001741e+00,\n",
              "        -1.76701750e+00,  4.72642663e-02,  6.07742114e-01,\n",
              "        -4.77195617e-01,  1.76008529e+00,  2.07281421e+00,\n",
              "        -8.68255080e-01,  3.38672122e-01, -3.73632133e-01,\n",
              "         6.60135938e-01, -1.08493514e+00, -1.45003690e+00,\n",
              "        -1.14411382e-01,  1.39901377e+00, -8.79934513e-01,\n",
              "        -7.01294981e-01, -1.31591441e+00,  2.02749851e+00,\n",
              "        -1.62197213e+00, -3.11525032e-01, -1.84663977e-01,\n",
              "        -5.64537845e-01, -3.55172905e-01, -5.23102739e-01,\n",
              "         9.55654023e-01, -1.37066020e+00,  1.81870272e+00,\n",
              "         5.83585220e-01, -3.23434867e-01, -6.87775926e-01,\n",
              "         9.96908049e-01,  8.13596098e-01, -5.32404088e-01,\n",
              "        -1.31850109e+00,  3.37938320e-01, -1.34072823e+00,\n",
              "         2.07065174e+00, -8.59703960e-01, -6.72337926e-01,\n",
              "        -1.20225214e-01, -4.40443186e-01, -1.36830737e+00,\n",
              "         1.13960275e+00,  4.26389363e-01, -2.27153701e-01,\n",
              "         3.61234606e-01, -1.47182426e-01,  1.03952446e+00,\n",
              "         6.42328296e-01, -1.37349542e+00, -3.57787844e-01,\n",
              "        -1.33734987e+00,  1.42359899e-02,  1.09795331e+00,\n",
              "        -7.25950408e-01, -5.15235829e-01,  1.01806084e+00,\n",
              "        -6.17910001e-01,  1.28565571e+00, -2.92947242e+00,\n",
              "        -7.38191027e-02, -1.43830614e-01,  1.71040417e-01,\n",
              "         1.18958167e+00,  7.33616817e-01,  1.06196056e+00,\n",
              "         6.73611320e-01, -5.68992156e-01,  1.86754576e-01,\n",
              "        -5.51295835e-02,  9.05656692e-01, -9.17825173e-01,\n",
              "         1.82903512e-01,  3.20709332e-01, -2.10705057e-01,\n",
              "         6.84740153e-01, -7.89355181e-01,  9.88760857e-01,\n",
              "        -1.50102696e+00,  1.11254351e+00,  1.26239318e+00,\n",
              "        -1.07701726e+00, -1.92015526e+00,  2.03122837e-01,\n",
              "        -4.75374697e-01, -1.14419913e+00, -3.75767956e-01,\n",
              "         1.07346306e+00, -3.16495682e-01, -3.13171103e-01,\n",
              "        -2.10156498e+00,  2.74192864e+00,  7.81741915e-01,\n",
              "        -8.31233365e-01,  3.75616782e-01,  5.15386323e-01,\n",
              "         5.00487990e-01, -6.16957911e-01, -1.00964448e+00,\n",
              "         1.48643458e+00,  6.27019174e-01, -9.47759095e-01,\n",
              "        -2.40544155e+00, -5.92939284e-01,  4.10173924e-01,\n",
              "        -7.05587651e-01, -2.38506086e-01, -1.81812570e+00,\n",
              "         5.78450419e-01,  1.29704476e+00, -3.23366091e-01,\n",
              "         6.80179101e-01,  2.19475211e-01,  9.77729771e-01,\n",
              "         2.65148362e-01, -1.17878433e+00, -2.37662323e-01,\n",
              "         4.03680261e-01, -1.36663488e-01, -5.92240215e-01,\n",
              "        -3.64762264e-01,  5.61865593e-01,  1.81166670e-01,\n",
              "         1.19693811e-01, -4.83664945e-01, -1.76217153e-01,\n",
              "        -7.88833404e-01,  1.28540234e+00,  3.00729569e-01,\n",
              "         8.20195326e-01,  1.55872267e+00, -1.53194201e+00,\n",
              "         3.02150976e-01, -5.38307957e-02, -6.25102570e-01,\n",
              "         1.67329482e-01,  2.77981676e-01, -1.46287553e+00,\n",
              "         4.89520163e-02, -5.23790635e-01, -2.37463867e-01],\n",
              "       [ 3.45445122e-01,  2.33019666e-02,  9.48159538e-01,\n",
              "        -2.09273088e+00, -5.32993613e-01, -1.19312520e+00,\n",
              "        -5.93102441e-01,  6.05396764e-01,  2.15747033e+00,\n",
              "        -1.29691790e+00, -1.77027719e+00,  1.01454211e+00,\n",
              "         3.88974516e-01, -1.87806128e+00,  3.59032204e-01,\n",
              "         2.56240816e-01,  1.03716288e+00,  1.90231939e-01,\n",
              "        -1.33856478e+00, -8.05542861e-01,  4.01532311e-01,\n",
              "        -6.39941049e-01,  1.91407206e+00, -1.51765618e+00,\n",
              "         2.23953413e+00, -1.05856570e+00, -4.58255784e-01,\n",
              "        -6.18976999e-01, -3.05765861e-01,  6.24680743e-01,\n",
              "        -7.04898642e-01,  6.08773312e-02,  1.85023359e+00,\n",
              "        -9.22342180e-02,  5.17448764e-01,  6.74665318e-01,\n",
              "         3.11875316e-01,  1.61270979e-01,  1.57939148e+00,\n",
              "        -1.67971395e+00,  6.05967332e-01,  4.30501048e-01,\n",
              "        -1.64007854e+00,  9.35563157e-01,  3.61166016e-01,\n",
              "         1.63854984e+00, -2.18926192e+00, -1.41570843e-01,\n",
              "        -4.42094412e-01, -5.89701181e-01,  4.23776687e-01,\n",
              "        -3.22236792e-01,  1.78586381e+00, -4.92067342e-03,\n",
              "         6.26695284e-01, -6.20849970e-01, -1.32670990e+00,\n",
              "         2.33561705e-01,  7.31097904e-01, -4.01409934e-01,\n",
              "        -1.15801945e-01,  2.87280155e-01, -5.44591140e-01,\n",
              "        -8.58525141e-02, -4.63970950e-01, -7.97062354e-01,\n",
              "         4.24878804e-02, -1.33615250e-01,  3.26215280e-01,\n",
              "        -8.64190427e-01,  6.78953979e-01,  1.08543436e+00,\n",
              "         1.52546431e-01,  1.39606054e+00, -5.46340786e-01,\n",
              "         6.75515541e-01,  1.87520947e-01, -4.03333364e-01,\n",
              "        -1.08124712e+00, -4.68286827e-01,  3.06266143e-01,\n",
              "         9.87995932e-02,  9.03992318e-01, -2.40789287e-01,\n",
              "         3.95012453e-01, -5.49174031e-01,  7.80536876e-02,\n",
              "         4.23402667e-01,  1.37084442e+00,  1.12519667e-01,\n",
              "         1.42437486e+00, -2.14495028e-01, -5.20448298e-01,\n",
              "         1.28675670e+00, -1.71843207e+00, -3.79823740e-01,\n",
              "         4.43859564e-01, -5.83337629e-01, -1.22122576e+00,\n",
              "        -3.91285207e-01,  3.56924297e-01,  1.04354643e+00,\n",
              "         1.85962325e-01,  3.79931285e+00, -2.68502633e-01,\n",
              "        -9.10252009e-01, -3.19210207e-01,  4.15318914e-01,\n",
              "        -8.45259049e-02, -1.11343767e+00, -1.10798034e+00,\n",
              "        -3.85496973e-01, -2.26520953e-01, -1.04731663e+00,\n",
              "         3.42475032e-01, -2.92600095e-01,  7.44917955e-01,\n",
              "        -7.60424949e-01,  1.06271920e+00,  8.11804831e-01,\n",
              "        -1.20242799e+00,  2.30996850e-01,  3.55286205e-01,\n",
              "        -2.79411336e+00, -1.67127335e+00, -3.11797821e-01,\n",
              "        -1.34215975e+00, -2.36956530e-01, -1.22435776e+00,\n",
              "        -1.30868299e+00,  8.15217155e-01,  1.69700868e+00,\n",
              "         5.61875720e-01, -8.52205099e-01, -1.03751791e+00,\n",
              "         2.23857166e+00,  1.17921873e+00, -1.83872384e-01,\n",
              "         1.00716505e+00,  8.41820092e-01, -3.91639506e-01,\n",
              "         5.37778271e-01, -3.55235181e-01,  2.18325478e-01,\n",
              "         3.59762227e-01, -1.93747303e-01, -1.20160636e+00,\n",
              "         1.12847652e+00,  1.01886685e-01,  1.04088406e+00],\n",
              "       [-1.84934012e+00,  1.62437709e+00, -9.92711751e-01,\n",
              "         9.26475227e-01,  5.32950863e-02,  6.14905040e-01,\n",
              "        -6.63089217e-02,  5.56554617e-01,  1.02414585e+00,\n",
              "         2.73740105e-01, -4.93991294e-01,  3.45255249e-01,\n",
              "         5.56408079e-01,  7.55186843e-02, -4.41961012e-01,\n",
              "         4.03899189e-01, -2.05868136e+00, -1.00270320e+00,\n",
              "        -1.22367344e+00,  2.95247455e-01, -9.47049272e-02,\n",
              "        -9.80095224e-01, -5.34492550e-01,  6.44432153e-01,\n",
              "         1.16467930e-03,  2.25567383e-01,  2.98691618e-01,\n",
              "        -2.18619171e+00, -2.06555078e+00, -1.04269926e+00,\n",
              "        -1.21639087e+00, -4.27830393e-01, -9.24256180e-01,\n",
              "         1.87743253e-01,  1.17162432e+00, -4.45276984e-01,\n",
              "        -1.94707305e-01,  1.46961996e-01, -1.63905076e+00,\n",
              "         8.15939581e-01,  4.02455787e-01,  4.03548203e-01,\n",
              "        -7.48887321e-02, -8.83907215e-01,  2.95971106e-01,\n",
              "         1.09211408e+00, -1.81317947e+00,  1.03552749e+00,\n",
              "        -3.17300631e-01,  3.26667758e-01,  1.43580642e+00,\n",
              "        -3.82808235e-01, -2.94934241e-01,  2.93313703e-01,\n",
              "         1.05212792e+00,  2.71499066e-01, -1.60429021e-01,\n",
              "         1.02873362e+00, -1.78293513e+00, -1.66682611e-01,\n",
              "         3.18267220e-01,  8.74005138e-01, -1.36252114e+00,\n",
              "        -6.86558022e-01, -4.01309164e-01, -1.14271140e+00,\n",
              "         9.99492131e-01,  1.64464991e+00, -1.11474478e+00,\n",
              "        -3.55838601e-01,  2.09604381e-01,  4.45679885e-01,\n",
              "        -5.23026300e-01,  9.53789159e-01, -3.16990640e-02,\n",
              "        -5.89328991e-01, -6.32378818e-03,  1.11943177e+00,\n",
              "         7.99751445e-02,  2.74803466e-01, -2.72715500e-01,\n",
              "        -1.52971612e-02, -2.53328973e-01,  8.85993372e-01,\n",
              "        -6.55601907e-02, -1.14551223e+00, -3.10002623e-01,\n",
              "         3.41313685e-01, -2.48951327e-01,  2.42959791e+00,\n",
              "        -1.94174456e+00,  4.11672915e-01, -6.76988183e-01,\n",
              "         3.09656527e-01,  5.64997730e-01,  8.66693945e-01,\n",
              "        -1.28208657e-01,  1.15618029e+00,  2.45135353e-01,\n",
              "         8.15913361e-01,  1.25362363e+00,  8.69089859e-01,\n",
              "        -5.87685826e-01, -4.63553817e-01,  7.85583919e-01,\n",
              "        -2.75771139e-01, -7.51682868e-01, -9.83285836e-01,\n",
              "        -1.96836509e+00,  8.63806027e-01, -1.64345864e+00,\n",
              "         6.97589505e-01, -4.97457663e-01,  3.17701166e-02,\n",
              "        -4.33407464e-01,  3.03980165e-01,  9.52753968e-02,\n",
              "         5.79317554e-02, -8.06903839e-02,  1.70542078e+00,\n",
              "        -2.22889369e+00,  1.76512044e-01, -1.55649613e+00,\n",
              "         5.94984514e-02,  5.34779714e-02,  8.78092564e-01,\n",
              "        -3.72208619e-01,  4.34281255e-01, -3.04661759e-01,\n",
              "        -3.80010650e-01,  1.07143852e+00,  7.15876532e-01,\n",
              "         5.92148004e-01,  7.91908758e-01,  5.72294895e-01,\n",
              "        -1.09206865e+00, -4.42046593e-01,  7.78226812e-01,\n",
              "         1.05565759e+00,  1.91652320e+00, -1.02972051e+00,\n",
              "         3.23123247e-01,  1.19807490e+00,  3.08500808e-01,\n",
              "         5.23501859e-01, -8.38144086e-01,  9.92035781e-01,\n",
              "        -5.57939222e-01,  5.01684796e-01, -1.30149769e+00]])"
            ]
          },
          "metadata": {
            "tags": []
          },
          "execution_count": 17
        }
      ]
    },
    {
      "cell_type": "code",
      "metadata": {
        "id": "2AKkBXaZwmNq",
        "colab": {
          "base_uri": "https://localhost:8080/",
          "height": 188
        },
        "outputId": "043238a0-e22c-4c56-d560-ed58a5cd2bec"
      },
      "source": [
        "labels[:10]"
      ],
      "execution_count": null,
      "outputs": [
        {
          "output_type": "execute_result",
          "data": {
            "text/plain": [
              "array([[1],\n",
              "       [1],\n",
              "       [0],\n",
              "       [0],\n",
              "       [1],\n",
              "       [0],\n",
              "       [1],\n",
              "       [1],\n",
              "       [0],\n",
              "       [0]])"
            ]
          },
          "metadata": {
            "tags": []
          },
          "execution_count": 18
        }
      ]
    },
    {
      "cell_type": "code",
      "metadata": {
        "id": "3YmwwLjZwpvE",
        "colab": {
          "base_uri": "https://localhost:8080/",
          "height": 737
        },
        "outputId": "09400cc9-cb39-47cf-d3be-d534271178c3"
      },
      "source": [
        "model = Sequential()\n",
        "model.add(Dense(units=32, activation='relu', input_shape=(150,)))\n",
        "model.add(Dense(1, activation='sigmoid'))\n",
        "\n",
        "model.compile(optimizer='rmsprop',\n",
        "              loss='binary_crossentropy',\n",
        "              metrics=['accuracy'])\n",
        "\n",
        "model.fit(data, labels, epochs=20)"
      ],
      "execution_count": null,
      "outputs": [
        {
          "output_type": "stream",
          "text": [
            "Train on 1000 samples\n",
            "Epoch 1/20\n",
            "1000/1000 [==============================] - 1s 1ms/sample - loss: 0.8066 - accuracy: 0.4950\n",
            "Epoch 2/20\n",
            "1000/1000 [==============================] - 0s 65us/sample - loss: 0.7048 - accuracy: 0.5700\n",
            "Epoch 3/20\n",
            "1000/1000 [==============================] - 0s 61us/sample - loss: 0.6511 - accuracy: 0.6250\n",
            "Epoch 4/20\n",
            "1000/1000 [==============================] - 0s 50us/sample - loss: 0.6075 - accuracy: 0.6810\n",
            "Epoch 5/20\n",
            "1000/1000 [==============================] - 0s 64us/sample - loss: 0.5722 - accuracy: 0.7220\n",
            "Epoch 6/20\n",
            "1000/1000 [==============================] - 0s 67us/sample - loss: 0.5398 - accuracy: 0.7640\n",
            "Epoch 7/20\n",
            "1000/1000 [==============================] - 0s 58us/sample - loss: 0.5125 - accuracy: 0.7780\n",
            "Epoch 8/20\n",
            "1000/1000 [==============================] - 0s 63us/sample - loss: 0.4871 - accuracy: 0.7970\n",
            "Epoch 9/20\n",
            "1000/1000 [==============================] - 0s 54us/sample - loss: 0.4632 - accuracy: 0.8200\n",
            "Epoch 10/20\n",
            "1000/1000 [==============================] - 0s 67us/sample - loss: 0.4387 - accuracy: 0.8400\n",
            "Epoch 11/20\n",
            "1000/1000 [==============================] - 0s 61us/sample - loss: 0.4157 - accuracy: 0.8580\n",
            "Epoch 12/20\n",
            "1000/1000 [==============================] - 0s 65us/sample - loss: 0.3936 - accuracy: 0.8690\n",
            "Epoch 13/20\n",
            "1000/1000 [==============================] - 0s 59us/sample - loss: 0.3715 - accuracy: 0.8960\n",
            "Epoch 14/20\n",
            "1000/1000 [==============================] - 0s 55us/sample - loss: 0.3508 - accuracy: 0.9130\n",
            "Epoch 15/20\n",
            "1000/1000 [==============================] - 0s 62us/sample - loss: 0.3285 - accuracy: 0.9290\n",
            "Epoch 16/20\n",
            "1000/1000 [==============================] - 0s 70us/sample - loss: 0.3078 - accuracy: 0.9400\n",
            "Epoch 17/20\n",
            "1000/1000 [==============================] - 0s 67us/sample - loss: 0.2872 - accuracy: 0.9490\n",
            "Epoch 18/20\n",
            "1000/1000 [==============================] - 0s 60us/sample - loss: 0.2680 - accuracy: 0.9650\n",
            "Epoch 19/20\n",
            "1000/1000 [==============================] - 0s 63us/sample - loss: 0.2482 - accuracy: 0.9680\n",
            "Epoch 20/20\n",
            "1000/1000 [==============================] - 0s 71us/sample - loss: 0.2288 - accuracy: 0.9800\n"
          ],
          "name": "stdout"
        },
        {
          "output_type": "execute_result",
          "data": {
            "text/plain": [
              "<tensorflow.python.keras.callbacks.History at 0x7fdf59dc8470>"
            ]
          },
          "metadata": {
            "tags": []
          },
          "execution_count": 19
        }
      ]
    },
    {
      "cell_type": "code",
      "metadata": {
        "id": "5X_mtwLfy2d9",
        "colab": {
          "base_uri": "https://localhost:8080/",
          "height": 737
        },
        "outputId": "a20c9dd0-b084-4b81-a9b4-9e8b609abc20"
      },
      "source": [
        "model = Sequential()\n",
        "model.add(Dense(units=32, activation='relu', input_shape=(150,)))\n",
        "model.add(Dense(1, activation='sigmoid'))\n",
        "\n",
        "model.compile(optimizer='rmsprop',\n",
        "              loss='binary_crossentropy',\n",
        "              metrics=['accuracy'])\n",
        "\n",
        "model.fit(data, labels, epochs=20, batch_size=30)"
      ],
      "execution_count": null,
      "outputs": [
        {
          "output_type": "stream",
          "text": [
            "Train on 1000 samples\n",
            "Epoch 1/20\n",
            "1000/1000 [==============================] - 1s 504us/sample - loss: 0.8355 - accuracy: 0.5140\n",
            "Epoch 2/20\n",
            "1000/1000 [==============================] - 0s 71us/sample - loss: 0.7114 - accuracy: 0.5630\n",
            "Epoch 3/20\n",
            "1000/1000 [==============================] - 0s 70us/sample - loss: 0.6549 - accuracy: 0.6020\n",
            "Epoch 4/20\n",
            "1000/1000 [==============================] - 0s 74us/sample - loss: 0.6130 - accuracy: 0.6460\n",
            "Epoch 5/20\n",
            "1000/1000 [==============================] - 0s 73us/sample - loss: 0.5789 - accuracy: 0.6900\n",
            "Epoch 6/20\n",
            "1000/1000 [==============================] - 0s 70us/sample - loss: 0.5491 - accuracy: 0.7310\n",
            "Epoch 7/20\n",
            "1000/1000 [==============================] - 0s 70us/sample - loss: 0.5218 - accuracy: 0.7550\n",
            "Epoch 8/20\n",
            "1000/1000 [==============================] - 0s 75us/sample - loss: 0.4976 - accuracy: 0.7780\n",
            "Epoch 9/20\n",
            "1000/1000 [==============================] - 0s 65us/sample - loss: 0.4733 - accuracy: 0.8080\n",
            "Epoch 10/20\n",
            "1000/1000 [==============================] - 0s 66us/sample - loss: 0.4508 - accuracy: 0.8240\n",
            "Epoch 11/20\n",
            "1000/1000 [==============================] - 0s 61us/sample - loss: 0.4289 - accuracy: 0.8490\n",
            "Epoch 12/20\n",
            "1000/1000 [==============================] - 0s 65us/sample - loss: 0.4064 - accuracy: 0.8580\n",
            "Epoch 13/20\n",
            "1000/1000 [==============================] - 0s 67us/sample - loss: 0.3849 - accuracy: 0.8750\n",
            "Epoch 14/20\n",
            "1000/1000 [==============================] - 0s 69us/sample - loss: 0.3625 - accuracy: 0.8980\n",
            "Epoch 15/20\n",
            "1000/1000 [==============================] - 0s 66us/sample - loss: 0.3411 - accuracy: 0.9120\n",
            "Epoch 16/20\n",
            "1000/1000 [==============================] - 0s 66us/sample - loss: 0.3204 - accuracy: 0.9270\n",
            "Epoch 17/20\n",
            "1000/1000 [==============================] - 0s 67us/sample - loss: 0.3004 - accuracy: 0.9430\n",
            "Epoch 18/20\n",
            "1000/1000 [==============================] - 0s 69us/sample - loss: 0.2795 - accuracy: 0.9590\n",
            "Epoch 19/20\n",
            "1000/1000 [==============================] - 0s 67us/sample - loss: 0.2609 - accuracy: 0.9660\n",
            "Epoch 20/20\n",
            "1000/1000 [==============================] - 0s 67us/sample - loss: 0.2408 - accuracy: 0.9770\n"
          ],
          "name": "stdout"
        },
        {
          "output_type": "execute_result",
          "data": {
            "text/plain": [
              "<tensorflow.python.keras.callbacks.History at 0x7fdf5a402f60>"
            ]
          },
          "metadata": {
            "tags": []
          },
          "execution_count": 20
        }
      ]
    },
    {
      "cell_type": "code",
      "metadata": {
        "id": "xj5leE1dxK0-",
        "colab": {
          "base_uri": "https://localhost:8080/",
          "height": 757
        },
        "outputId": "0a325886-802a-42ca-fe2e-6f48576a741e"
      },
      "source": [
        "model = Sequential()\n",
        "model.add(Dense(units=32, activation='relu', input_shape=(150,)))\n",
        "model.add(Dense(1, activation='sigmoid'))\n",
        "\n",
        "model.compile(optimizer='rmsprop',\n",
        "              loss='binary_crossentropy',\n",
        "              metrics=['accuracy'])\n",
        "\n",
        "model.fit(data, labels, epochs=20, batch_size=32, validation_split=0.2)"
      ],
      "execution_count": null,
      "outputs": [
        {
          "output_type": "stream",
          "text": [
            "Train on 800 samples, validate on 200 samples\n",
            "Epoch 1/20\n",
            "800/800 [==============================] - 1s 979us/sample - loss: 0.8053 - accuracy: 0.5188 - val_loss: 0.7709 - val_accuracy: 0.4850\n",
            "Epoch 2/20\n",
            "800/800 [==============================] - 0s 77us/sample - loss: 0.7056 - accuracy: 0.5688 - val_loss: 0.7608 - val_accuracy: 0.4900\n",
            "Epoch 3/20\n",
            "800/800 [==============================] - 0s 83us/sample - loss: 0.6510 - accuracy: 0.6200 - val_loss: 0.7563 - val_accuracy: 0.5100\n",
            "Epoch 4/20\n",
            "800/800 [==============================] - 0s 90us/sample - loss: 0.6073 - accuracy: 0.6650 - val_loss: 0.7554 - val_accuracy: 0.5450\n",
            "Epoch 5/20\n",
            "800/800 [==============================] - 0s 82us/sample - loss: 0.5714 - accuracy: 0.7025 - val_loss: 0.7583 - val_accuracy: 0.5500\n",
            "Epoch 6/20\n",
            "800/800 [==============================] - 0s 80us/sample - loss: 0.5403 - accuracy: 0.7325 - val_loss: 0.7610 - val_accuracy: 0.5400\n",
            "Epoch 7/20\n",
            "800/800 [==============================] - 0s 80us/sample - loss: 0.5121 - accuracy: 0.7700 - val_loss: 0.7671 - val_accuracy: 0.5450\n",
            "Epoch 8/20\n",
            "800/800 [==============================] - 0s 82us/sample - loss: 0.4862 - accuracy: 0.8037 - val_loss: 0.7697 - val_accuracy: 0.5550\n",
            "Epoch 9/20\n",
            "800/800 [==============================] - 0s 84us/sample - loss: 0.4626 - accuracy: 0.8213 - val_loss: 0.7754 - val_accuracy: 0.5600\n",
            "Epoch 10/20\n",
            "800/800 [==============================] - 0s 77us/sample - loss: 0.4384 - accuracy: 0.8438 - val_loss: 0.7827 - val_accuracy: 0.5500\n",
            "Epoch 11/20\n",
            "800/800 [==============================] - 0s 85us/sample - loss: 0.4162 - accuracy: 0.8562 - val_loss: 0.7888 - val_accuracy: 0.5550\n",
            "Epoch 12/20\n",
            "800/800 [==============================] - 0s 82us/sample - loss: 0.3942 - accuracy: 0.8750 - val_loss: 0.7974 - val_accuracy: 0.5700\n",
            "Epoch 13/20\n",
            "800/800 [==============================] - 0s 83us/sample - loss: 0.3728 - accuracy: 0.8988 - val_loss: 0.8065 - val_accuracy: 0.5550\n",
            "Epoch 14/20\n",
            "800/800 [==============================] - 0s 82us/sample - loss: 0.3520 - accuracy: 0.9137 - val_loss: 0.8165 - val_accuracy: 0.5400\n",
            "Epoch 15/20\n",
            "800/800 [==============================] - 0s 79us/sample - loss: 0.3318 - accuracy: 0.9200 - val_loss: 0.8241 - val_accuracy: 0.5400\n",
            "Epoch 16/20\n",
            "800/800 [==============================] - 0s 84us/sample - loss: 0.3113 - accuracy: 0.9388 - val_loss: 0.8322 - val_accuracy: 0.5250\n",
            "Epoch 17/20\n",
            "800/800 [==============================] - 0s 87us/sample - loss: 0.2920 - accuracy: 0.9425 - val_loss: 0.8412 - val_accuracy: 0.5350\n",
            "Epoch 18/20\n",
            "800/800 [==============================] - 0s 78us/sample - loss: 0.2730 - accuracy: 0.9538 - val_loss: 0.8522 - val_accuracy: 0.5350\n",
            "Epoch 19/20\n",
            "800/800 [==============================] - 0s 77us/sample - loss: 0.2541 - accuracy: 0.9675 - val_loss: 0.8595 - val_accuracy: 0.5250\n",
            "Epoch 20/20\n",
            "800/800 [==============================] - 0s 89us/sample - loss: 0.2364 - accuracy: 0.9750 - val_loss: 0.8723 - val_accuracy: 0.5250\n"
          ],
          "name": "stdout"
        },
        {
          "output_type": "execute_result",
          "data": {
            "text/plain": [
              "<tensorflow.python.keras.callbacks.History at 0x7fdf56863dd8>"
            ]
          },
          "metadata": {
            "tags": []
          },
          "execution_count": 21
        }
      ]
    },
    {
      "cell_type": "code",
      "metadata": {
        "id": "N8O4byzjzHJC",
        "colab": {
          "base_uri": "https://localhost:8080/",
          "height": 34
        },
        "outputId": "51eddae2-72cc-4774-c8ea-bcdeb759fa6b"
      },
      "source": [
        "model = Sequential()\n",
        "model.add(Dense(units=32, activation='relu', input_shape=(150,)))\n",
        "model.add(Dense(1, activation='sigmoid'))\n",
        "\n",
        "model.compile(optimizer='rmsprop',\n",
        "              loss='binary_crossentropy',\n",
        "              metrics=['accuracy'])\n",
        "\n",
        "model.fit(data, labels, epochs=20, batch_size=32, validation_split=0.2, verbose=0)"
      ],
      "execution_count": null,
      "outputs": [
        {
          "output_type": "execute_result",
          "data": {
            "text/plain": [
              "<tensorflow.python.keras.callbacks.History at 0x7fdf58b2a710>"
            ]
          },
          "metadata": {
            "tags": []
          },
          "execution_count": 22
        }
      ]
    },
    {
      "cell_type": "code",
      "metadata": {
        "id": "suJlatlYzQOD"
      },
      "source": [
        "model = Sequential()\n",
        "model.add(Dense(units=32, activation='relu', input_shape=(150,)))\n",
        "model.add(Dense(1, activation='sigmoid'))\n",
        "\n",
        "model.compile(optimizer='rmsprop',\n",
        "              loss='binary_crossentropy',\n",
        "              metrics=['accuracy'])\n",
        "\n",
        "history = model.fit(data, labels, epochs=20, batch_size=32, validation_split=0.2, verbose=0)"
      ],
      "execution_count": null,
      "outputs": []
    },
    {
      "cell_type": "code",
      "metadata": {
        "id": "InFcS0sgzkf6",
        "colab": {
          "base_uri": "https://localhost:8080/",
          "height": 34
        },
        "outputId": "54951759-45b3-43ee-e152-a28fdfca7df9"
      },
      "source": [
        "metrics = history.history\n",
        "metrics.keys()"
      ],
      "execution_count": null,
      "outputs": [
        {
          "output_type": "execute_result",
          "data": {
            "text/plain": [
              "dict_keys(['loss', 'accuracy', 'val_loss', 'val_accuracy'])"
            ]
          },
          "metadata": {
            "tags": []
          },
          "execution_count": 24
        }
      ]
    },
    {
      "cell_type": "code",
      "metadata": {
        "id": "d9bUtGmXzzoY",
        "colab": {
          "base_uri": "https://localhost:8080/",
          "height": 740
        },
        "outputId": "289b2d01-e1a5-4abd-ba47-ccd6dbcfc608"
      },
      "source": [
        "model = Sequential()\n",
        "model.add(Dense(units=32, activation='relu', input_shape=(150,)))\n",
        "model.add(Dense(1, activation='sigmoid'))\n",
        "\n",
        "model.compile(optimizer='rmsprop',\n",
        "              loss='binary_crossentropy',\n",
        "              metrics=['accuracy'])\n",
        "\n",
        "history = model.fit(data, labels, epochs=20, batch_size=32, validation_split=0.2, verbose=1)"
      ],
      "execution_count": null,
      "outputs": [
        {
          "output_type": "stream",
          "text": [
            "Train on 800 samples, validate on 200 samples\n",
            "Epoch 1/20\n",
            "800/800 [==============================] - 1s 904us/sample - loss: 0.8627 - accuracy: 0.4988 - val_loss: 0.8060 - val_accuracy: 0.5450\n",
            "Epoch 2/20\n",
            "800/800 [==============================] - 0s 79us/sample - loss: 0.7264 - accuracy: 0.5663 - val_loss: 0.7739 - val_accuracy: 0.5650\n",
            "Epoch 3/20\n",
            "800/800 [==============================] - 0s 75us/sample - loss: 0.6564 - accuracy: 0.6150 - val_loss: 0.7584 - val_accuracy: 0.5650\n",
            "Epoch 4/20\n",
            "800/800 [==============================] - 0s 80us/sample - loss: 0.6053 - accuracy: 0.6750 - val_loss: 0.7516 - val_accuracy: 0.5700\n",
            "Epoch 5/20\n",
            "800/800 [==============================] - 0s 78us/sample - loss: 0.5654 - accuracy: 0.7075 - val_loss: 0.7514 - val_accuracy: 0.5700\n",
            "Epoch 6/20\n",
            "800/800 [==============================] - 0s 93us/sample - loss: 0.5313 - accuracy: 0.7538 - val_loss: 0.7549 - val_accuracy: 0.5950\n",
            "Epoch 7/20\n",
            "800/800 [==============================] - 0s 87us/sample - loss: 0.5012 - accuracy: 0.7850 - val_loss: 0.7589 - val_accuracy: 0.5900\n",
            "Epoch 8/20\n",
            "800/800 [==============================] - 0s 82us/sample - loss: 0.4737 - accuracy: 0.8175 - val_loss: 0.7658 - val_accuracy: 0.5850\n",
            "Epoch 9/20\n",
            "800/800 [==============================] - 0s 81us/sample - loss: 0.4482 - accuracy: 0.8438 - val_loss: 0.7725 - val_accuracy: 0.5850\n",
            "Epoch 10/20\n",
            "800/800 [==============================] - 0s 83us/sample - loss: 0.4247 - accuracy: 0.8650 - val_loss: 0.7784 - val_accuracy: 0.5950\n",
            "Epoch 11/20\n",
            "800/800 [==============================] - 0s 78us/sample - loss: 0.4011 - accuracy: 0.8888 - val_loss: 0.7864 - val_accuracy: 0.5850\n",
            "Epoch 12/20\n",
            "800/800 [==============================] - 0s 82us/sample - loss: 0.3793 - accuracy: 0.8850 - val_loss: 0.7934 - val_accuracy: 0.5850\n",
            "Epoch 13/20\n",
            "800/800 [==============================] - 0s 90us/sample - loss: 0.3570 - accuracy: 0.9050 - val_loss: 0.7986 - val_accuracy: 0.5850\n",
            "Epoch 14/20\n",
            "800/800 [==============================] - 0s 85us/sample - loss: 0.3351 - accuracy: 0.9200 - val_loss: 0.8094 - val_accuracy: 0.5700\n",
            "Epoch 15/20\n",
            "800/800 [==============================] - 0s 79us/sample - loss: 0.3142 - accuracy: 0.9388 - val_loss: 0.8196 - val_accuracy: 0.5700\n",
            "Epoch 16/20\n",
            "800/800 [==============================] - 0s 78us/sample - loss: 0.2947 - accuracy: 0.9450 - val_loss: 0.8288 - val_accuracy: 0.5800\n",
            "Epoch 17/20\n",
            "800/800 [==============================] - 0s 84us/sample - loss: 0.2742 - accuracy: 0.9638 - val_loss: 0.8408 - val_accuracy: 0.5750\n",
            "Epoch 18/20\n",
            "800/800 [==============================] - 0s 81us/sample - loss: 0.2557 - accuracy: 0.9675 - val_loss: 0.8503 - val_accuracy: 0.5750\n",
            "Epoch 19/20\n",
            "800/800 [==============================] - 0s 84us/sample - loss: 0.2362 - accuracy: 0.9775 - val_loss: 0.8654 - val_accuracy: 0.5700\n",
            "Epoch 20/20\n",
            "800/800 [==============================] - 0s 95us/sample - loss: 0.2197 - accuracy: 0.9800 - val_loss: 0.8757 - val_accuracy: 0.5700\n"
          ],
          "name": "stdout"
        }
      ]
    },
    {
      "cell_type": "code",
      "metadata": {
        "id": "b1xtUueg0Tr9"
      },
      "source": [
        "test_data = np.random.randn(5, 150)\n",
        "test_labels = np.random.randint(2, size=(5, 1))"
      ],
      "execution_count": null,
      "outputs": []
    },
    {
      "cell_type": "code",
      "metadata": {
        "id": "MIODWVx90nDf",
        "colab": {
          "base_uri": "https://localhost:8080/",
          "height": 103
        },
        "outputId": "31838cdc-8479-4976-d865-19391373b45c"
      },
      "source": [
        "model.predict(test_data)"
      ],
      "execution_count": null,
      "outputs": [
        {
          "output_type": "execute_result",
          "data": {
            "text/plain": [
              "array([[0.7205988 ],\n",
              "       [0.9648355 ],\n",
              "       [0.05887491],\n",
              "       [0.43474725],\n",
              "       [0.17025241]], dtype=float32)"
            ]
          },
          "metadata": {
            "tags": []
          },
          "execution_count": 27
        }
      ]
    },
    {
      "cell_type": "code",
      "metadata": {
        "id": "Pkv50Web0usG",
        "colab": {
          "base_uri": "https://localhost:8080/",
          "height": 103
        },
        "outputId": "53e611f8-f272-4628-be64-ea98eb525375"
      },
      "source": [
        "model.predict_proba(test_data)"
      ],
      "execution_count": null,
      "outputs": [
        {
          "output_type": "execute_result",
          "data": {
            "text/plain": [
              "array([[0.7205988 ],\n",
              "       [0.9648355 ],\n",
              "       [0.05887491],\n",
              "       [0.43474725],\n",
              "       [0.17025241]], dtype=float32)"
            ]
          },
          "metadata": {
            "tags": []
          },
          "execution_count": 28
        }
      ]
    },
    {
      "cell_type": "code",
      "metadata": {
        "id": "c142k6Ev14k5",
        "colab": {
          "base_uri": "https://localhost:8080/",
          "height": 103
        },
        "outputId": "0cc1920a-8b7c-4b7f-f111-99a3febf410a"
      },
      "source": [
        "model.predict_classes(test_data)"
      ],
      "execution_count": null,
      "outputs": [
        {
          "output_type": "execute_result",
          "data": {
            "text/plain": [
              "array([[1],\n",
              "       [1],\n",
              "       [0],\n",
              "       [0],\n",
              "       [0]], dtype=int32)"
            ]
          },
          "metadata": {
            "tags": []
          },
          "execution_count": 29
        }
      ]
    },
    {
      "cell_type": "code",
      "metadata": {
        "id": "AOIhjKe418cH"
      },
      "source": [],
      "execution_count": null,
      "outputs": []
    },
    {
      "cell_type": "markdown",
      "metadata": {
        "id": "AZymszuI28k-"
      },
      "source": [
        "### <a name='a5'></a> Przykład - klasyfikacja wieloklasowa"
      ]
    },
    {
      "cell_type": "code",
      "metadata": {
        "id": "tWIc_gVG2-_L"
      },
      "source": [
        "data = np.random.random((1000, 150))\n",
        "labels = np.random.randint(10, size=(1000, 1))"
      ],
      "execution_count": null,
      "outputs": []
    },
    {
      "cell_type": "code",
      "metadata": {
        "id": "fnKrv8Mk3HSs",
        "colab": {
          "base_uri": "https://localhost:8080/",
          "height": 51
        },
        "outputId": "8f3ffd36-b7b9-4f10-c1ae-b157c4acaabc"
      },
      "source": [
        "print(data.shape)\n",
        "print(labels.shape)"
      ],
      "execution_count": null,
      "outputs": [
        {
          "output_type": "stream",
          "text": [
            "(1000, 150)\n",
            "(1000, 1)\n"
          ],
          "name": "stdout"
        }
      ]
    },
    {
      "cell_type": "code",
      "metadata": {
        "id": "GEY2kQdz3Fi2",
        "colab": {
          "base_uri": "https://localhost:8080/",
          "height": 1000
        },
        "outputId": "e73877fc-a231-4204-e0c8-46f5d65d7245"
      },
      "source": [
        "data[:3]"
      ],
      "execution_count": null,
      "outputs": [
        {
          "output_type": "execute_result",
          "data": {
            "text/plain": [
              "array([[7.29627635e-01, 8.62521376e-01, 5.63809956e-01, 1.54166381e-01,\n",
              "        3.70730181e-01, 6.10089486e-01, 7.74374499e-01, 5.61109957e-01,\n",
              "        8.17466080e-01, 2.42193103e-01, 7.53253516e-01, 5.66456363e-02,\n",
              "        3.79409962e-01, 6.54154010e-01, 7.82308693e-01, 2.90854633e-01,\n",
              "        1.11945416e-02, 2.64953899e-02, 4.10102070e-01, 4.74431076e-01,\n",
              "        1.07910501e-01, 4.58667130e-01, 4.43274373e-02, 7.79824111e-01,\n",
              "        5.41952852e-01, 5.30996524e-01, 5.00869014e-01, 6.62376550e-01,\n",
              "        6.38701216e-01, 5.99692135e-01, 9.23143429e-01, 3.25124649e-01,\n",
              "        8.18399850e-01, 7.44213954e-01, 8.15133320e-01, 4.15864081e-02,\n",
              "        4.32821197e-01, 2.94940677e-01, 2.24524351e-01, 8.92774388e-01,\n",
              "        2.42985440e-02, 8.10418544e-01, 6.02631336e-01, 1.00811505e-01,\n",
              "        6.56807993e-01, 3.93307149e-01, 4.32772410e-01, 6.20595873e-01,\n",
              "        5.43492515e-01, 7.89735153e-01, 5.96972647e-01, 4.61710865e-01,\n",
              "        3.74244480e-01, 2.04553053e-01, 6.55018074e-01, 1.51684492e-01,\n",
              "        4.10441425e-01, 1.17414676e-01, 3.27091508e-01, 3.98953041e-01,\n",
              "        8.06775341e-01, 2.20295640e-01, 7.02043448e-02, 3.93998445e-03,\n",
              "        8.13708419e-01, 2.28610517e-01, 9.89003709e-02, 4.68569147e-01,\n",
              "        9.81394642e-01, 4.93396987e-01, 2.79758332e-01, 5.99774576e-01,\n",
              "        9.32309533e-01, 2.35045046e-02, 7.43863973e-01, 3.57313577e-01,\n",
              "        3.25615520e-01, 6.28513830e-01, 6.01699295e-01, 2.52928817e-01,\n",
              "        6.98842931e-03, 7.78499517e-01, 4.85708129e-01, 4.90279468e-01,\n",
              "        9.60165407e-01, 4.28192563e-01, 5.61386527e-01, 6.48909762e-01,\n",
              "        9.14208020e-01, 2.35623071e-01, 3.86917006e-01, 1.16213753e-01,\n",
              "        8.84131210e-01, 3.14151077e-01, 5.64263528e-01, 7.51557606e-01,\n",
              "        2.87334823e-01, 1.18312893e-01, 1.13131021e-01, 9.75545254e-01,\n",
              "        6.83224562e-01, 3.06216200e-01, 9.94119549e-01, 3.81368188e-02,\n",
              "        4.49657789e-01, 7.67137045e-01, 7.98009028e-01, 6.86855523e-02,\n",
              "        7.93441748e-01, 2.97321146e-01, 5.30980649e-01, 8.02112516e-02,\n",
              "        7.46841977e-01, 2.47324110e-01, 9.27347052e-01, 6.23302686e-01,\n",
              "        8.75732079e-01, 2.50330015e-01, 1.42655406e-01, 3.91287425e-01,\n",
              "        2.04785958e-01, 2.75441238e-01, 9.98918275e-01, 9.25705626e-01,\n",
              "        8.67275932e-01, 1.89066082e-01, 5.55597181e-01, 7.62427109e-01,\n",
              "        6.91458586e-01, 1.67055324e-01, 9.49417877e-01, 4.01667214e-01,\n",
              "        9.22348588e-02, 3.44940249e-01, 7.81633637e-01, 5.37541929e-01,\n",
              "        2.59407139e-01, 9.51831955e-01, 6.02515943e-02, 1.14353047e-01,\n",
              "        2.17862313e-01, 9.40060540e-01, 8.11587833e-01, 9.22626695e-01,\n",
              "        2.72137233e-01, 7.20879356e-01, 6.59010204e-01, 1.41151355e-01,\n",
              "        8.73889741e-01, 7.47531191e-01],\n",
              "       [9.55169992e-01, 1.22364373e-01, 8.55982997e-01, 7.13378240e-01,\n",
              "        3.21030819e-01, 9.95509595e-02, 8.16015417e-01, 8.21705406e-01,\n",
              "        2.61468617e-01, 5.95814172e-01, 7.70819300e-02, 1.97670073e-01,\n",
              "        7.74309858e-01, 6.11579650e-01, 6.08192358e-01, 9.34280811e-01,\n",
              "        2.22450795e-01, 3.46305035e-02, 8.91019702e-01, 8.66171190e-01,\n",
              "        5.96114635e-01, 3.27661475e-01, 8.36318302e-01, 6.10432125e-01,\n",
              "        3.01675976e-01, 6.69675780e-01, 2.46458928e-01, 3.97684821e-01,\n",
              "        7.63488063e-01, 1.36608699e-01, 9.58484048e-01, 8.09880936e-01,\n",
              "        1.63171083e-01, 2.06790439e-01, 2.42318346e-01, 6.26003784e-01,\n",
              "        5.50309196e-01, 9.81925689e-02, 4.88132816e-01, 2.71585043e-01,\n",
              "        3.31978809e-01, 6.32864127e-01, 2.98445674e-01, 6.34112431e-01,\n",
              "        5.12474237e-01, 4.71700052e-01, 4.19552542e-01, 1.37992832e-02,\n",
              "        2.34227478e-01, 2.13503250e-01, 4.75177659e-04, 3.16467021e-01,\n",
              "        2.21683575e-01, 5.22551568e-01, 3.94291997e-01, 7.73836156e-02,\n",
              "        2.82697009e-01, 9.12302173e-01, 8.58180266e-01, 3.28946931e-01,\n",
              "        8.91017895e-01, 6.71696641e-01, 4.38891528e-01, 7.61551955e-01,\n",
              "        5.76906652e-01, 4.30116859e-01, 7.90272954e-01, 3.68026681e-01,\n",
              "        4.45432316e-02, 5.19937398e-01, 4.94740221e-01, 1.76787342e-01,\n",
              "        2.31996136e-01, 8.55542798e-01, 3.55640369e-01, 9.38673832e-01,\n",
              "        4.92015775e-01, 5.71519296e-02, 2.73979232e-02, 2.94704546e-01,\n",
              "        2.93096636e-01, 2.47962191e-01, 6.44086264e-01, 6.32611170e-01,\n",
              "        4.49183253e-01, 9.55618502e-01, 2.76777387e-01, 2.34819312e-03,\n",
              "        8.64666226e-01, 9.88389666e-01, 6.75802798e-01, 6.37808740e-01,\n",
              "        3.52023259e-01, 2.93157415e-01, 6.85545334e-01, 6.11901817e-01,\n",
              "        8.98086866e-01, 4.43257813e-01, 6.30753539e-03, 3.62594810e-01,\n",
              "        1.29478854e-01, 2.15187663e-01, 8.29515909e-01, 6.49485129e-01,\n",
              "        3.94658667e-01, 7.26695821e-01, 7.72287220e-01, 4.34568938e-01,\n",
              "        7.51331851e-01, 6.91882604e-02, 6.81478139e-01, 1.68905810e-02,\n",
              "        9.32926149e-01, 8.58901768e-01, 6.41998521e-01, 7.78897952e-01,\n",
              "        8.21433532e-01, 8.55839588e-01, 8.08843223e-03, 4.63276935e-01,\n",
              "        1.91985886e-01, 1.82374371e-01, 8.67178534e-01, 7.46928015e-02,\n",
              "        6.82657270e-01, 9.51514939e-01, 4.77524896e-01, 3.73063672e-01,\n",
              "        3.81330938e-02, 1.70477556e-01, 2.13713945e-01, 2.15686132e-01,\n",
              "        8.26112334e-01, 4.50512028e-01, 8.17715924e-01, 3.89400438e-01,\n",
              "        2.74002930e-01, 9.71477674e-01, 8.62252913e-01, 2.45763597e-02,\n",
              "        3.04424232e-01, 2.17239840e-02, 4.21428982e-01, 9.61689529e-01,\n",
              "        5.17879637e-01, 3.94517920e-01, 3.58384147e-01, 8.90291216e-01,\n",
              "        9.95130643e-01, 2.82553921e-01],\n",
              "       [4.04267580e-01, 1.18373275e-01, 2.01275786e-01, 8.82003877e-01,\n",
              "        4.99090191e-01, 6.38722130e-01, 4.70444723e-01, 9.35150880e-01,\n",
              "        1.85964250e-01, 3.59188472e-01, 1.26808952e-01, 3.87758231e-01,\n",
              "        4.57817860e-01, 7.19425396e-01, 6.98131248e-01, 3.19753200e-01,\n",
              "        1.24934485e-01, 3.02881691e-01, 1.85452552e-01, 8.63066366e-01,\n",
              "        6.75382247e-01, 5.77124093e-01, 9.59225997e-01, 6.40041009e-01,\n",
              "        2.87710784e-01, 7.05274144e-01, 1.37805574e-02, 9.58787629e-02,\n",
              "        9.04619991e-01, 4.37844219e-01, 7.68935291e-01, 1.23213862e-01,\n",
              "        9.26652159e-03, 8.45796677e-01, 6.32270880e-01, 7.77133232e-01,\n",
              "        2.98359743e-01, 1.74092801e-01, 2.05811833e-01, 9.48314310e-01,\n",
              "        5.68481720e-01, 5.88645292e-01, 2.12368443e-01, 4.15970225e-01,\n",
              "        3.40970481e-01, 6.57873990e-01, 3.23142634e-01, 4.21203452e-01,\n",
              "        5.66663101e-01, 8.61649303e-02, 7.24038485e-01, 3.57856284e-01,\n",
              "        8.93675625e-01, 7.58788802e-01, 5.15093663e-01, 7.67462780e-01,\n",
              "        8.53654504e-01, 9.05635058e-01, 8.25313080e-01, 8.44472722e-01,\n",
              "        3.60083016e-01, 8.63465408e-01, 6.03365781e-01, 2.55963709e-01,\n",
              "        7.37513187e-01, 7.22650391e-01, 7.56464004e-01, 3.41197466e-01,\n",
              "        3.85577184e-01, 7.56367102e-01, 4.95208292e-03, 6.22103904e-01,\n",
              "        6.99960552e-01, 2.03375807e-01, 1.97389150e-01, 8.83047360e-01,\n",
              "        8.72066193e-01, 9.35765182e-02, 1.42907911e-01, 9.58977667e-01,\n",
              "        3.14476081e-01, 3.56507127e-01, 8.07475776e-01, 2.80977507e-01,\n",
              "        1.53233469e-01, 7.72882396e-01, 9.49486921e-01, 8.77465233e-01,\n",
              "        8.96307781e-02, 8.57011170e-01, 5.99071199e-01, 2.09924335e-01,\n",
              "        2.49079073e-01, 2.93851887e-01, 2.65408312e-01, 8.89377946e-01,\n",
              "        6.59339756e-01, 8.80670477e-01, 1.76091440e-01, 2.28936897e-02,\n",
              "        1.25852187e-01, 8.14266221e-01, 7.35196589e-01, 5.31027735e-01,\n",
              "        6.38457786e-01, 9.10040484e-01, 2.06256155e-01, 1.15373165e-01,\n",
              "        7.54256436e-01, 2.40390743e-01, 2.84170833e-01, 3.22324713e-01,\n",
              "        6.59959458e-01, 9.72312225e-01, 9.99984100e-01, 8.37813718e-01,\n",
              "        6.73967352e-01, 5.36238786e-01, 7.91655934e-01, 2.98909676e-01,\n",
              "        7.75292607e-01, 9.41031392e-01, 3.46580460e-01, 1.77927025e-01,\n",
              "        2.59508445e-02, 5.08569578e-03, 7.27063196e-01, 3.33882609e-01,\n",
              "        3.57954692e-01, 9.14868236e-01, 3.77726633e-01, 6.70106000e-01,\n",
              "        8.97463810e-01, 7.11403934e-01, 9.88773361e-01, 3.91669294e-01,\n",
              "        8.90500981e-01, 6.68959900e-01, 4.26318434e-01, 4.82297529e-01,\n",
              "        4.99121853e-01, 5.71163443e-01, 9.43294832e-01, 1.96195224e-01,\n",
              "        5.62063368e-01, 3.02586631e-01, 4.87034160e-03, 5.35667625e-01,\n",
              "        2.40883009e-01, 8.38037648e-01]])"
            ]
          },
          "metadata": {
            "tags": []
          },
          "execution_count": 32
        }
      ]
    },
    {
      "cell_type": "code",
      "metadata": {
        "id": "-UM9ArPU3GZm",
        "colab": {
          "base_uri": "https://localhost:8080/",
          "height": 188
        },
        "outputId": "fe0ea0c9-5df7-412a-c8aa-b25a7362b45f"
      },
      "source": [
        "labels[:10]"
      ],
      "execution_count": null,
      "outputs": [
        {
          "output_type": "execute_result",
          "data": {
            "text/plain": [
              "array([[3],\n",
              "       [6],\n",
              "       [2],\n",
              "       [3],\n",
              "       [6],\n",
              "       [4],\n",
              "       [4],\n",
              "       [2],\n",
              "       [0],\n",
              "       [5]])"
            ]
          },
          "metadata": {
            "tags": []
          },
          "execution_count": 33
        }
      ]
    },
    {
      "cell_type": "code",
      "metadata": {
        "id": "llauNV3D3OFK",
        "colab": {
          "base_uri": "https://localhost:8080/",
          "height": 137
        },
        "outputId": "07537bc4-2d87-4aea-feea-5825d05f2c56"
      },
      "source": [
        "from tensorflow.keras.utils import to_categorical\n",
        "labels = to_categorical(labels, num_classes=10)\n",
        "labels"
      ],
      "execution_count": null,
      "outputs": [
        {
          "output_type": "execute_result",
          "data": {
            "text/plain": [
              "array([[0., 0., 0., ..., 0., 0., 0.],\n",
              "       [0., 0., 0., ..., 0., 0., 0.],\n",
              "       [0., 0., 1., ..., 0., 0., 0.],\n",
              "       ...,\n",
              "       [0., 0., 0., ..., 0., 1., 0.],\n",
              "       [0., 1., 0., ..., 0., 0., 0.],\n",
              "       [0., 0., 0., ..., 0., 0., 0.]], dtype=float32)"
            ]
          },
          "metadata": {
            "tags": []
          },
          "execution_count": 34
        }
      ]
    },
    {
      "cell_type": "code",
      "metadata": {
        "id": "vORrZXRz7HUp",
        "colab": {
          "base_uri": "https://localhost:8080/",
          "height": 34
        },
        "outputId": "0987e193-3250-4826-8a2c-f5f084153aa5"
      },
      "source": [
        "labels[1]"
      ],
      "execution_count": null,
      "outputs": [
        {
          "output_type": "execute_result",
          "data": {
            "text/plain": [
              "array([0., 0., 0., 0., 0., 0., 1., 0., 0., 0.], dtype=float32)"
            ]
          },
          "metadata": {
            "tags": []
          },
          "execution_count": 35
        }
      ]
    },
    {
      "cell_type": "code",
      "metadata": {
        "id": "k03Mdkup5yZ1",
        "colab": {
          "base_uri": "https://localhost:8080/",
          "height": 1000
        },
        "outputId": "312d4ecd-9f8d-4eb3-a4b0-6521575b2aa6"
      },
      "source": [
        "model = Sequential()\n",
        "model.add(Dense(units=32, activation='relu', input_shape=(150,)))\n",
        "model.add(Dense(units=10, activation='softmax'))\n",
        "\n",
        "model.compile(optimizer='rmsprop',\n",
        "              loss='categorical_crossentropy',\n",
        "              metrics=['accuracy'])\n",
        "\n",
        "model.fit(data, labels, batch_size=32, epochs=30, validation_split=0.2)"
      ],
      "execution_count": null,
      "outputs": [
        {
          "output_type": "stream",
          "text": [
            "Train on 800 samples, validate on 200 samples\n",
            "Epoch 1/30\n",
            "800/800 [==============================] - 1s 645us/sample - loss: 2.3556 - accuracy: 0.1050 - val_loss: 2.3490 - val_accuracy: 0.0750\n",
            "Epoch 2/30\n",
            "800/800 [==============================] - 0s 75us/sample - loss: 2.3041 - accuracy: 0.1163 - val_loss: 2.3348 - val_accuracy: 0.0700\n",
            "Epoch 3/30\n",
            "800/800 [==============================] - 0s 77us/sample - loss: 2.2927 - accuracy: 0.1213 - val_loss: 2.3311 - val_accuracy: 0.0850\n",
            "Epoch 4/30\n",
            "800/800 [==============================] - 0s 75us/sample - loss: 2.2827 - accuracy: 0.1262 - val_loss: 2.3372 - val_accuracy: 0.0850\n",
            "Epoch 5/30\n",
            "800/800 [==============================] - 0s 77us/sample - loss: 2.2714 - accuracy: 0.1475 - val_loss: 2.3350 - val_accuracy: 0.0850\n",
            "Epoch 6/30\n",
            "800/800 [==============================] - 0s 78us/sample - loss: 2.2611 - accuracy: 0.1713 - val_loss: 2.3264 - val_accuracy: 0.0900\n",
            "Epoch 7/30\n",
            "800/800 [==============================] - 0s 78us/sample - loss: 2.2535 - accuracy: 0.1775 - val_loss: 2.3330 - val_accuracy: 0.0700\n",
            "Epoch 8/30\n",
            "800/800 [==============================] - 0s 76us/sample - loss: 2.2411 - accuracy: 0.1675 - val_loss: 2.3286 - val_accuracy: 0.0950\n",
            "Epoch 9/30\n",
            "800/800 [==============================] - 0s 74us/sample - loss: 2.2298 - accuracy: 0.1850 - val_loss: 2.3354 - val_accuracy: 0.0800\n",
            "Epoch 10/30\n",
            "800/800 [==============================] - 0s 74us/sample - loss: 2.2180 - accuracy: 0.2025 - val_loss: 2.3522 - val_accuracy: 0.0750\n",
            "Epoch 11/30\n",
            "800/800 [==============================] - 0s 77us/sample - loss: 2.2035 - accuracy: 0.2188 - val_loss: 2.3506 - val_accuracy: 0.0850\n",
            "Epoch 12/30\n",
            "800/800 [==============================] - 0s 77us/sample - loss: 2.1914 - accuracy: 0.2262 - val_loss: 2.3497 - val_accuracy: 0.0600\n",
            "Epoch 13/30\n",
            "800/800 [==============================] - 0s 76us/sample - loss: 2.1813 - accuracy: 0.2412 - val_loss: 2.3435 - val_accuracy: 0.0900\n",
            "Epoch 14/30\n",
            "800/800 [==============================] - 0s 74us/sample - loss: 2.1650 - accuracy: 0.2562 - val_loss: 2.3372 - val_accuracy: 0.0850\n",
            "Epoch 15/30\n",
            "800/800 [==============================] - 0s 76us/sample - loss: 2.1519 - accuracy: 0.2562 - val_loss: 2.3534 - val_accuracy: 0.0850\n",
            "Epoch 16/30\n",
            "800/800 [==============================] - 0s 77us/sample - loss: 2.1374 - accuracy: 0.2512 - val_loss: 2.3597 - val_accuracy: 0.0750\n",
            "Epoch 17/30\n",
            "800/800 [==============================] - 0s 78us/sample - loss: 2.1197 - accuracy: 0.2763 - val_loss: 2.3635 - val_accuracy: 0.0650\n",
            "Epoch 18/30\n",
            "800/800 [==============================] - 0s 78us/sample - loss: 2.1057 - accuracy: 0.2837 - val_loss: 2.3909 - val_accuracy: 0.0500\n",
            "Epoch 19/30\n",
            "800/800 [==============================] - 0s 77us/sample - loss: 2.0927 - accuracy: 0.2988 - val_loss: 2.3758 - val_accuracy: 0.0850\n",
            "Epoch 20/30\n",
            "800/800 [==============================] - 0s 78us/sample - loss: 2.0718 - accuracy: 0.3038 - val_loss: 2.4009 - val_accuracy: 0.0600\n",
            "Epoch 21/30\n",
            "800/800 [==============================] - 0s 88us/sample - loss: 2.0604 - accuracy: 0.3175 - val_loss: 2.3778 - val_accuracy: 0.0650\n",
            "Epoch 22/30\n",
            "800/800 [==============================] - 0s 76us/sample - loss: 2.0430 - accuracy: 0.3225 - val_loss: 2.4041 - val_accuracy: 0.0600\n",
            "Epoch 23/30\n",
            "800/800 [==============================] - 0s 80us/sample - loss: 2.0278 - accuracy: 0.3200 - val_loss: 2.3838 - val_accuracy: 0.0700\n",
            "Epoch 24/30\n",
            "800/800 [==============================] - 0s 75us/sample - loss: 2.0126 - accuracy: 0.3350 - val_loss: 2.4046 - val_accuracy: 0.0700\n",
            "Epoch 25/30\n",
            "800/800 [==============================] - 0s 80us/sample - loss: 1.9999 - accuracy: 0.3400 - val_loss: 2.3953 - val_accuracy: 0.0500\n",
            "Epoch 26/30\n",
            "800/800 [==============================] - 0s 77us/sample - loss: 1.9792 - accuracy: 0.3375 - val_loss: 2.4046 - val_accuracy: 0.0700\n",
            "Epoch 27/30\n",
            "800/800 [==============================] - 0s 78us/sample - loss: 1.9639 - accuracy: 0.3713 - val_loss: 2.4211 - val_accuracy: 0.0900\n",
            "Epoch 28/30\n",
            "800/800 [==============================] - 0s 76us/sample - loss: 1.9453 - accuracy: 0.3575 - val_loss: 2.4416 - val_accuracy: 0.0500\n",
            "Epoch 29/30\n",
            "800/800 [==============================] - 0s 83us/sample - loss: 1.9300 - accuracy: 0.3688 - val_loss: 2.3951 - val_accuracy: 0.0800\n",
            "Epoch 30/30\n",
            "800/800 [==============================] - 0s 78us/sample - loss: 1.9096 - accuracy: 0.3663 - val_loss: 2.4254 - val_accuracy: 0.0900\n"
          ],
          "name": "stdout"
        },
        {
          "output_type": "execute_result",
          "data": {
            "text/plain": [
              "<tensorflow.python.keras.callbacks.History at 0x7fdf524fc9b0>"
            ]
          },
          "metadata": {
            "tags": []
          },
          "execution_count": 36
        }
      ]
    },
    {
      "cell_type": "code",
      "metadata": {
        "id": "apTq9u_O63vu",
        "colab": {
          "base_uri": "https://localhost:8080/",
          "height": 377
        },
        "outputId": "01783805-f399-4f25-e1eb-454a398b2261"
      },
      "source": [
        "test_data = np.random.random((10, 150))\n",
        "\n",
        "model.predict(test_data)"
      ],
      "execution_count": null,
      "outputs": [
        {
          "output_type": "execute_result",
          "data": {
            "text/plain": [
              "array([[0.08983808, 0.11159482, 0.1492207 , 0.09316637, 0.11945623,\n",
              "        0.09258357, 0.0720282 , 0.06992816, 0.13106145, 0.07112241],\n",
              "       [0.08942046, 0.10283626, 0.18557036, 0.05366269, 0.22781137,\n",
              "        0.03010176, 0.06015954, 0.06327941, 0.06009176, 0.12706645],\n",
              "       [0.10976189, 0.12452849, 0.06198036, 0.1371533 , 0.07977825,\n",
              "        0.13205202, 0.08140872, 0.07753852, 0.07799304, 0.11780547],\n",
              "       [0.05390581, 0.09509765, 0.05877729, 0.15198168, 0.14855085,\n",
              "        0.03478269, 0.07228796, 0.10269187, 0.15391472, 0.12800953],\n",
              "       [0.09683111, 0.11166308, 0.12938194, 0.0463362 , 0.14714347,\n",
              "        0.06077057, 0.04766032, 0.06275054, 0.08363295, 0.2138298 ],\n",
              "       [0.12804571, 0.08242729, 0.09793483, 0.11848731, 0.11091572,\n",
              "        0.16548876, 0.0669103 , 0.07752561, 0.05154081, 0.10072374],\n",
              "       [0.1094671 , 0.08647396, 0.09840713, 0.12729783, 0.08862638,\n",
              "        0.09885453, 0.10153055, 0.08075281, 0.09815591, 0.11043376],\n",
              "       [0.08532665, 0.09715191, 0.1484507 , 0.0573914 , 0.18522008,\n",
              "        0.08678582, 0.103158  , 0.12792175, 0.04617064, 0.06242299],\n",
              "       [0.13636313, 0.05221177, 0.16102411, 0.18057401, 0.08258004,\n",
              "        0.05496687, 0.10656947, 0.08975908, 0.03956933, 0.09638207],\n",
              "       [0.11796816, 0.07564016, 0.2155015 , 0.07423938, 0.14843778,\n",
              "        0.08932725, 0.07367051, 0.06875332, 0.03473739, 0.10172442]],\n",
              "      dtype=float32)"
            ]
          },
          "metadata": {
            "tags": []
          },
          "execution_count": 37
        }
      ]
    },
    {
      "cell_type": "code",
      "metadata": {
        "id": "Pd6vGftg8SHk",
        "colab": {
          "base_uri": "https://localhost:8080/",
          "height": 34
        },
        "outputId": "d41c2e0e-4c1e-4dc2-8224-8e8a740dfcb9"
      },
      "source": [
        "model.predict_classes(test_data)"
      ],
      "execution_count": null,
      "outputs": [
        {
          "output_type": "execute_result",
          "data": {
            "text/plain": [
              "array([2, 4, 3, 8, 9, 5, 3, 4, 3, 2])"
            ]
          },
          "metadata": {
            "tags": []
          },
          "execution_count": 38
        }
      ]
    },
    {
      "cell_type": "markdown",
      "metadata": {
        "id": "FZuyR0UW8fP2"
      },
      "source": [
        "### <a name='a6'></a> Przykład - regresja"
      ]
    },
    {
      "cell_type": "code",
      "metadata": {
        "id": "Uj04-RVU8WNh"
      },
      "source": [
        "data = np.random.random((1000, 150))\n",
        "labels = 50 * np.random.random(1000)"
      ],
      "execution_count": null,
      "outputs": []
    },
    {
      "cell_type": "code",
      "metadata": {
        "id": "nzjtUUE38pj4",
        "colab": {
          "base_uri": "https://localhost:8080/",
          "height": 1000
        },
        "outputId": "7aa256c6-aca6-427e-a7d1-49845e5944a0"
      },
      "source": [
        "data[:3]"
      ],
      "execution_count": null,
      "outputs": [
        {
          "output_type": "execute_result",
          "data": {
            "text/plain": [
              "array([[0.58960954, 0.13243576, 0.93943898, 0.40004257, 0.32280289,\n",
              "        0.5722313 , 0.9073174 , 0.05766878, 0.79989911, 0.57997995,\n",
              "        0.64221612, 0.82995811, 0.19042491, 0.38901094, 0.15819404,\n",
              "        0.3175369 , 0.42458804, 0.74393206, 0.88612055, 0.58409325,\n",
              "        0.96100708, 0.96303939, 0.23650876, 0.94119992, 0.59852204,\n",
              "        0.10331191, 0.24064297, 0.49557905, 0.5794331 , 0.05596316,\n",
              "        0.07132605, 0.83778146, 0.91188186, 0.75986717, 0.66353842,\n",
              "        0.32291479, 0.03063383, 0.89332242, 0.60826858, 0.95087787,\n",
              "        0.74390908, 0.44394929, 0.04739086, 0.57713395, 0.3310456 ,\n",
              "        0.3187024 , 0.57310303, 0.02291328, 0.23263295, 0.48508289,\n",
              "        0.99762691, 0.46855278, 0.35847907, 0.0393143 , 0.47897298,\n",
              "        0.59401619, 0.89002729, 0.3034738 , 0.33718665, 0.78801235,\n",
              "        0.8085318 , 0.70728711, 0.55510417, 0.18523857, 0.48092329,\n",
              "        0.59647718, 0.27824617, 0.0198724 , 0.89486556, 0.63120354,\n",
              "        0.66668975, 0.78255413, 0.12671226, 0.86990635, 0.75944606,\n",
              "        0.10445032, 0.94984196, 0.3098913 , 0.61662941, 0.47578479,\n",
              "        0.13531068, 0.66139695, 0.88221841, 0.28509998, 0.74589772,\n",
              "        0.04084986, 0.4980272 , 0.91667821, 0.10544596, 0.80731834,\n",
              "        0.97084721, 0.21213761, 0.3836944 , 0.73618023, 0.88376864,\n",
              "        0.26718409, 0.79356885, 0.99253233, 0.82954102, 0.35836147,\n",
              "        0.76226607, 0.83490072, 0.89543032, 0.93867861, 0.67657316,\n",
              "        0.20545033, 0.06827824, 0.06910311, 0.84008529, 0.09936128,\n",
              "        0.3037711 , 0.95170184, 0.68939739, 0.2856999 , 0.90608383,\n",
              "        0.61766849, 0.32698304, 0.33885319, 0.64127299, 0.37047243,\n",
              "        0.71796966, 0.02528621, 0.86291644, 0.33030493, 0.34911949,\n",
              "        0.5584692 , 0.89488685, 0.54264996, 0.15784131, 0.84071303,\n",
              "        0.15127324, 0.39886701, 0.3598491 , 0.03628865, 0.50584523,\n",
              "        0.04095585, 0.41318039, 0.26933386, 0.92055854, 0.67881745,\n",
              "        0.78813059, 0.97812779, 0.49971575, 0.50121119, 0.41692484,\n",
              "        0.97865874, 0.21994353, 0.31759447, 0.9658696 , 0.91367513],\n",
              "       [0.9009626 , 0.50667355, 0.76582469, 0.2419493 , 0.29193206,\n",
              "        0.59245363, 0.20453292, 0.65166058, 0.50715515, 0.40074859,\n",
              "        0.82757006, 0.03243083, 0.44883998, 0.23377019, 0.19845138,\n",
              "        0.40320126, 0.15963634, 0.78263797, 0.93704615, 0.10444742,\n",
              "        0.05304051, 0.58135342, 0.32620365, 0.992774  , 0.95227966,\n",
              "        0.46542254, 0.54319787, 0.77286301, 0.06159464, 0.0713236 ,\n",
              "        0.46531605, 0.51726681, 0.73608519, 0.33590569, 0.50951473,\n",
              "        0.5357939 , 0.0602826 , 0.03049591, 0.18434983, 0.72621758,\n",
              "        0.70957598, 0.57113106, 0.46866979, 0.84570924, 0.86531273,\n",
              "        0.55067941, 0.21816801, 0.70227125, 0.12755478, 0.77810267,\n",
              "        0.60227882, 0.00747516, 0.03444284, 0.23023827, 0.23083901,\n",
              "        0.0481562 , 0.55629078, 0.73850086, 0.30883968, 0.39142967,\n",
              "        0.4392318 , 0.60597002, 0.63657952, 0.8512094 , 0.91430297,\n",
              "        0.86729847, 0.04962341, 0.58891154, 0.80755495, 0.28652367,\n",
              "        0.05973892, 0.39387845, 0.21918181, 0.49356562, 0.94829176,\n",
              "        0.96537122, 0.37147665, 0.59144516, 0.72976895, 0.63390724,\n",
              "        0.21963798, 0.36128681, 0.63328029, 0.65652893, 0.05259808,\n",
              "        0.55625865, 0.6409685 , 0.0808834 , 0.57133105, 0.65192554,\n",
              "        0.30257992, 0.30852607, 0.10659944, 0.34775877, 0.01951828,\n",
              "        0.90578454, 0.47047959, 0.63790822, 0.28058845, 0.61922051,\n",
              "        0.62521555, 0.17264087, 0.509833  , 0.07658435, 0.53824482,\n",
              "        0.18472816, 0.34092985, 0.67903002, 0.99629982, 0.10480926,\n",
              "        0.29027101, 0.36719965, 0.19200988, 0.05636838, 0.45103176,\n",
              "        0.15704102, 0.44220348, 0.57035221, 0.86283775, 0.62911871,\n",
              "        0.88054191, 0.01588832, 0.65157764, 0.43795489, 0.94008959,\n",
              "        0.11546241, 0.43393404, 0.87980345, 0.26733911, 0.04745021,\n",
              "        0.45810666, 0.33307421, 0.25213274, 0.49030945, 0.49427834,\n",
              "        0.72443953, 0.27669583, 0.79751225, 0.94944533, 0.31765654,\n",
              "        0.70931843, 0.56782944, 0.06823262, 0.95688707, 0.26777844,\n",
              "        0.31515546, 0.63223989, 0.72260226, 0.31493547, 0.54323973],\n",
              "       [0.38993866, 0.15363218, 0.25626273, 0.77485838, 0.41031979,\n",
              "        0.76325556, 0.76805797, 0.28070509, 0.05008026, 0.24486446,\n",
              "        0.87388544, 0.44427462, 0.54748774, 0.2790053 , 0.04979446,\n",
              "        0.42237431, 0.83363042, 0.98005115, 0.20463929, 0.93719725,\n",
              "        0.92385107, 0.22334098, 0.50256265, 0.54798552, 0.73892414,\n",
              "        0.16130121, 0.90859914, 0.51515498, 0.34017952, 0.8296809 ,\n",
              "        0.77970548, 0.65695147, 0.71440159, 0.38620568, 0.94757439,\n",
              "        0.53782446, 0.07385587, 0.43877389, 0.37995765, 0.00134794,\n",
              "        0.15040372, 0.86564938, 0.25531953, 0.93886951, 0.26067732,\n",
              "        0.35884986, 0.77282916, 0.45611216, 0.85951219, 0.94133243,\n",
              "        0.94629218, 0.61766632, 0.51109691, 0.91447285, 0.75056553,\n",
              "        0.24370004, 0.89640133, 0.88140397, 0.92650739, 0.81009346,\n",
              "        0.8593902 , 0.75073735, 0.13266663, 0.12450566, 0.93008813,\n",
              "        0.44726671, 0.73496229, 0.30248296, 0.3209935 , 0.21153148,\n",
              "        0.70333525, 0.0434262 , 0.49336846, 0.66497067, 0.74723433,\n",
              "        0.29232565, 0.54838672, 0.8979362 , 0.960146  , 0.15671429,\n",
              "        0.26417115, 0.12287299, 0.50974004, 0.48802772, 0.256722  ,\n",
              "        0.04574174, 0.35866047, 0.10868051, 0.57269443, 0.87376764,\n",
              "        0.08050867, 0.92117458, 0.89153006, 0.92926192, 0.28774391,\n",
              "        0.22004421, 0.00372171, 0.17087662, 0.98137573, 0.28500836,\n",
              "        0.105953  , 0.59734093, 0.20919815, 0.45151046, 0.79845881,\n",
              "        0.41522624, 0.01999381, 0.35448161, 0.95550812, 0.02929003,\n",
              "        0.77167186, 0.30588856, 0.95635639, 0.06303974, 0.55274511,\n",
              "        0.61191103, 0.19362281, 0.15486767, 0.18481145, 0.55864025,\n",
              "        0.74967831, 0.21078666, 0.24181926, 0.46254009, 0.55850557,\n",
              "        0.66121413, 0.12298233, 0.84138772, 0.23222906, 0.79852421,\n",
              "        0.11410127, 0.70973912, 0.66421179, 0.35011055, 0.01722487,\n",
              "        0.28257484, 0.72272584, 0.95758562, 0.53362535, 0.35284704,\n",
              "        0.17398396, 0.62257494, 0.17557203, 0.51210211, 0.20392179,\n",
              "        0.16749757, 0.68956864, 0.93232142, 0.24309172, 0.9459931 ]])"
            ]
          },
          "metadata": {
            "tags": []
          },
          "execution_count": 40
        }
      ]
    },
    {
      "cell_type": "code",
      "metadata": {
        "id": "G9T_X5kr8qht",
        "colab": {
          "base_uri": "https://localhost:8080/",
          "height": 51
        },
        "outputId": "78a29de6-11c1-42c9-e88a-ec85e3d4bb61"
      },
      "source": [
        "labels[:10]"
      ],
      "execution_count": null,
      "outputs": [
        {
          "output_type": "execute_result",
          "data": {
            "text/plain": [
              "array([15.1173711 , 17.67429876, 17.94821655, 44.47101798, 17.40075161,\n",
              "       25.79769984, 29.71380237,  4.24483831, 46.75677128, 38.83994321])"
            ]
          },
          "metadata": {
            "tags": []
          },
          "execution_count": 41
        }
      ]
    },
    {
      "cell_type": "code",
      "metadata": {
        "id": "M3MEGPvy8rqz",
        "colab": {
          "base_uri": "https://localhost:8080/",
          "height": 1000
        },
        "outputId": "b93f8ca3-a812-4aa2-df1b-2733197af313"
      },
      "source": [
        "model = Sequential()\n",
        "model.add(Dense(units=32, activation='relu', input_shape=(150,)))\n",
        "model.add(Dense(units=1))\n",
        "\n",
        "model.compile(optimizer='rmsprop',\n",
        "              loss='mse')\n",
        "\n",
        "model.fit(data, labels, epochs=30, batch_size=32, validation_split=0.2)"
      ],
      "execution_count": null,
      "outputs": [
        {
          "output_type": "stream",
          "text": [
            "Train on 800 samples, validate on 200 samples\n",
            "Epoch 1/30\n",
            "800/800 [==============================] - 0s 485us/sample - loss: 588.6155 - val_loss: 482.1194\n",
            "Epoch 2/30\n",
            "800/800 [==============================] - 0s 72us/sample - loss: 319.5847 - val_loss: 279.7593\n",
            "Epoch 3/30\n",
            "800/800 [==============================] - 0s 74us/sample - loss: 217.8644 - val_loss: 228.9637\n",
            "Epoch 4/30\n",
            "800/800 [==============================] - 0s 71us/sample - loss: 202.5274 - val_loss: 224.9378\n",
            "Epoch 5/30\n",
            "800/800 [==============================] - 0s 69us/sample - loss: 201.7686 - val_loss: 226.3445\n",
            "Epoch 6/30\n",
            "800/800 [==============================] - 0s 70us/sample - loss: 201.4993 - val_loss: 220.6610\n",
            "Epoch 7/30\n",
            "800/800 [==============================] - 0s 70us/sample - loss: 200.7321 - val_loss: 221.6260\n",
            "Epoch 8/30\n",
            "800/800 [==============================] - 0s 75us/sample - loss: 200.6722 - val_loss: 222.9951\n",
            "Epoch 9/30\n",
            "800/800 [==============================] - 0s 81us/sample - loss: 200.2090 - val_loss: 222.2245\n",
            "Epoch 10/30\n",
            "800/800 [==============================] - 0s 73us/sample - loss: 199.5340 - val_loss: 222.3762\n",
            "Epoch 11/30\n",
            "800/800 [==============================] - 0s 74us/sample - loss: 198.7722 - val_loss: 221.3352\n",
            "Epoch 12/30\n",
            "800/800 [==============================] - 0s 71us/sample - loss: 198.3423 - val_loss: 220.9132\n",
            "Epoch 13/30\n",
            "800/800 [==============================] - 0s 73us/sample - loss: 197.7498 - val_loss: 224.0685\n",
            "Epoch 14/30\n",
            "800/800 [==============================] - 0s 81us/sample - loss: 197.3489 - val_loss: 225.0530\n",
            "Epoch 15/30\n",
            "800/800 [==============================] - 0s 74us/sample - loss: 196.9552 - val_loss: 221.4302\n",
            "Epoch 16/30\n",
            "800/800 [==============================] - 0s 74us/sample - loss: 195.8394 - val_loss: 225.0924\n",
            "Epoch 17/30\n",
            "800/800 [==============================] - 0s 74us/sample - loss: 196.2156 - val_loss: 223.2197\n",
            "Epoch 18/30\n",
            "800/800 [==============================] - 0s 73us/sample - loss: 195.6939 - val_loss: 223.4943\n",
            "Epoch 19/30\n",
            "800/800 [==============================] - 0s 75us/sample - loss: 194.6511 - val_loss: 222.9565\n",
            "Epoch 20/30\n",
            "800/800 [==============================] - 0s 73us/sample - loss: 194.6312 - val_loss: 223.2962\n",
            "Epoch 21/30\n",
            "800/800 [==============================] - 0s 84us/sample - loss: 193.9520 - val_loss: 221.9206\n",
            "Epoch 22/30\n",
            "800/800 [==============================] - 0s 75us/sample - loss: 193.6186 - val_loss: 224.6149\n",
            "Epoch 23/30\n",
            "800/800 [==============================] - 0s 78us/sample - loss: 193.1531 - val_loss: 225.2549\n",
            "Epoch 24/30\n",
            "800/800 [==============================] - 0s 75us/sample - loss: 192.1926 - val_loss: 222.4945\n",
            "Epoch 25/30\n",
            "800/800 [==============================] - 0s 73us/sample - loss: 192.1690 - val_loss: 225.3486\n",
            "Epoch 26/30\n",
            "800/800 [==============================] - 0s 79us/sample - loss: 191.2006 - val_loss: 226.8763\n",
            "Epoch 27/30\n",
            "800/800 [==============================] - 0s 77us/sample - loss: 190.9664 - val_loss: 223.1486\n",
            "Epoch 28/30\n",
            "800/800 [==============================] - 0s 79us/sample - loss: 190.6415 - val_loss: 226.6230\n",
            "Epoch 29/30\n",
            "800/800 [==============================] - 0s 77us/sample - loss: 190.3439 - val_loss: 227.7856\n",
            "Epoch 30/30\n",
            "800/800 [==============================] - 0s 77us/sample - loss: 189.8006 - val_loss: 226.7174\n"
          ],
          "name": "stdout"
        },
        {
          "output_type": "execute_result",
          "data": {
            "text/plain": [
              "<tensorflow.python.keras.callbacks.History at 0x7fdf5013df98>"
            ]
          },
          "metadata": {
            "tags": []
          },
          "execution_count": 42
        }
      ]
    },
    {
      "cell_type": "code",
      "metadata": {
        "id": "jLUGCiun-ePp",
        "colab": {
          "base_uri": "https://localhost:8080/",
          "height": 1000
        },
        "outputId": "7eb120f1-a954-487d-c18c-455715574df4"
      },
      "source": [
        "model = Sequential()\n",
        "model.add(Dense(units=32, activation='relu', input_shape=(150,)))\n",
        "model.add(Dense(units=1))\n",
        "\n",
        "model.compile(optimizer='rmsprop',\n",
        "              loss='mae',\n",
        "              metrics=['mse'])\n",
        "\n",
        "model.fit(data, labels, epochs=30, batch_size=32, validation_split=0.2)"
      ],
      "execution_count": null,
      "outputs": [
        {
          "output_type": "stream",
          "text": [
            "Train on 800 samples, validate on 200 samples\n",
            "Epoch 1/30\n",
            "800/800 [==============================] - 1s 964us/sample - loss: 21.1680 - mse: 636.3564 - val_loss: 19.3503 - val_mse: 550.3011\n",
            "Epoch 2/30\n",
            "800/800 [==============================] - 0s 82us/sample - loss: 16.0822 - mse: 385.6503 - val_loss: 15.2038 - val_mse: 341.7426\n",
            "Epoch 3/30\n",
            "800/800 [==============================] - 0s 74us/sample - loss: 13.3585 - mse: 251.9436 - val_loss: 13.0714 - val_mse: 246.4524\n",
            "Epoch 4/30\n",
            "800/800 [==============================] - 0s 73us/sample - loss: 12.4629 - mse: 206.7149 - val_loss: 12.7177 - val_mse: 223.5341\n",
            "Epoch 5/30\n",
            "800/800 [==============================] - 0s 74us/sample - loss: 12.3362 - mse: 202.4299 - val_loss: 12.7078 - val_mse: 221.8473\n",
            "Epoch 6/30\n",
            "800/800 [==============================] - 0s 79us/sample - loss: 12.3174 - mse: 202.3679 - val_loss: 12.7101 - val_mse: 222.0762\n",
            "Epoch 7/30\n",
            "800/800 [==============================] - 0s 85us/sample - loss: 12.3100 - mse: 202.2263 - val_loss: 12.7109 - val_mse: 221.6133\n",
            "Epoch 8/30\n",
            "800/800 [==============================] - 0s 80us/sample - loss: 12.3040 - mse: 202.1233 - val_loss: 12.7110 - val_mse: 221.3447\n",
            "Epoch 9/30\n",
            "800/800 [==============================] - 0s 76us/sample - loss: 12.2705 - mse: 201.1409 - val_loss: 12.7172 - val_mse: 223.0098\n",
            "Epoch 10/30\n",
            "800/800 [==============================] - 0s 90us/sample - loss: 12.2408 - mse: 200.2407 - val_loss: 12.7236 - val_mse: 220.8254\n",
            "Epoch 11/30\n",
            "800/800 [==============================] - 0s 87us/sample - loss: 12.2493 - mse: 200.5873 - val_loss: 12.7159 - val_mse: 222.1131\n",
            "Epoch 12/30\n",
            "800/800 [==============================] - 0s 81us/sample - loss: 12.2336 - mse: 200.1089 - val_loss: 12.7173 - val_mse: 221.8575\n",
            "Epoch 13/30\n",
            "800/800 [==============================] - 0s 78us/sample - loss: 12.2096 - mse: 199.5908 - val_loss: 12.7247 - val_mse: 223.2469\n",
            "Epoch 14/30\n",
            "800/800 [==============================] - 0s 87us/sample - loss: 12.1914 - mse: 198.6514 - val_loss: 12.7255 - val_mse: 222.1882\n",
            "Epoch 15/30\n",
            "800/800 [==============================] - 0s 77us/sample - loss: 12.1753 - mse: 198.3206 - val_loss: 12.7391 - val_mse: 221.3391\n",
            "Epoch 16/30\n",
            "800/800 [==============================] - 0s 86us/sample - loss: 12.1645 - mse: 198.5376 - val_loss: 12.7290 - val_mse: 222.8442\n",
            "Epoch 17/30\n",
            "800/800 [==============================] - 0s 73us/sample - loss: 12.1475 - mse: 197.9659 - val_loss: 12.7369 - val_mse: 225.0923\n",
            "Epoch 18/30\n",
            "800/800 [==============================] - 0s 83us/sample - loss: 12.1332 - mse: 197.4346 - val_loss: 12.7335 - val_mse: 222.4613\n",
            "Epoch 19/30\n",
            "800/800 [==============================] - 0s 84us/sample - loss: 12.1100 - mse: 197.0660 - val_loss: 12.7392 - val_mse: 225.5086\n",
            "Epoch 20/30\n",
            "800/800 [==============================] - 0s 79us/sample - loss: 12.1031 - mse: 196.3964 - val_loss: 12.7460 - val_mse: 221.9975\n",
            "Epoch 21/30\n",
            "800/800 [==============================] - 0s 83us/sample - loss: 12.0686 - mse: 196.7095 - val_loss: 12.7361 - val_mse: 223.7406\n",
            "Epoch 22/30\n",
            "800/800 [==============================] - 0s 81us/sample - loss: 12.0574 - mse: 195.6118 - val_loss: 12.7402 - val_mse: 223.0396\n",
            "Epoch 23/30\n",
            "800/800 [==============================] - 0s 83us/sample - loss: 12.0348 - mse: 195.4298 - val_loss: 12.7446 - val_mse: 223.1860\n",
            "Epoch 24/30\n",
            "800/800 [==============================] - 0s 85us/sample - loss: 12.0243 - mse: 194.5734 - val_loss: 12.7624 - val_mse: 222.2095\n",
            "Epoch 25/30\n",
            "800/800 [==============================] - 0s 85us/sample - loss: 11.9962 - mse: 194.9975 - val_loss: 12.7485 - val_mse: 223.2475\n",
            "Epoch 26/30\n",
            "800/800 [==============================] - 0s 76us/sample - loss: 11.9887 - mse: 194.0219 - val_loss: 12.7491 - val_mse: 224.0971\n",
            "Epoch 27/30\n",
            "800/800 [==============================] - 0s 84us/sample - loss: 11.9642 - mse: 193.0484 - val_loss: 12.7489 - val_mse: 225.2527\n",
            "Epoch 28/30\n",
            "800/800 [==============================] - 0s 85us/sample - loss: 11.9435 - mse: 192.9850 - val_loss: 12.7942 - val_mse: 222.4078\n",
            "Epoch 29/30\n",
            "800/800 [==============================] - 0s 85us/sample - loss: 11.9176 - mse: 193.1384 - val_loss: 12.7508 - val_mse: 226.3123\n",
            "Epoch 30/30\n",
            "800/800 [==============================] - 0s 84us/sample - loss: 11.9152 - mse: 192.5332 - val_loss: 12.7557 - val_mse: 224.2963\n"
          ],
          "name": "stdout"
        },
        {
          "output_type": "execute_result",
          "data": {
            "text/plain": [
              "<tensorflow.python.keras.callbacks.History at 0x7fdf4f3baa90>"
            ]
          },
          "metadata": {
            "tags": []
          },
          "execution_count": 43
        }
      ]
    },
    {
      "cell_type": "code",
      "metadata": {
        "id": "0T9od2mo9KAF",
        "colab": {
          "base_uri": "https://localhost:8080/",
          "height": 188
        },
        "outputId": "7838cd43-347c-4fe6-ec65-a929c1ff47a6"
      },
      "source": [
        "test_data = np.random.random((10, 150))\n",
        "\n",
        "model.predict(test_data)"
      ],
      "execution_count": null,
      "outputs": [
        {
          "output_type": "execute_result",
          "data": {
            "text/plain": [
              "array([[24.40516 ],\n",
              "       [27.921484],\n",
              "       [23.890505],\n",
              "       [23.812803],\n",
              "       [26.02559 ],\n",
              "       [24.233002],\n",
              "       [23.821136],\n",
              "       [22.760138],\n",
              "       [27.158115],\n",
              "       [26.908585]], dtype=float32)"
            ]
          },
          "metadata": {
            "tags": []
          },
          "execution_count": 44
        }
      ]
    }
  ]
}