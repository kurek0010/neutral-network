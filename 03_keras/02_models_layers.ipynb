{
  "nbformat": 4,
  "nbformat_minor": 0,
  "metadata": {
    "colab": {
      "name": "Untitled0.ipynb",
      "provenance": [],
      "include_colab_link": true
    },
    "kernelspec": {
      "name": "python3",
      "display_name": "Python 3"
    }
  },
  "cells": [
    {
      "cell_type": "markdown",
      "metadata": {
        "id": "view-in-github",
        "colab_type": "text"
      },
      "source": [
        "<a href=\"https://colab.research.google.com/github/kurek0010/neutral-network/blob/main/03_keras/02_models_layers.ipynb\" target=\"_parent\"><img src=\"https://colab.research.google.com/assets/colab-badge.svg\" alt=\"Open In Colab\"/></a>"
      ]
    },
    {
      "cell_type": "markdown",
      "metadata": {
        "id": "ROu6OBCDUcyz"
      },
      "source": [
        "* @author: krakowiakpawel9@gmail.com  \n",
        "* @site: e-smartdata.org"
      ]
    },
    {
      "cell_type": "markdown",
      "metadata": {
        "id": "2pcjQyULGHOU"
      },
      "source": [
        "### Warstwy w bibliotece Keras"
      ]
    },
    {
      "cell_type": "code",
      "metadata": {
        "id": "H59a9btKT4hW"
      },
      "source": [
        "# Przygotowanie środowiska do pracy z Tensorflow 2.0.\n",
        "# Jeśli otrzymasz błąd podczas instalacji Tensorflow uruchom tę komórkę raz jeszcze.\n",
        "\n",
        "!pip uninstall -y tensorflow\n",
        "!pip install -q tensorflow==2.0.0"
      ],
      "execution_count": null,
      "outputs": []
    },
    {
      "cell_type": "code",
      "metadata": {
        "id": "ozTByixeE6qy",
        "colab": {
          "base_uri": "https://localhost:8080/",
          "height": 35
        },
        "outputId": "5e29befa-7aa5-4240-8c4b-f21f1b39548d"
      },
      "source": [
        "import numpy as np\n",
        "import plotly.express as px\n",
        "\n",
        "import tensorflow as tf\n",
        "from tensorflow.keras.datasets.mnist import load_data\n",
        "from tensorflow.keras.models import Sequential\n",
        "from tensorflow.keras.layers import Flatten, Dense, Dropout\n",
        "tf.__version__"
      ],
      "execution_count": null,
      "outputs": [
        {
          "output_type": "execute_result",
          "data": {
            "text/plain": [
              "'2.0.0'"
            ]
          },
          "metadata": {
            "tags": []
          },
          "execution_count": 2
        }
      ]
    },
    {
      "cell_type": "code",
      "metadata": {
        "id": "4dJSEcqtFhnA"
      },
      "source": [
        "(X_train, y_train), (X_test, y_test) = load_data()"
      ],
      "execution_count": null,
      "outputs": []
    },
    {
      "cell_type": "code",
      "metadata": {
        "id": "sJlywk6UFlBq",
        "colab": {
          "base_uri": "https://localhost:8080/",
          "height": 87
        },
        "outputId": "37ceb6bd-c2fe-4eec-d846-37e3215f6594"
      },
      "source": [
        "print(f'X_train shape: {X_train.shape}')\n",
        "print(f'y_train shape: {y_train.shape}')\n",
        "print(f'X_test shape: {X_test.shape}')\n",
        "print(f'y_test shape: {y_test.shape}')"
      ],
      "execution_count": null,
      "outputs": [
        {
          "output_type": "stream",
          "text": [
            "X_train shape: (60000, 28, 28)\n",
            "y_train shape: (60000,)\n",
            "X_test shape: (10000, 28, 28)\n",
            "y_test shape: (10000,)\n"
          ],
          "name": "stdout"
        }
      ]
    },
    {
      "cell_type": "code",
      "metadata": {
        "id": "JF5UVnaHFooz"
      },
      "source": [
        "X_train = X_train / 255.\n",
        "X_test = X_test / 255."
      ],
      "execution_count": null,
      "outputs": []
    },
    {
      "cell_type": "code",
      "metadata": {
        "id": "8iWwV3QaFZGn",
        "colab": {
          "base_uri": "https://localhost:8080/",
          "height": 295
        },
        "outputId": "61cef197-dbca-4e0d-c0a9-0fd976f04dd0"
      },
      "source": [
        "model = Sequential()\n",
        "model.add(Flatten(input_shape=(28, 28)))\n",
        "model.add(Dense(units=128, activation='relu'))\n",
        "model.add(Dropout(0.2))\n",
        "model.add(Dense(units=10, activation='softmax'))\n",
        "\n",
        "model.compile(optimizers='adam',\n",
        "              loss='sparse_categorical_crossentropy',\n",
        "              metrics=['accuracy'])\n",
        "\n",
        "model.summary()"
      ],
      "execution_count": null,
      "outputs": [
        {
          "output_type": "stream",
          "text": [
            "Model: \"sequential\"\n",
            "_________________________________________________________________\n",
            "Layer (type)                 Output Shape              Param #   \n",
            "=================================================================\n",
            "flatten (Flatten)            (None, 784)               0         \n",
            "_________________________________________________________________\n",
            "dense (Dense)                (None, 128)               100480    \n",
            "_________________________________________________________________\n",
            "dropout (Dropout)            (None, 128)               0         \n",
            "_________________________________________________________________\n",
            "dense_1 (Dense)              (None, 10)                1290      \n",
            "=================================================================\n",
            "Total params: 101,770\n",
            "Trainable params: 101,770\n",
            "Non-trainable params: 0\n",
            "_________________________________________________________________\n"
          ],
          "name": "stdout"
        }
      ]
    },
    {
      "cell_type": "code",
      "metadata": {
        "id": "din61ptDFZYE",
        "colab": {
          "base_uri": "https://localhost:8080/",
          "height": 399
        },
        "outputId": "dd39214b-d3f3-4b37-a149-ebeda58464e5"
      },
      "source": [
        "model.fit(X_train, y_train, epochs=10, validation_split=0.2, batch_size=32)"
      ],
      "execution_count": null,
      "outputs": [
        {
          "output_type": "stream",
          "text": [
            "Train on 48000 samples, validate on 12000 samples\n",
            "Epoch 1/10\n",
            "48000/48000 [==============================] - 8s 161us/sample - loss: 0.3284 - accuracy: 0.9037 - val_loss: 0.1635 - val_accuracy: 0.9530\n",
            "Epoch 2/10\n",
            "48000/48000 [==============================] - 8s 176us/sample - loss: 0.1693 - accuracy: 0.9522 - val_loss: 0.1259 - val_accuracy: 0.9643\n",
            "Epoch 3/10\n",
            "48000/48000 [==============================] - 8s 161us/sample - loss: 0.1309 - accuracy: 0.9623 - val_loss: 0.1124 - val_accuracy: 0.9692\n",
            "Epoch 4/10\n",
            "48000/48000 [==============================] - 7s 141us/sample - loss: 0.1171 - accuracy: 0.9663 - val_loss: 0.1130 - val_accuracy: 0.9701\n",
            "Epoch 5/10\n",
            "48000/48000 [==============================] - 7s 140us/sample - loss: 0.1034 - accuracy: 0.9709 - val_loss: 0.1122 - val_accuracy: 0.9712\n",
            "Epoch 6/10\n",
            "48000/48000 [==============================] - 7s 140us/sample - loss: 0.0983 - accuracy: 0.9734 - val_loss: 0.1153 - val_accuracy: 0.9714\n",
            "Epoch 7/10\n",
            "48000/48000 [==============================] - 7s 139us/sample - loss: 0.0890 - accuracy: 0.9757 - val_loss: 0.1101 - val_accuracy: 0.9743\n",
            "Epoch 8/10\n",
            "48000/48000 [==============================] - 7s 138us/sample - loss: 0.0840 - accuracy: 0.9780 - val_loss: 0.1109 - val_accuracy: 0.9734\n",
            "Epoch 9/10\n",
            "48000/48000 [==============================] - 6s 135us/sample - loss: 0.0813 - accuracy: 0.9786 - val_loss: 0.1130 - val_accuracy: 0.9743\n",
            "Epoch 10/10\n",
            "48000/48000 [==============================] - 7s 141us/sample - loss: 0.0769 - accuracy: 0.9791 - val_loss: 0.1124 - val_accuracy: 0.9749\n"
          ],
          "name": "stdout"
        },
        {
          "output_type": "execute_result",
          "data": {
            "text/plain": [
              "<tensorflow.python.keras.callbacks.History at 0x7fd1a5c403c8>"
            ]
          },
          "metadata": {
            "tags": []
          },
          "execution_count": 7
        }
      ]
    },
    {
      "cell_type": "markdown",
      "metadata": {
        "id": "GUMtejHELNzA"
      },
      "source": [
        "### Model"
      ]
    },
    {
      "cell_type": "code",
      "metadata": {
        "id": "a8_6klaXFy4e",
        "colab": {
          "base_uri": "https://localhost:8080/",
          "height": 87
        },
        "outputId": "26f94de5-7835-4ffa-ed82-c007243e84fb"
      },
      "source": [
        "# lista warstw w modelu\n",
        "model.layers"
      ],
      "execution_count": null,
      "outputs": [
        {
          "output_type": "execute_result",
          "data": {
            "text/plain": [
              "[<tensorflow.python.keras.layers.core.Flatten at 0x7fd1aaea2978>,\n",
              " <tensorflow.python.keras.layers.core.Dense at 0x7fd1aaea2710>,\n",
              " <tensorflow.python.keras.layers.core.Dropout at 0x7fd1aa647128>,\n",
              " <tensorflow.python.keras.layers.core.Dense at 0x7fd1aa647b70>]"
            ]
          },
          "metadata": {
            "tags": []
          },
          "execution_count": 8
        }
      ]
    },
    {
      "cell_type": "code",
      "metadata": {
        "id": "RH5-flGeGE65",
        "colab": {
          "base_uri": "https://localhost:8080/",
          "height": 35
        },
        "outputId": "f1d42d1c-146e-4c88-f148-6b3619da6426"
      },
      "source": [
        "# lista tensorów wejściowych do modelu\n",
        "model.inputs"
      ],
      "execution_count": null,
      "outputs": [
        {
          "output_type": "execute_result",
          "data": {
            "text/plain": [
              "[<tf.Tensor 'flatten_input:0' shape=(None, 28, 28) dtype=float32>]"
            ]
          },
          "metadata": {
            "tags": []
          },
          "execution_count": 9
        }
      ]
    },
    {
      "cell_type": "code",
      "metadata": {
        "id": "IQUNt0jBGOEo",
        "colab": {
          "base_uri": "https://localhost:8080/",
          "height": 35
        },
        "outputId": "7deed153-a8cb-4f06-f343-bbc113233faa"
      },
      "source": [
        "# lista tensorów wyjściowych z modelu\n",
        "model.outputs"
      ],
      "execution_count": null,
      "outputs": [
        {
          "output_type": "execute_result",
          "data": {
            "text/plain": [
              "[<tf.Tensor 'dense_1/Identity:0' shape=(None, 10) dtype=float32>]"
            ]
          },
          "metadata": {
            "tags": []
          },
          "execution_count": 10
        }
      ]
    },
    {
      "cell_type": "code",
      "metadata": {
        "id": "YndooAmHGde4",
        "colab": {
          "base_uri": "https://localhost:8080/",
          "height": 780
        },
        "outputId": "5eaaab15-9f1a-44a2-cb3c-f6c84240bf6a"
      },
      "source": [
        "# słownik zwierający konfigurację modelu\n",
        "model.get_config()"
      ],
      "execution_count": null,
      "outputs": [
        {
          "output_type": "execute_result",
          "data": {
            "text/plain": [
              "{'layers': [{'class_name': 'Flatten',\n",
              "   'config': {'batch_input_shape': (None, 28, 28),\n",
              "    'data_format': 'channels_last',\n",
              "    'dtype': 'float32',\n",
              "    'name': 'flatten',\n",
              "    'trainable': True}},\n",
              "  {'class_name': 'Dense',\n",
              "   'config': {'activation': 'relu',\n",
              "    'activity_regularizer': None,\n",
              "    'bias_constraint': None,\n",
              "    'bias_initializer': {'class_name': 'Zeros', 'config': {}},\n",
              "    'bias_regularizer': None,\n",
              "    'dtype': 'float32',\n",
              "    'kernel_constraint': None,\n",
              "    'kernel_initializer': {'class_name': 'GlorotUniform',\n",
              "     'config': {'seed': None}},\n",
              "    'kernel_regularizer': None,\n",
              "    'name': 'dense',\n",
              "    'trainable': True,\n",
              "    'units': 128,\n",
              "    'use_bias': True}},\n",
              "  {'class_name': 'Dropout',\n",
              "   'config': {'dtype': 'float32',\n",
              "    'name': 'dropout',\n",
              "    'noise_shape': None,\n",
              "    'rate': 0.2,\n",
              "    'seed': None,\n",
              "    'trainable': True}},\n",
              "  {'class_name': 'Dense',\n",
              "   'config': {'activation': 'softmax',\n",
              "    'activity_regularizer': None,\n",
              "    'bias_constraint': None,\n",
              "    'bias_initializer': {'class_name': 'Zeros', 'config': {}},\n",
              "    'bias_regularizer': None,\n",
              "    'dtype': 'float32',\n",
              "    'kernel_constraint': None,\n",
              "    'kernel_initializer': {'class_name': 'GlorotUniform',\n",
              "     'config': {'seed': None}},\n",
              "    'kernel_regularizer': None,\n",
              "    'name': 'dense_1',\n",
              "    'trainable': True,\n",
              "    'units': 10,\n",
              "    'use_bias': True}}],\n",
              " 'name': 'sequential'}"
            ]
          },
          "metadata": {
            "tags": []
          },
          "execution_count": 11
        }
      ]
    },
    {
      "cell_type": "code",
      "metadata": {
        "id": "fy3UQ-YkGlK6",
        "colab": {
          "base_uri": "https://localhost:8080/",
          "height": 971
        },
        "outputId": "2870d74c-1c73-48ba-86bb-a77739d5d3b7"
      },
      "source": [
        "# lista wszystkich tensorów wag\n",
        "model.get_weights()"
      ],
      "execution_count": null,
      "outputs": [
        {
          "output_type": "execute_result",
          "data": {
            "text/plain": [
              "[array([[-8.0534332e-02,  4.9073793e-02,  6.8839110e-02, ...,\n",
              "         -4.5877930e-02,  5.6988843e-02, -1.5042879e-02],\n",
              "        [ 6.5235607e-02,  1.3972543e-02,  8.0550589e-02, ...,\n",
              "         -1.6298085e-02,  2.9382996e-02,  6.2769748e-02],\n",
              "        [-8.2112849e-05, -2.7313009e-03, -6.8887159e-02, ...,\n",
              "          6.1214246e-02, -8.0839604e-02, -2.4869226e-02],\n",
              "        ...,\n",
              "        [-6.3338846e-02, -5.9828088e-03,  7.9776578e-02, ...,\n",
              "          4.3809757e-02,  4.0714778e-02, -7.2576448e-02],\n",
              "        [-2.6292022e-02, -7.9656392e-02,  7.7674724e-02, ...,\n",
              "         -7.3041998e-02, -1.2800984e-02, -1.7311186e-02],\n",
              "        [-3.0302905e-02,  4.8523121e-02,  1.9056059e-02, ...,\n",
              "         -4.3870520e-02, -3.7319206e-02,  7.2252281e-02]], dtype=float32),\n",
              " array([-0.27787903, -0.10394681, -0.3767363 , -0.10593744, -0.37356275,\n",
              "        -0.2403823 , -0.12796609, -0.02524007, -0.1785431 , -0.31907845,\n",
              "        -0.09980354, -0.18984625, -0.28501695, -0.08356757, -0.14215411,\n",
              "        -0.06293191, -0.1981858 , -0.43307343, -0.03236523, -0.16028361,\n",
              "        -0.17857137, -0.3790318 , -0.17322232, -0.42010644, -0.28860414,\n",
              "        -0.29877356,  0.01006361, -0.06011337, -0.39185575, -0.26667914,\n",
              "        -0.30304518,  0.04580876, -0.28662267, -0.16533211, -0.12485229,\n",
              "        -0.3597612 , -0.33650762, -0.1675412 , -0.09376794, -0.38749334,\n",
              "         0.03871492, -0.19866922, -0.22768213, -0.16655181, -0.15945312,\n",
              "        -0.28023577, -0.04243441, -0.09499627, -0.0266805 , -0.42462865,\n",
              "        -0.01888256, -0.24289918, -0.18868184, -0.03929492, -0.06117187,\n",
              "        -0.30952066, -0.1732413 , -0.11572495, -0.44549075, -0.04593978,\n",
              "        -0.13794155, -0.27771252, -0.5134392 , -0.05790061, -0.20928875,\n",
              "         0.04767168, -0.4193023 , -0.17416896, -0.0800987 , -0.15355036,\n",
              "        -0.36941716, -0.30259424, -0.3012758 , -0.31191316, -0.19886509,\n",
              "        -0.39592436,  0.01538505, -0.22934818, -0.00186977, -0.02381033,\n",
              "        -0.04112159, -0.05556123, -0.08895367, -0.39420334, -0.29481736,\n",
              "         0.06920038, -0.17218275, -0.5028952 , -0.16989008, -0.03306717,\n",
              "         0.11066075, -0.11742798, -0.3509929 , -0.22371371, -0.01091912,\n",
              "        -0.1287666 , -0.13813886, -0.1165093 , -0.16455157, -0.1668409 ,\n",
              "        -0.0319748 , -0.2165662 , -0.11938741, -0.20844585, -0.31483108,\n",
              "        -0.21415426, -0.07398527, -0.32140493, -0.23601818, -0.14791712,\n",
              "        -0.16958363, -0.17814703, -0.3588773 , -0.21494131, -0.07601736,\n",
              "        -0.05521153, -0.40659115, -0.06339373, -0.21206647, -0.23116255,\n",
              "        -0.15750538, -0.16771656, -0.24612935, -0.18461674, -0.29337108,\n",
              "        -0.16128589, -0.18088716, -0.17966737], dtype=float32),\n",
              " array([[-0.8083226 , -0.36234882,  0.3749348 , ...,  0.06604125,\n",
              "         -0.03533968, -1.3489337 ],\n",
              "        [-0.54136443, -0.8385788 , -0.29997513, ..., -1.2273105 ,\n",
              "         -0.6904463 , -1.032078  ],\n",
              "        [ 0.03771701, -1.7957122 , -0.21459267, ..., -0.04790118,\n",
              "         -0.21145964, -0.04675455],\n",
              "        ...,\n",
              "        [-0.20487571, -0.4028539 , -0.8318945 , ..., -0.41856843,\n",
              "          0.03910428,  0.00211237],\n",
              "        [-0.02277531, -1.2312068 , -0.86133885, ...,  0.18819542,\n",
              "         -0.23506439, -0.22388263],\n",
              "        [-1.4931756 ,  0.36823314, -0.5272125 , ...,  0.04606632,\n",
              "         -0.8218087 , -0.96828645]], dtype=float32),\n",
              " array([-0.09914167, -0.16762336, -0.22093716, -0.11509981, -0.08440155,\n",
              "        -0.11560792, -0.20599283, -0.01222912, -0.04102149, -0.03610575],\n",
              "       dtype=float32)]"
            ]
          },
          "metadata": {
            "tags": []
          },
          "execution_count": 12
        }
      ]
    },
    {
      "cell_type": "code",
      "metadata": {
        "id": "SXEvl0IIG0J8",
        "colab": {
          "base_uri": "https://localhost:8080/",
          "height": 35
        },
        "outputId": "3e84b8c3-6e50-4511-e919-55f6311d93f2"
      },
      "source": [
        "model.get_weights()[0].shape"
      ],
      "execution_count": null,
      "outputs": [
        {
          "output_type": "execute_result",
          "data": {
            "text/plain": [
              "(784, 128)"
            ]
          },
          "metadata": {
            "tags": []
          },
          "execution_count": 13
        }
      ]
    },
    {
      "cell_type": "code",
      "metadata": {
        "id": "rA7tCjJ9HBna",
        "colab": {
          "base_uri": "https://localhost:8080/",
          "height": 35
        },
        "outputId": "1b9b54ab-96fb-4eb2-94c3-2d87dd64091f"
      },
      "source": [
        "model.get_weights()[1].shape"
      ],
      "execution_count": null,
      "outputs": [
        {
          "output_type": "execute_result",
          "data": {
            "text/plain": [
              "(128,)"
            ]
          },
          "metadata": {
            "tags": []
          },
          "execution_count": 14
        }
      ]
    },
    {
      "cell_type": "code",
      "metadata": {
        "id": "T0J_y0KpHD1Z",
        "colab": {
          "base_uri": "https://localhost:8080/",
          "height": 35
        },
        "outputId": "41866207-4607-44f1-a66d-701510a58cfb"
      },
      "source": [
        "model.get_weights()[2].shape"
      ],
      "execution_count": null,
      "outputs": [
        {
          "output_type": "execute_result",
          "data": {
            "text/plain": [
              "(128, 10)"
            ]
          },
          "metadata": {
            "tags": []
          },
          "execution_count": 15
        }
      ]
    },
    {
      "cell_type": "code",
      "metadata": {
        "id": "_WfJ59IYHFdE",
        "colab": {
          "base_uri": "https://localhost:8080/",
          "height": 35
        },
        "outputId": "f062ce70-311e-48ec-cc41-a7909ecd9003"
      },
      "source": [
        "model.get_weights()[3].shape"
      ],
      "execution_count": null,
      "outputs": [
        {
          "output_type": "execute_result",
          "data": {
            "text/plain": [
              "(10,)"
            ]
          },
          "metadata": {
            "tags": []
          },
          "execution_count": 16
        }
      ]
    },
    {
      "cell_type": "markdown",
      "metadata": {
        "id": "3ATjZrQXIKvx"
      },
      "source": [
        "### *to_json()*"
      ]
    },
    {
      "cell_type": "code",
      "metadata": {
        "id": "J0WKD-HKHHtM",
        "colab": {
          "base_uri": "https://localhost:8080/",
          "height": 1000
        },
        "outputId": "197b054a-43fa-487d-c06b-6f1652d50839"
      },
      "source": [
        "model_json = model.to_json()\n",
        "\n",
        "import json\n",
        "parsed = json.loads(model_json)\n",
        "print(json.dumps(parsed, indent=4))"
      ],
      "execution_count": null,
      "outputs": [
        {
          "output_type": "stream",
          "text": [
            "{\n",
            "    \"class_name\": \"Sequential\",\n",
            "    \"config\": {\n",
            "        \"name\": \"sequential\",\n",
            "        \"layers\": [\n",
            "            {\n",
            "                \"class_name\": \"Flatten\",\n",
            "                \"config\": {\n",
            "                    \"name\": \"flatten\",\n",
            "                    \"trainable\": true,\n",
            "                    \"batch_input_shape\": [\n",
            "                        null,\n",
            "                        28,\n",
            "                        28\n",
            "                    ],\n",
            "                    \"dtype\": \"float32\",\n",
            "                    \"data_format\": \"channels_last\"\n",
            "                }\n",
            "            },\n",
            "            {\n",
            "                \"class_name\": \"Dense\",\n",
            "                \"config\": {\n",
            "                    \"name\": \"dense\",\n",
            "                    \"trainable\": true,\n",
            "                    \"dtype\": \"float32\",\n",
            "                    \"units\": 128,\n",
            "                    \"activation\": \"relu\",\n",
            "                    \"use_bias\": true,\n",
            "                    \"kernel_initializer\": {\n",
            "                        \"class_name\": \"GlorotUniform\",\n",
            "                        \"config\": {\n",
            "                            \"seed\": null\n",
            "                        }\n",
            "                    },\n",
            "                    \"bias_initializer\": {\n",
            "                        \"class_name\": \"Zeros\",\n",
            "                        \"config\": {}\n",
            "                    },\n",
            "                    \"kernel_regularizer\": null,\n",
            "                    \"bias_regularizer\": null,\n",
            "                    \"activity_regularizer\": null,\n",
            "                    \"kernel_constraint\": null,\n",
            "                    \"bias_constraint\": null\n",
            "                }\n",
            "            },\n",
            "            {\n",
            "                \"class_name\": \"Dropout\",\n",
            "                \"config\": {\n",
            "                    \"name\": \"dropout\",\n",
            "                    \"trainable\": true,\n",
            "                    \"dtype\": \"float32\",\n",
            "                    \"rate\": 0.2,\n",
            "                    \"noise_shape\": null,\n",
            "                    \"seed\": null\n",
            "                }\n",
            "            },\n",
            "            {\n",
            "                \"class_name\": \"Dense\",\n",
            "                \"config\": {\n",
            "                    \"name\": \"dense_1\",\n",
            "                    \"trainable\": true,\n",
            "                    \"dtype\": \"float32\",\n",
            "                    \"units\": 10,\n",
            "                    \"activation\": \"softmax\",\n",
            "                    \"use_bias\": true,\n",
            "                    \"kernel_initializer\": {\n",
            "                        \"class_name\": \"GlorotUniform\",\n",
            "                        \"config\": {\n",
            "                            \"seed\": null\n",
            "                        }\n",
            "                    },\n",
            "                    \"bias_initializer\": {\n",
            "                        \"class_name\": \"Zeros\",\n",
            "                        \"config\": {}\n",
            "                    },\n",
            "                    \"kernel_regularizer\": null,\n",
            "                    \"bias_regularizer\": null,\n",
            "                    \"activity_regularizer\": null,\n",
            "                    \"kernel_constraint\": null,\n",
            "                    \"bias_constraint\": null\n",
            "                }\n",
            "            }\n",
            "        ]\n",
            "    },\n",
            "    \"keras_version\": \"2.2.4-tf\",\n",
            "    \"backend\": \"tensorflow\"\n",
            "}\n"
          ],
          "name": "stdout"
        }
      ]
    },
    {
      "cell_type": "code",
      "metadata": {
        "id": "tSNM-VzWHl37",
        "colab": {
          "base_uri": "https://localhost:8080/",
          "height": 295
        },
        "outputId": "5e9056ea-08d8-41e7-e7b0-d28637713c9f"
      },
      "source": [
        "from tensorflow.keras.models import model_from_json\n",
        "\n",
        "model2 = model_from_json(model_json)\n",
        "model2.summary()"
      ],
      "execution_count": null,
      "outputs": [
        {
          "output_type": "stream",
          "text": [
            "Model: \"sequential\"\n",
            "_________________________________________________________________\n",
            "Layer (type)                 Output Shape              Param #   \n",
            "=================================================================\n",
            "flatten (Flatten)            (None, 784)               0         \n",
            "_________________________________________________________________\n",
            "dense (Dense)                (None, 128)               100480    \n",
            "_________________________________________________________________\n",
            "dropout (Dropout)            (None, 128)               0         \n",
            "_________________________________________________________________\n",
            "dense_1 (Dense)              (None, 10)                1290      \n",
            "=================================================================\n",
            "Total params: 101,770\n",
            "Trainable params: 101,770\n",
            "Non-trainable params: 0\n",
            "_________________________________________________________________\n"
          ],
          "name": "stdout"
        }
      ]
    },
    {
      "cell_type": "markdown",
      "metadata": {
        "id": "lfP7uGlIIlQ1"
      },
      "source": [
        "### *to_yaml()*"
      ]
    },
    {
      "cell_type": "code",
      "metadata": {
        "id": "tgbTFbJvIHMR",
        "colab": {
          "base_uri": "https://localhost:8080/",
          "height": 971
        },
        "outputId": "28cf0b95-43ab-4fb3-834b-d043fe9abcc5"
      },
      "source": [
        "model_yaml = model.to_yaml()\n",
        "print(model_yaml)"
      ],
      "execution_count": null,
      "outputs": [
        {
          "output_type": "stream",
          "text": [
            "backend: tensorflow\n",
            "class_name: Sequential\n",
            "config:\n",
            "  layers:\n",
            "  - class_name: Flatten\n",
            "    config:\n",
            "      batch_input_shape: !!python/tuple [null, 28, 28]\n",
            "      data_format: channels_last\n",
            "      dtype: float32\n",
            "      name: flatten\n",
            "      trainable: true\n",
            "  - class_name: Dense\n",
            "    config:\n",
            "      activation: relu\n",
            "      activity_regularizer: null\n",
            "      bias_constraint: null\n",
            "      bias_initializer:\n",
            "        class_name: Zeros\n",
            "        config: {}\n",
            "      bias_regularizer: null\n",
            "      dtype: float32\n",
            "      kernel_constraint: null\n",
            "      kernel_initializer:\n",
            "        class_name: GlorotUniform\n",
            "        config: {seed: null}\n",
            "      kernel_regularizer: null\n",
            "      name: dense\n",
            "      trainable: true\n",
            "      units: 128\n",
            "      use_bias: true\n",
            "  - class_name: Dropout\n",
            "    config: {dtype: float32, name: dropout, noise_shape: null, rate: 0.2, seed: null,\n",
            "      trainable: true}\n",
            "  - class_name: Dense\n",
            "    config:\n",
            "      activation: softmax\n",
            "      activity_regularizer: null\n",
            "      bias_constraint: null\n",
            "      bias_initializer:\n",
            "        class_name: Zeros\n",
            "        config: {}\n",
            "      bias_regularizer: null\n",
            "      dtype: float32\n",
            "      kernel_constraint: null\n",
            "      kernel_initializer:\n",
            "        class_name: GlorotUniform\n",
            "        config: {seed: null}\n",
            "      kernel_regularizer: null\n",
            "      name: dense_1\n",
            "      trainable: true\n",
            "      units: 10\n",
            "      use_bias: true\n",
            "  name: sequential\n",
            "keras_version: 2.2.4-tf\n",
            "\n"
          ],
          "name": "stdout"
        }
      ]
    },
    {
      "cell_type": "code",
      "metadata": {
        "id": "rG2Ax0YhISvw",
        "colab": {
          "base_uri": "https://localhost:8080/",
          "height": 295
        },
        "outputId": "5877c4ad-72ed-4c87-a5d2-24a0d00eada7"
      },
      "source": [
        "from tensorflow.keras.models import model_from_yaml\n",
        "\n",
        "model3 = model_from_yaml(model_yaml)\n",
        "model3.summary()"
      ],
      "execution_count": null,
      "outputs": [
        {
          "output_type": "stream",
          "text": [
            "Model: \"sequential\"\n",
            "_________________________________________________________________\n",
            "Layer (type)                 Output Shape              Param #   \n",
            "=================================================================\n",
            "flatten (Flatten)            (None, 784)               0         \n",
            "_________________________________________________________________\n",
            "dense (Dense)                (None, 128)               100480    \n",
            "_________________________________________________________________\n",
            "dropout (Dropout)            (None, 128)               0         \n",
            "_________________________________________________________________\n",
            "dense_1 (Dense)              (None, 10)                1290      \n",
            "=================================================================\n",
            "Total params: 101,770\n",
            "Trainable params: 101,770\n",
            "Non-trainable params: 0\n",
            "_________________________________________________________________\n"
          ],
          "name": "stdout"
        }
      ]
    },
    {
      "cell_type": "markdown",
      "metadata": {
        "id": "euHeJdPILRFf"
      },
      "source": [
        "### Warstwy"
      ]
    },
    {
      "cell_type": "code",
      "metadata": {
        "id": "zldniNPzIjhf",
        "colab": {
          "base_uri": "https://localhost:8080/",
          "height": 35
        },
        "outputId": "936099d0-fc4c-451d-f3fe-78d0ec3788d1"
      },
      "source": [
        "dense_layer = model.layers[1]\n",
        "dense_layer"
      ],
      "execution_count": null,
      "outputs": [
        {
          "output_type": "execute_result",
          "data": {
            "text/plain": [
              "<tensorflow.python.keras.layers.core.Dense at 0x7fd1aaea2710>"
            ]
          },
          "metadata": {
            "tags": []
          },
          "execution_count": 21
        }
      ]
    },
    {
      "cell_type": "code",
      "metadata": {
        "id": "li1Mrwh9LXsd",
        "colab": {
          "base_uri": "https://localhost:8080/",
          "height": 35
        },
        "outputId": "2dc10245-254c-42a4-e77a-44e3ce2d4027"
      },
      "source": [
        "dense_layer.input"
      ],
      "execution_count": null,
      "outputs": [
        {
          "output_type": "execute_result",
          "data": {
            "text/plain": [
              "<tf.Tensor 'flatten/Identity:0' shape=(None, 784) dtype=float32>"
            ]
          },
          "metadata": {
            "tags": []
          },
          "execution_count": 22
        }
      ]
    },
    {
      "cell_type": "code",
      "metadata": {
        "id": "KKpD9adNLoeM",
        "colab": {
          "base_uri": "https://localhost:8080/",
          "height": 35
        },
        "outputId": "79ca062e-9a86-4b95-afb9-a0b3d8bef219"
      },
      "source": [
        "dense_layer.input_shape"
      ],
      "execution_count": null,
      "outputs": [
        {
          "output_type": "execute_result",
          "data": {
            "text/plain": [
              "(None, 784)"
            ]
          },
          "metadata": {
            "tags": []
          },
          "execution_count": 23
        }
      ]
    },
    {
      "cell_type": "code",
      "metadata": {
        "id": "qGUY5sE2LmJO",
        "colab": {
          "base_uri": "https://localhost:8080/",
          "height": 35
        },
        "outputId": "f69651c9-8f4f-4b10-b825-7df1be65b615"
      },
      "source": [
        "dense_layer.output"
      ],
      "execution_count": null,
      "outputs": [
        {
          "output_type": "execute_result",
          "data": {
            "text/plain": [
              "<tf.Tensor 'dense/Identity:0' shape=(None, 128) dtype=float32>"
            ]
          },
          "metadata": {
            "tags": []
          },
          "execution_count": 24
        }
      ]
    },
    {
      "cell_type": "code",
      "metadata": {
        "id": "v2G4HnU_LtUU",
        "colab": {
          "base_uri": "https://localhost:8080/",
          "height": 35
        },
        "outputId": "6d793b82-352b-4293-ce18-59c26ff5d459"
      },
      "source": [
        "dense_layer.output_shape"
      ],
      "execution_count": null,
      "outputs": [
        {
          "output_type": "execute_result",
          "data": {
            "text/plain": [
              "(None, 128)"
            ]
          },
          "metadata": {
            "tags": []
          },
          "execution_count": 25
        }
      ]
    },
    {
      "cell_type": "code",
      "metadata": {
        "id": "C8i_OrOPXunH",
        "colab": {
          "base_uri": "https://localhost:8080/",
          "height": 35
        },
        "outputId": "e4c262e1-9845-42ae-fdff-618d7d7ba242"
      },
      "source": [
        "dense_layer.trainable"
      ],
      "execution_count": null,
      "outputs": [
        {
          "output_type": "execute_result",
          "data": {
            "text/plain": [
              "True"
            ]
          },
          "metadata": {
            "tags": []
          },
          "execution_count": 26
        }
      ]
    },
    {
      "cell_type": "markdown",
      "metadata": {
        "id": "JvlEFDUxM3k1"
      },
      "source": [
        "### Podstawowe rodzaje warstw\n",
        "* **Dense** - warstwa gęsto połączona, wynik operacji $output = activation(dot(input, weights) + bias)$\n",
        "* **Activation** - stosuje funkcję aktywacji\n",
        "* **Dropout** - porzuca wskazaną część neuronów w warstwie\n",
        "* **Flatten** - wypłaszcza dane wejściowe\n",
        "* **Input** - warstwa wejściowa, parametr *shape* określa rozmiar danych wejściowych"
      ]
    },
    {
      "cell_type": "code",
      "metadata": {
        "id": "Bwlg0MIBMERe",
        "colab": {
          "base_uri": "https://localhost:8080/",
          "height": 35
        },
        "outputId": "6d62e713-b86b-4565-cc7d-ca8f6504fed6"
      },
      "source": [
        "from tensorflow.keras.layers import Dense\n",
        "\n",
        "dense = Dense(units=1, activation='relu')\n",
        "dense"
      ],
      "execution_count": null,
      "outputs": [
        {
          "output_type": "execute_result",
          "data": {
            "text/plain": [
              "<tensorflow.python.keras.layers.core.Dense at 0x7fd1a46fe390>"
            ]
          },
          "metadata": {
            "tags": []
          },
          "execution_count": 27
        }
      ]
    },
    {
      "cell_type": "code",
      "metadata": {
        "id": "cY2cgjfzNB2O",
        "colab": {
          "base_uri": "https://localhost:8080/",
          "height": 35
        },
        "outputId": "711e7d0c-129e-4863-f0a0-0df33c49e03e"
      },
      "source": [
        "from tensorflow.keras.layers import Activation\n",
        "\n",
        "activation = Activation(activation='relu')\n",
        "activation"
      ],
      "execution_count": null,
      "outputs": [
        {
          "output_type": "execute_result",
          "data": {
            "text/plain": [
              "<tensorflow.python.keras.layers.core.Activation at 0x7fd1c3d4ecf8>"
            ]
          },
          "metadata": {
            "tags": []
          },
          "execution_count": 28
        }
      ]
    },
    {
      "cell_type": "code",
      "metadata": {
        "id": "rpKRRtpOOQ6R",
        "colab": {
          "base_uri": "https://localhost:8080/",
          "height": 35
        },
        "outputId": "2d81acb0-ac36-49d9-d2ad-775713fc3c26"
      },
      "source": [
        "from tensorflow.keras.layers import Dropout\n",
        "\n",
        "dropout = Dropout(rate=0.3)\n",
        "dropout"
      ],
      "execution_count": null,
      "outputs": [
        {
          "output_type": "execute_result",
          "data": {
            "text/plain": [
              "<tensorflow.python.keras.layers.core.Dropout at 0x7fd1a474b4e0>"
            ]
          },
          "metadata": {
            "tags": []
          },
          "execution_count": 29
        }
      ]
    },
    {
      "cell_type": "code",
      "metadata": {
        "id": "ddfbiZbWOkgx",
        "colab": {
          "base_uri": "https://localhost:8080/",
          "height": 35
        },
        "outputId": "a387fb7d-4113-46c2-ca4b-7fdd846e0c0a"
      },
      "source": [
        "from tensorflow.keras.layers import Flatten\n",
        "\n",
        "flatten = Flatten()\n",
        "flatten"
      ],
      "execution_count": null,
      "outputs": [
        {
          "output_type": "execute_result",
          "data": {
            "text/plain": [
              "<tensorflow.python.keras.layers.core.Flatten at 0x7fd1a474b908>"
            ]
          },
          "metadata": {
            "tags": []
          },
          "execution_count": 30
        }
      ]
    },
    {
      "cell_type": "code",
      "metadata": {
        "id": "OydKXqofO-Kb",
        "colab": {
          "base_uri": "https://localhost:8080/",
          "height": 35
        },
        "outputId": "c89b289f-26c2-447b-8592-0b33eb3102d6"
      },
      "source": [
        "from tensorflow.keras.layers import Input\n",
        "\n",
        "input = Input(shape=(150,))\n",
        "input"
      ],
      "execution_count": null,
      "outputs": [
        {
          "output_type": "execute_result",
          "data": {
            "text/plain": [
              "<tf.Tensor 'input_1:0' shape=(None, 150) dtype=float32>"
            ]
          },
          "metadata": {
            "tags": []
          },
          "execution_count": 31
        }
      ]
    },
    {
      "cell_type": "markdown",
      "metadata": {
        "id": "bcoSi5H2QACR"
      },
      "source": [
        "### Warstwy konwolucyjne + max pooling\n",
        "* **Conv1D** - 1D warstwa konwolucyjna\n",
        "* **Conv2D** - 2D warstwa konwolucyjna\n",
        "* **MaxPooling1D** - operacja max pooling 1D\n",
        "* **MaxPooling2D** - operacja max pooling 2D"
      ]
    },
    {
      "cell_type": "code",
      "metadata": {
        "id": "1aVhaU5OQDcx",
        "colab": {
          "base_uri": "https://localhost:8080/",
          "height": 35
        },
        "outputId": "f64ae39c-df4e-4f4a-b42b-2b58b54af2a0"
      },
      "source": [
        "from tensorflow.keras.layers import Conv1D\n",
        "\n",
        "# filters - liczba filtrów zastosowana na etapie konwolucji\n",
        "# kernel_size - długość okna konwolucji\n",
        "conv1d = Conv1D(filters=64, kernel_size=3)\n",
        "conv1d"
      ],
      "execution_count": null,
      "outputs": [
        {
          "output_type": "execute_result",
          "data": {
            "text/plain": [
              "<tensorflow.python.keras.layers.convolutional.Conv1D at 0x7fd1a475d940>"
            ]
          },
          "metadata": {
            "tags": []
          },
          "execution_count": 32
        }
      ]
    },
    {
      "cell_type": "code",
      "metadata": {
        "id": "S19G2l0mQk_S",
        "colab": {
          "base_uri": "https://localhost:8080/",
          "height": 35
        },
        "outputId": "9091ce96-c0a5-4790-ec1c-c6dcbaee602a"
      },
      "source": [
        "from tensorflow.keras.layers import Conv2D\n",
        "\n",
        "# filters - liczba filtrów zastosowana na etapie konwolucji\n",
        "# kernel_size - wielkość okna konwolucji\n",
        "conv2d = Conv2D(filters=64, kernel_size=(3, 3))\n",
        "conv2d"
      ],
      "execution_count": null,
      "outputs": [
        {
          "output_type": "execute_result",
          "data": {
            "text/plain": [
              "<tensorflow.python.keras.layers.convolutional.Conv2D at 0x7fd1a470d4a8>"
            ]
          },
          "metadata": {
            "tags": []
          },
          "execution_count": 33
        }
      ]
    },
    {
      "cell_type": "code",
      "metadata": {
        "id": "Om1DncmZRH4O",
        "colab": {
          "base_uri": "https://localhost:8080/",
          "height": 35
        },
        "outputId": "586b559c-b090-4ce8-fe02-ee04831be3a6"
      },
      "source": [
        "from tensorflow.keras.layers import MaxPooling1D\n",
        "\n",
        "# pool_size - rozmiar okna max pooling\n",
        "maxpooling1d = MaxPooling1D(pool_size=2)\n",
        "maxpooling1d"
      ],
      "execution_count": null,
      "outputs": [
        {
          "output_type": "execute_result",
          "data": {
            "text/plain": [
              "<tensorflow.python.keras.layers.pooling.MaxPooling1D at 0x7fd1a46fb860>"
            ]
          },
          "metadata": {
            "tags": []
          },
          "execution_count": 34
        }
      ]
    },
    {
      "cell_type": "code",
      "metadata": {
        "id": "VIRLPBZZRgd7",
        "colab": {
          "base_uri": "https://localhost:8080/",
          "height": 35
        },
        "outputId": "7b264cf9-ccd7-4f08-b21e-91f9d98cb999"
      },
      "source": [
        "from tensorflow.keras.layers import MaxPooling2D\n",
        "\n",
        "# pool_size - rozmiar okna max pooling\n",
        "maxpooling2d = MaxPooling2D(pool_size=(2, 2))\n",
        "maxpooling2d"
      ],
      "execution_count": null,
      "outputs": [
        {
          "output_type": "execute_result",
          "data": {
            "text/plain": [
              "<tensorflow.python.keras.layers.pooling.MaxPooling2D at 0x7fd1a470d908>"
            ]
          },
          "metadata": {
            "tags": []
          },
          "execution_count": 35
        }
      ]
    },
    {
      "cell_type": "markdown",
      "metadata": {
        "id": "sUmlAwyTTwrT"
      },
      "source": [
        "### Warstwy rekurencyjne\n",
        "* **RNN** - bazowa warstwa rekurencyjna\n",
        "* **SimpleRNN** - w pełni połączona warstwa rekurencyjna\n",
        "* **LSTM** - Long-Short-Term Memory"
      ]
    },
    {
      "cell_type": "code",
      "metadata": {
        "id": "WIEO64sgR76w"
      },
      "source": [
        "from tensorflow.keras.layers import RNN\n",
        "from tensorflow.keras.layers import SimpleRNN\n",
        "from tensorflow.keras.layers import LSTM"
      ],
      "execution_count": null,
      "outputs": []
    },
    {
      "cell_type": "markdown",
      "metadata": {
        "id": "8ZYDdGkfg356"
      },
      "source": [
        "### Warstwa osadzeń\n",
        "* **Embedding** - warstwa osadzeń, przekształca wartości całkowite na gęste wektory osadzeń. Stosowana tylko jako pierwsza warstwa modelu"
      ]
    },
    {
      "cell_type": "code",
      "metadata": {
        "id": "qulTBIaET-Oa"
      },
      "source": [
        "from tensorflow.keras.layers import Embedding\n",
        "\n",
        "# input_dim - rozmiar słownika, maksymalny indeks w słowniku + 1\n",
        "# output_dim - wymiar osazdenia\n",
        "# input_length - długość sekwencji, jeśli jest stała\n",
        "embedding = Embedding(input_dim=1000, output_dim=64, input_length=10)"
      ],
      "execution_count": null,
      "outputs": []
    },
    {
      "cell_type": "code",
      "metadata": {
        "id": "Od8KKVhkhKEm"
      },
      "source": [],
      "execution_count": null,
      "outputs": []
    }
  ]
}