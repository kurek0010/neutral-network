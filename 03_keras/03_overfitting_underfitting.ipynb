{
  "nbformat": 4,
  "nbformat_minor": 0,
  "metadata": {
    "colab": {
      "name": "Untitled0.ipynb",
      "provenance": [],
      "include_colab_link": true
    },
    "kernelspec": {
      "name": "python3",
      "display_name": "Python 3"
    }
  },
  "cells": [
    {
      "cell_type": "markdown",
      "metadata": {
        "id": "view-in-github",
        "colab_type": "text"
      },
      "source": [
        "<a href=\"https://colab.research.google.com/github/kurek0010/neutral-network/blob/main/03_keras/03_overfitting_underfitting.ipynb\" target=\"_parent\"><img src=\"https://colab.research.google.com/assets/colab-badge.svg\" alt=\"Open In Colab\"/></a>"
      ]
    },
    {
      "cell_type": "markdown",
      "metadata": {
        "id": "QIPYQe7RUjNh"
      },
      "source": [
        "* @author: krakowiakpawel9@gmail.com  \n",
        "* @site: e-smartdata.org"
      ]
    },
    {
      "cell_type": "markdown",
      "metadata": {
        "id": "5gjFu2l9IMsj"
      },
      "source": [
        "### Główne problemy uczenia maszynowego: przeuczenie (overfitting) oraz niedouczenie (underfitting)\n",
        "\n",
        ">Celem tego notebook'a jest pokazanie przykładów zbyt dobrego dopasowanie modelu do danych uczących (przeuczenie) oraz zbyt słabego dopasowania modelu do danych uczących (niedouczenie).\n",
        ">\n",
        ">Wykorzystamy zbiór z bilioteki Keras składający się z 50000 recenzji filmów oznaczonych sentymentem: pozytywny/negatywny. Recenzje są wstępnie przetworzone, a każda recenzja jest zakodowana jako sekwencja indeksów słów. Słowa są indeksowane według ogólnej częstotliwości w zbiorze danych. Na przykład liczba 5 oznacza piąte najczęściej pojawiające się słowo w danych. Liczba 0 nie oznacza określonego słowa.\n",
        "\n",
        "### Spis treści\n",
        "1. [Import bibliotek](#a1)\n",
        "2. [Załadowanie i przygotowanie danych](#a2)\n",
        "3. [Budowa modelu bazowego](#a3)\n",
        "4. [Budowa 'mniejszego' modelu](#a4)    \n",
        "5. [Budowa 'większego' modelu](#a5)\n",
        "6. [Porównanie wydajności modeli](#a6)\n",
        "7. [Metody regularyzacji](#a7)"
      ]
    },
    {
      "cell_type": "markdown",
      "metadata": {
        "id": "cri2nNhKnulf"
      },
      "source": [
        "### <a name='a1'></a> 1. Import bibliotek"
      ]
    },
    {
      "cell_type": "code",
      "metadata": {
        "id": "T1zNfzSGUnsH"
      },
      "source": [
        "# Przygotowanie środowiska do pracy z Tensorflow 2.0.\n",
        "# Jeśli otrzymasz błąd podczas instalacji Tensorflow uruchom tę komórkę raz jeszcze.\n",
        "\n",
        "!pip uninstall -y tensorflow\n",
        "!pip install -q tensorflow==2.0.0"
      ],
      "execution_count": null,
      "outputs": []
    },
    {
      "cell_type": "code",
      "metadata": {
        "id": "IqX0mhs4EXOo"
      },
      "source": [
        "import numpy as np\n",
        "import pandas as pd\n",
        "import matplotlib.pyplot as plt\n",
        "import seaborn as sns\n",
        "import pickle\n",
        "\n",
        "import tensorflow as tf\n",
        "from tensorflow.keras.datasets import imdb\n",
        "from tensorflow.keras.datasets.imdb import get_word_index\n",
        "from tensorflow.keras.utils import get_file\n",
        "from tensorflow.keras.models import Sequential\n",
        "from tensorflow.keras.layers import Dense\n",
        "\n",
        "sns.set()\n",
        "tf.__version__"
      ],
      "execution_count": null,
      "outputs": []
    },
    {
      "cell_type": "markdown",
      "metadata": {
        "id": "i2yxQLXlt1TF"
      },
      "source": [
        "### <a name='a2'></a> 2. Załadowanie i przygotowanie danych"
      ]
    },
    {
      "cell_type": "code",
      "metadata": {
        "id": "vtZaKvwvivjE"
      },
      "source": [
        "NUM_WORDS = 10000   # 10000 najczęściej pojawiających się słów\n",
        "INDEX_FROM = 3\n",
        "\n",
        "(train_data, train_labels), (test_data, test_labels) = imdb.load_data(num_words=NUM_WORDS, index_from=INDEX_FROM)"
      ],
      "execution_count": null,
      "outputs": []
    },
    {
      "cell_type": "code",
      "metadata": {
        "id": "BcjKpHzUlGmg",
        "colab": {
          "base_uri": "https://localhost:8080/",
          "height": 51
        },
        "outputId": "780ba191-8cca-440e-d3ee-a94e9c2588d6"
      },
      "source": [
        "print(f'train_data shape: {train_data.shape}')\n",
        "print(f'test_data shape: {test_data.shape}')"
      ],
      "execution_count": null,
      "outputs": [
        {
          "output_type": "stream",
          "text": [
            "train_data shape: (25000,)\n",
            "test_data shape: (25000,)\n"
          ],
          "name": "stdout"
        }
      ]
    },
    {
      "cell_type": "code",
      "metadata": {
        "id": "KMwYNwfFlJqb",
        "colab": {
          "base_uri": "https://localhost:8080/",
          "height": 54
        },
        "outputId": "8afec273-4c87-4bc2-a35e-1f729a3f3f7b"
      },
      "source": [
        "print(train_data[0])"
      ],
      "execution_count": null,
      "outputs": [
        {
          "output_type": "stream",
          "text": [
            "[1, 14, 22, 16, 43, 530, 973, 1622, 1385, 65, 458, 4468, 66, 3941, 4, 173, 36, 256, 5, 25, 100, 43, 838, 112, 50, 670, 2, 9, 35, 480, 284, 5, 150, 4, 172, 112, 167, 2, 336, 385, 39, 4, 172, 4536, 1111, 17, 546, 38, 13, 447, 4, 192, 50, 16, 6, 147, 2025, 19, 14, 22, 4, 1920, 4613, 469, 4, 22, 71, 87, 12, 16, 43, 530, 38, 76, 15, 13, 1247, 4, 22, 17, 515, 17, 12, 16, 626, 18, 2, 5, 62, 386, 12, 8, 316, 8, 106, 5, 4, 2223, 5244, 16, 480, 66, 3785, 33, 4, 130, 12, 16, 38, 619, 5, 25, 124, 51, 36, 135, 48, 25, 1415, 33, 6, 22, 12, 215, 28, 77, 52, 5, 14, 407, 16, 82, 2, 8, 4, 107, 117, 5952, 15, 256, 4, 2, 7, 3766, 5, 723, 36, 71, 43, 530, 476, 26, 400, 317, 46, 7, 4, 2, 1029, 13, 104, 88, 4, 381, 15, 297, 98, 32, 2071, 56, 26, 141, 6, 194, 7486, 18, 4, 226, 22, 21, 134, 476, 26, 480, 5, 144, 30, 5535, 18, 51, 36, 28, 224, 92, 25, 104, 4, 226, 65, 16, 38, 1334, 88, 12, 16, 283, 5, 16, 4472, 113, 103, 32, 15, 16, 5345, 19, 178, 32]\n"
          ],
          "name": "stdout"
        }
      ]
    },
    {
      "cell_type": "code",
      "metadata": {
        "id": "oXwGOxCxoctr",
        "colab": {
          "base_uri": "https://localhost:8080/",
          "height": 54
        },
        "outputId": "ebbf72c6-6ef7-4fb0-ad6b-d6901d5546b8"
      },
      "source": [
        "word_to_idx = get_word_index()\n",
        "word_to_idx = {k:(v + INDEX_FROM) for k, v in word_to_idx.items()}\n",
        "word_to_idx['<PAD>'] = 0\n",
        "word_to_idx['<START>'] = 1\n",
        "word_to_idx['<UNK>'] = 2\n",
        "word_to_idx['<UNUSED>'] = 3\n",
        "idx_to_word = {v: k for k, v in word_to_idx.items()}\n",
        "list(idx_to_word.items())[:10]\n",
        "print(' '.join(idx_to_word[idx] for idx in train_data[0]))\n"
      ],
      "execution_count": null,
      "outputs": [
        {
          "output_type": "stream",
          "text": [
            "<START> this film was just brilliant casting location scenery story direction everyone's really suited the part they played and you could just imagine being there robert <UNK> is an amazing actor and now the same being director <UNK> father came from the same scottish island as myself so i loved the fact there was a real connection with this film the witty remarks throughout the film were great it was just brilliant so much that i bought the film as soon as it was released for <UNK> and would recommend it to everyone to watch and the fly fishing was amazing really cried at the end it was so sad and you know what they say if you cry at a film it must have been good and this definitely was also <UNK> to the two little boy's that played the <UNK> of norman and paul they were just brilliant children are often left out of the <UNK> list i think because the stars that play them all grown up are such a big profile for the whole film but these children are amazing and should be praised for what they have done don't you think the whole story was so lovely because it was true and was someone's life after all that was shared with us all\n"
          ],
          "name": "stdout"
        }
      ]
    },
    {
      "cell_type": "code",
      "metadata": {
        "id": "_xk9cposwRLn",
        "colab": {
          "base_uri": "https://localhost:8080/",
          "height": 34
        },
        "outputId": "e6531387-a118-47c8-d45a-6eadb6e3bb2a"
      },
      "source": [
        "train_labels[:10]"
      ],
      "execution_count": null,
      "outputs": [
        {
          "output_type": "execute_result",
          "data": {
            "text/plain": [
              "array([1, 0, 0, 1, 0, 0, 1, 0, 1, 0])"
            ]
          },
          "metadata": {
            "tags": []
          },
          "execution_count": 7
        }
      ]
    },
    {
      "cell_type": "code",
      "metadata": {
        "id": "_gfaRdc1lb5t",
        "colab": {
          "base_uri": "https://localhost:8080/",
          "height": 34
        },
        "outputId": "3f2ea774-520b-497e-801b-2216ebf61207"
      },
      "source": [
        "def multi_hot_sequences(sequences, dimension):\n",
        "    results = np.zeros((len(sequences), dimension))\n",
        "    for i, word_indices in enumerate(sequences):\n",
        "        results[i, word_indices] = 1.0\n",
        "    return results\n",
        "\n",
        "train_data = multi_hot_sequences(train_data, dimension=NUM_WORDS)\n",
        "test_data = multi_hot_sequences(test_data, dimension=NUM_WORDS)\n",
        "train_data.shape"
      ],
      "execution_count": null,
      "outputs": [
        {
          "output_type": "execute_result",
          "data": {
            "text/plain": [
              "(25000, 10000)"
            ]
          },
          "metadata": {
            "tags": []
          },
          "execution_count": 8
        }
      ]
    },
    {
      "cell_type": "code",
      "metadata": {
        "id": "r-bMuwGogsyR",
        "colab": {
          "base_uri": "https://localhost:8080/",
          "height": 34
        },
        "outputId": "60e9623b-5b5f-443c-949a-c0323ae9d08b"
      },
      "source": [
        "test_data.shape"
      ],
      "execution_count": null,
      "outputs": [
        {
          "output_type": "execute_result",
          "data": {
            "text/plain": [
              "(25000, 10000)"
            ]
          },
          "metadata": {
            "tags": []
          },
          "execution_count": 9
        }
      ]
    },
    {
      "cell_type": "markdown",
      "metadata": {
        "id": "t_iRWKUpt_-u"
      },
      "source": [
        "### <a name='a3'></a> 3. Budowa modelu bazowego"
      ]
    },
    {
      "cell_type": "code",
      "metadata": {
        "id": "-0OZaNVamj3z",
        "colab": {
          "base_uri": "https://localhost:8080/",
          "height": 257
        },
        "outputId": "c25a7fee-dab4-4df9-f5a2-a43ccd44412b"
      },
      "source": [
        "baseline_model = Sequential()\n",
        "baseline_model.add(Dense(16, activation='relu', input_shape=(NUM_WORDS,)))\n",
        "baseline_model.add(Dense(16, activation='relu'))\n",
        "baseline_model.add(Dense(1, activation='sigmoid'))\n",
        "\n",
        "baseline_model.compile(optimizer='adam',\n",
        "                       loss='binary_crossentropy',\n",
        "                       metrics=['accuracy', 'binary_crossentropy'])\n",
        "\n",
        "baseline_model.summary()"
      ],
      "execution_count": null,
      "outputs": [
        {
          "output_type": "stream",
          "text": [
            "Model: \"sequential\"\n",
            "_________________________________________________________________\n",
            "Layer (type)                 Output Shape              Param #   \n",
            "=================================================================\n",
            "dense (Dense)                (None, 16)                160016    \n",
            "_________________________________________________________________\n",
            "dense_1 (Dense)              (None, 16)                272       \n",
            "_________________________________________________________________\n",
            "dense_2 (Dense)              (None, 1)                 17        \n",
            "=================================================================\n",
            "Total params: 160,305\n",
            "Trainable params: 160,305\n",
            "Non-trainable params: 0\n",
            "_________________________________________________________________\n"
          ],
          "name": "stdout"
        }
      ]
    },
    {
      "cell_type": "code",
      "metadata": {
        "id": "NE2qPSgQn_ss",
        "colab": {
          "base_uri": "https://localhost:8080/",
          "height": 740
        },
        "outputId": "39095bf5-7d74-41ae-fc37-e8305337e770"
      },
      "source": [
        "baseline_history = baseline_model.fit(train_data, train_labels, epochs=20, batch_size=512, validation_data=(test_data, test_labels))"
      ],
      "execution_count": null,
      "outputs": [
        {
          "output_type": "stream",
          "text": [
            "Train on 25000 samples, validate on 25000 samples\n",
            "Epoch 1/20\n",
            "25000/25000 [==============================] - 5s 216us/sample - loss: 0.5458 - accuracy: 0.7068 - binary_crossentropy: 0.5458 - val_loss: 0.3835 - val_accuracy: 0.8724 - val_binary_crossentropy: 0.3835\n",
            "Epoch 2/20\n",
            "25000/25000 [==============================] - 4s 142us/sample - loss: 0.2683 - accuracy: 0.9103 - binary_crossentropy: 0.2683 - val_loss: 0.2878 - val_accuracy: 0.8864 - val_binary_crossentropy: 0.2878\n",
            "Epoch 3/20\n",
            "25000/25000 [==============================] - 4s 144us/sample - loss: 0.1823 - accuracy: 0.9375 - binary_crossentropy: 0.1823 - val_loss: 0.2974 - val_accuracy: 0.8826 - val_binary_crossentropy: 0.2974\n",
            "Epoch 4/20\n",
            "25000/25000 [==============================] - 4s 142us/sample - loss: 0.1414 - accuracy: 0.9526 - binary_crossentropy: 0.1414 - val_loss: 0.3181 - val_accuracy: 0.8791 - val_binary_crossentropy: 0.3181\n",
            "Epoch 5/20\n",
            "25000/25000 [==============================] - 4s 141us/sample - loss: 0.1128 - accuracy: 0.9635 - binary_crossentropy: 0.1128 - val_loss: 0.3486 - val_accuracy: 0.8741 - val_binary_crossentropy: 0.3486\n",
            "Epoch 6/20\n",
            "25000/25000 [==============================] - 4s 141us/sample - loss: 0.0911 - accuracy: 0.9728 - binary_crossentropy: 0.0911 - val_loss: 0.3849 - val_accuracy: 0.8697 - val_binary_crossentropy: 0.3849\n",
            "Epoch 7/20\n",
            "25000/25000 [==============================] - 4s 143us/sample - loss: 0.0716 - accuracy: 0.9796 - binary_crossentropy: 0.0716 - val_loss: 0.4256 - val_accuracy: 0.8688 - val_binary_crossentropy: 0.4256\n",
            "Epoch 8/20\n",
            "25000/25000 [==============================] - 4s 140us/sample - loss: 0.0547 - accuracy: 0.9866 - binary_crossentropy: 0.0547 - val_loss: 0.4684 - val_accuracy: 0.8638 - val_binary_crossentropy: 0.4684\n",
            "Epoch 9/20\n",
            "25000/25000 [==============================] - 4s 141us/sample - loss: 0.0415 - accuracy: 0.9917 - binary_crossentropy: 0.0415 - val_loss: 0.5110 - val_accuracy: 0.8601 - val_binary_crossentropy: 0.5110\n",
            "Epoch 10/20\n",
            "25000/25000 [==============================] - 4s 141us/sample - loss: 0.0306 - accuracy: 0.9952 - binary_crossentropy: 0.0306 - val_loss: 0.5543 - val_accuracy: 0.8584 - val_binary_crossentropy: 0.5543\n",
            "Epoch 11/20\n",
            "25000/25000 [==============================] - 4s 143us/sample - loss: 0.0220 - accuracy: 0.9972 - binary_crossentropy: 0.0220 - val_loss: 0.5933 - val_accuracy: 0.8591 - val_binary_crossentropy: 0.5933\n",
            "Epoch 12/20\n",
            "25000/25000 [==============================] - 4s 141us/sample - loss: 0.0164 - accuracy: 0.9985 - binary_crossentropy: 0.0164 - val_loss: 0.6333 - val_accuracy: 0.8581 - val_binary_crossentropy: 0.6333\n",
            "Epoch 13/20\n",
            "25000/25000 [==============================] - 4s 142us/sample - loss: 0.0123 - accuracy: 0.9990 - binary_crossentropy: 0.0123 - val_loss: 0.6728 - val_accuracy: 0.8567 - val_binary_crossentropy: 0.6728\n",
            "Epoch 14/20\n",
            "25000/25000 [==============================] - 4s 142us/sample - loss: 0.0096 - accuracy: 0.9994 - binary_crossentropy: 0.0096 - val_loss: 0.7060 - val_accuracy: 0.8576 - val_binary_crossentropy: 0.7060\n",
            "Epoch 15/20\n",
            "25000/25000 [==============================] - 4s 142us/sample - loss: 0.0076 - accuracy: 0.9994 - binary_crossentropy: 0.0076 - val_loss: 0.7310 - val_accuracy: 0.8562 - val_binary_crossentropy: 0.7310\n",
            "Epoch 16/20\n",
            "25000/25000 [==============================] - 4s 141us/sample - loss: 0.0060 - accuracy: 0.9995 - binary_crossentropy: 0.0060 - val_loss: 0.7605 - val_accuracy: 0.8562 - val_binary_crossentropy: 0.7605\n",
            "Epoch 17/20\n",
            "25000/25000 [==============================] - 4s 142us/sample - loss: 0.0050 - accuracy: 0.9996 - binary_crossentropy: 0.0050 - val_loss: 0.7825 - val_accuracy: 0.8559 - val_binary_crossentropy: 0.7825\n",
            "Epoch 18/20\n",
            "25000/25000 [==============================] - 4s 142us/sample - loss: 0.0042 - accuracy: 0.9996 - binary_crossentropy: 0.0042 - val_loss: 0.8080 - val_accuracy: 0.8558 - val_binary_crossentropy: 0.8080\n",
            "Epoch 19/20\n",
            "25000/25000 [==============================] - 4s 141us/sample - loss: 0.0035 - accuracy: 0.9996 - binary_crossentropy: 0.0035 - val_loss: 0.8295 - val_accuracy: 0.8558 - val_binary_crossentropy: 0.8295\n",
            "Epoch 20/20\n",
            "25000/25000 [==============================] - 4s 144us/sample - loss: 0.0031 - accuracy: 0.9997 - binary_crossentropy: 0.0031 - val_loss: 0.8493 - val_accuracy: 0.8550 - val_binary_crossentropy: 0.8493\n"
          ],
          "name": "stdout"
        }
      ]
    },
    {
      "cell_type": "markdown",
      "metadata": {
        "id": "p-m0wWCsuILj"
      },
      "source": [
        "### <a name='a4'></a> 3. Budowa 'mniejszego' modelu"
      ]
    },
    {
      "cell_type": "code",
      "metadata": {
        "id": "vLnLXLxNoQFS",
        "colab": {
          "base_uri": "https://localhost:8080/",
          "height": 257
        },
        "outputId": "e19fa82a-11ee-403d-d30e-48ff6c06833c"
      },
      "source": [
        "smaller_model = Sequential()\n",
        "smaller_model.add(Dense(4, activation='relu', input_shape=(NUM_WORDS,)))\n",
        "smaller_model.add(Dense(4, activation='relu'))\n",
        "smaller_model.add(Dense(1, activation='sigmoid'))\n",
        "\n",
        "smaller_model.compile(optimizer='adam',\n",
        "                       loss='binary_crossentropy',\n",
        "                       metrics=['accuracy', 'binary_crossentropy'])\n",
        "\n",
        "smaller_model.summary()"
      ],
      "execution_count": null,
      "outputs": [
        {
          "output_type": "stream",
          "text": [
            "Model: \"sequential_1\"\n",
            "_________________________________________________________________\n",
            "Layer (type)                 Output Shape              Param #   \n",
            "=================================================================\n",
            "dense_3 (Dense)              (None, 4)                 40004     \n",
            "_________________________________________________________________\n",
            "dense_4 (Dense)              (None, 4)                 20        \n",
            "_________________________________________________________________\n",
            "dense_5 (Dense)              (None, 1)                 5         \n",
            "=================================================================\n",
            "Total params: 40,029\n",
            "Trainable params: 40,029\n",
            "Non-trainable params: 0\n",
            "_________________________________________________________________\n"
          ],
          "name": "stdout"
        }
      ]
    },
    {
      "cell_type": "code",
      "metadata": {
        "id": "l-VmkwMXpcUj",
        "colab": {
          "base_uri": "https://localhost:8080/",
          "height": 740
        },
        "outputId": "28a32791-b8ea-406c-e466-e7afe96b0cd2"
      },
      "source": [
        "smaller_history = smaller_model.fit(train_data, train_labels, epochs=20, batch_size=512, validation_data=(test_data, test_labels))"
      ],
      "execution_count": null,
      "outputs": [
        {
          "output_type": "stream",
          "text": [
            "Train on 25000 samples, validate on 25000 samples\n",
            "Epoch 1/20\n",
            "25000/25000 [==============================] - 4s 163us/sample - loss: 0.6270 - accuracy: 0.6866 - binary_crossentropy: 0.6270 - val_loss: 0.5127 - val_accuracy: 0.8469 - val_binary_crossentropy: 0.5127\n",
            "Epoch 2/20\n",
            "25000/25000 [==============================] - 3s 138us/sample - loss: 0.4015 - accuracy: 0.8791 - binary_crossentropy: 0.4015 - val_loss: 0.3628 - val_accuracy: 0.8756 - val_binary_crossentropy: 0.3628\n",
            "Epoch 3/20\n",
            "25000/25000 [==============================] - 3s 136us/sample - loss: 0.2876 - accuracy: 0.9090 - binary_crossentropy: 0.2876 - val_loss: 0.3102 - val_accuracy: 0.8848 - val_binary_crossentropy: 0.3102\n",
            "Epoch 4/20\n",
            "25000/25000 [==============================] - 3s 136us/sample - loss: 0.2335 - accuracy: 0.9238 - binary_crossentropy: 0.2335 - val_loss: 0.2897 - val_accuracy: 0.8874 - val_binary_crossentropy: 0.2897\n",
            "Epoch 5/20\n",
            "25000/25000 [==============================] - 3s 136us/sample - loss: 0.2001 - accuracy: 0.9339 - binary_crossentropy: 0.2001 - val_loss: 0.2834 - val_accuracy: 0.8876 - val_binary_crossentropy: 0.2834\n",
            "Epoch 6/20\n",
            "25000/25000 [==============================] - 3s 138us/sample - loss: 0.1765 - accuracy: 0.9414 - binary_crossentropy: 0.1765 - val_loss: 0.2858 - val_accuracy: 0.8862 - val_binary_crossentropy: 0.2858\n",
            "Epoch 7/20\n",
            "25000/25000 [==============================] - 3s 136us/sample - loss: 0.1588 - accuracy: 0.9483 - binary_crossentropy: 0.1588 - val_loss: 0.2875 - val_accuracy: 0.8855 - val_binary_crossentropy: 0.2875\n",
            "Epoch 8/20\n",
            "25000/25000 [==============================] - 3s 138us/sample - loss: 0.1428 - accuracy: 0.9544 - binary_crossentropy: 0.1428 - val_loss: 0.2959 - val_accuracy: 0.8828 - val_binary_crossentropy: 0.2959\n",
            "Epoch 9/20\n",
            "25000/25000 [==============================] - 3s 137us/sample - loss: 0.1306 - accuracy: 0.9587 - binary_crossentropy: 0.1306 - val_loss: 0.3030 - val_accuracy: 0.8820 - val_binary_crossentropy: 0.3030\n",
            "Epoch 10/20\n",
            "25000/25000 [==============================] - 3s 136us/sample - loss: 0.1196 - accuracy: 0.9624 - binary_crossentropy: 0.1196 - val_loss: 0.3149 - val_accuracy: 0.8794 - val_binary_crossentropy: 0.3149\n",
            "Epoch 11/20\n",
            "25000/25000 [==============================] - 3s 136us/sample - loss: 0.1094 - accuracy: 0.9663 - binary_crossentropy: 0.1094 - val_loss: 0.3254 - val_accuracy: 0.8782 - val_binary_crossentropy: 0.3254\n",
            "Epoch 12/20\n",
            "25000/25000 [==============================] - 3s 137us/sample - loss: 0.1006 - accuracy: 0.9696 - binary_crossentropy: 0.1006 - val_loss: 0.3400 - val_accuracy: 0.8749 - val_binary_crossentropy: 0.3400\n",
            "Epoch 13/20\n",
            "25000/25000 [==============================] - 3s 138us/sample - loss: 0.0928 - accuracy: 0.9728 - binary_crossentropy: 0.0928 - val_loss: 0.3542 - val_accuracy: 0.8729 - val_binary_crossentropy: 0.3542\n",
            "Epoch 14/20\n",
            "25000/25000 [==============================] - 3s 137us/sample - loss: 0.0852 - accuracy: 0.9762 - binary_crossentropy: 0.0852 - val_loss: 0.3673 - val_accuracy: 0.8714 - val_binary_crossentropy: 0.3673\n",
            "Epoch 15/20\n",
            "25000/25000 [==============================] - 3s 137us/sample - loss: 0.0787 - accuracy: 0.9792 - binary_crossentropy: 0.0787 - val_loss: 0.3832 - val_accuracy: 0.8699 - val_binary_crossentropy: 0.3832\n",
            "Epoch 16/20\n",
            "25000/25000 [==============================] - 3s 135us/sample - loss: 0.0725 - accuracy: 0.9823 - binary_crossentropy: 0.0725 - val_loss: 0.4014 - val_accuracy: 0.8674 - val_binary_crossentropy: 0.4014\n",
            "Epoch 17/20\n",
            "25000/25000 [==============================] - 3s 138us/sample - loss: 0.0675 - accuracy: 0.9837 - binary_crossentropy: 0.0675 - val_loss: 0.4163 - val_accuracy: 0.8678 - val_binary_crossentropy: 0.4163\n",
            "Epoch 18/20\n",
            "25000/25000 [==============================] - 3s 136us/sample - loss: 0.0613 - accuracy: 0.9865 - binary_crossentropy: 0.0613 - val_loss: 0.4334 - val_accuracy: 0.8656 - val_binary_crossentropy: 0.4334\n",
            "Epoch 19/20\n",
            "25000/25000 [==============================] - 3s 136us/sample - loss: 0.0565 - accuracy: 0.9886 - binary_crossentropy: 0.0565 - val_loss: 0.4532 - val_accuracy: 0.8635 - val_binary_crossentropy: 0.4532\n",
            "Epoch 20/20\n",
            "25000/25000 [==============================] - 3s 139us/sample - loss: 0.0519 - accuracy: 0.9903 - binary_crossentropy: 0.0519 - val_loss: 0.4720 - val_accuracy: 0.8621 - val_binary_crossentropy: 0.4720\n"
          ],
          "name": "stdout"
        }
      ]
    },
    {
      "cell_type": "markdown",
      "metadata": {
        "id": "syavjQj1uQ5l"
      },
      "source": [
        "### <a name='a5'></a> 4. Budowa 'większego' modelu"
      ]
    },
    {
      "cell_type": "code",
      "metadata": {
        "id": "B8ye7dUApiAt",
        "colab": {
          "base_uri": "https://localhost:8080/",
          "height": 257
        },
        "outputId": "316c30af-1a9f-4553-ad3e-c6f353c0f264"
      },
      "source": [
        "bigger_model = Sequential()\n",
        "bigger_model.add(Dense(512, activation='relu', input_shape=(NUM_WORDS,)))\n",
        "bigger_model.add(Dense(512, activation='relu'))\n",
        "bigger_model.add(Dense(1, activation='sigmoid'))\n",
        "\n",
        "bigger_model.compile(optimizer='adam',\n",
        "                       loss='binary_crossentropy',\n",
        "                       metrics=['accuracy', 'binary_crossentropy'])\n",
        "\n",
        "bigger_model.summary()"
      ],
      "execution_count": null,
      "outputs": [
        {
          "output_type": "stream",
          "text": [
            "Model: \"sequential_2\"\n",
            "_________________________________________________________________\n",
            "Layer (type)                 Output Shape              Param #   \n",
            "=================================================================\n",
            "dense_6 (Dense)              (None, 512)               5120512   \n",
            "_________________________________________________________________\n",
            "dense_7 (Dense)              (None, 512)               262656    \n",
            "_________________________________________________________________\n",
            "dense_8 (Dense)              (None, 1)                 513       \n",
            "=================================================================\n",
            "Total params: 5,383,681\n",
            "Trainable params: 5,383,681\n",
            "Non-trainable params: 0\n",
            "_________________________________________________________________\n"
          ],
          "name": "stdout"
        }
      ]
    },
    {
      "cell_type": "code",
      "metadata": {
        "id": "n9v8QJMEpqGT",
        "colab": {
          "base_uri": "https://localhost:8080/",
          "height": 740
        },
        "outputId": "576e169f-58e5-4668-e5db-871a57876dd6"
      },
      "source": [
        "bigger_history = bigger_model.fit(train_data, train_labels, epochs=20, batch_size=512, validation_data=(test_data, test_labels))"
      ],
      "execution_count": null,
      "outputs": [
        {
          "output_type": "stream",
          "text": [
            "Train on 25000 samples, validate on 25000 samples\n",
            "Epoch 1/20\n",
            "25000/25000 [==============================] - 14s 569us/sample - loss: 0.3545 - accuracy: 0.8424 - binary_crossentropy: 0.3545 - val_loss: 0.2978 - val_accuracy: 0.8783 - val_binary_crossentropy: 0.2978\n",
            "Epoch 2/20\n",
            "25000/25000 [==============================] - 14s 546us/sample - loss: 0.1400 - accuracy: 0.9486 - binary_crossentropy: 0.1400 - val_loss: 0.3267 - val_accuracy: 0.8751 - val_binary_crossentropy: 0.3267\n",
            "Epoch 3/20\n",
            "25000/25000 [==============================] - 14s 544us/sample - loss: 0.0442 - accuracy: 0.9862 - binary_crossentropy: 0.0442 - val_loss: 0.4309 - val_accuracy: 0.8660 - val_binary_crossentropy: 0.4309\n",
            "Epoch 4/20\n",
            "25000/25000 [==============================] - 14s 542us/sample - loss: 0.0057 - accuracy: 0.9993 - binary_crossentropy: 0.0057 - val_loss: 0.6070 - val_accuracy: 0.8684 - val_binary_crossentropy: 0.6070\n",
            "Epoch 5/20\n",
            "25000/25000 [==============================] - 14s 544us/sample - loss: 0.0013 - accuracy: 1.0000 - binary_crossentropy: 0.0013 - val_loss: 0.6762 - val_accuracy: 0.8700 - val_binary_crossentropy: 0.6762\n",
            "Epoch 6/20\n",
            "25000/25000 [==============================] - 14s 546us/sample - loss: 2.1109e-04 - accuracy: 1.0000 - binary_crossentropy: 2.1109e-04 - val_loss: 0.7255 - val_accuracy: 0.8700 - val_binary_crossentropy: 0.7255\n",
            "Epoch 7/20\n",
            "25000/25000 [==============================] - 14s 546us/sample - loss: 1.2888e-04 - accuracy: 1.0000 - binary_crossentropy: 1.2888e-04 - val_loss: 0.7573 - val_accuracy: 0.8695 - val_binary_crossentropy: 0.7573\n",
            "Epoch 8/20\n",
            "25000/25000 [==============================] - 14s 541us/sample - loss: 9.2233e-05 - accuracy: 1.0000 - binary_crossentropy: 9.2233e-05 - val_loss: 0.7804 - val_accuracy: 0.8696 - val_binary_crossentropy: 0.7804\n",
            "Epoch 9/20\n",
            "25000/25000 [==============================] - 14s 546us/sample - loss: 7.0401e-05 - accuracy: 1.0000 - binary_crossentropy: 7.0401e-05 - val_loss: 0.8005 - val_accuracy: 0.8698 - val_binary_crossentropy: 0.8005\n",
            "Epoch 10/20\n",
            "25000/25000 [==============================] - 14s 547us/sample - loss: 5.5507e-05 - accuracy: 1.0000 - binary_crossentropy: 5.5507e-05 - val_loss: 0.8177 - val_accuracy: 0.8699 - val_binary_crossentropy: 0.8177\n",
            "Epoch 11/20\n",
            "25000/25000 [==============================] - 14s 540us/sample - loss: 4.5113e-05 - accuracy: 1.0000 - binary_crossentropy: 4.5113e-05 - val_loss: 0.8328 - val_accuracy: 0.8699 - val_binary_crossentropy: 0.8328\n",
            "Epoch 12/20\n",
            "25000/25000 [==============================] - 14s 543us/sample - loss: 3.7283e-05 - accuracy: 1.0000 - binary_crossentropy: 3.7283e-05 - val_loss: 0.8473 - val_accuracy: 0.8700 - val_binary_crossentropy: 0.8473\n",
            "Epoch 13/20\n",
            "25000/25000 [==============================] - 14s 549us/sample - loss: 3.1302e-05 - accuracy: 1.0000 - binary_crossentropy: 3.1302e-05 - val_loss: 0.8600 - val_accuracy: 0.8701 - val_binary_crossentropy: 0.8600\n",
            "Epoch 14/20\n",
            "25000/25000 [==============================] - 14s 545us/sample - loss: 2.6625e-05 - accuracy: 1.0000 - binary_crossentropy: 2.6625e-05 - val_loss: 0.8720 - val_accuracy: 0.8702 - val_binary_crossentropy: 0.8720\n",
            "Epoch 15/20\n",
            "25000/25000 [==============================] - 14s 544us/sample - loss: 2.2882e-05 - accuracy: 1.0000 - binary_crossentropy: 2.2882e-05 - val_loss: 0.8828 - val_accuracy: 0.8700 - val_binary_crossentropy: 0.8828\n",
            "Epoch 16/20\n",
            "25000/25000 [==============================] - 14s 543us/sample - loss: 1.9852e-05 - accuracy: 1.0000 - binary_crossentropy: 1.9852e-05 - val_loss: 0.8939 - val_accuracy: 0.8700 - val_binary_crossentropy: 0.8939\n",
            "Epoch 17/20\n",
            "25000/25000 [==============================] - 14s 541us/sample - loss: 1.7344e-05 - accuracy: 1.0000 - binary_crossentropy: 1.7344e-05 - val_loss: 0.9034 - val_accuracy: 0.8701 - val_binary_crossentropy: 0.9034\n",
            "Epoch 18/20\n",
            "25000/25000 [==============================] - 14s 544us/sample - loss: 1.5271e-05 - accuracy: 1.0000 - binary_crossentropy: 1.5271e-05 - val_loss: 0.9131 - val_accuracy: 0.8702 - val_binary_crossentropy: 0.9131\n",
            "Epoch 19/20\n",
            "25000/25000 [==============================] - 14s 546us/sample - loss: 1.3507e-05 - accuracy: 1.0000 - binary_crossentropy: 1.3507e-05 - val_loss: 0.9223 - val_accuracy: 0.8701 - val_binary_crossentropy: 0.9223\n",
            "Epoch 20/20\n",
            "25000/25000 [==============================] - 14s 542us/sample - loss: 1.2020e-05 - accuracy: 1.0000 - binary_crossentropy: 1.2020e-05 - val_loss: 0.9310 - val_accuracy: 0.8700 - val_binary_crossentropy: 0.9310\n"
          ],
          "name": "stdout"
        }
      ]
    },
    {
      "cell_type": "code",
      "metadata": {
        "id": "JyVN8AuFqJn1",
        "colab": {
          "base_uri": "https://localhost:8080/",
          "height": 203
        },
        "outputId": "e30c7ea9-7320-469d-e59a-8c7da243048a"
      },
      "source": [
        "hist = pd.DataFrame(baseline_history.history)\n",
        "hist['epoch'] = baseline_history.epoch\n",
        "hist.head()"
      ],
      "execution_count": null,
      "outputs": [
        {
          "output_type": "execute_result",
          "data": {
            "text/html": [
              "<div>\n",
              "<style scoped>\n",
              "    .dataframe tbody tr th:only-of-type {\n",
              "        vertical-align: middle;\n",
              "    }\n",
              "\n",
              "    .dataframe tbody tr th {\n",
              "        vertical-align: top;\n",
              "    }\n",
              "\n",
              "    .dataframe thead th {\n",
              "        text-align: right;\n",
              "    }\n",
              "</style>\n",
              "<table border=\"1\" class=\"dataframe\">\n",
              "  <thead>\n",
              "    <tr style=\"text-align: right;\">\n",
              "      <th></th>\n",
              "      <th>loss</th>\n",
              "      <th>accuracy</th>\n",
              "      <th>binary_crossentropy</th>\n",
              "      <th>val_loss</th>\n",
              "      <th>val_accuracy</th>\n",
              "      <th>val_binary_crossentropy</th>\n",
              "      <th>epoch</th>\n",
              "    </tr>\n",
              "  </thead>\n",
              "  <tbody>\n",
              "    <tr>\n",
              "      <th>0</th>\n",
              "      <td>0.545835</td>\n",
              "      <td>0.70684</td>\n",
              "      <td>0.545835</td>\n",
              "      <td>0.383504</td>\n",
              "      <td>0.87244</td>\n",
              "      <td>0.383504</td>\n",
              "      <td>0</td>\n",
              "    </tr>\n",
              "    <tr>\n",
              "      <th>1</th>\n",
              "      <td>0.268264</td>\n",
              "      <td>0.91028</td>\n",
              "      <td>0.268264</td>\n",
              "      <td>0.287847</td>\n",
              "      <td>0.88636</td>\n",
              "      <td>0.287847</td>\n",
              "      <td>1</td>\n",
              "    </tr>\n",
              "    <tr>\n",
              "      <th>2</th>\n",
              "      <td>0.182265</td>\n",
              "      <td>0.93748</td>\n",
              "      <td>0.182265</td>\n",
              "      <td>0.297360</td>\n",
              "      <td>0.88264</td>\n",
              "      <td>0.297360</td>\n",
              "      <td>2</td>\n",
              "    </tr>\n",
              "    <tr>\n",
              "      <th>3</th>\n",
              "      <td>0.141434</td>\n",
              "      <td>0.95264</td>\n",
              "      <td>0.141434</td>\n",
              "      <td>0.318061</td>\n",
              "      <td>0.87908</td>\n",
              "      <td>0.318061</td>\n",
              "      <td>3</td>\n",
              "    </tr>\n",
              "    <tr>\n",
              "      <th>4</th>\n",
              "      <td>0.112782</td>\n",
              "      <td>0.96352</td>\n",
              "      <td>0.112782</td>\n",
              "      <td>0.348570</td>\n",
              "      <td>0.87408</td>\n",
              "      <td>0.348570</td>\n",
              "      <td>4</td>\n",
              "    </tr>\n",
              "  </tbody>\n",
              "</table>\n",
              "</div>"
            ],
            "text/plain": [
              "       loss  accuracy  ...  val_binary_crossentropy  epoch\n",
              "0  0.545835   0.70684  ...                 0.383504      0\n",
              "1  0.268264   0.91028  ...                 0.287847      1\n",
              "2  0.182265   0.93748  ...                 0.297360      2\n",
              "3  0.141434   0.95264  ...                 0.318061      3\n",
              "4  0.112782   0.96352  ...                 0.348570      4\n",
              "\n",
              "[5 rows x 7 columns]"
            ]
          },
          "metadata": {
            "tags": []
          },
          "execution_count": 16
        }
      ]
    },
    {
      "cell_type": "markdown",
      "metadata": {
        "id": "qrOXVS70ujJz"
      },
      "source": [
        "### <a name='a6'></a> 5. Porównanie wydajności modeli"
      ]
    },
    {
      "cell_type": "code",
      "metadata": {
        "id": "pxWvfp5_p2Ic",
        "colab": {
          "base_uri": "https://localhost:8080/",
          "height": 542
        },
        "outputId": "376c8b2a-1555-4e99-b016-6ad1e410ccae"
      },
      "source": [
        "import plotly.graph_objects as go\n",
        "\n",
        "fig = go.Figure()\n",
        "for name, history in zip(['smaller', 'baseline', 'bigger'], [smaller_history, baseline_history, bigger_history]):\n",
        "    hist = pd.DataFrame(history.history)\n",
        "    hist['epoch'] = history.epoch\n",
        "    fig.add_trace(go.Scatter(x=hist['epoch'], y=hist['binary_crossentropy'], name=name + '_binary_crossentropy', mode='lines+markers'))\n",
        "    fig.add_trace(go.Scatter(x=hist['epoch'], y=hist['val_binary_crossentropy'], name=name + '_val_binary_crossentropy', mode='lines+markers'))\n",
        "    fig.update_layout(xaxis_title='Epoki', yaxis_title='binary_crossentropy')\n",
        "fig.show()"
      ],
      "execution_count": null,
      "outputs": [
        {
          "output_type": "display_data",
          "data": {
            "text/html": [
              "<html>\n",
              "<head><meta charset=\"utf-8\" /></head>\n",
              "<body>\n",
              "    <div>\n",
              "            <script src=\"https://cdnjs.cloudflare.com/ajax/libs/mathjax/2.7.5/MathJax.js?config=TeX-AMS-MML_SVG\"></script><script type=\"text/javascript\">if (window.MathJax) {MathJax.Hub.Config({SVG: {font: \"STIX-Web\"}});}</script>\n",
              "                <script type=\"text/javascript\">window.PlotlyConfig = {MathJaxConfig: 'local'};</script>\n",
              "        <script src=\"https://cdn.plot.ly/plotly-latest.min.js\"></script>    \n",
              "            <div id=\"e665a827-6187-408d-8121-648b6911109e\" class=\"plotly-graph-div\" style=\"height:525px; width:100%;\"></div>\n",
              "            <script type=\"text/javascript\">\n",
              "                \n",
              "                    window.PLOTLYENV=window.PLOTLYENV || {};\n",
              "                    \n",
              "                if (document.getElementById(\"e665a827-6187-408d-8121-648b6911109e\")) {\n",
              "                    Plotly.newPlot(\n",
              "                        'e665a827-6187-408d-8121-648b6911109e',\n",
              "                        [{\"mode\": \"lines+markers\", \"name\": \"smaller_binary_crossentropy\", \"type\": \"scatter\", \"x\": [0, 1, 2, 3, 4, 5, 6, 7, 8, 9, 10, 11, 12, 13, 14, 15, 16, 17, 18, 19], \"y\": [0.6269938945770264, 0.40150558948516846, 0.2876449525356293, 0.23354916274547577, 0.20014718174934387, 0.1765139251947403, 0.15875613689422607, 0.1427670121192932, 0.13064607977867126, 0.119614377617836, 0.10944947600364685, 0.10063697397708893, 0.09284675866365433, 0.0852215513586998, 0.07873111963272095, 0.07251236587762833, 0.06751058995723724, 0.0613323450088501, 0.05646732077002525, 0.05188623070716858]}, {\"mode\": \"lines+markers\", \"name\": \"smaller_val_binary_crossentropy\", \"type\": \"scatter\", \"x\": [0, 1, 2, 3, 4, 5, 6, 7, 8, 9, 10, 11, 12, 13, 14, 15, 16, 17, 18, 19], \"y\": [0.5127329230308533, 0.3627859652042389, 0.31018054485321045, 0.2896961271762848, 0.283409059047699, 0.285758912563324, 0.2874601185321808, 0.2958946228027344, 0.3030065596103668, 0.31489095091819763, 0.32540178298950195, 0.3400014340877533, 0.35417282581329346, 0.36732766032218933, 0.38324734568595886, 0.40137043595314026, 0.4162774682044983, 0.4333968460559845, 0.45322930812835693, 0.47200915217399597]}, {\"mode\": \"lines+markers\", \"name\": \"baseline_binary_crossentropy\", \"type\": \"scatter\", \"x\": [0, 1, 2, 3, 4, 5, 6, 7, 8, 9, 10, 11, 12, 13, 14, 15, 16, 17, 18, 19], \"y\": [0.5458354949951172, 0.26826393604278564, 0.1822649985551834, 0.1414341777563095, 0.11278166621923447, 0.0911192074418068, 0.07160792499780655, 0.0546804741024971, 0.041487645357847214, 0.030638523399829865, 0.02204114757478237, 0.01638774201273918, 0.012271338142454624, 0.009571004658937454, 0.0075669861398637295, 0.006049825344234705, 0.004959026351571083, 0.004168597981333733, 0.0035497217904776335, 0.003055641194805503]}, {\"mode\": \"lines+markers\", \"name\": \"baseline_val_binary_crossentropy\", \"type\": \"scatter\", \"x\": [0, 1, 2, 3, 4, 5, 6, 7, 8, 9, 10, 11, 12, 13, 14, 15, 16, 17, 18, 19], \"y\": [0.38350436091423035, 0.28784722089767456, 0.2973597049713135, 0.31806132197380066, 0.3485700488090515, 0.3848962187767029, 0.4256404638290405, 0.46835967898368835, 0.5109506845474243, 0.5542826056480408, 0.5933274030685425, 0.6333171725273132, 0.6727849841117859, 0.7060239315032959, 0.7309925556182861, 0.7605109214782715, 0.7825473546981812, 0.807994544506073, 0.8294788002967834, 0.8493474125862122]}, {\"mode\": \"lines+markers\", \"name\": \"bigger_binary_crossentropy\", \"type\": \"scatter\", \"x\": [0, 1, 2, 3, 4, 5, 6, 7, 8, 9, 10, 11, 12, 13, 14, 15, 16, 17, 18, 19], \"y\": [0.35446304082870483, 0.13999857008457184, 0.04415642097592354, 0.005710271652787924, 0.0012598007451742887, 0.00021108704095240682, 0.00012887964840047061, 9.223310189554468e-05, 7.040116179268807e-05, 5.5507458455394953e-05, 4.511264341999777e-05, 3.72834037989378e-05, 3.130182085442357e-05, 2.6624520614859648e-05, 2.2882439225213602e-05, 1.9851951947202906e-05, 1.734351462800987e-05, 1.5271401935024187e-05, 1.3507063158613164e-05, 1.2020464055240154e-05]}, {\"mode\": \"lines+markers\", \"name\": \"bigger_val_binary_crossentropy\", \"type\": \"scatter\", \"x\": [0, 1, 2, 3, 4, 5, 6, 7, 8, 9, 10, 11, 12, 13, 14, 15, 16, 17, 18, 19], \"y\": [0.2978200614452362, 0.3266540765762329, 0.4309459328651428, 0.607038140296936, 0.676164984703064, 0.725471019744873, 0.7573320865631104, 0.7803921699523926, 0.8005090355873108, 0.8177086710929871, 0.8327672481536865, 0.8473414778709412, 0.8599514961242676, 0.8720406889915466, 0.8827834129333496, 0.8939330577850342, 0.9034488797187805, 0.9130979776382446, 0.9223102331161499, 0.9309704899787903]}],\n",
              "                        {\"template\": {\"data\": {\"bar\": [{\"error_x\": {\"color\": \"#2a3f5f\"}, \"error_y\": {\"color\": \"#2a3f5f\"}, \"marker\": {\"line\": {\"color\": \"#E5ECF6\", \"width\": 0.5}}, \"type\": \"bar\"}], \"barpolar\": [{\"marker\": {\"line\": {\"color\": \"#E5ECF6\", \"width\": 0.5}}, \"type\": \"barpolar\"}], \"carpet\": [{\"aaxis\": {\"endlinecolor\": \"#2a3f5f\", \"gridcolor\": \"white\", \"linecolor\": \"white\", \"minorgridcolor\": \"white\", \"startlinecolor\": \"#2a3f5f\"}, \"baxis\": {\"endlinecolor\": \"#2a3f5f\", \"gridcolor\": \"white\", \"linecolor\": \"white\", \"minorgridcolor\": \"white\", \"startlinecolor\": \"#2a3f5f\"}, \"type\": \"carpet\"}], \"choropleth\": [{\"colorbar\": {\"outlinewidth\": 0, \"ticks\": \"\"}, \"type\": \"choropleth\"}], \"contour\": [{\"colorbar\": {\"outlinewidth\": 0, \"ticks\": \"\"}, \"colorscale\": [[0.0, \"#0d0887\"], [0.1111111111111111, \"#46039f\"], [0.2222222222222222, \"#7201a8\"], [0.3333333333333333, \"#9c179e\"], [0.4444444444444444, \"#bd3786\"], [0.5555555555555556, \"#d8576b\"], [0.6666666666666666, \"#ed7953\"], [0.7777777777777778, \"#fb9f3a\"], [0.8888888888888888, \"#fdca26\"], [1.0, \"#f0f921\"]], \"type\": \"contour\"}], \"contourcarpet\": [{\"colorbar\": {\"outlinewidth\": 0, \"ticks\": \"\"}, \"type\": \"contourcarpet\"}], \"heatmap\": [{\"colorbar\": {\"outlinewidth\": 0, \"ticks\": \"\"}, \"colorscale\": [[0.0, \"#0d0887\"], [0.1111111111111111, \"#46039f\"], [0.2222222222222222, \"#7201a8\"], [0.3333333333333333, \"#9c179e\"], [0.4444444444444444, \"#bd3786\"], [0.5555555555555556, \"#d8576b\"], [0.6666666666666666, \"#ed7953\"], [0.7777777777777778, \"#fb9f3a\"], [0.8888888888888888, \"#fdca26\"], [1.0, \"#f0f921\"]], \"type\": \"heatmap\"}], \"heatmapgl\": [{\"colorbar\": {\"outlinewidth\": 0, \"ticks\": \"\"}, \"colorscale\": [[0.0, \"#0d0887\"], [0.1111111111111111, \"#46039f\"], [0.2222222222222222, \"#7201a8\"], [0.3333333333333333, \"#9c179e\"], [0.4444444444444444, \"#bd3786\"], [0.5555555555555556, \"#d8576b\"], [0.6666666666666666, \"#ed7953\"], [0.7777777777777778, \"#fb9f3a\"], [0.8888888888888888, \"#fdca26\"], [1.0, \"#f0f921\"]], \"type\": \"heatmapgl\"}], \"histogram\": [{\"marker\": {\"colorbar\": {\"outlinewidth\": 0, \"ticks\": \"\"}}, \"type\": \"histogram\"}], \"histogram2d\": [{\"colorbar\": {\"outlinewidth\": 0, \"ticks\": \"\"}, \"colorscale\": [[0.0, \"#0d0887\"], [0.1111111111111111, \"#46039f\"], [0.2222222222222222, \"#7201a8\"], [0.3333333333333333, \"#9c179e\"], [0.4444444444444444, \"#bd3786\"], [0.5555555555555556, \"#d8576b\"], [0.6666666666666666, \"#ed7953\"], [0.7777777777777778, \"#fb9f3a\"], [0.8888888888888888, \"#fdca26\"], [1.0, \"#f0f921\"]], \"type\": \"histogram2d\"}], \"histogram2dcontour\": [{\"colorbar\": {\"outlinewidth\": 0, \"ticks\": \"\"}, \"colorscale\": [[0.0, \"#0d0887\"], [0.1111111111111111, \"#46039f\"], [0.2222222222222222, \"#7201a8\"], [0.3333333333333333, \"#9c179e\"], [0.4444444444444444, \"#bd3786\"], [0.5555555555555556, \"#d8576b\"], [0.6666666666666666, \"#ed7953\"], [0.7777777777777778, \"#fb9f3a\"], [0.8888888888888888, \"#fdca26\"], [1.0, \"#f0f921\"]], \"type\": \"histogram2dcontour\"}], \"mesh3d\": [{\"colorbar\": {\"outlinewidth\": 0, \"ticks\": \"\"}, \"type\": \"mesh3d\"}], \"parcoords\": [{\"line\": {\"colorbar\": {\"outlinewidth\": 0, \"ticks\": \"\"}}, \"type\": \"parcoords\"}], \"scatter\": [{\"marker\": {\"colorbar\": {\"outlinewidth\": 0, \"ticks\": \"\"}}, \"type\": \"scatter\"}], \"scatter3d\": [{\"line\": {\"colorbar\": {\"outlinewidth\": 0, \"ticks\": \"\"}}, \"marker\": {\"colorbar\": {\"outlinewidth\": 0, \"ticks\": \"\"}}, \"type\": \"scatter3d\"}], \"scattercarpet\": [{\"marker\": {\"colorbar\": {\"outlinewidth\": 0, \"ticks\": \"\"}}, \"type\": \"scattercarpet\"}], \"scattergeo\": [{\"marker\": {\"colorbar\": {\"outlinewidth\": 0, \"ticks\": \"\"}}, \"type\": \"scattergeo\"}], \"scattergl\": [{\"marker\": {\"colorbar\": {\"outlinewidth\": 0, \"ticks\": \"\"}}, \"type\": \"scattergl\"}], \"scattermapbox\": [{\"marker\": {\"colorbar\": {\"outlinewidth\": 0, \"ticks\": \"\"}}, \"type\": \"scattermapbox\"}], \"scatterpolar\": [{\"marker\": {\"colorbar\": {\"outlinewidth\": 0, \"ticks\": \"\"}}, \"type\": \"scatterpolar\"}], \"scatterpolargl\": [{\"marker\": {\"colorbar\": {\"outlinewidth\": 0, \"ticks\": \"\"}}, \"type\": \"scatterpolargl\"}], \"scatterternary\": [{\"marker\": {\"colorbar\": {\"outlinewidth\": 0, \"ticks\": \"\"}}, \"type\": \"scatterternary\"}], \"surface\": [{\"colorbar\": {\"outlinewidth\": 0, \"ticks\": \"\"}, \"colorscale\": [[0.0, \"#0d0887\"], [0.1111111111111111, \"#46039f\"], [0.2222222222222222, \"#7201a8\"], [0.3333333333333333, \"#9c179e\"], [0.4444444444444444, \"#bd3786\"], [0.5555555555555556, \"#d8576b\"], [0.6666666666666666, \"#ed7953\"], [0.7777777777777778, \"#fb9f3a\"], [0.8888888888888888, \"#fdca26\"], [1.0, \"#f0f921\"]], \"type\": \"surface\"}], \"table\": [{\"cells\": {\"fill\": {\"color\": \"#EBF0F8\"}, \"line\": {\"color\": \"white\"}}, \"header\": {\"fill\": {\"color\": \"#C8D4E3\"}, \"line\": {\"color\": \"white\"}}, \"type\": \"table\"}]}, \"layout\": {\"annotationdefaults\": {\"arrowcolor\": \"#2a3f5f\", \"arrowhead\": 0, \"arrowwidth\": 1}, \"colorscale\": {\"diverging\": [[0, \"#8e0152\"], [0.1, \"#c51b7d\"], [0.2, \"#de77ae\"], [0.3, \"#f1b6da\"], [0.4, \"#fde0ef\"], [0.5, \"#f7f7f7\"], [0.6, \"#e6f5d0\"], [0.7, \"#b8e186\"], [0.8, \"#7fbc41\"], [0.9, \"#4d9221\"], [1, \"#276419\"]], \"sequential\": [[0.0, \"#0d0887\"], [0.1111111111111111, \"#46039f\"], [0.2222222222222222, \"#7201a8\"], [0.3333333333333333, \"#9c179e\"], [0.4444444444444444, \"#bd3786\"], [0.5555555555555556, \"#d8576b\"], [0.6666666666666666, \"#ed7953\"], [0.7777777777777778, \"#fb9f3a\"], [0.8888888888888888, \"#fdca26\"], [1.0, \"#f0f921\"]], \"sequentialminus\": [[0.0, \"#0d0887\"], [0.1111111111111111, \"#46039f\"], [0.2222222222222222, \"#7201a8\"], [0.3333333333333333, \"#9c179e\"], [0.4444444444444444, \"#bd3786\"], [0.5555555555555556, \"#d8576b\"], [0.6666666666666666, \"#ed7953\"], [0.7777777777777778, \"#fb9f3a\"], [0.8888888888888888, \"#fdca26\"], [1.0, \"#f0f921\"]]}, \"colorway\": [\"#636efa\", \"#EF553B\", \"#00cc96\", \"#ab63fa\", \"#FFA15A\", \"#19d3f3\", \"#FF6692\", \"#B6E880\", \"#FF97FF\", \"#FECB52\"], \"font\": {\"color\": \"#2a3f5f\"}, \"geo\": {\"bgcolor\": \"white\", \"lakecolor\": \"white\", \"landcolor\": \"#E5ECF6\", \"showlakes\": true, \"showland\": true, \"subunitcolor\": \"white\"}, \"hoverlabel\": {\"align\": \"left\"}, \"hovermode\": \"closest\", \"mapbox\": {\"style\": \"light\"}, \"paper_bgcolor\": \"white\", \"plot_bgcolor\": \"#E5ECF6\", \"polar\": {\"angularaxis\": {\"gridcolor\": \"white\", \"linecolor\": \"white\", \"ticks\": \"\"}, \"bgcolor\": \"#E5ECF6\", \"radialaxis\": {\"gridcolor\": \"white\", \"linecolor\": \"white\", \"ticks\": \"\"}}, \"scene\": {\"xaxis\": {\"backgroundcolor\": \"#E5ECF6\", \"gridcolor\": \"white\", \"gridwidth\": 2, \"linecolor\": \"white\", \"showbackground\": true, \"ticks\": \"\", \"zerolinecolor\": \"white\"}, \"yaxis\": {\"backgroundcolor\": \"#E5ECF6\", \"gridcolor\": \"white\", \"gridwidth\": 2, \"linecolor\": \"white\", \"showbackground\": true, \"ticks\": \"\", \"zerolinecolor\": \"white\"}, \"zaxis\": {\"backgroundcolor\": \"#E5ECF6\", \"gridcolor\": \"white\", \"gridwidth\": 2, \"linecolor\": \"white\", \"showbackground\": true, \"ticks\": \"\", \"zerolinecolor\": \"white\"}}, \"shapedefaults\": {\"line\": {\"color\": \"#2a3f5f\"}}, \"ternary\": {\"aaxis\": {\"gridcolor\": \"white\", \"linecolor\": \"white\", \"ticks\": \"\"}, \"baxis\": {\"gridcolor\": \"white\", \"linecolor\": \"white\", \"ticks\": \"\"}, \"bgcolor\": \"#E5ECF6\", \"caxis\": {\"gridcolor\": \"white\", \"linecolor\": \"white\", \"ticks\": \"\"}}, \"title\": {\"x\": 0.05}, \"xaxis\": {\"automargin\": true, \"gridcolor\": \"white\", \"linecolor\": \"white\", \"ticks\": \"\", \"zerolinecolor\": \"white\", \"zerolinewidth\": 2}, \"yaxis\": {\"automargin\": true, \"gridcolor\": \"white\", \"linecolor\": \"white\", \"ticks\": \"\", \"zerolinecolor\": \"white\", \"zerolinewidth\": 2}}}, \"xaxis\": {\"title\": {\"text\": \"Epoki\"}}, \"yaxis\": {\"title\": {\"text\": \"binary_crossentropy\"}}},\n",
              "                        {\"responsive\": true}\n",
              "                    ).then(function(){\n",
              "                            \n",
              "var gd = document.getElementById('e665a827-6187-408d-8121-648b6911109e');\n",
              "var x = new MutationObserver(function (mutations, observer) {{\n",
              "        var display = window.getComputedStyle(gd).display;\n",
              "        if (!display || display === 'none') {{\n",
              "            console.log([gd, 'removed!']);\n",
              "            Plotly.purge(gd);\n",
              "            observer.disconnect();\n",
              "        }}\n",
              "}});\n",
              "\n",
              "// Listen for the removal of the full notebook cells\n",
              "var notebookContainer = gd.closest('#notebook-container');\n",
              "if (notebookContainer) {{\n",
              "    x.observe(notebookContainer, {childList: true});\n",
              "}}\n",
              "\n",
              "// Listen for the clearing of the current output cell\n",
              "var outputEl = gd.closest('.output');\n",
              "if (outputEl) {{\n",
              "    x.observe(outputEl, {childList: true});\n",
              "}}\n",
              "\n",
              "                        })\n",
              "                };\n",
              "                \n",
              "            </script>\n",
              "        </div>\n",
              "</body>\n",
              "</html>"
            ]
          },
          "metadata": {
            "tags": []
          }
        }
      ]
    },
    {
      "cell_type": "markdown",
      "metadata": {
        "id": "mFFZaviHuyUh"
      },
      "source": [
        "### <a name='a7'></a> 6. Metody regularyzacji"
      ]
    },
    {
      "cell_type": "code",
      "metadata": {
        "id": "wgv455fqqsFz",
        "colab": {
          "base_uri": "https://localhost:8080/",
          "height": 257
        },
        "outputId": "18a69d19-aac1-4944-cc4f-74651c93cdb5"
      },
      "source": [
        "from tensorflow.keras.regularizers import l2\n",
        "\n",
        "l2_model = Sequential()\n",
        "l2_model.add(Dense(16, kernel_regularizer=l2(0.001), activation='relu', input_shape=(NUM_WORDS,)))\n",
        "l2_model.add(Dense(16, kernel_regularizer=l2(0.01), activation='relu'))\n",
        "l2_model.add(Dense(1, activation='sigmoid'))\n",
        "\n",
        "l2_model.compile(optimizer='adam',\n",
        "                 loss='binary_crossentropy',\n",
        "                 metrics=['accuracy', 'binary_crossentropy'])\n",
        "\n",
        "l2_model.summary()"
      ],
      "execution_count": null,
      "outputs": [
        {
          "output_type": "stream",
          "text": [
            "Model: \"sequential_3\"\n",
            "_________________________________________________________________\n",
            "Layer (type)                 Output Shape              Param #   \n",
            "=================================================================\n",
            "dense_9 (Dense)              (None, 16)                160016    \n",
            "_________________________________________________________________\n",
            "dense_10 (Dense)             (None, 16)                272       \n",
            "_________________________________________________________________\n",
            "dense_11 (Dense)             (None, 1)                 17        \n",
            "=================================================================\n",
            "Total params: 160,305\n",
            "Trainable params: 160,305\n",
            "Non-trainable params: 0\n",
            "_________________________________________________________________\n"
          ],
          "name": "stdout"
        }
      ]
    },
    {
      "cell_type": "code",
      "metadata": {
        "id": "8N5Cw0JcwNA0",
        "colab": {
          "base_uri": "https://localhost:8080/",
          "height": 740
        },
        "outputId": "f84554c3-b3e5-431c-da7d-4899ded2194f"
      },
      "source": [
        "l2_model_history = l2_model.fit(train_data, train_labels, epochs=20, batch_size=512, validation_data=(test_data, test_labels))"
      ],
      "execution_count": null,
      "outputs": [
        {
          "output_type": "stream",
          "text": [
            "Train on 25000 samples, validate on 25000 samples\n",
            "Epoch 1/20\n",
            "25000/25000 [==============================] - 6s 247us/sample - loss: 0.6659 - accuracy: 0.7930 - binary_crossentropy: 0.5133 - val_loss: 0.5164 - val_accuracy: 0.8678 - val_binary_crossentropy: 0.3760\n",
            "Epoch 2/20\n",
            "25000/25000 [==============================] - 4s 142us/sample - loss: 0.4263 - accuracy: 0.8990 - binary_crossentropy: 0.2894 - val_loss: 0.4301 - val_accuracy: 0.8856 - val_binary_crossentropy: 0.2985\n",
            "Epoch 3/20\n",
            "25000/25000 [==============================] - 4s 141us/sample - loss: 0.3523 - accuracy: 0.9217 - binary_crossentropy: 0.2253 - val_loss: 0.4065 - val_accuracy: 0.8878 - val_binary_crossentropy: 0.2849\n",
            "Epoch 4/20\n",
            "25000/25000 [==============================] - 4s 142us/sample - loss: 0.3143 - accuracy: 0.9334 - binary_crossentropy: 0.1967 - val_loss: 0.3959 - val_accuracy: 0.8871 - val_binary_crossentropy: 0.2828\n",
            "Epoch 5/20\n",
            "25000/25000 [==============================] - 4s 144us/sample - loss: 0.2904 - accuracy: 0.9413 - binary_crossentropy: 0.1803 - val_loss: 0.3982 - val_accuracy: 0.8831 - val_binary_crossentropy: 0.2914\n",
            "Epoch 6/20\n",
            "25000/25000 [==============================] - 4s 142us/sample - loss: 0.2750 - accuracy: 0.9431 - binary_crossentropy: 0.1705 - val_loss: 0.3940 - val_accuracy: 0.8827 - val_binary_crossentropy: 0.2920\n",
            "Epoch 7/20\n",
            "25000/25000 [==============================] - 4s 142us/sample - loss: 0.2595 - accuracy: 0.9482 - binary_crossentropy: 0.1595 - val_loss: 0.3947 - val_accuracy: 0.8803 - val_binary_crossentropy: 0.2968\n",
            "Epoch 8/20\n",
            "25000/25000 [==============================] - 4s 140us/sample - loss: 0.2501 - accuracy: 0.9504 - binary_crossentropy: 0.1535 - val_loss: 0.3956 - val_accuracy: 0.8792 - val_binary_crossentropy: 0.3006\n",
            "Epoch 9/20\n",
            "25000/25000 [==============================] - 3s 139us/sample - loss: 0.2413 - accuracy: 0.9524 - binary_crossentropy: 0.1468 - val_loss: 0.3981 - val_accuracy: 0.8778 - val_binary_crossentropy: 0.3049\n",
            "Epoch 10/20\n",
            "25000/25000 [==============================] - 4s 144us/sample - loss: 0.2347 - accuracy: 0.9542 - binary_crossentropy: 0.1422 - val_loss: 0.4015 - val_accuracy: 0.8758 - val_binary_crossentropy: 0.3100\n",
            "Epoch 11/20\n",
            "25000/25000 [==============================] - 4s 145us/sample - loss: 0.2293 - accuracy: 0.9557 - binary_crossentropy: 0.1379 - val_loss: 0.4077 - val_accuracy: 0.8749 - val_binary_crossentropy: 0.3170\n",
            "Epoch 12/20\n",
            "25000/25000 [==============================] - 4s 143us/sample - loss: 0.2229 - accuracy: 0.9572 - binary_crossentropy: 0.1326 - val_loss: 0.4124 - val_accuracy: 0.8732 - val_binary_crossentropy: 0.3229\n",
            "Epoch 13/20\n",
            "25000/25000 [==============================] - 4s 145us/sample - loss: 0.2197 - accuracy: 0.9572 - binary_crossentropy: 0.1302 - val_loss: 0.4148 - val_accuracy: 0.8722 - val_binary_crossentropy: 0.3260\n",
            "Epoch 14/20\n",
            "25000/25000 [==============================] - 4s 145us/sample - loss: 0.2156 - accuracy: 0.9601 - binary_crossentropy: 0.1271 - val_loss: 0.4217 - val_accuracy: 0.8702 - val_binary_crossentropy: 0.3336\n",
            "Epoch 15/20\n",
            "25000/25000 [==============================] - 4s 142us/sample - loss: 0.2110 - accuracy: 0.9614 - binary_crossentropy: 0.1230 - val_loss: 0.4239 - val_accuracy: 0.8699 - val_binary_crossentropy: 0.3365\n",
            "Epoch 16/20\n",
            "25000/25000 [==============================] - 4s 142us/sample - loss: 0.2063 - accuracy: 0.9624 - binary_crossentropy: 0.1190 - val_loss: 0.4274 - val_accuracy: 0.8700 - val_binary_crossentropy: 0.3405\n",
            "Epoch 17/20\n",
            "25000/25000 [==============================] - 4s 142us/sample - loss: 0.2032 - accuracy: 0.9644 - binary_crossentropy: 0.1165 - val_loss: 0.4305 - val_accuracy: 0.8696 - val_binary_crossentropy: 0.3441\n",
            "Epoch 18/20\n",
            "25000/25000 [==============================] - 4s 141us/sample - loss: 0.2009 - accuracy: 0.9640 - binary_crossentropy: 0.1146 - val_loss: 0.4361 - val_accuracy: 0.8689 - val_binary_crossentropy: 0.3502\n",
            "Epoch 19/20\n",
            "25000/25000 [==============================] - 4s 144us/sample - loss: 0.1983 - accuracy: 0.9652 - binary_crossentropy: 0.1126 - val_loss: 0.4391 - val_accuracy: 0.8677 - val_binary_crossentropy: 0.3537\n",
            "Epoch 20/20\n",
            "25000/25000 [==============================] - 4s 143us/sample - loss: 0.1964 - accuracy: 0.9651 - binary_crossentropy: 0.1111 - val_loss: 0.4441 - val_accuracy: 0.8659 - val_binary_crossentropy: 0.3590\n"
          ],
          "name": "stdout"
        }
      ]
    },
    {
      "cell_type": "code",
      "metadata": {
        "id": "nmrr_vzHwSJP",
        "colab": {
          "base_uri": "https://localhost:8080/",
          "height": 542
        },
        "outputId": "52e1744e-fccb-4672-cf06-6ce35f173109"
      },
      "source": [
        "fig = go.Figure()\n",
        "for name, history in zip(['baseline', 'l2'], [baseline_history, l2_model_history]):\n",
        "    hist = pd.DataFrame(history.history)\n",
        "    hist['epoch'] = history.epoch\n",
        "    fig.add_trace(go.Scatter(x=hist['epoch'], y=hist['binary_crossentropy'], name=name + '_binary_crossentropy', mode='lines+markers'))\n",
        "    fig.add_trace(go.Scatter(x=hist['epoch'], y=hist['val_binary_crossentropy'], name=name + '_val_binary_crossentropy', mode='lines+markers'))\n",
        "    fig.update_layout(xaxis_title='Epoki', yaxis_title='binary_crossentropy')\n",
        "fig.show()"
      ],
      "execution_count": null,
      "outputs": [
        {
          "output_type": "display_data",
          "data": {
            "text/html": [
              "<html>\n",
              "<head><meta charset=\"utf-8\" /></head>\n",
              "<body>\n",
              "    <div>\n",
              "            <script src=\"https://cdnjs.cloudflare.com/ajax/libs/mathjax/2.7.5/MathJax.js?config=TeX-AMS-MML_SVG\"></script><script type=\"text/javascript\">if (window.MathJax) {MathJax.Hub.Config({SVG: {font: \"STIX-Web\"}});}</script>\n",
              "                <script type=\"text/javascript\">window.PlotlyConfig = {MathJaxConfig: 'local'};</script>\n",
              "        <script src=\"https://cdn.plot.ly/plotly-latest.min.js\"></script>    \n",
              "            <div id=\"d32cdd43-b3e7-47f3-b1b0-25bd7ecf5899\" class=\"plotly-graph-div\" style=\"height:525px; width:100%;\"></div>\n",
              "            <script type=\"text/javascript\">\n",
              "                \n",
              "                    window.PLOTLYENV=window.PLOTLYENV || {};\n",
              "                    \n",
              "                if (document.getElementById(\"d32cdd43-b3e7-47f3-b1b0-25bd7ecf5899\")) {\n",
              "                    Plotly.newPlot(\n",
              "                        'd32cdd43-b3e7-47f3-b1b0-25bd7ecf5899',\n",
              "                        [{\"mode\": \"lines+markers\", \"name\": \"baseline_binary_crossentropy\", \"type\": \"scatter\", \"x\": [0, 1, 2, 3, 4, 5, 6, 7, 8, 9, 10, 11, 12, 13, 14, 15, 16, 17, 18, 19], \"y\": [0.5458354949951172, 0.26826393604278564, 0.1822649985551834, 0.1414341777563095, 0.11278166621923447, 0.0911192074418068, 0.07160792499780655, 0.0546804741024971, 0.041487645357847214, 0.030638523399829865, 0.02204114757478237, 0.01638774201273918, 0.012271338142454624, 0.009571004658937454, 0.0075669861398637295, 0.006049825344234705, 0.004959026351571083, 0.004168597981333733, 0.0035497217904776335, 0.003055641194805503]}, {\"mode\": \"lines+markers\", \"name\": \"baseline_val_binary_crossentropy\", \"type\": \"scatter\", \"x\": [0, 1, 2, 3, 4, 5, 6, 7, 8, 9, 10, 11, 12, 13, 14, 15, 16, 17, 18, 19], \"y\": [0.38350436091423035, 0.28784722089767456, 0.2973597049713135, 0.31806132197380066, 0.3485700488090515, 0.3848962187767029, 0.4256404638290405, 0.46835967898368835, 0.5109506845474243, 0.5542826056480408, 0.5933274030685425, 0.6333171725273132, 0.6727849841117859, 0.7060239315032959, 0.7309925556182861, 0.7605109214782715, 0.7825473546981812, 0.807994544506073, 0.8294788002967834, 0.8493474125862122]}, {\"mode\": \"lines+markers\", \"name\": \"l2_binary_crossentropy\", \"type\": \"scatter\", \"x\": [0, 1, 2, 3, 4, 5, 6, 7, 8, 9, 10, 11, 12, 13, 14, 15, 16, 17, 18, 19], \"y\": [0.5133035182952881, 0.2893822193145752, 0.22527724504470825, 0.1966918706893921, 0.1802876889705658, 0.1705113798379898, 0.15949998795986176, 0.1534968912601471, 0.14681807160377502, 0.14217594265937805, 0.13794510066509247, 0.13257832825183868, 0.1302383840084076, 0.12711159884929657, 0.12299340963363647, 0.11901065707206726, 0.1164788156747818, 0.11457639932632446, 0.11255297064781189, 0.11113090068101883]}, {\"mode\": \"lines+markers\", \"name\": \"l2_val_binary_crossentropy\", \"type\": \"scatter\", \"x\": [0, 1, 2, 3, 4, 5, 6, 7, 8, 9, 10, 11, 12, 13, 14, 15, 16, 17, 18, 19], \"y\": [0.37600472569465637, 0.2984785735607147, 0.28486087918281555, 0.28277066349983215, 0.29143911600112915, 0.2920430600643158, 0.2967972755432129, 0.30059802532196045, 0.3049454391002655, 0.30997177958488464, 0.31695640087127686, 0.3228829503059387, 0.32597047090530396, 0.33361613750457764, 0.33646777272224426, 0.34052157402038574, 0.34413066506385803, 0.35022711753845215, 0.35371336340904236, 0.3590225279331207]}],\n",
              "                        {\"template\": {\"data\": {\"bar\": [{\"error_x\": {\"color\": \"#2a3f5f\"}, \"error_y\": {\"color\": \"#2a3f5f\"}, \"marker\": {\"line\": {\"color\": \"#E5ECF6\", \"width\": 0.5}}, \"type\": \"bar\"}], \"barpolar\": [{\"marker\": {\"line\": {\"color\": \"#E5ECF6\", \"width\": 0.5}}, \"type\": \"barpolar\"}], \"carpet\": [{\"aaxis\": {\"endlinecolor\": \"#2a3f5f\", \"gridcolor\": \"white\", \"linecolor\": \"white\", \"minorgridcolor\": \"white\", \"startlinecolor\": \"#2a3f5f\"}, \"baxis\": {\"endlinecolor\": \"#2a3f5f\", \"gridcolor\": \"white\", \"linecolor\": \"white\", \"minorgridcolor\": \"white\", \"startlinecolor\": \"#2a3f5f\"}, \"type\": \"carpet\"}], \"choropleth\": [{\"colorbar\": {\"outlinewidth\": 0, \"ticks\": \"\"}, \"type\": \"choropleth\"}], \"contour\": [{\"colorbar\": {\"outlinewidth\": 0, \"ticks\": \"\"}, \"colorscale\": [[0.0, \"#0d0887\"], [0.1111111111111111, \"#46039f\"], [0.2222222222222222, \"#7201a8\"], [0.3333333333333333, \"#9c179e\"], [0.4444444444444444, \"#bd3786\"], [0.5555555555555556, \"#d8576b\"], [0.6666666666666666, \"#ed7953\"], [0.7777777777777778, \"#fb9f3a\"], [0.8888888888888888, \"#fdca26\"], [1.0, \"#f0f921\"]], \"type\": \"contour\"}], \"contourcarpet\": [{\"colorbar\": {\"outlinewidth\": 0, \"ticks\": \"\"}, \"type\": \"contourcarpet\"}], \"heatmap\": [{\"colorbar\": {\"outlinewidth\": 0, \"ticks\": \"\"}, \"colorscale\": [[0.0, \"#0d0887\"], [0.1111111111111111, \"#46039f\"], [0.2222222222222222, \"#7201a8\"], [0.3333333333333333, \"#9c179e\"], [0.4444444444444444, \"#bd3786\"], [0.5555555555555556, \"#d8576b\"], [0.6666666666666666, \"#ed7953\"], [0.7777777777777778, \"#fb9f3a\"], [0.8888888888888888, \"#fdca26\"], [1.0, \"#f0f921\"]], \"type\": \"heatmap\"}], \"heatmapgl\": [{\"colorbar\": {\"outlinewidth\": 0, \"ticks\": \"\"}, \"colorscale\": [[0.0, \"#0d0887\"], [0.1111111111111111, \"#46039f\"], [0.2222222222222222, \"#7201a8\"], [0.3333333333333333, \"#9c179e\"], [0.4444444444444444, \"#bd3786\"], [0.5555555555555556, \"#d8576b\"], [0.6666666666666666, \"#ed7953\"], [0.7777777777777778, \"#fb9f3a\"], [0.8888888888888888, \"#fdca26\"], [1.0, \"#f0f921\"]], \"type\": \"heatmapgl\"}], \"histogram\": [{\"marker\": {\"colorbar\": {\"outlinewidth\": 0, \"ticks\": \"\"}}, \"type\": \"histogram\"}], \"histogram2d\": [{\"colorbar\": {\"outlinewidth\": 0, \"ticks\": \"\"}, \"colorscale\": [[0.0, \"#0d0887\"], [0.1111111111111111, \"#46039f\"], [0.2222222222222222, \"#7201a8\"], [0.3333333333333333, \"#9c179e\"], [0.4444444444444444, \"#bd3786\"], [0.5555555555555556, \"#d8576b\"], [0.6666666666666666, \"#ed7953\"], [0.7777777777777778, \"#fb9f3a\"], [0.8888888888888888, \"#fdca26\"], [1.0, \"#f0f921\"]], \"type\": \"histogram2d\"}], \"histogram2dcontour\": [{\"colorbar\": {\"outlinewidth\": 0, \"ticks\": \"\"}, \"colorscale\": [[0.0, \"#0d0887\"], [0.1111111111111111, \"#46039f\"], [0.2222222222222222, \"#7201a8\"], [0.3333333333333333, \"#9c179e\"], [0.4444444444444444, \"#bd3786\"], [0.5555555555555556, \"#d8576b\"], [0.6666666666666666, \"#ed7953\"], [0.7777777777777778, \"#fb9f3a\"], [0.8888888888888888, \"#fdca26\"], [1.0, \"#f0f921\"]], \"type\": \"histogram2dcontour\"}], \"mesh3d\": [{\"colorbar\": {\"outlinewidth\": 0, \"ticks\": \"\"}, \"type\": \"mesh3d\"}], \"parcoords\": [{\"line\": {\"colorbar\": {\"outlinewidth\": 0, \"ticks\": \"\"}}, \"type\": \"parcoords\"}], \"scatter\": [{\"marker\": {\"colorbar\": {\"outlinewidth\": 0, \"ticks\": \"\"}}, \"type\": \"scatter\"}], \"scatter3d\": [{\"line\": {\"colorbar\": {\"outlinewidth\": 0, \"ticks\": \"\"}}, \"marker\": {\"colorbar\": {\"outlinewidth\": 0, \"ticks\": \"\"}}, \"type\": \"scatter3d\"}], \"scattercarpet\": [{\"marker\": {\"colorbar\": {\"outlinewidth\": 0, \"ticks\": \"\"}}, \"type\": \"scattercarpet\"}], \"scattergeo\": [{\"marker\": {\"colorbar\": {\"outlinewidth\": 0, \"ticks\": \"\"}}, \"type\": \"scattergeo\"}], \"scattergl\": [{\"marker\": {\"colorbar\": {\"outlinewidth\": 0, \"ticks\": \"\"}}, \"type\": \"scattergl\"}], \"scattermapbox\": [{\"marker\": {\"colorbar\": {\"outlinewidth\": 0, \"ticks\": \"\"}}, \"type\": \"scattermapbox\"}], \"scatterpolar\": [{\"marker\": {\"colorbar\": {\"outlinewidth\": 0, \"ticks\": \"\"}}, \"type\": \"scatterpolar\"}], \"scatterpolargl\": [{\"marker\": {\"colorbar\": {\"outlinewidth\": 0, \"ticks\": \"\"}}, \"type\": \"scatterpolargl\"}], \"scatterternary\": [{\"marker\": {\"colorbar\": {\"outlinewidth\": 0, \"ticks\": \"\"}}, \"type\": \"scatterternary\"}], \"surface\": [{\"colorbar\": {\"outlinewidth\": 0, \"ticks\": \"\"}, \"colorscale\": [[0.0, \"#0d0887\"], [0.1111111111111111, \"#46039f\"], [0.2222222222222222, \"#7201a8\"], [0.3333333333333333, \"#9c179e\"], [0.4444444444444444, \"#bd3786\"], [0.5555555555555556, \"#d8576b\"], [0.6666666666666666, \"#ed7953\"], [0.7777777777777778, \"#fb9f3a\"], [0.8888888888888888, \"#fdca26\"], [1.0, \"#f0f921\"]], \"type\": \"surface\"}], \"table\": [{\"cells\": {\"fill\": {\"color\": \"#EBF0F8\"}, \"line\": {\"color\": \"white\"}}, \"header\": {\"fill\": {\"color\": \"#C8D4E3\"}, \"line\": {\"color\": \"white\"}}, \"type\": \"table\"}]}, \"layout\": {\"annotationdefaults\": {\"arrowcolor\": \"#2a3f5f\", \"arrowhead\": 0, \"arrowwidth\": 1}, \"colorscale\": {\"diverging\": [[0, \"#8e0152\"], [0.1, \"#c51b7d\"], [0.2, \"#de77ae\"], [0.3, \"#f1b6da\"], [0.4, \"#fde0ef\"], [0.5, \"#f7f7f7\"], [0.6, \"#e6f5d0\"], [0.7, \"#b8e186\"], [0.8, \"#7fbc41\"], [0.9, \"#4d9221\"], [1, \"#276419\"]], \"sequential\": [[0.0, \"#0d0887\"], [0.1111111111111111, \"#46039f\"], [0.2222222222222222, \"#7201a8\"], [0.3333333333333333, \"#9c179e\"], [0.4444444444444444, \"#bd3786\"], [0.5555555555555556, \"#d8576b\"], [0.6666666666666666, \"#ed7953\"], [0.7777777777777778, \"#fb9f3a\"], [0.8888888888888888, \"#fdca26\"], [1.0, \"#f0f921\"]], \"sequentialminus\": [[0.0, \"#0d0887\"], [0.1111111111111111, \"#46039f\"], [0.2222222222222222, \"#7201a8\"], [0.3333333333333333, \"#9c179e\"], [0.4444444444444444, \"#bd3786\"], [0.5555555555555556, \"#d8576b\"], [0.6666666666666666, \"#ed7953\"], [0.7777777777777778, \"#fb9f3a\"], [0.8888888888888888, \"#fdca26\"], [1.0, \"#f0f921\"]]}, \"colorway\": [\"#636efa\", \"#EF553B\", \"#00cc96\", \"#ab63fa\", \"#FFA15A\", \"#19d3f3\", \"#FF6692\", \"#B6E880\", \"#FF97FF\", \"#FECB52\"], \"font\": {\"color\": \"#2a3f5f\"}, \"geo\": {\"bgcolor\": \"white\", \"lakecolor\": \"white\", \"landcolor\": \"#E5ECF6\", \"showlakes\": true, \"showland\": true, \"subunitcolor\": \"white\"}, \"hoverlabel\": {\"align\": \"left\"}, \"hovermode\": \"closest\", \"mapbox\": {\"style\": \"light\"}, \"paper_bgcolor\": \"white\", \"plot_bgcolor\": \"#E5ECF6\", \"polar\": {\"angularaxis\": {\"gridcolor\": \"white\", \"linecolor\": \"white\", \"ticks\": \"\"}, \"bgcolor\": \"#E5ECF6\", \"radialaxis\": {\"gridcolor\": \"white\", \"linecolor\": \"white\", \"ticks\": \"\"}}, \"scene\": {\"xaxis\": {\"backgroundcolor\": \"#E5ECF6\", \"gridcolor\": \"white\", \"gridwidth\": 2, \"linecolor\": \"white\", \"showbackground\": true, \"ticks\": \"\", \"zerolinecolor\": \"white\"}, \"yaxis\": {\"backgroundcolor\": \"#E5ECF6\", \"gridcolor\": \"white\", \"gridwidth\": 2, \"linecolor\": \"white\", \"showbackground\": true, \"ticks\": \"\", \"zerolinecolor\": \"white\"}, \"zaxis\": {\"backgroundcolor\": \"#E5ECF6\", \"gridcolor\": \"white\", \"gridwidth\": 2, \"linecolor\": \"white\", \"showbackground\": true, \"ticks\": \"\", \"zerolinecolor\": \"white\"}}, \"shapedefaults\": {\"line\": {\"color\": \"#2a3f5f\"}}, \"ternary\": {\"aaxis\": {\"gridcolor\": \"white\", \"linecolor\": \"white\", \"ticks\": \"\"}, \"baxis\": {\"gridcolor\": \"white\", \"linecolor\": \"white\", \"ticks\": \"\"}, \"bgcolor\": \"#E5ECF6\", \"caxis\": {\"gridcolor\": \"white\", \"linecolor\": \"white\", \"ticks\": \"\"}}, \"title\": {\"x\": 0.05}, \"xaxis\": {\"automargin\": true, \"gridcolor\": \"white\", \"linecolor\": \"white\", \"ticks\": \"\", \"zerolinecolor\": \"white\", \"zerolinewidth\": 2}, \"yaxis\": {\"automargin\": true, \"gridcolor\": \"white\", \"linecolor\": \"white\", \"ticks\": \"\", \"zerolinecolor\": \"white\", \"zerolinewidth\": 2}}}, \"xaxis\": {\"title\": {\"text\": \"Epoki\"}}, \"yaxis\": {\"title\": {\"text\": \"binary_crossentropy\"}}},\n",
              "                        {\"responsive\": true}\n",
              "                    ).then(function(){\n",
              "                            \n",
              "var gd = document.getElementById('d32cdd43-b3e7-47f3-b1b0-25bd7ecf5899');\n",
              "var x = new MutationObserver(function (mutations, observer) {{\n",
              "        var display = window.getComputedStyle(gd).display;\n",
              "        if (!display || display === 'none') {{\n",
              "            console.log([gd, 'removed!']);\n",
              "            Plotly.purge(gd);\n",
              "            observer.disconnect();\n",
              "        }}\n",
              "}});\n",
              "\n",
              "// Listen for the removal of the full notebook cells\n",
              "var notebookContainer = gd.closest('#notebook-container');\n",
              "if (notebookContainer) {{\n",
              "    x.observe(notebookContainer, {childList: true});\n",
              "}}\n",
              "\n",
              "// Listen for the clearing of the current output cell\n",
              "var outputEl = gd.closest('.output');\n",
              "if (outputEl) {{\n",
              "    x.observe(outputEl, {childList: true});\n",
              "}}\n",
              "\n",
              "                        })\n",
              "                };\n",
              "                \n",
              "            </script>\n",
              "        </div>\n",
              "</body>\n",
              "</html>"
            ]
          },
          "metadata": {
            "tags": []
          }
        }
      ]
    },
    {
      "cell_type": "code",
      "metadata": {
        "id": "gIQnJCzQxD4P",
        "colab": {
          "base_uri": "https://localhost:8080/",
          "height": 326
        },
        "outputId": "1a69a80e-f308-4351-988f-0873290c6994"
      },
      "source": [
        "from tensorflow.keras.layers import Dropout\n",
        "\n",
        "dropout_model = Sequential()\n",
        "dropout_model.add(Dense(16, activation='relu', input_shape=(NUM_WORDS,)))\n",
        "dropout_model.add(Dropout(0.5))\n",
        "dropout_model.add(Dense(16, activation='relu'))\n",
        "dropout_model.add(Dropout(0.5))\n",
        "dropout_model.add(Dense(1, activation='sigmoid'))\n",
        "\n",
        "dropout_model.compile(optimizer='adam',\n",
        "                 loss='binary_crossentropy',\n",
        "                 metrics=['accuracy', 'binary_crossentropy'])\n",
        "\n",
        "dropout_model.summary()"
      ],
      "execution_count": null,
      "outputs": [
        {
          "output_type": "stream",
          "text": [
            "Model: \"sequential_4\"\n",
            "_________________________________________________________________\n",
            "Layer (type)                 Output Shape              Param #   \n",
            "=================================================================\n",
            "dense_12 (Dense)             (None, 16)                160016    \n",
            "_________________________________________________________________\n",
            "dropout (Dropout)            (None, 16)                0         \n",
            "_________________________________________________________________\n",
            "dense_13 (Dense)             (None, 16)                272       \n",
            "_________________________________________________________________\n",
            "dropout_1 (Dropout)          (None, 16)                0         \n",
            "_________________________________________________________________\n",
            "dense_14 (Dense)             (None, 1)                 17        \n",
            "=================================================================\n",
            "Total params: 160,305\n",
            "Trainable params: 160,305\n",
            "Non-trainable params: 0\n",
            "_________________________________________________________________\n"
          ],
          "name": "stdout"
        }
      ]
    },
    {
      "cell_type": "code",
      "metadata": {
        "id": "tvBinOCuyMu_",
        "colab": {
          "base_uri": "https://localhost:8080/",
          "height": 740
        },
        "outputId": "74dafa48-b8c0-44db-e9aa-b3e139f1643f"
      },
      "source": [
        "dropout_history = dropout_model.fit(train_data, train_labels, epochs=20, batch_size=512, validation_data=(test_data, test_labels))"
      ],
      "execution_count": null,
      "outputs": [
        {
          "output_type": "stream",
          "text": [
            "Train on 25000 samples, validate on 25000 samples\n",
            "Epoch 1/20\n",
            "25000/25000 [==============================] - 4s 180us/sample - loss: 0.6474 - accuracy: 0.6074 - binary_crossentropy: 0.6474 - val_loss: 0.5360 - val_accuracy: 0.8468 - val_binary_crossentropy: 0.5360\n",
            "Epoch 2/20\n",
            "25000/25000 [==============================] - 4s 147us/sample - loss: 0.5059 - accuracy: 0.7613 - binary_crossentropy: 0.5059 - val_loss: 0.3876 - val_accuracy: 0.8795 - val_binary_crossentropy: 0.3876\n",
            "Epoch 3/20\n",
            "25000/25000 [==============================] - 4s 144us/sample - loss: 0.3983 - accuracy: 0.8305 - binary_crossentropy: 0.3983 - val_loss: 0.3133 - val_accuracy: 0.8870 - val_binary_crossentropy: 0.3133\n",
            "Epoch 4/20\n",
            "25000/25000 [==============================] - 4s 144us/sample - loss: 0.3263 - accuracy: 0.8754 - binary_crossentropy: 0.3263 - val_loss: 0.2823 - val_accuracy: 0.8890 - val_binary_crossentropy: 0.2823\n",
            "Epoch 5/20\n",
            "25000/25000 [==============================] - 4s 144us/sample - loss: 0.2748 - accuracy: 0.8985 - binary_crossentropy: 0.2748 - val_loss: 0.2747 - val_accuracy: 0.8875 - val_binary_crossentropy: 0.2747\n",
            "Epoch 6/20\n",
            "25000/25000 [==============================] - 4s 143us/sample - loss: 0.2338 - accuracy: 0.9139 - binary_crossentropy: 0.2338 - val_loss: 0.2799 - val_accuracy: 0.8872 - val_binary_crossentropy: 0.2799\n",
            "Epoch 7/20\n",
            "25000/25000 [==============================] - 4s 142us/sample - loss: 0.2098 - accuracy: 0.9258 - binary_crossentropy: 0.2098 - val_loss: 0.2927 - val_accuracy: 0.8868 - val_binary_crossentropy: 0.2927\n",
            "Epoch 8/20\n",
            "25000/25000 [==============================] - 4s 144us/sample - loss: 0.1848 - accuracy: 0.9328 - binary_crossentropy: 0.1848 - val_loss: 0.3068 - val_accuracy: 0.8846 - val_binary_crossentropy: 0.3068\n",
            "Epoch 9/20\n",
            "25000/25000 [==============================] - 4s 144us/sample - loss: 0.1692 - accuracy: 0.9385 - binary_crossentropy: 0.1692 - val_loss: 0.3322 - val_accuracy: 0.8832 - val_binary_crossentropy: 0.3322\n",
            "Epoch 10/20\n",
            "25000/25000 [==============================] - 4s 143us/sample - loss: 0.1533 - accuracy: 0.9414 - binary_crossentropy: 0.1533 - val_loss: 0.3398 - val_accuracy: 0.8838 - val_binary_crossentropy: 0.3398\n",
            "Epoch 11/20\n",
            "25000/25000 [==============================] - 4s 144us/sample - loss: 0.1417 - accuracy: 0.9466 - binary_crossentropy: 0.1417 - val_loss: 0.3605 - val_accuracy: 0.8812 - val_binary_crossentropy: 0.3605\n",
            "Epoch 12/20\n",
            "25000/25000 [==============================] - 4s 142us/sample - loss: 0.1288 - accuracy: 0.9507 - binary_crossentropy: 0.1288 - val_loss: 0.3746 - val_accuracy: 0.8803 - val_binary_crossentropy: 0.3746\n",
            "Epoch 13/20\n",
            "25000/25000 [==============================] - 4s 143us/sample - loss: 0.1199 - accuracy: 0.9534 - binary_crossentropy: 0.1199 - val_loss: 0.4058 - val_accuracy: 0.8802 - val_binary_crossentropy: 0.4058\n",
            "Epoch 14/20\n",
            "25000/25000 [==============================] - 5s 205us/sample - loss: 0.1102 - accuracy: 0.9560 - binary_crossentropy: 0.1102 - val_loss: 0.4180 - val_accuracy: 0.8788 - val_binary_crossentropy: 0.4180\n",
            "Epoch 15/20\n",
            "25000/25000 [==============================] - 4s 145us/sample - loss: 0.1035 - accuracy: 0.9581 - binary_crossentropy: 0.1035 - val_loss: 0.4347 - val_accuracy: 0.8794 - val_binary_crossentropy: 0.4347\n",
            "Epoch 16/20\n",
            "25000/25000 [==============================] - 4s 144us/sample - loss: 0.0979 - accuracy: 0.9589 - binary_crossentropy: 0.0979 - val_loss: 0.4669 - val_accuracy: 0.8775 - val_binary_crossentropy: 0.4669\n",
            "Epoch 17/20\n",
            "25000/25000 [==============================] - 4s 144us/sample - loss: 0.0926 - accuracy: 0.9613 - binary_crossentropy: 0.0926 - val_loss: 0.4953 - val_accuracy: 0.8756 - val_binary_crossentropy: 0.4953\n",
            "Epoch 18/20\n",
            "25000/25000 [==============================] - 4s 142us/sample - loss: 0.0895 - accuracy: 0.9603 - binary_crossentropy: 0.0895 - val_loss: 0.5101 - val_accuracy: 0.8764 - val_binary_crossentropy: 0.5101\n",
            "Epoch 19/20\n",
            "25000/25000 [==============================] - 4s 143us/sample - loss: 0.0841 - accuracy: 0.9640 - binary_crossentropy: 0.0841 - val_loss: 0.5254 - val_accuracy: 0.8751 - val_binary_crossentropy: 0.5254\n",
            "Epoch 20/20\n",
            "25000/25000 [==============================] - 4s 141us/sample - loss: 0.0802 - accuracy: 0.9654 - binary_crossentropy: 0.0802 - val_loss: 0.5328 - val_accuracy: 0.8760 - val_binary_crossentropy: 0.5328\n"
          ],
          "name": "stdout"
        }
      ]
    },
    {
      "cell_type": "code",
      "metadata": {
        "id": "sZ9nYw_SyXt7",
        "colab": {
          "base_uri": "https://localhost:8080/",
          "height": 542
        },
        "outputId": "a0e028e5-370a-46ec-e797-e0ed9267e7e8"
      },
      "source": [
        "fig = go.Figure()\n",
        "for name, history in zip(['baseline', 'dropout'], [baseline_history, dropout_history]):\n",
        "    hist = pd.DataFrame(history.history)\n",
        "    hist['epoch'] = history.epoch\n",
        "    fig.add_trace(go.Scatter(x=hist['epoch'], y=hist['binary_crossentropy'], name=name + '_binary_crossentropy', mode='lines+markers'))\n",
        "    fig.add_trace(go.Scatter(x=hist['epoch'], y=hist['val_binary_crossentropy'], name=name + '_val_binary_crossentropy', mode='lines+markers'))\n",
        "    fig.update_layout(xaxis_title='Epoki', yaxis_title='binary_crossentropy')\n",
        "fig.show()"
      ],
      "execution_count": null,
      "outputs": [
        {
          "output_type": "display_data",
          "data": {
            "text/html": [
              "<html>\n",
              "<head><meta charset=\"utf-8\" /></head>\n",
              "<body>\n",
              "    <div>\n",
              "            <script src=\"https://cdnjs.cloudflare.com/ajax/libs/mathjax/2.7.5/MathJax.js?config=TeX-AMS-MML_SVG\"></script><script type=\"text/javascript\">if (window.MathJax) {MathJax.Hub.Config({SVG: {font: \"STIX-Web\"}});}</script>\n",
              "                <script type=\"text/javascript\">window.PlotlyConfig = {MathJaxConfig: 'local'};</script>\n",
              "        <script src=\"https://cdn.plot.ly/plotly-latest.min.js\"></script>    \n",
              "            <div id=\"87a2119c-1633-4453-b14f-f75e51f38fb4\" class=\"plotly-graph-div\" style=\"height:525px; width:100%;\"></div>\n",
              "            <script type=\"text/javascript\">\n",
              "                \n",
              "                    window.PLOTLYENV=window.PLOTLYENV || {};\n",
              "                    \n",
              "                if (document.getElementById(\"87a2119c-1633-4453-b14f-f75e51f38fb4\")) {\n",
              "                    Plotly.newPlot(\n",
              "                        '87a2119c-1633-4453-b14f-f75e51f38fb4',\n",
              "                        [{\"mode\": \"lines+markers\", \"name\": \"baseline_binary_crossentropy\", \"type\": \"scatter\", \"x\": [0, 1, 2, 3, 4, 5, 6, 7, 8, 9, 10, 11, 12, 13, 14, 15, 16, 17, 18, 19], \"y\": [0.5458354949951172, 0.26826393604278564, 0.1822649985551834, 0.1414341777563095, 0.11278166621923447, 0.0911192074418068, 0.07160792499780655, 0.0546804741024971, 0.041487645357847214, 0.030638523399829865, 0.02204114757478237, 0.01638774201273918, 0.012271338142454624, 0.009571004658937454, 0.0075669861398637295, 0.006049825344234705, 0.004959026351571083, 0.004168597981333733, 0.0035497217904776335, 0.003055641194805503]}, {\"mode\": \"lines+markers\", \"name\": \"baseline_val_binary_crossentropy\", \"type\": \"scatter\", \"x\": [0, 1, 2, 3, 4, 5, 6, 7, 8, 9, 10, 11, 12, 13, 14, 15, 16, 17, 18, 19], \"y\": [0.38350436091423035, 0.28784722089767456, 0.2973597049713135, 0.31806132197380066, 0.3485700488090515, 0.3848962187767029, 0.4256404638290405, 0.46835967898368835, 0.5109506845474243, 0.5542826056480408, 0.5933274030685425, 0.6333171725273132, 0.6727849841117859, 0.7060239315032959, 0.7309925556182861, 0.7605109214782715, 0.7825473546981812, 0.807994544506073, 0.8294788002967834, 0.8493474125862122]}, {\"mode\": \"lines+markers\", \"name\": \"dropout_binary_crossentropy\", \"type\": \"scatter\", \"x\": [0, 1, 2, 3, 4, 5, 6, 7, 8, 9, 10, 11, 12, 13, 14, 15, 16, 17, 18, 19], \"y\": [0.6474226713180542, 0.5058692693710327, 0.39829421043395996, 0.3262723684310913, 0.27484768629074097, 0.2337951511144638, 0.20981785655021667, 0.18475422263145447, 0.16921262443065643, 0.1532551497220993, 0.1416701376438141, 0.12879148125648499, 0.11994066089391708, 0.1101873517036438, 0.10347431898117065, 0.0978517159819603, 0.09257112443447113, 0.0895041823387146, 0.08406064659357071, 0.0802173912525177]}, {\"mode\": \"lines+markers\", \"name\": \"dropout_val_binary_crossentropy\", \"type\": \"scatter\", \"x\": [0, 1, 2, 3, 4, 5, 6, 7, 8, 9, 10, 11, 12, 13, 14, 15, 16, 17, 18, 19], \"y\": [0.5359538793563843, 0.3876365125179291, 0.3132653832435608, 0.28228527307510376, 0.27470260858535767, 0.27987515926361084, 0.29267165064811707, 0.3068305552005768, 0.3321928381919861, 0.3398299515247345, 0.3604758083820343, 0.3746115267276764, 0.40576937794685364, 0.4179780185222626, 0.4346765875816345, 0.4669313132762909, 0.4953078627586365, 0.5100575685501099, 0.5253541469573975, 0.5327937602996826]}],\n",
              "                        {\"template\": {\"data\": {\"bar\": [{\"error_x\": {\"color\": \"#2a3f5f\"}, \"error_y\": {\"color\": \"#2a3f5f\"}, \"marker\": {\"line\": {\"color\": \"#E5ECF6\", \"width\": 0.5}}, \"type\": \"bar\"}], \"barpolar\": [{\"marker\": {\"line\": {\"color\": \"#E5ECF6\", \"width\": 0.5}}, \"type\": \"barpolar\"}], \"carpet\": [{\"aaxis\": {\"endlinecolor\": \"#2a3f5f\", \"gridcolor\": \"white\", \"linecolor\": \"white\", \"minorgridcolor\": \"white\", \"startlinecolor\": \"#2a3f5f\"}, \"baxis\": {\"endlinecolor\": \"#2a3f5f\", \"gridcolor\": \"white\", \"linecolor\": \"white\", \"minorgridcolor\": \"white\", \"startlinecolor\": \"#2a3f5f\"}, \"type\": \"carpet\"}], \"choropleth\": [{\"colorbar\": {\"outlinewidth\": 0, \"ticks\": \"\"}, \"type\": \"choropleth\"}], \"contour\": [{\"colorbar\": {\"outlinewidth\": 0, \"ticks\": \"\"}, \"colorscale\": [[0.0, \"#0d0887\"], [0.1111111111111111, \"#46039f\"], [0.2222222222222222, \"#7201a8\"], [0.3333333333333333, \"#9c179e\"], [0.4444444444444444, \"#bd3786\"], [0.5555555555555556, \"#d8576b\"], [0.6666666666666666, \"#ed7953\"], [0.7777777777777778, \"#fb9f3a\"], [0.8888888888888888, \"#fdca26\"], [1.0, \"#f0f921\"]], \"type\": \"contour\"}], \"contourcarpet\": [{\"colorbar\": {\"outlinewidth\": 0, \"ticks\": \"\"}, \"type\": \"contourcarpet\"}], \"heatmap\": [{\"colorbar\": {\"outlinewidth\": 0, \"ticks\": \"\"}, \"colorscale\": [[0.0, \"#0d0887\"], [0.1111111111111111, \"#46039f\"], [0.2222222222222222, \"#7201a8\"], [0.3333333333333333, \"#9c179e\"], [0.4444444444444444, \"#bd3786\"], [0.5555555555555556, \"#d8576b\"], [0.6666666666666666, \"#ed7953\"], [0.7777777777777778, \"#fb9f3a\"], [0.8888888888888888, \"#fdca26\"], [1.0, \"#f0f921\"]], \"type\": \"heatmap\"}], \"heatmapgl\": [{\"colorbar\": {\"outlinewidth\": 0, \"ticks\": \"\"}, \"colorscale\": [[0.0, \"#0d0887\"], [0.1111111111111111, \"#46039f\"], [0.2222222222222222, \"#7201a8\"], [0.3333333333333333, \"#9c179e\"], [0.4444444444444444, \"#bd3786\"], [0.5555555555555556, \"#d8576b\"], [0.6666666666666666, \"#ed7953\"], [0.7777777777777778, \"#fb9f3a\"], [0.8888888888888888, \"#fdca26\"], [1.0, \"#f0f921\"]], \"type\": \"heatmapgl\"}], \"histogram\": [{\"marker\": {\"colorbar\": {\"outlinewidth\": 0, \"ticks\": \"\"}}, \"type\": \"histogram\"}], \"histogram2d\": [{\"colorbar\": {\"outlinewidth\": 0, \"ticks\": \"\"}, \"colorscale\": [[0.0, \"#0d0887\"], [0.1111111111111111, \"#46039f\"], [0.2222222222222222, \"#7201a8\"], [0.3333333333333333, \"#9c179e\"], [0.4444444444444444, \"#bd3786\"], [0.5555555555555556, \"#d8576b\"], [0.6666666666666666, \"#ed7953\"], [0.7777777777777778, \"#fb9f3a\"], [0.8888888888888888, \"#fdca26\"], [1.0, \"#f0f921\"]], \"type\": \"histogram2d\"}], \"histogram2dcontour\": [{\"colorbar\": {\"outlinewidth\": 0, \"ticks\": \"\"}, \"colorscale\": [[0.0, \"#0d0887\"], [0.1111111111111111, \"#46039f\"], [0.2222222222222222, \"#7201a8\"], [0.3333333333333333, \"#9c179e\"], [0.4444444444444444, \"#bd3786\"], [0.5555555555555556, \"#d8576b\"], [0.6666666666666666, \"#ed7953\"], [0.7777777777777778, \"#fb9f3a\"], [0.8888888888888888, \"#fdca26\"], [1.0, \"#f0f921\"]], \"type\": \"histogram2dcontour\"}], \"mesh3d\": [{\"colorbar\": {\"outlinewidth\": 0, \"ticks\": \"\"}, \"type\": \"mesh3d\"}], \"parcoords\": [{\"line\": {\"colorbar\": {\"outlinewidth\": 0, \"ticks\": \"\"}}, \"type\": \"parcoords\"}], \"scatter\": [{\"marker\": {\"colorbar\": {\"outlinewidth\": 0, \"ticks\": \"\"}}, \"type\": \"scatter\"}], \"scatter3d\": [{\"line\": {\"colorbar\": {\"outlinewidth\": 0, \"ticks\": \"\"}}, \"marker\": {\"colorbar\": {\"outlinewidth\": 0, \"ticks\": \"\"}}, \"type\": \"scatter3d\"}], \"scattercarpet\": [{\"marker\": {\"colorbar\": {\"outlinewidth\": 0, \"ticks\": \"\"}}, \"type\": \"scattercarpet\"}], \"scattergeo\": [{\"marker\": {\"colorbar\": {\"outlinewidth\": 0, \"ticks\": \"\"}}, \"type\": \"scattergeo\"}], \"scattergl\": [{\"marker\": {\"colorbar\": {\"outlinewidth\": 0, \"ticks\": \"\"}}, \"type\": \"scattergl\"}], \"scattermapbox\": [{\"marker\": {\"colorbar\": {\"outlinewidth\": 0, \"ticks\": \"\"}}, \"type\": \"scattermapbox\"}], \"scatterpolar\": [{\"marker\": {\"colorbar\": {\"outlinewidth\": 0, \"ticks\": \"\"}}, \"type\": \"scatterpolar\"}], \"scatterpolargl\": [{\"marker\": {\"colorbar\": {\"outlinewidth\": 0, \"ticks\": \"\"}}, \"type\": \"scatterpolargl\"}], \"scatterternary\": [{\"marker\": {\"colorbar\": {\"outlinewidth\": 0, \"ticks\": \"\"}}, \"type\": \"scatterternary\"}], \"surface\": [{\"colorbar\": {\"outlinewidth\": 0, \"ticks\": \"\"}, \"colorscale\": [[0.0, \"#0d0887\"], [0.1111111111111111, \"#46039f\"], [0.2222222222222222, \"#7201a8\"], [0.3333333333333333, \"#9c179e\"], [0.4444444444444444, \"#bd3786\"], [0.5555555555555556, \"#d8576b\"], [0.6666666666666666, \"#ed7953\"], [0.7777777777777778, \"#fb9f3a\"], [0.8888888888888888, \"#fdca26\"], [1.0, \"#f0f921\"]], \"type\": \"surface\"}], \"table\": [{\"cells\": {\"fill\": {\"color\": \"#EBF0F8\"}, \"line\": {\"color\": \"white\"}}, \"header\": {\"fill\": {\"color\": \"#C8D4E3\"}, \"line\": {\"color\": \"white\"}}, \"type\": \"table\"}]}, \"layout\": {\"annotationdefaults\": {\"arrowcolor\": \"#2a3f5f\", \"arrowhead\": 0, \"arrowwidth\": 1}, \"colorscale\": {\"diverging\": [[0, \"#8e0152\"], [0.1, \"#c51b7d\"], [0.2, \"#de77ae\"], [0.3, \"#f1b6da\"], [0.4, \"#fde0ef\"], [0.5, \"#f7f7f7\"], [0.6, \"#e6f5d0\"], [0.7, \"#b8e186\"], [0.8, \"#7fbc41\"], [0.9, \"#4d9221\"], [1, \"#276419\"]], \"sequential\": [[0.0, \"#0d0887\"], [0.1111111111111111, \"#46039f\"], [0.2222222222222222, \"#7201a8\"], [0.3333333333333333, \"#9c179e\"], [0.4444444444444444, \"#bd3786\"], [0.5555555555555556, \"#d8576b\"], [0.6666666666666666, \"#ed7953\"], [0.7777777777777778, \"#fb9f3a\"], [0.8888888888888888, \"#fdca26\"], [1.0, \"#f0f921\"]], \"sequentialminus\": [[0.0, \"#0d0887\"], [0.1111111111111111, \"#46039f\"], [0.2222222222222222, \"#7201a8\"], [0.3333333333333333, \"#9c179e\"], [0.4444444444444444, \"#bd3786\"], [0.5555555555555556, \"#d8576b\"], [0.6666666666666666, \"#ed7953\"], [0.7777777777777778, \"#fb9f3a\"], [0.8888888888888888, \"#fdca26\"], [1.0, \"#f0f921\"]]}, \"colorway\": [\"#636efa\", \"#EF553B\", \"#00cc96\", \"#ab63fa\", \"#FFA15A\", \"#19d3f3\", \"#FF6692\", \"#B6E880\", \"#FF97FF\", \"#FECB52\"], \"font\": {\"color\": \"#2a3f5f\"}, \"geo\": {\"bgcolor\": \"white\", \"lakecolor\": \"white\", \"landcolor\": \"#E5ECF6\", \"showlakes\": true, \"showland\": true, \"subunitcolor\": \"white\"}, \"hoverlabel\": {\"align\": \"left\"}, \"hovermode\": \"closest\", \"mapbox\": {\"style\": \"light\"}, \"paper_bgcolor\": \"white\", \"plot_bgcolor\": \"#E5ECF6\", \"polar\": {\"angularaxis\": {\"gridcolor\": \"white\", \"linecolor\": \"white\", \"ticks\": \"\"}, \"bgcolor\": \"#E5ECF6\", \"radialaxis\": {\"gridcolor\": \"white\", \"linecolor\": \"white\", \"ticks\": \"\"}}, \"scene\": {\"xaxis\": {\"backgroundcolor\": \"#E5ECF6\", \"gridcolor\": \"white\", \"gridwidth\": 2, \"linecolor\": \"white\", \"showbackground\": true, \"ticks\": \"\", \"zerolinecolor\": \"white\"}, \"yaxis\": {\"backgroundcolor\": \"#E5ECF6\", \"gridcolor\": \"white\", \"gridwidth\": 2, \"linecolor\": \"white\", \"showbackground\": true, \"ticks\": \"\", \"zerolinecolor\": \"white\"}, \"zaxis\": {\"backgroundcolor\": \"#E5ECF6\", \"gridcolor\": \"white\", \"gridwidth\": 2, \"linecolor\": \"white\", \"showbackground\": true, \"ticks\": \"\", \"zerolinecolor\": \"white\"}}, \"shapedefaults\": {\"line\": {\"color\": \"#2a3f5f\"}}, \"ternary\": {\"aaxis\": {\"gridcolor\": \"white\", \"linecolor\": \"white\", \"ticks\": \"\"}, \"baxis\": {\"gridcolor\": \"white\", \"linecolor\": \"white\", \"ticks\": \"\"}, \"bgcolor\": \"#E5ECF6\", \"caxis\": {\"gridcolor\": \"white\", \"linecolor\": \"white\", \"ticks\": \"\"}}, \"title\": {\"x\": 0.05}, \"xaxis\": {\"automargin\": true, \"gridcolor\": \"white\", \"linecolor\": \"white\", \"ticks\": \"\", \"zerolinecolor\": \"white\", \"zerolinewidth\": 2}, \"yaxis\": {\"automargin\": true, \"gridcolor\": \"white\", \"linecolor\": \"white\", \"ticks\": \"\", \"zerolinecolor\": \"white\", \"zerolinewidth\": 2}}}, \"xaxis\": {\"title\": {\"text\": \"Epoki\"}}, \"yaxis\": {\"title\": {\"text\": \"binary_crossentropy\"}}},\n",
              "                        {\"responsive\": true}\n",
              "                    ).then(function(){\n",
              "                            \n",
              "var gd = document.getElementById('87a2119c-1633-4453-b14f-f75e51f38fb4');\n",
              "var x = new MutationObserver(function (mutations, observer) {{\n",
              "        var display = window.getComputedStyle(gd).display;\n",
              "        if (!display || display === 'none') {{\n",
              "            console.log([gd, 'removed!']);\n",
              "            Plotly.purge(gd);\n",
              "            observer.disconnect();\n",
              "        }}\n",
              "}});\n",
              "\n",
              "// Listen for the removal of the full notebook cells\n",
              "var notebookContainer = gd.closest('#notebook-container');\n",
              "if (notebookContainer) {{\n",
              "    x.observe(notebookContainer, {childList: true});\n",
              "}}\n",
              "\n",
              "// Listen for the clearing of the current output cell\n",
              "var outputEl = gd.closest('.output');\n",
              "if (outputEl) {{\n",
              "    x.observe(outputEl, {childList: true});\n",
              "}}\n",
              "\n",
              "                        })\n",
              "                };\n",
              "                \n",
              "            </script>\n",
              "        </div>\n",
              "</body>\n",
              "</html>"
            ]
          },
          "metadata": {
            "tags": []
          }
        }
      ]
    },
    {
      "cell_type": "code",
      "metadata": {
        "id": "yu_trUxhyrK-"
      },
      "source": [],
      "execution_count": null,
      "outputs": []
    }
  ]
}