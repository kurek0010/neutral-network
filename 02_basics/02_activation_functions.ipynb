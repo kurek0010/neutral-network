{
  "nbformat": 4,
  "nbformat_minor": 0,
  "metadata": {
    "colab": {
      "name": "Untitled30.ipynb",
      "provenance": [],
      "include_colab_link": true
    },
    "kernelspec": {
      "name": "python3",
      "display_name": "Python 3"
    },
    "accelerator": "GPU"
  },
  "cells": [
    {
      "cell_type": "markdown",
      "metadata": {
        "id": "view-in-github",
        "colab_type": "text"
      },
      "source": [
        "<a href=\"https://colab.research.google.com/github/kurek0010/neutral-network/blob/main/02_basics/02_activation_functions.ipynb\" target=\"_parent\"><img src=\"https://colab.research.google.com/assets/colab-badge.svg\" alt=\"Open In Colab\"/></a>"
      ]
    },
    {
      "cell_type": "markdown",
      "metadata": {
        "id": "w7URJZWkTrph"
      },
      "source": [
        "* @author: krakowiakpawel9@gmail.com  \n",
        "* @site: e-smartdata.org"
      ]
    },
    {
      "cell_type": "markdown",
      "metadata": {
        "id": "aJK8zEFX-rCh"
      },
      "source": [
        "### Spis treści:\n",
        "1. [Funkcje aktywacji](#a0)\n",
        "    1. [Import bibliotek](#a1)\n",
        "    2. [ReLU Function - Rectified Linear Unit](#a2)\n",
        "    3. [Funkcja Sigmoid](#a3)\n",
        "    4. [Tanh Function](#a4)\n",
        "    5. [Funkcja Softmax](#a5)\n",
        "  "
      ]
    },
    {
      "cell_type": "markdown",
      "metadata": {
        "id": "9VIrbuFPxsat"
      },
      "source": [
        "### <a name='a0'></a> 1. Funkcje Aktywacji\n",
        "#### <a name='a1'></a> 1.1 Import bibliotek"
      ]
    },
    {
      "cell_type": "code",
      "metadata": {
        "id": "Kl3iA-gm_j1d"
      },
      "source": [
        "import numpy as np\n",
        "import pandas as pd\n",
        "import matplotlib.pyplot as plt\n",
        "import plotly.graph_objects as go\n",
        "import plotly.express as px\n",
        "import math\n",
        "\n",
        "np.set_printoptions(precision=6)"
      ],
      "execution_count": null,
      "outputs": []
    },
    {
      "cell_type": "markdown",
      "metadata": {
        "id": "5VH4XY41_QIk"
      },
      "source": [
        "#### <a name='a2'></a> 1.2 ReLU Function - Rectified Linear Unit\n",
        "####     $$f(x) = max(x, 0)$$\n"
      ]
    },
    {
      "cell_type": "code",
      "metadata": {
        "id": "g5-Jsx0ww6BH"
      },
      "source": [
        "def max_relu(x):\n",
        "    return max(x, 0.0)"
      ],
      "execution_count": null,
      "outputs": []
    },
    {
      "cell_type": "code",
      "metadata": {
        "id": "QigwpBCzyj0I",
        "outputId": "ceeadbfe-3701-49f7-d916-5b93674d2cb5",
        "colab": {
          "base_uri": "https://localhost:8080/",
          "height": 103
        }
      },
      "source": [
        "for i in [-10., -5., 0., 5., 10.]:\n",
        "    print(max_relu(i))"
      ],
      "execution_count": null,
      "outputs": [
        {
          "output_type": "stream",
          "text": [
            "0.0\n",
            "0.0\n",
            "0.0\n",
            "5.0\n",
            "10.0\n"
          ],
          "name": "stdout"
        }
      ]
    },
    {
      "cell_type": "code",
      "metadata": {
        "id": "vkwyQ5ga_-cR",
        "outputId": "28079bb3-1b54-4d7a-9112-70aace6502f2",
        "colab": {
          "base_uri": "https://localhost:8080/",
          "height": 874
        }
      },
      "source": [
        "data = np.random.randn(50)\n",
        "data = sorted(data)\n",
        "data"
      ],
      "execution_count": null,
      "outputs": [
        {
          "output_type": "execute_result",
          "data": {
            "text/plain": [
              "[-1.5797220499662428,\n",
              " -1.358838889539144,\n",
              " -1.22166017145284,\n",
              " -1.1926521592885908,\n",
              " -1.1341014613159428,\n",
              " -1.1185265205545507,\n",
              " -0.9533366125664716,\n",
              " -0.8690937562126144,\n",
              " -0.8613103951105231,\n",
              " -0.7574854674492546,\n",
              " -0.6634324176984105,\n",
              " -0.40259762073340505,\n",
              " -0.35453938093851173,\n",
              " -0.32150344496790284,\n",
              " -0.29870787492254597,\n",
              " -0.22740174055235238,\n",
              " -0.21133188633733038,\n",
              " -0.20304842595348832,\n",
              " -0.18894717021645552,\n",
              " -0.1850975420744511,\n",
              " -0.1699276415344287,\n",
              " -0.15856484525817796,\n",
              " -0.1364540968664667,\n",
              " -0.1028839765582941,\n",
              " -0.04968576908410441,\n",
              " -0.02711845944252808,\n",
              " -0.019070191179337292,\n",
              " 0.025514277444553576,\n",
              " 0.03520856000665053,\n",
              " 0.054660240794517666,\n",
              " 0.15150587529697715,\n",
              " 0.1684314365267077,\n",
              " 0.18847180662057603,\n",
              " 0.2582618907517759,\n",
              " 0.2805593243189462,\n",
              " 0.304930060059796,\n",
              " 0.3260430529092424,\n",
              " 0.49481197155544443,\n",
              " 0.5930278900248482,\n",
              " 0.6364597622107113,\n",
              " 0.684246908243595,\n",
              " 0.6871298341686636,\n",
              " 0.7438407894256032,\n",
              " 0.8763693049812281,\n",
              " 1.1108432170145532,\n",
              " 1.1833294527490283,\n",
              " 1.465821299637735,\n",
              " 1.4899149857182525,\n",
              " 1.7277828719338202,\n",
              " 2.0430576275186603]"
            ]
          },
          "metadata": {
            "tags": []
          },
          "execution_count": 4
        }
      ]
    },
    {
      "cell_type": "code",
      "metadata": {
        "id": "DfAxh5JmAahe",
        "outputId": "fc1e7a80-4e3f-4ac4-c4ef-089afbe9ee1c",
        "colab": {
          "base_uri": "https://localhost:8080/",
          "height": 171
        }
      },
      "source": [
        "# wygenerowanie danych do wykresu\n",
        "max_relu_data = np.array([max_relu(x) for x in data])\n",
        "max_relu_data"
      ],
      "execution_count": null,
      "outputs": [
        {
          "output_type": "execute_result",
          "data": {
            "text/plain": [
              "array([0.      , 0.      , 0.      , 0.      , 0.      , 0.      ,\n",
              "       0.      , 0.      , 0.      , 0.      , 0.      , 0.      ,\n",
              "       0.      , 0.      , 0.      , 0.      , 0.      , 0.      ,\n",
              "       0.      , 0.      , 0.      , 0.      , 0.      , 0.      ,\n",
              "       0.      , 0.      , 0.      , 0.025514, 0.035209, 0.05466 ,\n",
              "       0.151506, 0.168431, 0.188472, 0.258262, 0.280559, 0.30493 ,\n",
              "       0.326043, 0.494812, 0.593028, 0.63646 , 0.684247, 0.68713 ,\n",
              "       0.743841, 0.876369, 1.110843, 1.183329, 1.465821, 1.489915,\n",
              "       1.727783, 2.043058])"
            ]
          },
          "metadata": {
            "tags": []
          },
          "execution_count": 5
        }
      ]
    },
    {
      "cell_type": "code",
      "metadata": {
        "id": "Texh_DsIAnzA",
        "outputId": "696c8cbd-c995-41da-baed-b4a8968ab660",
        "colab": {
          "base_uri": "https://localhost:8080/",
          "height": 203
        }
      },
      "source": [
        "df = pd.DataFrame({'data': data, 'max_relu_data': max_relu_data})\n",
        "df.head()"
      ],
      "execution_count": null,
      "outputs": [
        {
          "output_type": "execute_result",
          "data": {
            "text/html": [
              "<div>\n",
              "<style scoped>\n",
              "    .dataframe tbody tr th:only-of-type {\n",
              "        vertical-align: middle;\n",
              "    }\n",
              "\n",
              "    .dataframe tbody tr th {\n",
              "        vertical-align: top;\n",
              "    }\n",
              "\n",
              "    .dataframe thead th {\n",
              "        text-align: right;\n",
              "    }\n",
              "</style>\n",
              "<table border=\"1\" class=\"dataframe\">\n",
              "  <thead>\n",
              "    <tr style=\"text-align: right;\">\n",
              "      <th></th>\n",
              "      <th>data</th>\n",
              "      <th>max_relu_data</th>\n",
              "    </tr>\n",
              "  </thead>\n",
              "  <tbody>\n",
              "    <tr>\n",
              "      <th>0</th>\n",
              "      <td>-1.579722</td>\n",
              "      <td>0.0</td>\n",
              "    </tr>\n",
              "    <tr>\n",
              "      <th>1</th>\n",
              "      <td>-1.358839</td>\n",
              "      <td>0.0</td>\n",
              "    </tr>\n",
              "    <tr>\n",
              "      <th>2</th>\n",
              "      <td>-1.221660</td>\n",
              "      <td>0.0</td>\n",
              "    </tr>\n",
              "    <tr>\n",
              "      <th>3</th>\n",
              "      <td>-1.192652</td>\n",
              "      <td>0.0</td>\n",
              "    </tr>\n",
              "    <tr>\n",
              "      <th>4</th>\n",
              "      <td>-1.134101</td>\n",
              "      <td>0.0</td>\n",
              "    </tr>\n",
              "  </tbody>\n",
              "</table>\n",
              "</div>"
            ],
            "text/plain": [
              "       data  max_relu_data\n",
              "0 -1.579722            0.0\n",
              "1 -1.358839            0.0\n",
              "2 -1.221660            0.0\n",
              "3 -1.192652            0.0\n",
              "4 -1.134101            0.0"
            ]
          },
          "metadata": {
            "tags": []
          },
          "execution_count": 6
        }
      ]
    },
    {
      "cell_type": "code",
      "metadata": {
        "id": "r_39ck7EBC2s",
        "outputId": "0373211d-646b-4c5c-e545-5a4eac4e1b0c",
        "colab": {
          "base_uri": "https://localhost:8080/",
          "height": 417
        }
      },
      "source": [
        "px.line(df, x='data', y='max_relu_data', width=700, height=400, title='ReLU Function')"
      ],
      "execution_count": null,
      "outputs": [
        {
          "output_type": "display_data",
          "data": {
            "text/html": [
              "<html>\n",
              "<head><meta charset=\"utf-8\" /></head>\n",
              "<body>\n",
              "    <div>\n",
              "            <script src=\"https://cdnjs.cloudflare.com/ajax/libs/mathjax/2.7.5/MathJax.js?config=TeX-AMS-MML_SVG\"></script><script type=\"text/javascript\">if (window.MathJax) {MathJax.Hub.Config({SVG: {font: \"STIX-Web\"}});}</script>\n",
              "                <script type=\"text/javascript\">window.PlotlyConfig = {MathJaxConfig: 'local'};</script>\n",
              "        <script src=\"https://cdn.plot.ly/plotly-latest.min.js\"></script>    \n",
              "            <div id=\"cec56cfc-9708-4163-a8e7-27a99b679482\" class=\"plotly-graph-div\" style=\"height:400px; width:700px;\"></div>\n",
              "            <script type=\"text/javascript\">\n",
              "                \n",
              "                    window.PLOTLYENV=window.PLOTLYENV || {};\n",
              "                    \n",
              "                if (document.getElementById(\"cec56cfc-9708-4163-a8e7-27a99b679482\")) {\n",
              "                    Plotly.newPlot(\n",
              "                        'cec56cfc-9708-4163-a8e7-27a99b679482',\n",
              "                        [{\"hoverlabel\": {\"namelength\": 0}, \"hovertemplate\": \"data=%{x}<br>max_relu_data=%{y}\", \"legendgroup\": \"\", \"line\": {\"color\": \"#636efa\", \"dash\": \"solid\"}, \"mode\": \"lines\", \"name\": \"\", \"showlegend\": false, \"type\": \"scatter\", \"x\": [-1.5797220499662428, -1.358838889539144, -1.22166017145284, -1.1926521592885908, -1.1341014613159428, -1.1185265205545507, -0.9533366125664716, -0.8690937562126144, -0.8613103951105231, -0.7574854674492546, -0.6634324176984105, -0.40259762073340505, -0.35453938093851173, -0.32150344496790284, -0.29870787492254597, -0.22740174055235238, -0.21133188633733038, -0.20304842595348832, -0.18894717021645552, -0.1850975420744511, -0.1699276415344287, -0.15856484525817796, -0.1364540968664667, -0.1028839765582941, -0.04968576908410441, -0.02711845944252808, -0.019070191179337292, 0.025514277444553576, 0.03520856000665053, 0.054660240794517666, 0.15150587529697715, 0.1684314365267077, 0.18847180662057603, 0.2582618907517759, 0.2805593243189462, 0.304930060059796, 0.3260430529092424, 0.49481197155544443, 0.5930278900248482, 0.6364597622107113, 0.684246908243595, 0.6871298341686636, 0.7438407894256032, 0.8763693049812281, 1.1108432170145532, 1.1833294527490283, 1.465821299637735, 1.4899149857182525, 1.7277828719338202, 2.0430576275186603], \"xaxis\": \"x\", \"y\": [0.0, 0.0, 0.0, 0.0, 0.0, 0.0, 0.0, 0.0, 0.0, 0.0, 0.0, 0.0, 0.0, 0.0, 0.0, 0.0, 0.0, 0.0, 0.0, 0.0, 0.0, 0.0, 0.0, 0.0, 0.0, 0.0, 0.0, 0.025514277444553576, 0.03520856000665053, 0.054660240794517666, 0.15150587529697715, 0.1684314365267077, 0.18847180662057603, 0.2582618907517759, 0.2805593243189462, 0.304930060059796, 0.3260430529092424, 0.49481197155544443, 0.5930278900248482, 0.6364597622107113, 0.684246908243595, 0.6871298341686636, 0.7438407894256032, 0.8763693049812281, 1.1108432170145532, 1.1833294527490283, 1.465821299637735, 1.4899149857182525, 1.7277828719338202, 2.0430576275186603], \"yaxis\": \"y\"}],\n",
              "                        {\"height\": 400, \"legend\": {\"tracegroupgap\": 0}, \"template\": {\"data\": {\"bar\": [{\"error_x\": {\"color\": \"#2a3f5f\"}, \"error_y\": {\"color\": \"#2a3f5f\"}, \"marker\": {\"line\": {\"color\": \"#E5ECF6\", \"width\": 0.5}}, \"type\": \"bar\"}], \"barpolar\": [{\"marker\": {\"line\": {\"color\": \"#E5ECF6\", \"width\": 0.5}}, \"type\": \"barpolar\"}], \"carpet\": [{\"aaxis\": {\"endlinecolor\": \"#2a3f5f\", \"gridcolor\": \"white\", \"linecolor\": \"white\", \"minorgridcolor\": \"white\", \"startlinecolor\": \"#2a3f5f\"}, \"baxis\": {\"endlinecolor\": \"#2a3f5f\", \"gridcolor\": \"white\", \"linecolor\": \"white\", \"minorgridcolor\": \"white\", \"startlinecolor\": \"#2a3f5f\"}, \"type\": \"carpet\"}], \"choropleth\": [{\"colorbar\": {\"outlinewidth\": 0, \"ticks\": \"\"}, \"type\": \"choropleth\"}], \"contour\": [{\"colorbar\": {\"outlinewidth\": 0, \"ticks\": \"\"}, \"colorscale\": [[0.0, \"#0d0887\"], [0.1111111111111111, \"#46039f\"], [0.2222222222222222, \"#7201a8\"], [0.3333333333333333, \"#9c179e\"], [0.4444444444444444, \"#bd3786\"], [0.5555555555555556, \"#d8576b\"], [0.6666666666666666, \"#ed7953\"], [0.7777777777777778, \"#fb9f3a\"], [0.8888888888888888, \"#fdca26\"], [1.0, \"#f0f921\"]], \"type\": \"contour\"}], \"contourcarpet\": [{\"colorbar\": {\"outlinewidth\": 0, \"ticks\": \"\"}, \"type\": \"contourcarpet\"}], \"heatmap\": [{\"colorbar\": {\"outlinewidth\": 0, \"ticks\": \"\"}, \"colorscale\": [[0.0, \"#0d0887\"], [0.1111111111111111, \"#46039f\"], [0.2222222222222222, \"#7201a8\"], [0.3333333333333333, \"#9c179e\"], [0.4444444444444444, \"#bd3786\"], [0.5555555555555556, \"#d8576b\"], [0.6666666666666666, \"#ed7953\"], [0.7777777777777778, \"#fb9f3a\"], [0.8888888888888888, \"#fdca26\"], [1.0, \"#f0f921\"]], \"type\": \"heatmap\"}], \"heatmapgl\": [{\"colorbar\": {\"outlinewidth\": 0, \"ticks\": \"\"}, \"colorscale\": [[0.0, \"#0d0887\"], [0.1111111111111111, \"#46039f\"], [0.2222222222222222, \"#7201a8\"], [0.3333333333333333, \"#9c179e\"], [0.4444444444444444, \"#bd3786\"], [0.5555555555555556, \"#d8576b\"], [0.6666666666666666, \"#ed7953\"], [0.7777777777777778, \"#fb9f3a\"], [0.8888888888888888, \"#fdca26\"], [1.0, \"#f0f921\"]], \"type\": \"heatmapgl\"}], \"histogram\": [{\"marker\": {\"colorbar\": {\"outlinewidth\": 0, \"ticks\": \"\"}}, \"type\": \"histogram\"}], \"histogram2d\": [{\"colorbar\": {\"outlinewidth\": 0, \"ticks\": \"\"}, \"colorscale\": [[0.0, \"#0d0887\"], [0.1111111111111111, \"#46039f\"], [0.2222222222222222, \"#7201a8\"], [0.3333333333333333, \"#9c179e\"], [0.4444444444444444, \"#bd3786\"], [0.5555555555555556, \"#d8576b\"], [0.6666666666666666, \"#ed7953\"], [0.7777777777777778, \"#fb9f3a\"], [0.8888888888888888, \"#fdca26\"], [1.0, \"#f0f921\"]], \"type\": \"histogram2d\"}], \"histogram2dcontour\": [{\"colorbar\": {\"outlinewidth\": 0, \"ticks\": \"\"}, \"colorscale\": [[0.0, \"#0d0887\"], [0.1111111111111111, \"#46039f\"], [0.2222222222222222, \"#7201a8\"], [0.3333333333333333, \"#9c179e\"], [0.4444444444444444, \"#bd3786\"], [0.5555555555555556, \"#d8576b\"], [0.6666666666666666, \"#ed7953\"], [0.7777777777777778, \"#fb9f3a\"], [0.8888888888888888, \"#fdca26\"], [1.0, \"#f0f921\"]], \"type\": \"histogram2dcontour\"}], \"mesh3d\": [{\"colorbar\": {\"outlinewidth\": 0, \"ticks\": \"\"}, \"type\": \"mesh3d\"}], \"parcoords\": [{\"line\": {\"colorbar\": {\"outlinewidth\": 0, \"ticks\": \"\"}}, \"type\": \"parcoords\"}], \"pie\": [{\"automargin\": true, \"type\": \"pie\"}], \"scatter\": [{\"marker\": {\"colorbar\": {\"outlinewidth\": 0, \"ticks\": \"\"}}, \"type\": \"scatter\"}], \"scatter3d\": [{\"line\": {\"colorbar\": {\"outlinewidth\": 0, \"ticks\": \"\"}}, \"marker\": {\"colorbar\": {\"outlinewidth\": 0, \"ticks\": \"\"}}, \"type\": \"scatter3d\"}], \"scattercarpet\": [{\"marker\": {\"colorbar\": {\"outlinewidth\": 0, \"ticks\": \"\"}}, \"type\": \"scattercarpet\"}], \"scattergeo\": [{\"marker\": {\"colorbar\": {\"outlinewidth\": 0, \"ticks\": \"\"}}, \"type\": \"scattergeo\"}], \"scattergl\": [{\"marker\": {\"colorbar\": {\"outlinewidth\": 0, \"ticks\": \"\"}}, \"type\": \"scattergl\"}], \"scattermapbox\": [{\"marker\": {\"colorbar\": {\"outlinewidth\": 0, \"ticks\": \"\"}}, \"type\": \"scattermapbox\"}], \"scatterpolar\": [{\"marker\": {\"colorbar\": {\"outlinewidth\": 0, \"ticks\": \"\"}}, \"type\": \"scatterpolar\"}], \"scatterpolargl\": [{\"marker\": {\"colorbar\": {\"outlinewidth\": 0, \"ticks\": \"\"}}, \"type\": \"scatterpolargl\"}], \"scatterternary\": [{\"marker\": {\"colorbar\": {\"outlinewidth\": 0, \"ticks\": \"\"}}, \"type\": \"scatterternary\"}], \"surface\": [{\"colorbar\": {\"outlinewidth\": 0, \"ticks\": \"\"}, \"colorscale\": [[0.0, \"#0d0887\"], [0.1111111111111111, \"#46039f\"], [0.2222222222222222, \"#7201a8\"], [0.3333333333333333, \"#9c179e\"], [0.4444444444444444, \"#bd3786\"], [0.5555555555555556, \"#d8576b\"], [0.6666666666666666, \"#ed7953\"], [0.7777777777777778, \"#fb9f3a\"], [0.8888888888888888, \"#fdca26\"], [1.0, \"#f0f921\"]], \"type\": \"surface\"}], \"table\": [{\"cells\": {\"fill\": {\"color\": \"#EBF0F8\"}, \"line\": {\"color\": \"white\"}}, \"header\": {\"fill\": {\"color\": \"#C8D4E3\"}, \"line\": {\"color\": \"white\"}}, \"type\": \"table\"}]}, \"layout\": {\"annotationdefaults\": {\"arrowcolor\": \"#2a3f5f\", \"arrowhead\": 0, \"arrowwidth\": 1}, \"coloraxis\": {\"colorbar\": {\"outlinewidth\": 0, \"ticks\": \"\"}}, \"colorscale\": {\"diverging\": [[0, \"#8e0152\"], [0.1, \"#c51b7d\"], [0.2, \"#de77ae\"], [0.3, \"#f1b6da\"], [0.4, \"#fde0ef\"], [0.5, \"#f7f7f7\"], [0.6, \"#e6f5d0\"], [0.7, \"#b8e186\"], [0.8, \"#7fbc41\"], [0.9, \"#4d9221\"], [1, \"#276419\"]], \"sequential\": [[0.0, \"#0d0887\"], [0.1111111111111111, \"#46039f\"], [0.2222222222222222, \"#7201a8\"], [0.3333333333333333, \"#9c179e\"], [0.4444444444444444, \"#bd3786\"], [0.5555555555555556, \"#d8576b\"], [0.6666666666666666, \"#ed7953\"], [0.7777777777777778, \"#fb9f3a\"], [0.8888888888888888, \"#fdca26\"], [1.0, \"#f0f921\"]], \"sequentialminus\": [[0.0, \"#0d0887\"], [0.1111111111111111, \"#46039f\"], [0.2222222222222222, \"#7201a8\"], [0.3333333333333333, \"#9c179e\"], [0.4444444444444444, \"#bd3786\"], [0.5555555555555556, \"#d8576b\"], [0.6666666666666666, \"#ed7953\"], [0.7777777777777778, \"#fb9f3a\"], [0.8888888888888888, \"#fdca26\"], [1.0, \"#f0f921\"]]}, \"colorway\": [\"#636efa\", \"#EF553B\", \"#00cc96\", \"#ab63fa\", \"#FFA15A\", \"#19d3f3\", \"#FF6692\", \"#B6E880\", \"#FF97FF\", \"#FECB52\"], \"font\": {\"color\": \"#2a3f5f\"}, \"geo\": {\"bgcolor\": \"white\", \"lakecolor\": \"white\", \"landcolor\": \"#E5ECF6\", \"showlakes\": true, \"showland\": true, \"subunitcolor\": \"white\"}, \"hoverlabel\": {\"align\": \"left\"}, \"hovermode\": \"closest\", \"mapbox\": {\"style\": \"light\"}, \"paper_bgcolor\": \"white\", \"plot_bgcolor\": \"#E5ECF6\", \"polar\": {\"angularaxis\": {\"gridcolor\": \"white\", \"linecolor\": \"white\", \"ticks\": \"\"}, \"bgcolor\": \"#E5ECF6\", \"radialaxis\": {\"gridcolor\": \"white\", \"linecolor\": \"white\", \"ticks\": \"\"}}, \"scene\": {\"xaxis\": {\"backgroundcolor\": \"#E5ECF6\", \"gridcolor\": \"white\", \"gridwidth\": 2, \"linecolor\": \"white\", \"showbackground\": true, \"ticks\": \"\", \"zerolinecolor\": \"white\"}, \"yaxis\": {\"backgroundcolor\": \"#E5ECF6\", \"gridcolor\": \"white\", \"gridwidth\": 2, \"linecolor\": \"white\", \"showbackground\": true, \"ticks\": \"\", \"zerolinecolor\": \"white\"}, \"zaxis\": {\"backgroundcolor\": \"#E5ECF6\", \"gridcolor\": \"white\", \"gridwidth\": 2, \"linecolor\": \"white\", \"showbackground\": true, \"ticks\": \"\", \"zerolinecolor\": \"white\"}}, \"shapedefaults\": {\"line\": {\"color\": \"#2a3f5f\"}}, \"ternary\": {\"aaxis\": {\"gridcolor\": \"white\", \"linecolor\": \"white\", \"ticks\": \"\"}, \"baxis\": {\"gridcolor\": \"white\", \"linecolor\": \"white\", \"ticks\": \"\"}, \"bgcolor\": \"#E5ECF6\", \"caxis\": {\"gridcolor\": \"white\", \"linecolor\": \"white\", \"ticks\": \"\"}}, \"title\": {\"x\": 0.05}, \"xaxis\": {\"automargin\": true, \"gridcolor\": \"white\", \"linecolor\": \"white\", \"ticks\": \"\", \"title\": {\"standoff\": 15}, \"zerolinecolor\": \"white\", \"zerolinewidth\": 2}, \"yaxis\": {\"automargin\": true, \"gridcolor\": \"white\", \"linecolor\": \"white\", \"ticks\": \"\", \"title\": {\"standoff\": 15}, \"zerolinecolor\": \"white\", \"zerolinewidth\": 2}}}, \"title\": {\"text\": \"ReLU Function\"}, \"width\": 700, \"xaxis\": {\"anchor\": \"y\", \"domain\": [0.0, 1.0], \"title\": {\"text\": \"data\"}}, \"yaxis\": {\"anchor\": \"x\", \"domain\": [0.0, 1.0], \"title\": {\"text\": \"max_relu_data\"}}},\n",
              "                        {\"responsive\": true}\n",
              "                    ).then(function(){\n",
              "                            \n",
              "var gd = document.getElementById('cec56cfc-9708-4163-a8e7-27a99b679482');\n",
              "var x = new MutationObserver(function (mutations, observer) {{\n",
              "        var display = window.getComputedStyle(gd).display;\n",
              "        if (!display || display === 'none') {{\n",
              "            console.log([gd, 'removed!']);\n",
              "            Plotly.purge(gd);\n",
              "            observer.disconnect();\n",
              "        }}\n",
              "}});\n",
              "\n",
              "// Listen for the removal of the full notebook cells\n",
              "var notebookContainer = gd.closest('#notebook-container');\n",
              "if (notebookContainer) {{\n",
              "    x.observe(notebookContainer, {childList: true});\n",
              "}}\n",
              "\n",
              "// Listen for the clearing of the current output cell\n",
              "var outputEl = gd.closest('.output');\n",
              "if (outputEl) {{\n",
              "    x.observe(outputEl, {childList: true});\n",
              "}}\n",
              "\n",
              "                        })\n",
              "                };\n",
              "                \n",
              "            </script>\n",
              "        </div>\n",
              "</body>\n",
              "</html>"
            ]
          },
          "metadata": {
            "tags": []
          }
        }
      ]
    },
    {
      "cell_type": "markdown",
      "metadata": {
        "id": "vfh9ofCB1ruM"
      },
      "source": [
        "#### <a name='a3'></a> 1.3 Funkcja Sigmoid\n",
        "####    $$f(x) = \\frac{1}{1 + e^{-x}}$$"
      ]
    },
    {
      "cell_type": "code",
      "metadata": {
        "id": "VLM5thme0gr7"
      },
      "source": [
        "def sigmoid(x):\n",
        "    return 1 / (1 + np.exp(-x))"
      ],
      "execution_count": null,
      "outputs": []
    },
    {
      "cell_type": "code",
      "metadata": {
        "id": "cimu59j52An0",
        "outputId": "1f586e9b-c57f-48f6-e5da-9dfb22c4204b",
        "colab": {
          "base_uri": "https://localhost:8080/",
          "height": 137
        }
      },
      "source": [
        "for i in [-5., -3., -1., 0., 1., 3., 5.]:\n",
        "    print(sigmoid(i))"
      ],
      "execution_count": null,
      "outputs": [
        {
          "output_type": "stream",
          "text": [
            "0.0066928509242848554\n",
            "0.04742587317756678\n",
            "0.2689414213699951\n",
            "0.5\n",
            "0.7310585786300049\n",
            "0.9525741268224334\n",
            "0.9933071490757153\n"
          ],
          "name": "stdout"
        }
      ]
    },
    {
      "cell_type": "code",
      "metadata": {
        "id": "3mfVwiiQ2CxW",
        "outputId": "74a5e029-70e8-4545-e567-3e1e3b1b467a",
        "colab": {
          "base_uri": "https://localhost:8080/",
          "height": 874
        }
      },
      "source": [
        "data = 3 * np.random.randn(50)\n",
        "data = sorted(data)\n",
        "data"
      ],
      "execution_count": null,
      "outputs": [
        {
          "output_type": "execute_result",
          "data": {
            "text/plain": [
              "[-7.647391961111659,\n",
              " -6.65313531097829,\n",
              " -5.750612774187644,\n",
              " -4.787702477351778,\n",
              " -4.612361637430961,\n",
              " -4.592712003926982,\n",
              " -4.398910656973605,\n",
              " -3.8435194383113176,\n",
              " -3.442164497031639,\n",
              " -3.3586353622508893,\n",
              " -3.003329779477853,\n",
              " -2.945420383264633,\n",
              " -2.9205248492859104,\n",
              " -2.193386080548605,\n",
              " -1.6879897141323337,\n",
              " -1.6707143514325145,\n",
              " -1.5309736046444533,\n",
              " -1.411781698511211,\n",
              " -1.2655595579345427,\n",
              " -1.174912563637477,\n",
              " -1.1742599960568196,\n",
              " -0.813764906696854,\n",
              " -0.6871403654788645,\n",
              " -0.6212673972013364,\n",
              " -0.5271167503604521,\n",
              " -0.22701314210178913,\n",
              " -0.1901430800649474,\n",
              " -0.08836818267245866,\n",
              " -0.08121218927565359,\n",
              " 0.5787070667976575,\n",
              " 0.5802908412288956,\n",
              " 0.6548680297003242,\n",
              " 0.8372196660281892,\n",
              " 0.8605756466718426,\n",
              " 0.9820874715433526,\n",
              " 0.9965705596170036,\n",
              " 1.719443087682565,\n",
              " 1.7480688726220737,\n",
              " 1.8295688951396043,\n",
              " 1.8508460371763307,\n",
              " 2.089232605086383,\n",
              " 2.0941452807665293,\n",
              " 2.285441023471363,\n",
              " 2.438291194857111,\n",
              " 2.8907715383898642,\n",
              " 3.415959991332347,\n",
              " 4.031681911650685,\n",
              " 4.356837449514156,\n",
              " 5.282041587466233,\n",
              " 5.2996244846548946]"
            ]
          },
          "metadata": {
            "tags": []
          },
          "execution_count": 10
        }
      ]
    },
    {
      "cell_type": "code",
      "metadata": {
        "id": "oOzcLyAzCdQk",
        "outputId": "a93169a0-f467-47a4-e151-f162627f8663",
        "colab": {
          "base_uri": "https://localhost:8080/",
          "height": 874
        }
      },
      "source": [
        "sigmoid_data = [sigmoid(x) for x in sorted(data)]\n",
        "sigmoid_data"
      ],
      "execution_count": null,
      "outputs": [
        {
          "output_type": "execute_result",
          "data": {
            "text/plain": [
              "[0.000477059596543607,\n",
              " 0.0012883094151746957,\n",
              " 0.003170745462349847,\n",
              " 0.008262735774329328,\n",
              " 0.009830740483779209,\n",
              " 0.010023865823889136,\n",
              " 0.012141493708037496,\n",
              " 0.020968973559867782,\n",
              " 0.031003391894338057,\n",
              " 0.0336135235010082,\n",
              " 0.04727567135184786,\n",
              " 0.049953403887402936,\n",
              " 0.05114822288689684,\n",
              " 0.1003459955271467,\n",
              " 0.15604039525105293,\n",
              " 0.15832896049339967,\n",
              " 0.17785128046444007,\n",
              " 0.19595318782410812,\n",
              " 0.22001833007028343,\n",
              " 0.23596816349465574,\n",
              " 0.23608583333978414,\n",
              " 0.30708879769721453,\n",
              " 0.3346695148106505,\n",
              " 0.3494932566267554,\n",
              " 0.37118961091877345,\n",
              " 0.4434891964775577,\n",
              " 0.45260693297289023,\n",
              " 0.4779223193947626,\n",
              " 0.4797081042527142,\n",
              " 0.640769848191538,\n",
              " 0.6411343261516946,\n",
              " 0.6581066220471775,\n",
              " 0.6978793226145711,\n",
              " 0.7027809093996539,\n",
              " 0.7275222199014837,\n",
              " 0.7303837756727772,\n",
              " 0.8480570886124996,\n",
              " 0.8517090647843407,\n",
              " 0.8617103619624781,\n",
              " 0.8642264068469864,\n",
              " 0.8898522317423493,\n",
              " 0.890332827403604,\n",
              " 0.9076640716889858,\n",
              " 0.9197009811837066,\n",
              " 0.9473883511413119,\n",
              " 0.9681996183283971,\n",
              " 0.9825649159286723,\n",
              " 0.9873433795788281,\n",
              " 0.9949436518322581,\n",
              " 0.9950313421583095]"
            ]
          },
          "metadata": {
            "tags": []
          },
          "execution_count": 11
        }
      ]
    },
    {
      "cell_type": "code",
      "metadata": {
        "id": "u6vFMyxWCjRz",
        "outputId": "0a29b4b6-219c-4392-edfc-99d69d3d7a52",
        "colab": {
          "base_uri": "https://localhost:8080/",
          "height": 203
        }
      },
      "source": [
        "df = pd.DataFrame({'data': data, 'sigmoid_data': sigmoid_data})\n",
        "df.head()"
      ],
      "execution_count": null,
      "outputs": [
        {
          "output_type": "execute_result",
          "data": {
            "text/html": [
              "<div>\n",
              "<style scoped>\n",
              "    .dataframe tbody tr th:only-of-type {\n",
              "        vertical-align: middle;\n",
              "    }\n",
              "\n",
              "    .dataframe tbody tr th {\n",
              "        vertical-align: top;\n",
              "    }\n",
              "\n",
              "    .dataframe thead th {\n",
              "        text-align: right;\n",
              "    }\n",
              "</style>\n",
              "<table border=\"1\" class=\"dataframe\">\n",
              "  <thead>\n",
              "    <tr style=\"text-align: right;\">\n",
              "      <th></th>\n",
              "      <th>data</th>\n",
              "      <th>sigmoid_data</th>\n",
              "    </tr>\n",
              "  </thead>\n",
              "  <tbody>\n",
              "    <tr>\n",
              "      <th>0</th>\n",
              "      <td>-7.647392</td>\n",
              "      <td>0.000477</td>\n",
              "    </tr>\n",
              "    <tr>\n",
              "      <th>1</th>\n",
              "      <td>-6.653135</td>\n",
              "      <td>0.001288</td>\n",
              "    </tr>\n",
              "    <tr>\n",
              "      <th>2</th>\n",
              "      <td>-5.750613</td>\n",
              "      <td>0.003171</td>\n",
              "    </tr>\n",
              "    <tr>\n",
              "      <th>3</th>\n",
              "      <td>-4.787702</td>\n",
              "      <td>0.008263</td>\n",
              "    </tr>\n",
              "    <tr>\n",
              "      <th>4</th>\n",
              "      <td>-4.612362</td>\n",
              "      <td>0.009831</td>\n",
              "    </tr>\n",
              "  </tbody>\n",
              "</table>\n",
              "</div>"
            ],
            "text/plain": [
              "       data  sigmoid_data\n",
              "0 -7.647392      0.000477\n",
              "1 -6.653135      0.001288\n",
              "2 -5.750613      0.003171\n",
              "3 -4.787702      0.008263\n",
              "4 -4.612362      0.009831"
            ]
          },
          "metadata": {
            "tags": []
          },
          "execution_count": 12
        }
      ]
    },
    {
      "cell_type": "code",
      "metadata": {
        "id": "8nVABhkyCUr1",
        "outputId": "d6aab915-5360-4766-e6f7-12201074111a",
        "colab": {
          "base_uri": "https://localhost:8080/",
          "height": 417
        }
      },
      "source": [
        "px.line(df, x='data', y='sigmoid_data', width=700, height=400, title='Sigmoid Function')"
      ],
      "execution_count": null,
      "outputs": [
        {
          "output_type": "display_data",
          "data": {
            "text/html": [
              "<html>\n",
              "<head><meta charset=\"utf-8\" /></head>\n",
              "<body>\n",
              "    <div>\n",
              "            <script src=\"https://cdnjs.cloudflare.com/ajax/libs/mathjax/2.7.5/MathJax.js?config=TeX-AMS-MML_SVG\"></script><script type=\"text/javascript\">if (window.MathJax) {MathJax.Hub.Config({SVG: {font: \"STIX-Web\"}});}</script>\n",
              "                <script type=\"text/javascript\">window.PlotlyConfig = {MathJaxConfig: 'local'};</script>\n",
              "        <script src=\"https://cdn.plot.ly/plotly-latest.min.js\"></script>    \n",
              "            <div id=\"69c1a7b1-a1df-4f0d-bfd3-b28a8a52b4a0\" class=\"plotly-graph-div\" style=\"height:400px; width:700px;\"></div>\n",
              "            <script type=\"text/javascript\">\n",
              "                \n",
              "                    window.PLOTLYENV=window.PLOTLYENV || {};\n",
              "                    \n",
              "                if (document.getElementById(\"69c1a7b1-a1df-4f0d-bfd3-b28a8a52b4a0\")) {\n",
              "                    Plotly.newPlot(\n",
              "                        '69c1a7b1-a1df-4f0d-bfd3-b28a8a52b4a0',\n",
              "                        [{\"hoverlabel\": {\"namelength\": 0}, \"hovertemplate\": \"data=%{x}<br>sigmoid_data=%{y}\", \"legendgroup\": \"\", \"line\": {\"color\": \"#636efa\", \"dash\": \"solid\"}, \"mode\": \"lines\", \"name\": \"\", \"showlegend\": false, \"type\": \"scatter\", \"x\": [-7.647391961111659, -6.65313531097829, -5.750612774187644, -4.787702477351778, -4.612361637430961, -4.592712003926982, -4.398910656973605, -3.8435194383113176, -3.442164497031639, -3.3586353622508893, -3.003329779477853, -2.945420383264633, -2.9205248492859104, -2.193386080548605, -1.6879897141323337, -1.6707143514325145, -1.5309736046444533, -1.411781698511211, -1.2655595579345427, -1.174912563637477, -1.1742599960568196, -0.813764906696854, -0.6871403654788645, -0.6212673972013364, -0.5271167503604521, -0.22701314210178913, -0.1901430800649474, -0.08836818267245866, -0.08121218927565359, 0.5787070667976575, 0.5802908412288956, 0.6548680297003242, 0.8372196660281892, 0.8605756466718426, 0.9820874715433526, 0.9965705596170036, 1.719443087682565, 1.7480688726220737, 1.8295688951396043, 1.8508460371763307, 2.089232605086383, 2.0941452807665293, 2.285441023471363, 2.438291194857111, 2.8907715383898642, 3.415959991332347, 4.031681911650685, 4.356837449514156, 5.282041587466233, 5.2996244846548946], \"xaxis\": \"x\", \"y\": [0.000477059596543607, 0.0012883094151746957, 0.003170745462349847, 0.008262735774329328, 0.009830740483779209, 0.010023865823889136, 0.012141493708037496, 0.020968973559867782, 0.031003391894338057, 0.0336135235010082, 0.04727567135184786, 0.049953403887402936, 0.05114822288689684, 0.1003459955271467, 0.15604039525105293, 0.15832896049339967, 0.17785128046444007, 0.19595318782410812, 0.22001833007028343, 0.23596816349465574, 0.23608583333978414, 0.30708879769721453, 0.3346695148106505, 0.3494932566267554, 0.37118961091877345, 0.4434891964775577, 0.45260693297289023, 0.4779223193947626, 0.4797081042527142, 0.640769848191538, 0.6411343261516946, 0.6581066220471775, 0.6978793226145711, 0.7027809093996539, 0.7275222199014837, 0.7303837756727772, 0.8480570886124996, 0.8517090647843407, 0.8617103619624781, 0.8642264068469864, 0.8898522317423493, 0.890332827403604, 0.9076640716889858, 0.9197009811837066, 0.9473883511413119, 0.9681996183283971, 0.9825649159286723, 0.9873433795788281, 0.9949436518322581, 0.9950313421583095], \"yaxis\": \"y\"}],\n",
              "                        {\"height\": 400, \"legend\": {\"tracegroupgap\": 0}, \"template\": {\"data\": {\"bar\": [{\"error_x\": {\"color\": \"#2a3f5f\"}, \"error_y\": {\"color\": \"#2a3f5f\"}, \"marker\": {\"line\": {\"color\": \"#E5ECF6\", \"width\": 0.5}}, \"type\": \"bar\"}], \"barpolar\": [{\"marker\": {\"line\": {\"color\": \"#E5ECF6\", \"width\": 0.5}}, \"type\": \"barpolar\"}], \"carpet\": [{\"aaxis\": {\"endlinecolor\": \"#2a3f5f\", \"gridcolor\": \"white\", \"linecolor\": \"white\", \"minorgridcolor\": \"white\", \"startlinecolor\": \"#2a3f5f\"}, \"baxis\": {\"endlinecolor\": \"#2a3f5f\", \"gridcolor\": \"white\", \"linecolor\": \"white\", \"minorgridcolor\": \"white\", \"startlinecolor\": \"#2a3f5f\"}, \"type\": \"carpet\"}], \"choropleth\": [{\"colorbar\": {\"outlinewidth\": 0, \"ticks\": \"\"}, \"type\": \"choropleth\"}], \"contour\": [{\"colorbar\": {\"outlinewidth\": 0, \"ticks\": \"\"}, \"colorscale\": [[0.0, \"#0d0887\"], [0.1111111111111111, \"#46039f\"], [0.2222222222222222, \"#7201a8\"], [0.3333333333333333, \"#9c179e\"], [0.4444444444444444, \"#bd3786\"], [0.5555555555555556, \"#d8576b\"], [0.6666666666666666, \"#ed7953\"], [0.7777777777777778, \"#fb9f3a\"], [0.8888888888888888, \"#fdca26\"], [1.0, \"#f0f921\"]], \"type\": \"contour\"}], \"contourcarpet\": [{\"colorbar\": {\"outlinewidth\": 0, \"ticks\": \"\"}, \"type\": \"contourcarpet\"}], \"heatmap\": [{\"colorbar\": {\"outlinewidth\": 0, \"ticks\": \"\"}, \"colorscale\": [[0.0, \"#0d0887\"], [0.1111111111111111, \"#46039f\"], [0.2222222222222222, \"#7201a8\"], [0.3333333333333333, \"#9c179e\"], [0.4444444444444444, \"#bd3786\"], [0.5555555555555556, \"#d8576b\"], [0.6666666666666666, \"#ed7953\"], [0.7777777777777778, \"#fb9f3a\"], [0.8888888888888888, \"#fdca26\"], [1.0, \"#f0f921\"]], \"type\": \"heatmap\"}], \"heatmapgl\": [{\"colorbar\": {\"outlinewidth\": 0, \"ticks\": \"\"}, \"colorscale\": [[0.0, \"#0d0887\"], [0.1111111111111111, \"#46039f\"], [0.2222222222222222, \"#7201a8\"], [0.3333333333333333, \"#9c179e\"], [0.4444444444444444, \"#bd3786\"], [0.5555555555555556, \"#d8576b\"], [0.6666666666666666, \"#ed7953\"], [0.7777777777777778, \"#fb9f3a\"], [0.8888888888888888, \"#fdca26\"], [1.0, \"#f0f921\"]], \"type\": \"heatmapgl\"}], \"histogram\": [{\"marker\": {\"colorbar\": {\"outlinewidth\": 0, \"ticks\": \"\"}}, \"type\": \"histogram\"}], \"histogram2d\": [{\"colorbar\": {\"outlinewidth\": 0, \"ticks\": \"\"}, \"colorscale\": [[0.0, \"#0d0887\"], [0.1111111111111111, \"#46039f\"], [0.2222222222222222, \"#7201a8\"], [0.3333333333333333, \"#9c179e\"], [0.4444444444444444, \"#bd3786\"], [0.5555555555555556, \"#d8576b\"], [0.6666666666666666, \"#ed7953\"], [0.7777777777777778, \"#fb9f3a\"], [0.8888888888888888, \"#fdca26\"], [1.0, \"#f0f921\"]], \"type\": \"histogram2d\"}], \"histogram2dcontour\": [{\"colorbar\": {\"outlinewidth\": 0, \"ticks\": \"\"}, \"colorscale\": [[0.0, \"#0d0887\"], [0.1111111111111111, \"#46039f\"], [0.2222222222222222, \"#7201a8\"], [0.3333333333333333, \"#9c179e\"], [0.4444444444444444, \"#bd3786\"], [0.5555555555555556, \"#d8576b\"], [0.6666666666666666, \"#ed7953\"], [0.7777777777777778, \"#fb9f3a\"], [0.8888888888888888, \"#fdca26\"], [1.0, \"#f0f921\"]], \"type\": \"histogram2dcontour\"}], \"mesh3d\": [{\"colorbar\": {\"outlinewidth\": 0, \"ticks\": \"\"}, \"type\": \"mesh3d\"}], \"parcoords\": [{\"line\": {\"colorbar\": {\"outlinewidth\": 0, \"ticks\": \"\"}}, \"type\": \"parcoords\"}], \"pie\": [{\"automargin\": true, \"type\": \"pie\"}], \"scatter\": [{\"marker\": {\"colorbar\": {\"outlinewidth\": 0, \"ticks\": \"\"}}, \"type\": \"scatter\"}], \"scatter3d\": [{\"line\": {\"colorbar\": {\"outlinewidth\": 0, \"ticks\": \"\"}}, \"marker\": {\"colorbar\": {\"outlinewidth\": 0, \"ticks\": \"\"}}, \"type\": \"scatter3d\"}], \"scattercarpet\": [{\"marker\": {\"colorbar\": {\"outlinewidth\": 0, \"ticks\": \"\"}}, \"type\": \"scattercarpet\"}], \"scattergeo\": [{\"marker\": {\"colorbar\": {\"outlinewidth\": 0, \"ticks\": \"\"}}, \"type\": \"scattergeo\"}], \"scattergl\": [{\"marker\": {\"colorbar\": {\"outlinewidth\": 0, \"ticks\": \"\"}}, \"type\": \"scattergl\"}], \"scattermapbox\": [{\"marker\": {\"colorbar\": {\"outlinewidth\": 0, \"ticks\": \"\"}}, \"type\": \"scattermapbox\"}], \"scatterpolar\": [{\"marker\": {\"colorbar\": {\"outlinewidth\": 0, \"ticks\": \"\"}}, \"type\": \"scatterpolar\"}], \"scatterpolargl\": [{\"marker\": {\"colorbar\": {\"outlinewidth\": 0, \"ticks\": \"\"}}, \"type\": \"scatterpolargl\"}], \"scatterternary\": [{\"marker\": {\"colorbar\": {\"outlinewidth\": 0, \"ticks\": \"\"}}, \"type\": \"scatterternary\"}], \"surface\": [{\"colorbar\": {\"outlinewidth\": 0, \"ticks\": \"\"}, \"colorscale\": [[0.0, \"#0d0887\"], [0.1111111111111111, \"#46039f\"], [0.2222222222222222, \"#7201a8\"], [0.3333333333333333, \"#9c179e\"], [0.4444444444444444, \"#bd3786\"], [0.5555555555555556, \"#d8576b\"], [0.6666666666666666, \"#ed7953\"], [0.7777777777777778, \"#fb9f3a\"], [0.8888888888888888, \"#fdca26\"], [1.0, \"#f0f921\"]], \"type\": \"surface\"}], \"table\": [{\"cells\": {\"fill\": {\"color\": \"#EBF0F8\"}, \"line\": {\"color\": \"white\"}}, \"header\": {\"fill\": {\"color\": \"#C8D4E3\"}, \"line\": {\"color\": \"white\"}}, \"type\": \"table\"}]}, \"layout\": {\"annotationdefaults\": {\"arrowcolor\": \"#2a3f5f\", \"arrowhead\": 0, \"arrowwidth\": 1}, \"coloraxis\": {\"colorbar\": {\"outlinewidth\": 0, \"ticks\": \"\"}}, \"colorscale\": {\"diverging\": [[0, \"#8e0152\"], [0.1, \"#c51b7d\"], [0.2, \"#de77ae\"], [0.3, \"#f1b6da\"], [0.4, \"#fde0ef\"], [0.5, \"#f7f7f7\"], [0.6, \"#e6f5d0\"], [0.7, \"#b8e186\"], [0.8, \"#7fbc41\"], [0.9, \"#4d9221\"], [1, \"#276419\"]], \"sequential\": [[0.0, \"#0d0887\"], [0.1111111111111111, \"#46039f\"], [0.2222222222222222, \"#7201a8\"], [0.3333333333333333, \"#9c179e\"], [0.4444444444444444, \"#bd3786\"], [0.5555555555555556, \"#d8576b\"], [0.6666666666666666, \"#ed7953\"], [0.7777777777777778, \"#fb9f3a\"], [0.8888888888888888, \"#fdca26\"], [1.0, \"#f0f921\"]], \"sequentialminus\": [[0.0, \"#0d0887\"], [0.1111111111111111, \"#46039f\"], [0.2222222222222222, \"#7201a8\"], [0.3333333333333333, \"#9c179e\"], [0.4444444444444444, \"#bd3786\"], [0.5555555555555556, \"#d8576b\"], [0.6666666666666666, \"#ed7953\"], [0.7777777777777778, \"#fb9f3a\"], [0.8888888888888888, \"#fdca26\"], [1.0, \"#f0f921\"]]}, \"colorway\": [\"#636efa\", \"#EF553B\", \"#00cc96\", \"#ab63fa\", \"#FFA15A\", \"#19d3f3\", \"#FF6692\", \"#B6E880\", \"#FF97FF\", \"#FECB52\"], \"font\": {\"color\": \"#2a3f5f\"}, \"geo\": {\"bgcolor\": \"white\", \"lakecolor\": \"white\", \"landcolor\": \"#E5ECF6\", \"showlakes\": true, \"showland\": true, \"subunitcolor\": \"white\"}, \"hoverlabel\": {\"align\": \"left\"}, \"hovermode\": \"closest\", \"mapbox\": {\"style\": \"light\"}, \"paper_bgcolor\": \"white\", \"plot_bgcolor\": \"#E5ECF6\", \"polar\": {\"angularaxis\": {\"gridcolor\": \"white\", \"linecolor\": \"white\", \"ticks\": \"\"}, \"bgcolor\": \"#E5ECF6\", \"radialaxis\": {\"gridcolor\": \"white\", \"linecolor\": \"white\", \"ticks\": \"\"}}, \"scene\": {\"xaxis\": {\"backgroundcolor\": \"#E5ECF6\", \"gridcolor\": \"white\", \"gridwidth\": 2, \"linecolor\": \"white\", \"showbackground\": true, \"ticks\": \"\", \"zerolinecolor\": \"white\"}, \"yaxis\": {\"backgroundcolor\": \"#E5ECF6\", \"gridcolor\": \"white\", \"gridwidth\": 2, \"linecolor\": \"white\", \"showbackground\": true, \"ticks\": \"\", \"zerolinecolor\": \"white\"}, \"zaxis\": {\"backgroundcolor\": \"#E5ECF6\", \"gridcolor\": \"white\", \"gridwidth\": 2, \"linecolor\": \"white\", \"showbackground\": true, \"ticks\": \"\", \"zerolinecolor\": \"white\"}}, \"shapedefaults\": {\"line\": {\"color\": \"#2a3f5f\"}}, \"ternary\": {\"aaxis\": {\"gridcolor\": \"white\", \"linecolor\": \"white\", \"ticks\": \"\"}, \"baxis\": {\"gridcolor\": \"white\", \"linecolor\": \"white\", \"ticks\": \"\"}, \"bgcolor\": \"#E5ECF6\", \"caxis\": {\"gridcolor\": \"white\", \"linecolor\": \"white\", \"ticks\": \"\"}}, \"title\": {\"x\": 0.05}, \"xaxis\": {\"automargin\": true, \"gridcolor\": \"white\", \"linecolor\": \"white\", \"ticks\": \"\", \"title\": {\"standoff\": 15}, \"zerolinecolor\": \"white\", \"zerolinewidth\": 2}, \"yaxis\": {\"automargin\": true, \"gridcolor\": \"white\", \"linecolor\": \"white\", \"ticks\": \"\", \"title\": {\"standoff\": 15}, \"zerolinecolor\": \"white\", \"zerolinewidth\": 2}}}, \"title\": {\"text\": \"Sigmoid Function\"}, \"width\": 700, \"xaxis\": {\"anchor\": \"y\", \"domain\": [0.0, 1.0], \"title\": {\"text\": \"data\"}}, \"yaxis\": {\"anchor\": \"x\", \"domain\": [0.0, 1.0], \"title\": {\"text\": \"sigmoid_data\"}}},\n",
              "                        {\"responsive\": true}\n",
              "                    ).then(function(){\n",
              "                            \n",
              "var gd = document.getElementById('69c1a7b1-a1df-4f0d-bfd3-b28a8a52b4a0');\n",
              "var x = new MutationObserver(function (mutations, observer) {{\n",
              "        var display = window.getComputedStyle(gd).display;\n",
              "        if (!display || display === 'none') {{\n",
              "            console.log([gd, 'removed!']);\n",
              "            Plotly.purge(gd);\n",
              "            observer.disconnect();\n",
              "        }}\n",
              "}});\n",
              "\n",
              "// Listen for the removal of the full notebook cells\n",
              "var notebookContainer = gd.closest('#notebook-container');\n",
              "if (notebookContainer) {{\n",
              "    x.observe(notebookContainer, {childList: true});\n",
              "}}\n",
              "\n",
              "// Listen for the clearing of the current output cell\n",
              "var outputEl = gd.closest('.output');\n",
              "if (outputEl) {{\n",
              "    x.observe(outputEl, {childList: true});\n",
              "}}\n",
              "\n",
              "                        })\n",
              "                };\n",
              "                \n",
              "            </script>\n",
              "        </div>\n",
              "</body>\n",
              "</html>"
            ]
          },
          "metadata": {
            "tags": []
          }
        }
      ]
    },
    {
      "cell_type": "markdown",
      "metadata": {
        "id": "pptPQDGR_rDk"
      },
      "source": [
        "#### <a name='a4'></a> 1.4 Tanh Function\n",
        "\n",
        "####   $$tanh (x) = \\frac{e^{x} - e^{-x}}{e^{x} + e^{-x}}$$"
      ]
    },
    {
      "cell_type": "code",
      "metadata": {
        "id": "y-hHbl9S_seo"
      },
      "source": [
        "def tanh(x):\n",
        "    return (np.exp(x) - np.exp(-x)) / (np.exp(x) + np.exp(-x))"
      ],
      "execution_count": null,
      "outputs": []
    },
    {
      "cell_type": "code",
      "metadata": {
        "id": "mCy8eQF0F7qd",
        "outputId": "0da19f35-53b9-4d74-a331-bb8a3629e805",
        "colab": {
          "base_uri": "https://localhost:8080/",
          "height": 1000
        }
      },
      "source": [
        "data = 2 * np.random.randn(100)\n",
        "data = sorted(data)\n",
        "data"
      ],
      "execution_count": null,
      "outputs": [
        {
          "output_type": "execute_result",
          "data": {
            "text/plain": [
              "[-4.325856900294617,\n",
              " -4.296594202607075,\n",
              " -3.960083295229817,\n",
              " -3.510984321031611,\n",
              " -3.2712622380541325,\n",
              " -3.2631649653380785,\n",
              " -3.0461198961725726,\n",
              " -2.7448910657668755,\n",
              " -2.729189340273211,\n",
              " -2.5790472475250845,\n",
              " -2.484838330845703,\n",
              " -2.4230336823076413,\n",
              " -2.390652531330091,\n",
              " -2.3486929794932454,\n",
              " -2.3423709396188372,\n",
              " -2.287465638860627,\n",
              " -2.241920678190039,\n",
              " -2.2211741652214383,\n",
              " -1.9862900414449005,\n",
              " -1.9477798440807563,\n",
              " -1.8088738102917474,\n",
              " -1.736913214628526,\n",
              " -1.719721802473026,\n",
              " -1.591361509276441,\n",
              " -1.4012689400736136,\n",
              " -1.387303448379706,\n",
              " -1.2652863524165743,\n",
              " -1.2617358624172212,\n",
              " -1.253828059805766,\n",
              " -1.2319451646094897,\n",
              " -1.0584256292877259,\n",
              " -1.0372320340805483,\n",
              " -0.893142950046301,\n",
              " -0.8366145306283419,\n",
              " -0.7317411843065749,\n",
              " -0.7090768835449909,\n",
              " -0.7019290569766113,\n",
              " -0.677462143784749,\n",
              " -0.6419668805400927,\n",
              " -0.6123676032357502,\n",
              " -0.6007404450457675,\n",
              " -0.3386910441226449,\n",
              " -0.32551994951021795,\n",
              " -0.2712570640294516,\n",
              " -0.22929838476082615,\n",
              " -0.10095405383979958,\n",
              " -0.06024898895347031,\n",
              " 0.006587597317280676,\n",
              " 0.04337416858574562,\n",
              " 0.17302931665246044,\n",
              " 0.2670075670091073,\n",
              " 0.3078756432053703,\n",
              " 0.3100354471689428,\n",
              " 0.35855206892266794,\n",
              " 0.42657378748172126,\n",
              " 0.47891923121758473,\n",
              " 0.48745332997764546,\n",
              " 0.49688338168361373,\n",
              " 0.5115576300674908,\n",
              " 0.6021912124310997,\n",
              " 0.7228850443582987,\n",
              " 0.7305837605031745,\n",
              " 0.7801053461057985,\n",
              " 0.89544382069403,\n",
              " 0.9653162766793344,\n",
              " 1.0391310802757416,\n",
              " 1.1197233945080383,\n",
              " 1.1238928934419141,\n",
              " 1.1840143225898867,\n",
              " 1.1846385023188175,\n",
              " 1.2186817538186474,\n",
              " 1.2658616540183114,\n",
              " 1.2881825958624147,\n",
              " 1.2898365321316463,\n",
              " 1.3854565676695412,\n",
              " 1.4181146862136802,\n",
              " 1.511641926154272,\n",
              " 1.5901890943881871,\n",
              " 1.646859762235371,\n",
              " 1.692510291928892,\n",
              " 1.7022593390563423,\n",
              " 1.7174099155147236,\n",
              " 1.750013419862628,\n",
              " 1.8906648021126506,\n",
              " 2.262621241412929,\n",
              " 2.3973854429529324,\n",
              " 2.4616981516974383,\n",
              " 2.5439454657543483,\n",
              " 2.9300864508143594,\n",
              " 3.0533293508469423,\n",
              " 3.0898965338755375,\n",
              " 3.1262479341689144,\n",
              " 3.5865093903368304,\n",
              " 3.7201829409435545,\n",
              " 3.7379103980215573,\n",
              " 3.851362948772357,\n",
              " 3.9038895501776185,\n",
              " 4.736922711131629,\n",
              " 5.100388362118965,\n",
              " 7.397676092920958]"
            ]
          },
          "metadata": {
            "tags": []
          },
          "execution_count": 15
        }
      ]
    },
    {
      "cell_type": "code",
      "metadata": {
        "id": "BQs0XUeWF_Xy",
        "outputId": "818ce3bb-371b-49f0-de2d-1df2505c024a",
        "colab": {
          "base_uri": "https://localhost:8080/",
          "height": 1000
        }
      },
      "source": [
        "tanh_data = [tanh(x) for x in sorted(data)]\n",
        "tanh_data"
      ],
      "execution_count": null,
      "outputs": [
        {
          "output_type": "execute_result",
          "data": {
            "text/plain": [
              "[-0.9996504071728578,\n",
              " -0.9996293404499845,\n",
              " -0.9992735803542623,\n",
              " -0.9982174549481209,\n",
              " -0.9971224530609107,\n",
              " -0.997075541809028,\n",
              " -0.995489514139215,\n",
              " -0.9917764656661262,\n",
              " -0.9915152335663289,\n",
              " -0.9885605055121526,\n",
              " -0.9862050247627936,\n",
              " -0.9844041228597427,\n",
              " -0.983369351182829,\n",
              " -0.981926645171903,\n",
              " -0.9816987777874945,\n",
              " -0.9795962862804131,\n",
              " -0.9776721584860113,\n",
              " -0.9767372221407031,\n",
              " -0.9630460490132688,\n",
              " -0.9601463212863595,\n",
              " -0.9477172899454553,\n",
              " -0.9398676131070755,\n",
              " -0.9378295243586942,\n",
              " -0.9203578244591699,\n",
              " -0.8856256247712578,\n",
              " -0.8825762080011137,\n",
              " -0.8525149625995747,\n",
              " -0.8515419629445514,\n",
              " -0.8493536051321905,\n",
              " -0.8431426163423277,\n",
              " -0.7850605507528774,\n",
              " -0.7767926683051722,\n",
              " -0.7129426261976906,\n",
              " -0.6840117282879449,\n",
              " -0.6241294325021595,\n",
              " -0.6100976443291536,\n",
              " -0.6055907985628582,\n",
              " -0.5898670459673219,\n",
              " -0.5662372911048109,\n",
              " -0.5457915682115005,\n",
              " -0.5375762416955792,\n",
              " -0.32630831278654854,\n",
              " -0.31448952652926193,\n",
              " -0.2647941478797935,\n",
              " -0.22536247624273123,\n",
              " -0.10061248107490642,\n",
              " -0.060176194562264224,\n",
              " 0.006587502026181001,\n",
              " 0.04334698883047154,\n",
              " 0.17132296519069756,\n",
              " 0.26083818073314763,\n",
              " 0.29850325866510985,\n",
              " 0.30046934442487033,\n",
              " 0.343938020037622,\n",
              " 0.40245400208185034,\n",
              " 0.44537764127736795,\n",
              " 0.45219283629242496,\n",
              " 0.4596625726000677,\n",
              " 0.4711579400439262,\n",
              " 0.538606949832507,\n",
              " 0.618693185531988,\n",
              " 0.6234223582675836,\n",
              " 0.6527671677255024,\n",
              " 0.714072138940135,\n",
              " 0.7466388348714335,\n",
              " 0.777544706733673,\n",
              " 0.8074726827199791,\n",
              " 0.808918740853655,\n",
              " 0.828713225160616,\n",
              " 0.8289086386114239,\n",
              " 0.8392648875889761,\n",
              " 0.8526720684194444,\n",
              " 0.8586498133547783,\n",
              " 0.8590837197064798,\n",
              " 0.8821672718540955,\n",
              " 0.8892049617715486,\n",
              " 0.9072299962278292,\n",
              " 0.9201783199864211,\n",
              " 0.9284254478198729,\n",
              " 0.9344661950661554,\n",
              " 0.9356909141567552,\n",
              " 0.9375503932642151,\n",
              " 0.9413770658206796,\n",
              " 0.9554310978639912,\n",
              " 0.9785679784872838,\n",
              " 0.9835899703421177,\n",
              " 0.9855563033120733,\n",
              " 0.987733653329364,\n",
              " 0.9943147058751981,\n",
              " 0.9955539402549856,\n",
              " 0.9958668464926048,\n",
              " 0.9961561179713825,\n",
              " 0.9984671680548666,\n",
              " 0.9988265481791135,\n",
              " 0.998867400760231,\n",
              " 0.999097218684633,\n",
              " 0.9991872104980628,\n",
              " 0.9998463410580378,\n",
              " 0.9999257198412612,\n",
              " 0.999999249259197]"
            ]
          },
          "metadata": {
            "tags": []
          },
          "execution_count": 16
        }
      ]
    },
    {
      "cell_type": "code",
      "metadata": {
        "id": "UTII8B0NGFSy",
        "outputId": "abce5659-ac30-4c3f-c0c5-e7a1682672e5",
        "colab": {
          "base_uri": "https://localhost:8080/",
          "height": 203
        }
      },
      "source": [
        "df = pd.DataFrame({'data': data, 'tanh_data': tanh_data})\n",
        "df.head()"
      ],
      "execution_count": null,
      "outputs": [
        {
          "output_type": "execute_result",
          "data": {
            "text/html": [
              "<div>\n",
              "<style scoped>\n",
              "    .dataframe tbody tr th:only-of-type {\n",
              "        vertical-align: middle;\n",
              "    }\n",
              "\n",
              "    .dataframe tbody tr th {\n",
              "        vertical-align: top;\n",
              "    }\n",
              "\n",
              "    .dataframe thead th {\n",
              "        text-align: right;\n",
              "    }\n",
              "</style>\n",
              "<table border=\"1\" class=\"dataframe\">\n",
              "  <thead>\n",
              "    <tr style=\"text-align: right;\">\n",
              "      <th></th>\n",
              "      <th>data</th>\n",
              "      <th>tanh_data</th>\n",
              "    </tr>\n",
              "  </thead>\n",
              "  <tbody>\n",
              "    <tr>\n",
              "      <th>0</th>\n",
              "      <td>-4.325857</td>\n",
              "      <td>-0.999650</td>\n",
              "    </tr>\n",
              "    <tr>\n",
              "      <th>1</th>\n",
              "      <td>-4.296594</td>\n",
              "      <td>-0.999629</td>\n",
              "    </tr>\n",
              "    <tr>\n",
              "      <th>2</th>\n",
              "      <td>-3.960083</td>\n",
              "      <td>-0.999274</td>\n",
              "    </tr>\n",
              "    <tr>\n",
              "      <th>3</th>\n",
              "      <td>-3.510984</td>\n",
              "      <td>-0.998217</td>\n",
              "    </tr>\n",
              "    <tr>\n",
              "      <th>4</th>\n",
              "      <td>-3.271262</td>\n",
              "      <td>-0.997122</td>\n",
              "    </tr>\n",
              "  </tbody>\n",
              "</table>\n",
              "</div>"
            ],
            "text/plain": [
              "       data  tanh_data\n",
              "0 -4.325857  -0.999650\n",
              "1 -4.296594  -0.999629\n",
              "2 -3.960083  -0.999274\n",
              "3 -3.510984  -0.998217\n",
              "4 -3.271262  -0.997122"
            ]
          },
          "metadata": {
            "tags": []
          },
          "execution_count": 17
        }
      ]
    },
    {
      "cell_type": "code",
      "metadata": {
        "id": "l5hakU-kGIN4",
        "outputId": "575efe6f-5a56-4e9c-aa1e-731891493d45",
        "colab": {
          "base_uri": "https://localhost:8080/",
          "height": 417
        }
      },
      "source": [
        "px.line(df, x='data', y='tanh_data', width=700, height=400, title='Tanh Function')"
      ],
      "execution_count": null,
      "outputs": [
        {
          "output_type": "display_data",
          "data": {
            "text/html": [
              "<html>\n",
              "<head><meta charset=\"utf-8\" /></head>\n",
              "<body>\n",
              "    <div>\n",
              "            <script src=\"https://cdnjs.cloudflare.com/ajax/libs/mathjax/2.7.5/MathJax.js?config=TeX-AMS-MML_SVG\"></script><script type=\"text/javascript\">if (window.MathJax) {MathJax.Hub.Config({SVG: {font: \"STIX-Web\"}});}</script>\n",
              "                <script type=\"text/javascript\">window.PlotlyConfig = {MathJaxConfig: 'local'};</script>\n",
              "        <script src=\"https://cdn.plot.ly/plotly-latest.min.js\"></script>    \n",
              "            <div id=\"9a790f52-cf81-48b4-aff5-629efbce52ae\" class=\"plotly-graph-div\" style=\"height:400px; width:700px;\"></div>\n",
              "            <script type=\"text/javascript\">\n",
              "                \n",
              "                    window.PLOTLYENV=window.PLOTLYENV || {};\n",
              "                    \n",
              "                if (document.getElementById(\"9a790f52-cf81-48b4-aff5-629efbce52ae\")) {\n",
              "                    Plotly.newPlot(\n",
              "                        '9a790f52-cf81-48b4-aff5-629efbce52ae',\n",
              "                        [{\"hoverlabel\": {\"namelength\": 0}, \"hovertemplate\": \"data=%{x}<br>tanh_data=%{y}\", \"legendgroup\": \"\", \"line\": {\"color\": \"#636efa\", \"dash\": \"solid\"}, \"mode\": \"lines\", \"name\": \"\", \"showlegend\": false, \"type\": \"scatter\", \"x\": [-4.325856900294617, -4.296594202607075, -3.960083295229817, -3.510984321031611, -3.2712622380541325, -3.2631649653380785, -3.0461198961725726, -2.7448910657668755, -2.729189340273211, -2.5790472475250845, -2.484838330845703, -2.4230336823076413, -2.390652531330091, -2.3486929794932454, -2.3423709396188372, -2.287465638860627, -2.241920678190039, -2.2211741652214383, -1.9862900414449005, -1.9477798440807563, -1.8088738102917474, -1.736913214628526, -1.719721802473026, -1.591361509276441, -1.4012689400736136, -1.387303448379706, -1.2652863524165743, -1.2617358624172212, -1.253828059805766, -1.2319451646094897, -1.0584256292877259, -1.0372320340805483, -0.893142950046301, -0.8366145306283419, -0.7317411843065749, -0.7090768835449909, -0.7019290569766113, -0.677462143784749, -0.6419668805400927, -0.6123676032357502, -0.6007404450457675, -0.3386910441226449, -0.32551994951021795, -0.2712570640294516, -0.22929838476082615, -0.10095405383979958, -0.06024898895347031, 0.006587597317280676, 0.04337416858574562, 0.17302931665246044, 0.2670075670091073, 0.3078756432053703, 0.3100354471689428, 0.35855206892266794, 0.42657378748172126, 0.47891923121758473, 0.48745332997764546, 0.49688338168361373, 0.5115576300674908, 0.6021912124310997, 0.7228850443582987, 0.7305837605031745, 0.7801053461057985, 0.89544382069403, 0.9653162766793344, 1.0391310802757416, 1.1197233945080383, 1.1238928934419141, 1.1840143225898867, 1.1846385023188175, 1.2186817538186474, 1.2658616540183114, 1.2881825958624147, 1.2898365321316463, 1.3854565676695412, 1.4181146862136802, 1.511641926154272, 1.5901890943881871, 1.646859762235371, 1.692510291928892, 1.7022593390563423, 1.7174099155147236, 1.750013419862628, 1.8906648021126506, 2.262621241412929, 2.3973854429529324, 2.4616981516974383, 2.5439454657543483, 2.9300864508143594, 3.0533293508469423, 3.0898965338755375, 3.1262479341689144, 3.5865093903368304, 3.7201829409435545, 3.7379103980215573, 3.851362948772357, 3.9038895501776185, 4.736922711131629, 5.100388362118965, 7.397676092920958], \"xaxis\": \"x\", \"y\": [-0.9996504071728578, -0.9996293404499845, -0.9992735803542623, -0.9982174549481209, -0.9971224530609107, -0.997075541809028, -0.995489514139215, -0.9917764656661262, -0.9915152335663289, -0.9885605055121526, -0.9862050247627936, -0.9844041228597427, -0.983369351182829, -0.981926645171903, -0.9816987777874945, -0.9795962862804131, -0.9776721584860113, -0.9767372221407031, -0.9630460490132688, -0.9601463212863595, -0.9477172899454553, -0.9398676131070755, -0.9378295243586942, -0.9203578244591699, -0.8856256247712578, -0.8825762080011137, -0.8525149625995747, -0.8515419629445514, -0.8493536051321905, -0.8431426163423277, -0.7850605507528774, -0.7767926683051722, -0.7129426261976906, -0.6840117282879449, -0.6241294325021595, -0.6100976443291536, -0.6055907985628582, -0.5898670459673219, -0.5662372911048109, -0.5457915682115005, -0.5375762416955792, -0.32630831278654854, -0.31448952652926193, -0.2647941478797935, -0.22536247624273123, -0.10061248107490642, -0.060176194562264224, 0.006587502026181001, 0.04334698883047154, 0.17132296519069756, 0.26083818073314763, 0.29850325866510985, 0.30046934442487033, 0.343938020037622, 0.40245400208185034, 0.44537764127736795, 0.45219283629242496, 0.4596625726000677, 0.4711579400439262, 0.538606949832507, 0.618693185531988, 0.6234223582675836, 0.6527671677255024, 0.714072138940135, 0.7466388348714335, 0.777544706733673, 0.8074726827199791, 0.808918740853655, 0.828713225160616, 0.8289086386114239, 0.8392648875889761, 0.8526720684194444, 0.8586498133547783, 0.8590837197064798, 0.8821672718540955, 0.8892049617715486, 0.9072299962278292, 0.9201783199864211, 0.9284254478198729, 0.9344661950661554, 0.9356909141567552, 0.9375503932642151, 0.9413770658206796, 0.9554310978639912, 0.9785679784872838, 0.9835899703421177, 0.9855563033120733, 0.987733653329364, 0.9943147058751981, 0.9955539402549856, 0.9958668464926048, 0.9961561179713825, 0.9984671680548666, 0.9988265481791135, 0.998867400760231, 0.999097218684633, 0.9991872104980628, 0.9998463410580378, 0.9999257198412612, 0.999999249259197], \"yaxis\": \"y\"}],\n",
              "                        {\"height\": 400, \"legend\": {\"tracegroupgap\": 0}, \"template\": {\"data\": {\"bar\": [{\"error_x\": {\"color\": \"#2a3f5f\"}, \"error_y\": {\"color\": \"#2a3f5f\"}, \"marker\": {\"line\": {\"color\": \"#E5ECF6\", \"width\": 0.5}}, \"type\": \"bar\"}], \"barpolar\": [{\"marker\": {\"line\": {\"color\": \"#E5ECF6\", \"width\": 0.5}}, \"type\": \"barpolar\"}], \"carpet\": [{\"aaxis\": {\"endlinecolor\": \"#2a3f5f\", \"gridcolor\": \"white\", \"linecolor\": \"white\", \"minorgridcolor\": \"white\", \"startlinecolor\": \"#2a3f5f\"}, \"baxis\": {\"endlinecolor\": \"#2a3f5f\", \"gridcolor\": \"white\", \"linecolor\": \"white\", \"minorgridcolor\": \"white\", \"startlinecolor\": \"#2a3f5f\"}, \"type\": \"carpet\"}], \"choropleth\": [{\"colorbar\": {\"outlinewidth\": 0, \"ticks\": \"\"}, \"type\": \"choropleth\"}], \"contour\": [{\"colorbar\": {\"outlinewidth\": 0, \"ticks\": \"\"}, \"colorscale\": [[0.0, \"#0d0887\"], [0.1111111111111111, \"#46039f\"], [0.2222222222222222, \"#7201a8\"], [0.3333333333333333, \"#9c179e\"], [0.4444444444444444, \"#bd3786\"], [0.5555555555555556, \"#d8576b\"], [0.6666666666666666, \"#ed7953\"], [0.7777777777777778, \"#fb9f3a\"], [0.8888888888888888, \"#fdca26\"], [1.0, \"#f0f921\"]], \"type\": \"contour\"}], \"contourcarpet\": [{\"colorbar\": {\"outlinewidth\": 0, \"ticks\": \"\"}, \"type\": \"contourcarpet\"}], \"heatmap\": [{\"colorbar\": {\"outlinewidth\": 0, \"ticks\": \"\"}, \"colorscale\": [[0.0, \"#0d0887\"], [0.1111111111111111, \"#46039f\"], [0.2222222222222222, \"#7201a8\"], [0.3333333333333333, \"#9c179e\"], [0.4444444444444444, \"#bd3786\"], [0.5555555555555556, \"#d8576b\"], [0.6666666666666666, \"#ed7953\"], [0.7777777777777778, \"#fb9f3a\"], [0.8888888888888888, \"#fdca26\"], [1.0, \"#f0f921\"]], \"type\": \"heatmap\"}], \"heatmapgl\": [{\"colorbar\": {\"outlinewidth\": 0, \"ticks\": \"\"}, \"colorscale\": [[0.0, \"#0d0887\"], [0.1111111111111111, \"#46039f\"], [0.2222222222222222, \"#7201a8\"], [0.3333333333333333, \"#9c179e\"], [0.4444444444444444, \"#bd3786\"], [0.5555555555555556, \"#d8576b\"], [0.6666666666666666, \"#ed7953\"], [0.7777777777777778, \"#fb9f3a\"], [0.8888888888888888, \"#fdca26\"], [1.0, \"#f0f921\"]], \"type\": \"heatmapgl\"}], \"histogram\": [{\"marker\": {\"colorbar\": {\"outlinewidth\": 0, \"ticks\": \"\"}}, \"type\": \"histogram\"}], \"histogram2d\": [{\"colorbar\": {\"outlinewidth\": 0, \"ticks\": \"\"}, \"colorscale\": [[0.0, \"#0d0887\"], [0.1111111111111111, \"#46039f\"], [0.2222222222222222, \"#7201a8\"], [0.3333333333333333, \"#9c179e\"], [0.4444444444444444, \"#bd3786\"], [0.5555555555555556, \"#d8576b\"], [0.6666666666666666, \"#ed7953\"], [0.7777777777777778, \"#fb9f3a\"], [0.8888888888888888, \"#fdca26\"], [1.0, \"#f0f921\"]], \"type\": \"histogram2d\"}], \"histogram2dcontour\": [{\"colorbar\": {\"outlinewidth\": 0, \"ticks\": \"\"}, \"colorscale\": [[0.0, \"#0d0887\"], [0.1111111111111111, \"#46039f\"], [0.2222222222222222, \"#7201a8\"], [0.3333333333333333, \"#9c179e\"], [0.4444444444444444, \"#bd3786\"], [0.5555555555555556, \"#d8576b\"], [0.6666666666666666, \"#ed7953\"], [0.7777777777777778, \"#fb9f3a\"], [0.8888888888888888, \"#fdca26\"], [1.0, \"#f0f921\"]], \"type\": \"histogram2dcontour\"}], \"mesh3d\": [{\"colorbar\": {\"outlinewidth\": 0, \"ticks\": \"\"}, \"type\": \"mesh3d\"}], \"parcoords\": [{\"line\": {\"colorbar\": {\"outlinewidth\": 0, \"ticks\": \"\"}}, \"type\": \"parcoords\"}], \"pie\": [{\"automargin\": true, \"type\": \"pie\"}], \"scatter\": [{\"marker\": {\"colorbar\": {\"outlinewidth\": 0, \"ticks\": \"\"}}, \"type\": \"scatter\"}], \"scatter3d\": [{\"line\": {\"colorbar\": {\"outlinewidth\": 0, \"ticks\": \"\"}}, \"marker\": {\"colorbar\": {\"outlinewidth\": 0, \"ticks\": \"\"}}, \"type\": \"scatter3d\"}], \"scattercarpet\": [{\"marker\": {\"colorbar\": {\"outlinewidth\": 0, \"ticks\": \"\"}}, \"type\": \"scattercarpet\"}], \"scattergeo\": [{\"marker\": {\"colorbar\": {\"outlinewidth\": 0, \"ticks\": \"\"}}, \"type\": \"scattergeo\"}], \"scattergl\": [{\"marker\": {\"colorbar\": {\"outlinewidth\": 0, \"ticks\": \"\"}}, \"type\": \"scattergl\"}], \"scattermapbox\": [{\"marker\": {\"colorbar\": {\"outlinewidth\": 0, \"ticks\": \"\"}}, \"type\": \"scattermapbox\"}], \"scatterpolar\": [{\"marker\": {\"colorbar\": {\"outlinewidth\": 0, \"ticks\": \"\"}}, \"type\": \"scatterpolar\"}], \"scatterpolargl\": [{\"marker\": {\"colorbar\": {\"outlinewidth\": 0, \"ticks\": \"\"}}, \"type\": \"scatterpolargl\"}], \"scatterternary\": [{\"marker\": {\"colorbar\": {\"outlinewidth\": 0, \"ticks\": \"\"}}, \"type\": \"scatterternary\"}], \"surface\": [{\"colorbar\": {\"outlinewidth\": 0, \"ticks\": \"\"}, \"colorscale\": [[0.0, \"#0d0887\"], [0.1111111111111111, \"#46039f\"], [0.2222222222222222, \"#7201a8\"], [0.3333333333333333, \"#9c179e\"], [0.4444444444444444, \"#bd3786\"], [0.5555555555555556, \"#d8576b\"], [0.6666666666666666, \"#ed7953\"], [0.7777777777777778, \"#fb9f3a\"], [0.8888888888888888, \"#fdca26\"], [1.0, \"#f0f921\"]], \"type\": \"surface\"}], \"table\": [{\"cells\": {\"fill\": {\"color\": \"#EBF0F8\"}, \"line\": {\"color\": \"white\"}}, \"header\": {\"fill\": {\"color\": \"#C8D4E3\"}, \"line\": {\"color\": \"white\"}}, \"type\": \"table\"}]}, \"layout\": {\"annotationdefaults\": {\"arrowcolor\": \"#2a3f5f\", \"arrowhead\": 0, \"arrowwidth\": 1}, \"coloraxis\": {\"colorbar\": {\"outlinewidth\": 0, \"ticks\": \"\"}}, \"colorscale\": {\"diverging\": [[0, \"#8e0152\"], [0.1, \"#c51b7d\"], [0.2, \"#de77ae\"], [0.3, \"#f1b6da\"], [0.4, \"#fde0ef\"], [0.5, \"#f7f7f7\"], [0.6, \"#e6f5d0\"], [0.7, \"#b8e186\"], [0.8, \"#7fbc41\"], [0.9, \"#4d9221\"], [1, \"#276419\"]], \"sequential\": [[0.0, \"#0d0887\"], [0.1111111111111111, \"#46039f\"], [0.2222222222222222, \"#7201a8\"], [0.3333333333333333, \"#9c179e\"], [0.4444444444444444, \"#bd3786\"], [0.5555555555555556, \"#d8576b\"], [0.6666666666666666, \"#ed7953\"], [0.7777777777777778, \"#fb9f3a\"], [0.8888888888888888, \"#fdca26\"], [1.0, \"#f0f921\"]], \"sequentialminus\": [[0.0, \"#0d0887\"], [0.1111111111111111, \"#46039f\"], [0.2222222222222222, \"#7201a8\"], [0.3333333333333333, \"#9c179e\"], [0.4444444444444444, \"#bd3786\"], [0.5555555555555556, \"#d8576b\"], [0.6666666666666666, \"#ed7953\"], [0.7777777777777778, \"#fb9f3a\"], [0.8888888888888888, \"#fdca26\"], [1.0, \"#f0f921\"]]}, \"colorway\": [\"#636efa\", \"#EF553B\", \"#00cc96\", \"#ab63fa\", \"#FFA15A\", \"#19d3f3\", \"#FF6692\", \"#B6E880\", \"#FF97FF\", \"#FECB52\"], \"font\": {\"color\": \"#2a3f5f\"}, \"geo\": {\"bgcolor\": \"white\", \"lakecolor\": \"white\", \"landcolor\": \"#E5ECF6\", \"showlakes\": true, \"showland\": true, \"subunitcolor\": \"white\"}, \"hoverlabel\": {\"align\": \"left\"}, \"hovermode\": \"closest\", \"mapbox\": {\"style\": \"light\"}, \"paper_bgcolor\": \"white\", \"plot_bgcolor\": \"#E5ECF6\", \"polar\": {\"angularaxis\": {\"gridcolor\": \"white\", \"linecolor\": \"white\", \"ticks\": \"\"}, \"bgcolor\": \"#E5ECF6\", \"radialaxis\": {\"gridcolor\": \"white\", \"linecolor\": \"white\", \"ticks\": \"\"}}, \"scene\": {\"xaxis\": {\"backgroundcolor\": \"#E5ECF6\", \"gridcolor\": \"white\", \"gridwidth\": 2, \"linecolor\": \"white\", \"showbackground\": true, \"ticks\": \"\", \"zerolinecolor\": \"white\"}, \"yaxis\": {\"backgroundcolor\": \"#E5ECF6\", \"gridcolor\": \"white\", \"gridwidth\": 2, \"linecolor\": \"white\", \"showbackground\": true, \"ticks\": \"\", \"zerolinecolor\": \"white\"}, \"zaxis\": {\"backgroundcolor\": \"#E5ECF6\", \"gridcolor\": \"white\", \"gridwidth\": 2, \"linecolor\": \"white\", \"showbackground\": true, \"ticks\": \"\", \"zerolinecolor\": \"white\"}}, \"shapedefaults\": {\"line\": {\"color\": \"#2a3f5f\"}}, \"ternary\": {\"aaxis\": {\"gridcolor\": \"white\", \"linecolor\": \"white\", \"ticks\": \"\"}, \"baxis\": {\"gridcolor\": \"white\", \"linecolor\": \"white\", \"ticks\": \"\"}, \"bgcolor\": \"#E5ECF6\", \"caxis\": {\"gridcolor\": \"white\", \"linecolor\": \"white\", \"ticks\": \"\"}}, \"title\": {\"x\": 0.05}, \"xaxis\": {\"automargin\": true, \"gridcolor\": \"white\", \"linecolor\": \"white\", \"ticks\": \"\", \"title\": {\"standoff\": 15}, \"zerolinecolor\": \"white\", \"zerolinewidth\": 2}, \"yaxis\": {\"automargin\": true, \"gridcolor\": \"white\", \"linecolor\": \"white\", \"ticks\": \"\", \"title\": {\"standoff\": 15}, \"zerolinecolor\": \"white\", \"zerolinewidth\": 2}}}, \"title\": {\"text\": \"Tanh Function\"}, \"width\": 700, \"xaxis\": {\"anchor\": \"y\", \"domain\": [0.0, 1.0], \"title\": {\"text\": \"data\"}}, \"yaxis\": {\"anchor\": \"x\", \"domain\": [0.0, 1.0], \"title\": {\"text\": \"tanh_data\"}}},\n",
              "                        {\"responsive\": true}\n",
              "                    ).then(function(){\n",
              "                            \n",
              "var gd = document.getElementById('9a790f52-cf81-48b4-aff5-629efbce52ae');\n",
              "var x = new MutationObserver(function (mutations, observer) {{\n",
              "        var display = window.getComputedStyle(gd).display;\n",
              "        if (!display || display === 'none') {{\n",
              "            console.log([gd, 'removed!']);\n",
              "            Plotly.purge(gd);\n",
              "            observer.disconnect();\n",
              "        }}\n",
              "}});\n",
              "\n",
              "// Listen for the removal of the full notebook cells\n",
              "var notebookContainer = gd.closest('#notebook-container');\n",
              "if (notebookContainer) {{\n",
              "    x.observe(notebookContainer, {childList: true});\n",
              "}}\n",
              "\n",
              "// Listen for the clearing of the current output cell\n",
              "var outputEl = gd.closest('.output');\n",
              "if (outputEl) {{\n",
              "    x.observe(outputEl, {childList: true});\n",
              "}}\n",
              "\n",
              "                        })\n",
              "                };\n",
              "                \n",
              "            </script>\n",
              "        </div>\n",
              "</body>\n",
              "</html>"
            ]
          },
          "metadata": {
            "tags": []
          }
        }
      ]
    },
    {
      "cell_type": "markdown",
      "metadata": {
        "id": "YtWKaTds3wDQ"
      },
      "source": [
        "#### <a name='a5'></a> 1.5 Softmax Function\n",
        "\n",
        "####   $$S(x_i)=\\frac{e^{x_{i}}}{\\sum_{j=1}^{N}e^{x_j}},\\ \\ dla\\ i = 1,...,N$$\n",
        "\n",
        "####   $$S(x_1)=\\frac{e^{x_{1}}}{\\sum_{j=1}^{N}e^{x_j}}$$"
      ]
    },
    {
      "cell_type": "code",
      "metadata": {
        "id": "KlW-K0dRZJpc"
      },
      "source": [
        "def softmax(x):\n",
        "    e_x = np.exp(x)\n",
        "    denominator = np.sum(e_x, axis=1)\n",
        "    denominator = denominator[:, np.newaxis]\n",
        "    return e_x / denominator"
      ],
      "execution_count": null,
      "outputs": []
    },
    {
      "cell_type": "code",
      "metadata": {
        "id": "BqTm6Wov7Gvs",
        "outputId": "e90c0642-5263-40a1-971c-2ae3ab3f928d",
        "colab": {
          "base_uri": "https://localhost:8080/",
          "height": 86
        }
      },
      "source": [
        "data = np.random.randn(4, 5)\n",
        "data"
      ],
      "execution_count": null,
      "outputs": [
        {
          "output_type": "execute_result",
          "data": {
            "text/plain": [
              "array([[-1.993823, -1.543212,  0.610701, -1.303781,  0.031199],\n",
              "       [-0.966606, -0.011135, -1.399465, -1.212952, -0.845995],\n",
              "       [ 0.9544  ,  0.624408, -0.214211,  0.996932, -0.973368],\n",
              "       [-0.16014 , -1.255372,  0.839575,  0.927693, -0.470635]])"
            ]
          },
          "metadata": {
            "tags": []
          },
          "execution_count": 20
        }
      ]
    },
    {
      "cell_type": "code",
      "metadata": {
        "id": "ZAp0HyvXZo_R",
        "outputId": "9a65b937-eb2d-48f1-dbae-714c9b06615f",
        "colab": {
          "base_uri": "https://localhost:8080/",
          "height": 86
        }
      },
      "source": [
        "result = softmax(data)\n",
        "result"
      ],
      "execution_count": null,
      "outputs": [
        {
          "output_type": "execute_result",
          "data": {
            "text/plain": [
              "array([[0.038965, 0.061146, 0.526992, 0.077688, 0.295209],\n",
              "       [0.16238 , 0.422172, 0.105328, 0.126925, 0.183195],\n",
              "       [0.310689, 0.223364, 0.096562, 0.324189, 0.045197],\n",
              "       [0.128984, 0.04314 , 0.350515, 0.382804, 0.094556]])"
            ]
          },
          "metadata": {
            "tags": []
          },
          "execution_count": 21
        }
      ]
    },
    {
      "cell_type": "code",
      "metadata": {
        "id": "xMT9-UUKdo-L",
        "outputId": "b21e4966-3193-4be9-be48-ab4907d6787a",
        "colab": {
          "base_uri": "https://localhost:8080/",
          "height": 34
        }
      },
      "source": [
        "result.sum(axis=1)"
      ],
      "execution_count": null,
      "outputs": [
        {
          "output_type": "execute_result",
          "data": {
            "text/plain": [
              "array([1., 1., 1., 1.])"
            ]
          },
          "metadata": {
            "tags": []
          },
          "execution_count": 22
        }
      ]
    },
    {
      "cell_type": "code",
      "metadata": {
        "id": "exi09RVHlYwb"
      },
      "source": [],
      "execution_count": null,
      "outputs": []
    }
  ]
}