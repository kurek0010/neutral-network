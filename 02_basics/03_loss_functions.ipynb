{
  "nbformat": 4,
  "nbformat_minor": 0,
  "metadata": {
    "colab": {
      "name": "Untitled0.ipynb",
      "provenance": [],
      "include_colab_link": true
    },
    "kernelspec": {
      "name": "python3",
      "display_name": "Python 3"
    }
  },
  "cells": [
    {
      "cell_type": "markdown",
      "metadata": {
        "id": "view-in-github",
        "colab_type": "text"
      },
      "source": [
        "<a href=\"https://colab.research.google.com/github/kurek0010/neutral-network/blob/main/02_basics/03_loss_functions.ipynb\" target=\"_parent\"><img src=\"https://colab.research.google.com/assets/colab-badge.svg\" alt=\"Open In Colab\"/></a>"
      ]
    },
    {
      "cell_type": "markdown",
      "metadata": {
        "id": "HpksqwHQTyN0"
      },
      "source": [
        "* @author: krakowiakpawel9@gmail.com  \n",
        "* @site: e-smartdata.org"
      ]
    },
    {
      "cell_type": "markdown",
      "metadata": {
        "id": "5gjFu2l9IMsj"
      },
      "source": [
        "### Funkcje Straty - Loss Function:\n",
        "1. [Entropia rozkładu prawdopodobieństwa](#a0)\n",
        "2. [Binarna entropia krzyżowa - Binary Crossentropy](#a1)\n",
        "3. [Kategoryczna entropia krzyżowa - Categorical Crossentropy](#a0)\n",
        "\n",
        "#### <a name='a0'></a> 1. Entropia rozkładu prawdopodobieństwa\n",
        "$$Entropia = - \\sum_{i}p_{i} * log(p_{i})$$\n",
        "Gdzie $p_{i}$ to prawdopodobieństwo zajścia $i$-tego zdarzenia. Entropia charakteryzuje mozliwośc oddawania informacji przez żródło. Inaczej jest to miara nieokreśloności/niepewności. Średnie zdziwienie (wartość oczekiwana zdziwienia)"
      ]
    },
    {
      "cell_type": "code",
      "metadata": {
        "id": "YT-REXq_ghEj",
        "colab": {
          "base_uri": "https://localhost:8080/"
        },
        "outputId": "e7c45c8b-8bae-4b78-9d0f-48d71c1176b0"
      },
      "source": [
        "# Przygotowanie środowiska do pracy z Tensorflow 2.0.\n",
        "# Jeśli otrzymasz błąd podczas instalacji Tensorflow uruchom tę komórkę raz jeszcze.\n",
        "\n",
        "!pip uninstall -y tensorflow\n",
        "!pip install -q tensorflow==2.0.0"
      ],
      "execution_count": null,
      "outputs": [
        {
          "output_type": "stream",
          "name": "stdout",
          "text": [
            "Found existing installation: tensorflow 2.0.0\n",
            "Uninstalling tensorflow-2.0.0:\n",
            "  Successfully uninstalled tensorflow-2.0.0\n"
          ]
        }
      ]
    },
    {
      "cell_type": "code",
      "metadata": {
        "id": "KVlLr1EBD3nj",
        "outputId": "70683aeb-f8ed-4083-d983-ddbcab29d18b",
        "colab": {
          "base_uri": "https://localhost:8080/",
          "height": 35
        }
      },
      "source": [
        "import tensorflow as tf\n",
        "tf.__version__"
      ],
      "execution_count": null,
      "outputs": [
        {
          "output_type": "execute_result",
          "data": {
            "application/vnd.google.colaboratory.intrinsic+json": {
              "type": "string"
            },
            "text/plain": [
              "'2.0.0'"
            ]
          },
          "metadata": {},
          "execution_count": 2
        }
      ]
    },
    {
      "cell_type": "code",
      "metadata": {
        "id": "lyxtFjeeGECa",
        "colab": {
          "base_uri": "https://localhost:8080/",
          "height": 34
        },
        "outputId": "4eb95c04-19a6-4202-e4a0-43823d663f7e"
      },
      "source": [
        "import numpy as np\n",
        "np.set_printoptions(precision=6, suppress=True)\n",
        "\n",
        "def entropy(labels, base=None):\n",
        "    from math import log, e\n",
        "    n_labels = len(labels)\n",
        "\n",
        "    if n_labels <= 1:\n",
        "        return 0\n",
        "\n",
        "    value, counts = np.unique(labels, return_counts=True)\n",
        "    probs = counts / n_labels\n",
        "    n_classes = np.count_nonzero(probs)\n",
        "\n",
        "    if n_classes <= 1:\n",
        "        return 0\n",
        "\n",
        "    ent = 0.\n",
        "\n",
        "    base = e if base is None else base\n",
        "    for i in probs:\n",
        "        ent -= i * log(i, base)\n",
        "    return ent\n",
        "\n",
        "\n",
        "labels = [1,3,5,2,3,5,3,2,1,3,4,5]\n",
        "entropy(labels)"
      ],
      "execution_count": null,
      "outputs": [
        {
          "output_type": "execute_result",
          "data": {
            "text/plain": [
              "1.5171063970610277"
            ]
          },
          "metadata": {
            "tags": []
          },
          "execution_count": 2
        }
      ]
    },
    {
      "cell_type": "code",
      "metadata": {
        "id": "c_7m4M8MZkHp",
        "colab": {
          "base_uri": "https://localhost:8080/",
          "height": 34
        },
        "outputId": "42878062-c4bd-4926-a01f-a368e6144bee"
      },
      "source": [
        "labels = [3, 3, 3, 3, 3, 3, 3]\n",
        "entropy(labels)"
      ],
      "execution_count": null,
      "outputs": [
        {
          "output_type": "execute_result",
          "data": {
            "text/plain": [
              "0"
            ]
          },
          "metadata": {
            "tags": []
          },
          "execution_count": 3
        }
      ]
    },
    {
      "cell_type": "markdown",
      "metadata": {
        "id": "CyRgL5ybaV7N"
      },
      "source": [
        "#### <a name='a1'></a> 2. Binarna entropia krzyżowa - Binary Crossentropy\n",
        "$$Binary\\ CrossEntropy = - \\frac{1}{N}\\sum_{i=1}^{N}(y_{i}*log(p(y_{i})) + (1-y_{i}) * log(1-p(y_{i}))$$"
      ]
    },
    {
      "cell_type": "code",
      "metadata": {
        "id": "gXA1CKEAbs6e",
        "colab": {
          "base_uri": "https://localhost:8080/",
          "height": 34
        },
        "outputId": "56244a86-f2c5-4740-9851-edb365d73368"
      },
      "source": [
        "from tensorflow.keras.losses import binary_crossentropy\n",
        "\n",
        "y_true = np.array([1, 0, 1, 1, 0, 1], dtype='float')\n",
        "y_pred = np.array([0, 0, 1, 1, 0, 1], dtype='float')\n",
        "\n",
        "binary_crossentropy(y_true, y_pred)"
      ],
      "execution_count": null,
      "outputs": [
        {
          "output_type": "execute_result",
          "data": {
            "text/plain": [
              "<tf.Tensor: id=23, shape=(), dtype=float64, numpy=2.5708247450663957>"
            ]
          },
          "metadata": {
            "tags": []
          },
          "execution_count": 4
        }
      ]
    },
    {
      "cell_type": "markdown",
      "metadata": {
        "id": "EK-uYzfca0tG"
      },
      "source": [
        "#### <a name='a2'></a> 3. Kategoryczna entropia krzyżowa - Categorical Crossentropy\n",
        "$$Categorical\\ CrossEntropy= - \\sum_{i}y_{i} * log(p(y_{i})) $$"
      ]
    },
    {
      "cell_type": "code",
      "metadata": {
        "id": "PXCV2LIlanLc",
        "colab": {
          "base_uri": "https://localhost:8080/",
          "height": 34
        },
        "outputId": "2cc151e6-0c87-49b0-b08d-1c08531c24e7"
      },
      "source": [
        "from tensorflow.keras.losses import categorical_crossentropy\n",
        "\n",
        "y_true = np.array([1, 0, 1, 1, 2, 0, 1, 1, 2], dtype='float')\n",
        "y_pred = np.array([0, 0, 1, 1, 2, 0, 1, 2, 2], dtype='float')\n",
        "\n",
        "categorical_crossentropy(y_true, y_pred)"
      ],
      "execution_count": null,
      "outputs": [
        {
          "output_type": "execute_result",
          "data": {
            "text/plain": [
              "<tf.Tensor: id=39, shape=(), dtype=float64, numpy=30.23015636684835>"
            ]
          },
          "metadata": {
            "tags": []
          },
          "execution_count": 5
        }
      ]
    },
    {
      "cell_type": "code",
      "metadata": {
        "id": "16rmIAP2hwN3",
        "colab": {
          "base_uri": "https://localhost:8080/",
          "height": 34
        },
        "outputId": "22438b67-050f-4f7a-a975-e2340df3bccf"
      },
      "source": [
        "y_true = np.array([0, 0, 1, 1, 2, 0, 1, 1, 2], dtype='float')\n",
        "y_pred = np.array([0, 1, 1, 2, 0, 1, 1, 2, 1], dtype='float')\n",
        "\n",
        "categorical_crossentropy(y_true, y_pred)"
      ],
      "execution_count": null,
      "outputs": [
        {
          "output_type": "execute_result",
          "data": {
            "text/plain": [
              "<tf.Tensor: id=55, shape=(), dtype=float64, numpy=44.03324440481406>"
            ]
          },
          "metadata": {
            "tags": []
          },
          "execution_count": 6
        }
      ]
    }
  ]
}