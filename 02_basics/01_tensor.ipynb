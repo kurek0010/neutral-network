{
  "nbformat": 4,
  "nbformat_minor": 0,
  "metadata": {
    "colab": {
      "name": "Untitled30.ipynb",
      "provenance": [],
      "include_colab_link": true
    },
    "kernelspec": {
      "name": "python3",
      "display_name": "Python 3"
    },
    "accelerator": "GPU"
  },
  "cells": [
    {
      "cell_type": "markdown",
      "metadata": {
        "id": "view-in-github",
        "colab_type": "text"
      },
      "source": [
        "<a href=\"https://colab.research.google.com/github/kurek0010/neutral-network/blob/main/02_basics/01_tensor.ipynb\" target=\"_parent\"><img src=\"https://colab.research.google.com/assets/colab-badge.svg\" alt=\"Open In Colab\"/></a>"
      ]
    },
    {
      "cell_type": "markdown",
      "metadata": {
        "id": "RimajeFbTlL_"
      },
      "source": [
        "* @author: krakowiakpawel9@gmail.com  \n",
        "* @site: e-smartdata.org"
      ]
    },
    {
      "cell_type": "markdown",
      "metadata": {
        "id": "pl9Crb8V7DJC"
      },
      "source": [
        "### Spis treści\n",
        "1. [Import bibliotek](#a0)\n",
        "2. [Skalar](#a1)\n",
        "3. [Wektor](#a2)\n",
        "4. [Tablica ~ macierz](#a3)\n",
        "5. [Tensor](#a4)"
      ]
    },
    {
      "cell_type": "markdown",
      "metadata": {
        "id": "CkqfVl6slWDv"
      },
      "source": [
        "### <a name='a0'></a> 1. Import bibliotek"
      ]
    },
    {
      "cell_type": "code",
      "metadata": {
        "id": "_WTOYPJ7lVs5"
      },
      "source": [
        "import numpy as np"
      ],
      "execution_count": null,
      "outputs": []
    },
    {
      "cell_type": "markdown",
      "metadata": {
        "id": "pLHn8AAxlg5f"
      },
      "source": [
        "### <a name='a1'> </a> 2. Skalar"
      ]
    },
    {
      "cell_type": "code",
      "metadata": {
        "id": "9-_4-IVClfme",
        "outputId": "28173fdf-1a1b-41b8-b9bb-90988310053c",
        "colab": {
          "base_uri": "https://localhost:8080/",
          "height": 52
        }
      },
      "source": [
        "scalar = 3\n",
        "print(scalar)\n",
        "print(type(scalar))"
      ],
      "execution_count": null,
      "outputs": [
        {
          "output_type": "stream",
          "text": [
            "3\n",
            "<class 'int'>\n"
          ],
          "name": "stdout"
        }
      ]
    },
    {
      "cell_type": "code",
      "metadata": {
        "id": "8wGfoHv88M9k",
        "outputId": "5d58bc24-470f-4ff1-dbec-b8dedbd2a586",
        "colab": {
          "base_uri": "https://localhost:8080/",
          "height": 52
        }
      },
      "source": [
        "scalar = 3.0\n",
        "print(scalar)\n",
        "print(type(scalar))"
      ],
      "execution_count": null,
      "outputs": [
        {
          "output_type": "stream",
          "text": [
            "3.0\n",
            "<class 'float'>\n"
          ],
          "name": "stdout"
        }
      ]
    },
    {
      "cell_type": "markdown",
      "metadata": {
        "id": "Qcvj78eemPGF"
      },
      "source": [
        "### <a name='a2'> </a> 3. Wektor"
      ]
    },
    {
      "cell_type": "code",
      "metadata": {
        "id": "_qWeeuEXlgIn",
        "outputId": "5fee308e-383d-435c-c697-8ab304f1b97f",
        "colab": {
          "base_uri": "https://localhost:8080/",
          "height": 122
        }
      },
      "source": [
        "vector = np.array([2, 4, -6, 5])\n",
        "print(vector)\n",
        "print(type(vector))\n",
        "print(f'Rozmiar wektora: {vector.shape}')\n",
        "print(f'Typ danych wektora: {vector.dtype}')\n",
        "print(f'Rząd: {vector.ndim}')\n",
        "print(f'Długość: {len(vector)}')"
      ],
      "execution_count": null,
      "outputs": [
        {
          "output_type": "stream",
          "text": [
            "[ 2  4 -6  5]\n",
            "<class 'numpy.ndarray'>\n",
            "Rozmiar wektora: (4,)\n",
            "Typ danych wektora: int64\n",
            "Rząd: 1\n",
            "Długość: 4\n"
          ],
          "name": "stdout"
        }
      ]
    },
    {
      "cell_type": "code",
      "metadata": {
        "id": "SLC9_Tr18XoS",
        "outputId": "f95b4ee0-1398-49ae-88e2-bd84dfc8de44",
        "colab": {
          "base_uri": "https://localhost:8080/",
          "height": 52
        }
      },
      "source": [
        "vector = np.array([2, 4, -6, 5], dtype='float')\n",
        "print(vector)\n",
        "print(f'Typ danych wektora: {vector.dtype}')\n"
      ],
      "execution_count": null,
      "outputs": [
        {
          "output_type": "stream",
          "text": [
            "[ 2.  4. -6.  5.]\n",
            "Typ danych wektora: float64\n"
          ],
          "name": "stdout"
        }
      ]
    },
    {
      "cell_type": "markdown",
      "metadata": {
        "id": "RWoPx0u_my07"
      },
      "source": [
        "### <a name='a3'> </a> 4.Tablica ~ Macierz"
      ]
    },
    {
      "cell_type": "code",
      "metadata": {
        "id": "DB3HvPORmZn0",
        "outputId": "26ca885f-57db-4554-bb12-883a4c308496",
        "colab": {
          "base_uri": "https://localhost:8080/",
          "height": 140
        }
      },
      "source": [
        "array = np.array([[2, 6, 3],\n",
        "                  [5, -3, 4]])\n",
        "print(array)\n",
        "print(type(array))\n",
        "print(f'Rozmiar macierzy: {array.shape}')\n",
        "print(f'Typ danych macierzy: {array.dtype}')\n",
        "print(f'Rząd: {array.ndim}')\n",
        "print(f'Długosc: {len(array)}')"
      ],
      "execution_count": null,
      "outputs": [
        {
          "output_type": "stream",
          "text": [
            "[[ 2  6  3]\n",
            " [ 5 -3  4]]\n",
            "<class 'numpy.ndarray'>\n",
            "Rozmiar macierzy: (2, 3)\n",
            "Typ danych macierzy: int64\n",
            "Rząd: 2\n",
            "Długosc: 2\n"
          ],
          "name": "stdout"
        }
      ]
    },
    {
      "cell_type": "code",
      "metadata": {
        "id": "1FCcwxPA9QnP",
        "outputId": "14cb691c-1df2-45b5-a8a2-013e1d6bbc59",
        "colab": {
          "base_uri": "https://localhost:8080/",
          "height": 140
        }
      },
      "source": [
        "array = np.array([[2, 6, 3],\n",
        "                  [5, 3, 4],\n",
        "                  [4, 2, 1]], dtype='float')\n",
        "print(array)\n",
        "print(f'Rozmiar macierzy: {array.shape}')\n",
        "print(f'Typ danych macierzy: {array.dtype}')\n",
        "print(f'Rząd: {array.ndim}')\n",
        "print(f'Długosc: {len(array)}')"
      ],
      "execution_count": null,
      "outputs": [
        {
          "output_type": "stream",
          "text": [
            "[[2. 6. 3.]\n",
            " [5. 3. 4.]\n",
            " [4. 2. 1.]]\n",
            "Rozmiar macierzy: (3, 3)\n",
            "Typ danych macierzy: float64\n",
            "Rząd: 2\n",
            "Długosc: 3\n"
          ],
          "name": "stdout"
        }
      ]
    },
    {
      "cell_type": "markdown",
      "metadata": {
        "id": "1ytwRCbmwZJm"
      },
      "source": [
        "### <a name='a4'> </a> 5. Tensor"
      ]
    },
    {
      "cell_type": "code",
      "metadata": {
        "id": "l1fU34EZqB5P",
        "outputId": "f13a568e-62d5-4ab0-c0a1-7d65e716f07a",
        "colab": {
          "base_uri": "https://localhost:8080/",
          "height": 193
        }
      },
      "source": [
        "tensor = np.array([\n",
        "    [[1, 2, 3],\n",
        "     [4, 5, 6]],\n",
        "    [[7, 8, 9],\n",
        "     [3, 7, 3]]\n",
        "])\n",
        "\n",
        "print(tensor)\n",
        "print(type(tensor))\n",
        "print(f'Rozmiar macierzy: {tensor.shape}')\n",
        "print(f'Typ danych macierzy: {tensor.dtype}')\n",
        "print(f'Rząd: {tensor.ndim}')\n",
        "print(f'Długosc: {len(tensor)}')"
      ],
      "execution_count": null,
      "outputs": [
        {
          "output_type": "stream",
          "text": [
            "[[[1 2 3]\n",
            "  [4 5 6]]\n",
            "\n",
            " [[7 8 9]\n",
            "  [3 7 3]]]\n",
            "<class 'numpy.ndarray'>\n",
            "Rozmiar macierzy: (2, 2, 3)\n",
            "Typ danych macierzy: int64\n",
            "Rząd: 3\n",
            "Długosc: 2\n"
          ],
          "name": "stdout"
        }
      ]
    },
    {
      "cell_type": "code",
      "metadata": {
        "id": "0VeCFi0uuwcj",
        "outputId": "c8e84f4a-199d-4221-e5be-32c8c0841664",
        "colab": {
          "base_uri": "https://localhost:8080/",
          "height": 246
        }
      },
      "source": [
        "tensor = np.array([\n",
        "    [[1, 2, 3],\n",
        "     [4, 5, 6]],\n",
        "    [[7, 8, 9],\n",
        "     [3, 7, 3]],\n",
        "    [[2, 3, 5],\n",
        "     [7, 2, 5]]\n",
        "])\n",
        "\n",
        "print(tensor)\n",
        "print(type(tensor))\n",
        "print(f'Rozmiar macierzy: {tensor.shape}')\n",
        "print(f'Typ danych macierzy: {tensor.dtype}')\n",
        "print(f'Rząd: {tensor.ndim}')\n",
        "print(f'Długosc: {len(tensor)}')"
      ],
      "execution_count": null,
      "outputs": [
        {
          "output_type": "stream",
          "text": [
            "[[[1 2 3]\n",
            "  [4 5 6]]\n",
            "\n",
            " [[7 8 9]\n",
            "  [3 7 3]]\n",
            "\n",
            " [[2 3 5]\n",
            "  [7 2 5]]]\n",
            "<class 'numpy.ndarray'>\n",
            "Rozmiar macierzy: (3, 2, 3)\n",
            "Typ danych macierzy: int64\n",
            "Rząd: 3\n",
            "Długosc: 3\n"
          ],
          "name": "stdout"
        }
      ]
    },
    {
      "cell_type": "code",
      "metadata": {
        "id": "1FA_o1KXwfcO",
        "outputId": "cd281b9d-6a1d-4929-e99a-de543fc46e42",
        "colab": {
          "base_uri": "https://localhost:8080/",
          "height": 439
        }
      },
      "source": [
        "tensor = np.array([\n",
        "    [[1, 2, 3, 4],\n",
        "     [4, 5, 6, 4],\n",
        "     [4, 2, 5, 2]],\n",
        "    [[7, 8, 9, 8],\n",
        "     [3, 7, 3, 9],\n",
        "     [5, 2, 4, 3]],\n",
        "    [[2, 3, 5, 4],\n",
        "     [7, 2, 5, 1],\n",
        "     [8, 2, 7, 2]],\n",
        "    [[2, 3, 5, 7],\n",
        "     [7, 2, 5, 9],\n",
        "     [8, 2, 7, 0]],\n",
        "    [[2, 3, 5, 7],\n",
        "     [7, 2, 5, 9],\n",
        "     [8, 2, 7, 0]]\n",
        "])\n",
        "\n",
        "print(tensor)\n",
        "print(type(tensor))\n",
        "print(f'Rozmiar macierzy: {tensor.shape}')\n",
        "print(f'Typ danych macierzy: {tensor.dtype}')\n",
        "print(f'Rząd: {tensor.ndim}')\n",
        "print(f'Długosc: {len(tensor)}')"
      ],
      "execution_count": null,
      "outputs": [
        {
          "output_type": "stream",
          "text": [
            "[[[1 2 3 4]\n",
            "  [4 5 6 4]\n",
            "  [4 2 5 2]]\n",
            "\n",
            " [[7 8 9 8]\n",
            "  [3 7 3 9]\n",
            "  [5 2 4 3]]\n",
            "\n",
            " [[2 3 5 4]\n",
            "  [7 2 5 1]\n",
            "  [8 2 7 2]]\n",
            "\n",
            " [[2 3 5 7]\n",
            "  [7 2 5 9]\n",
            "  [8 2 7 0]]\n",
            "\n",
            " [[2 3 5 7]\n",
            "  [7 2 5 9]\n",
            "  [8 2 7 0]]]\n",
            "<class 'numpy.ndarray'>\n",
            "Rozmiar macierzy: (5, 3, 4)\n",
            "Typ danych macierzy: int64\n",
            "Rząd: 3\n",
            "Długosc: 5\n"
          ],
          "name": "stdout"
        }
      ]
    },
    {
      "cell_type": "code",
      "metadata": {
        "id": "xc0yqHl19-I5",
        "outputId": "47d7d2c4-181d-4b39-f02e-c996d42cf561",
        "colab": {
          "base_uri": "https://localhost:8080/",
          "height": 351
        }
      },
      "source": [
        "tensor"
      ],
      "execution_count": null,
      "outputs": [
        {
          "output_type": "execute_result",
          "data": {
            "text/plain": [
              "array([[[1, 2, 3, 4],\n",
              "        [4, 5, 6, 4],\n",
              "        [4, 2, 5, 2]],\n",
              "\n",
              "       [[7, 8, 9, 8],\n",
              "        [3, 7, 3, 9],\n",
              "        [5, 2, 4, 3]],\n",
              "\n",
              "       [[2, 3, 5, 4],\n",
              "        [7, 2, 5, 1],\n",
              "        [8, 2, 7, 2]],\n",
              "\n",
              "       [[2, 3, 5, 7],\n",
              "        [7, 2, 5, 9],\n",
              "        [8, 2, 7, 0]],\n",
              "\n",
              "       [[2, 3, 5, 7],\n",
              "        [7, 2, 5, 9],\n",
              "        [8, 2, 7, 0]]])"
            ]
          },
          "metadata": {
            "tags": []
          },
          "execution_count": 11
        }
      ]
    },
    {
      "cell_type": "code",
      "metadata": {
        "id": "g5-Jsx0ww6BH",
        "outputId": "373f0a71-5044-4aca-8ea1-853a59096dfc",
        "colab": {
          "base_uri": "https://localhost:8080/",
          "height": 70
        }
      },
      "source": [
        "tensor[0]"
      ],
      "execution_count": null,
      "outputs": [
        {
          "output_type": "execute_result",
          "data": {
            "text/plain": [
              "array([[1, 2, 3, 4],\n",
              "       [4, 5, 6, 4],\n",
              "       [4, 2, 5, 2]])"
            ]
          },
          "metadata": {
            "tags": []
          },
          "execution_count": 12
        }
      ]
    },
    {
      "cell_type": "code",
      "metadata": {
        "id": "9AUo01Hq98DM",
        "outputId": "2a360e86-1c47-4560-b3a4-00e7f3bba6f7",
        "colab": {
          "base_uri": "https://localhost:8080/",
          "height": 140
        }
      },
      "source": [
        "tensor[0:2]"
      ],
      "execution_count": null,
      "outputs": [
        {
          "output_type": "execute_result",
          "data": {
            "text/plain": [
              "array([[[1, 2, 3, 4],\n",
              "        [4, 5, 6, 4],\n",
              "        [4, 2, 5, 2]],\n",
              "\n",
              "       [[7, 8, 9, 8],\n",
              "        [3, 7, 3, 9],\n",
              "        [5, 2, 4, 3]]])"
            ]
          },
          "metadata": {
            "tags": []
          },
          "execution_count": 13
        }
      ]
    }
  ]
}